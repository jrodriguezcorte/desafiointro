{
 "cells": [
  {
   "cell_type": "code",
   "execution_count": 3,
   "metadata": {
    "ExecuteTime": {
     "end_time": "2019-10-18T00:19:57.408400Z",
     "start_time": "2019-10-18T00:19:57.386357Z"
    }
   },
   "outputs": [
    {
     "name": "stdout",
     "output_type": "stream",
     "text": [
      "perro 0.4\n",
      "gato 0.6\n"
     ]
    }
   ],
   "source": [
    "import numpy as np\n",
    "import random\n",
    "np.random.seed(2)\n",
    "list = ['perro','gato']\n",
    "\n",
    "def generate_pet():\n",
    "    \"\"\"\n",
    "    Función que devuelve de forma aleatoria un string 'perro' o 'gato' \n",
    "\n",
    "    Parameters:\n",
    "    Ninguno\n",
    "\n",
    "    Returns:\n",
    "    str: Retorna el string de 'perro' o 'gato'\n",
    "\n",
    "    \"\"\"      \n",
    "    \n",
    "    return np.random.choice(list)\n",
    "\n",
    "\n",
    "pet_list = []\n",
    "for i in range(20):\n",
    "    pet_list.append(generate_pet())\n",
    "    \n",
    "    \n",
    "prob_perro = pet_list.count('perro') / len(pet_list)\n",
    "prob_gato = pet_list.count('gato') / len(pet_list)\n",
    "\n",
    "print('perro {}'.format(prob_perro))\n",
    "print('gato {}'.format(prob_gato))  "
   ]
  }
 ],
 "metadata": {
  "kernelspec": {
   "display_name": "Python 2",
   "language": "python",
   "name": "python2"
  },
  "language_info": {
   "codemirror_mode": {
    "name": "ipython",
    "version": 3
   },
   "file_extension": ".py",
   "mimetype": "text/x-python",
   "name": "python",
   "nbconvert_exporter": "python",
   "pygments_lexer": "ipython3",
   "version": "3.7.3"
  },
  "varInspector": {
   "cols": {
    "lenName": 16,
    "lenType": 16,
    "lenVar": 40
   },
   "kernels_config": {
    "python": {
     "delete_cmd_postfix": "",
     "delete_cmd_prefix": "del ",
     "library": "var_list.py",
     "varRefreshCmd": "print(var_dic_list())"
    },
    "r": {
     "delete_cmd_postfix": ") ",
     "delete_cmd_prefix": "rm(",
     "library": "var_list.r",
     "varRefreshCmd": "cat(var_dic_list()) "
    }
   },
   "types_to_exclude": [
    "module",
    "function",
    "builtin_function_or_method",
    "instance",
    "_Feature"
   ],
   "window_display": false
  }
 },
 "nbformat": 4,
 "nbformat_minor": 2
}
