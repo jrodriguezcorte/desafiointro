{
 "cells": [
  {
   "cell_type": "markdown",
   "metadata": {},
   "source": [
    "## Desafío 1: Generación de funciones\n",
    "\n",
    "Genere funciones para calcular la media y varianza de un vector. Debe cumplir con los\n",
    "siguientes requistos:\n",
    "\n",
    "Ambas funciones deben ingresar un argumento x .\n",
    "\n",
    "Las funciones deben contener docstrings con la documentación asociada a la variable.\n",
    "\n",
    "Deben retornar el resultado (tip: utilice return ).\n",
    "\n",
    "La función de la varianza debe llamar a la función de la media.\n",
    "Utilice las funciones para reportar la información sobre goles_favor , goles_contra ,\n",
    "puntos ."
   ]
  },
  {
   "cell_type": "code",
   "execution_count": 27,
   "metadata": {
    "ExecuteTime": {
     "end_time": "2019-10-17T05:31:40.782136Z",
     "start_time": "2019-10-17T05:31:40.726607Z"
    }
   },
   "outputs": [
    {
     "name": "stdout",
     "output_type": "stream",
     "text": [
      "La media de los goles a favor es 4.25\n",
      "La media de los goles en contra es 4.25\n",
      "La media de los puntos es 4.21875\n",
      "La varianza de los goles a favor es 5.1875\n",
      "La varianza de los goles en contra es 4.8125\n",
      "La varianza de los puntos es 8.0458984375\n"
     ]
    }
   ],
   "source": [
    "import pandas as pd\n",
    "import numpy as np\n",
    "import math\n",
    "\n",
    "def media(vector):\n",
    "    \"\"\"\n",
    "    Función que realiza el calculo de la media\n",
    "\n",
    "    Parameters:\n",
    "    vector (<Series>): Vector al cual se le realizará el calculo de la media\n",
    "\n",
    "    Returns:\n",
    "    float: Retorna el valor de la media\n",
    "\n",
    "   \"\"\" \n",
    "    media = np.mean(vector)\n",
    "\n",
    "    return media\n",
    "\n",
    "\n",
    "def varianza(vector):\n",
    "    \"\"\"\n",
    "    Función que realiza el calculo de la varianza\n",
    "\n",
    "    Parameters:\n",
    "    vector (<Series>): Vector al cual se le realizará el calculo de la varianza\n",
    "\n",
    "    Returns:\n",
    "    float: Retorna el valor de la varianza\n",
    "\n",
    "   \"\"\" \n",
    "    varianza = 0\n",
    "    res_media = media(vector)\n",
    "    \n",
    "    for elemento_vector in vector:\n",
    "        varianza += (elemento_vector - res_media) ** 2\n",
    "    \n",
    "    varianza = varianza / float(len(vector))\n",
    "    \n",
    "    return varianza\n",
    "\n",
    "    \n",
    "\n",
    "df = pd.read_csv('worldcup2014.csv')\n",
    "df.head()\n",
    "\n",
    "# Calculo de media de los goles_favor\n",
    "media_goles_favor = media(df['goles_favor'])\n",
    "print('La media de los goles a favor es {}'.format(media_goles_favor))\n",
    "# Calculo de media de los goles_contra\n",
    "media_goles_contra = media(df['goles_contra'])\n",
    "print('La media de los goles en contra es {}'.format(media_goles_contra))\n",
    "# Calculo de media de los puntos\n",
    "media_puntos = media(df['puntos'])\n",
    "print('La media de los puntos es {}'.format(media_puntos))\n",
    "\n",
    "\n",
    "# Calculo de la varianza de los goles_favor\n",
    "varianza_goles_favor = varianza(df['goles_favor'])\n",
    "print('La varianza de los goles a favor es {}'.format(varianza_goles_favor))\n",
    "# Calculo de la varianza de los goles_favor\n",
    "varianza_goles_contra = varianza(df['goles_contra'])\n",
    "print('La varianza de los goles en contra es {}'.format(varianza_goles_contra))\n",
    "# Calculo de la varianza de los goles_favor\n",
    "varianza_puntos = varianza(df['puntos'])\n",
    "print('La varianza de los puntos es {}'.format(varianza_puntos))\n"
   ]
  },
  {
   "cell_type": "markdown",
   "metadata": {},
   "source": [
    "## Desafío 2:\n",
    "\n",
    "A continuación se presenta el siguiente código para obtener la media y varianza de una variable para\n",
    "distintos continentes:\n",
    "\n",
    "```\n",
    "    continent = []\n",
    "    store_mean = []\n",
    "    store_std = []\n",
    "\n",
    "    for d in [africa_df, europe_df, asia_df, northamerica_df, southamerica_df]:\n",
    "        continent.append(d.iloc[0,1])\n",
    "        store_mean.append(media(d['goles_favor']))\n",
    "        store_std.append(varianza(d['goles_favor']))\n",
    "    tmp = pd.DataFrame({'continente': continent,'media_goles': store_mean,'std_goles': store_std})\n",
    "    tmp\n",
    "```    \n",
    "\n",
    "En base a la información disponible, genere una función con los argumentos group_by y var para ingresar una lista de submuestras y una variable a analizar, respectivamente.\n",
    "\n",
    "* La función debe retornar un DataFrame .\n",
    "* Implemente la función para extraer la información sobre la cantidad de goles a favor, en contra y la cantidad de puntos.\n",
    "* Reporte en qué continente se encuentra la mayor cantidad de goles a favor, en contra y cantidad de puntos."
   ]
  },
  {
   "cell_type": "code",
   "execution_count": 82,
   "metadata": {
    "ExecuteTime": {
     "end_time": "2019-10-17T06:16:42.032168Z",
     "start_time": "2019-10-17T06:16:41.999939Z"
    }
   },
   "outputs": [
    {
     "name": "stdout",
     "output_type": "stream",
     "text": [
      "Calculo de goles a favor\n",
      "     continente     media  varianza  desviacion_estandar\n",
      "0        europe  4.769231  6.331361             2.516220\n",
      "1          asia  2.250000  0.687500             0.829156\n",
      "2        africa  3.600000  2.640000             1.624808\n",
      "3  northamerica  3.250000  1.687500             1.299038\n",
      "4  southamerica  5.666667  3.888889             1.972027\n",
      "\n",
      " Calculo de goles en contra\n",
      "     continente     media  varianza  desviacion_estandar\n",
      "0        europe  4.000000  3.538462             1.881080\n",
      "1          asia  6.250000  3.187500             1.785357\n",
      "2        africa  5.600000  3.840000             1.959592\n",
      "3  northamerica  3.500000  8.250000             2.872281\n",
      "4  southamerica  2.833333  0.472222             0.687184\n",
      "\n",
      " Calculo de puntos\n",
      "     continente     media  varianza  desviacion_estandar\n",
      "0        europe  4.692308  6.366864             2.523265\n",
      "1          asia  0.750000  0.187500             0.433013\n",
      "2        africa  2.400000  2.640000             1.624808\n",
      "3  northamerica  4.500000  8.250000             2.872281\n",
      "4  southamerica  6.833333  3.138889             1.771691\n"
     ]
    }
   ],
   "source": [
    "def calculo_media_varianza(group_by,var):\n",
    "    \"\"\"\n",
    "    Función que realiza el calculo de la media, varianza y desviacion estandar de una lista de submuestras y\n",
    "    una variable a analizar\n",
    "\n",
    "    Parameters:\n",
    "    vector (<lista>): Lista de submuestras\n",
    "    var (str): variable a analizar\n",
    "\n",
    "    Returns:\n",
    "    <DataFrame>: Retorna el DataFrame con los valores de media, varianza y desviación en función de la variable\n",
    "                 analizada\n",
    "\n",
    "    \"\"\"     \n",
    "    continent = []\n",
    "    store_mean = []\n",
    "    store_var = []\n",
    "    store_std = []\n",
    "\n",
    "    for d in group_by:\n",
    "        continent.append(d.iloc[0,1])\n",
    "        store_mean.append(media(d[var]))\n",
    "        store_var.append(varianza(d[var]))\n",
    "        store_std.append(math.sqrt(varianza(d[var])))\n",
    "    tmp = pd.DataFrame({'continente': continent,'media': store_mean,'varianza': store_var, 'desviacion_estandar': store_std})\n",
    "    \n",
    "    return tmp    \n",
    "\n",
    "\n",
    "dfEurope = df[df['continent'] == 'europe']\n",
    "dfAsia = df[df['continent'] == 'asia']\n",
    "dfAfrica = df[df['continent'] == 'africa']\n",
    "dfNorthAmerica = df[df['continent'] == 'northamerica']\n",
    "dfSouthAmerica = df[df['continent'] == 'southamerica']\n",
    "\n",
    "lista = [dfEurope,dfAsia,dfAfrica,dfNorthAmerica,dfSouthAmerica]\n",
    "print('Calculo de goles a favor')\n",
    "print(calculo_media_varianza(lista,'goles_favor'))\n",
    "\n",
    "\n",
    "print('\\n Calculo de goles en contra')\n",
    "print(calculo_media_varianza(lista,'goles_contra'))\n",
    "\n",
    "print('\\n Calculo de puntos')\n",
    "print(calculo_media_varianza(lista,'puntos'))"
   ]
  },
  {
   "cell_type": "markdown",
   "metadata": {},
   "source": [
    "_Se puede deducir de lo anterior que:_\n",
    "\n",
    "_Sudamérica es quien posee con mayor cantidad de goles a favor_\n",
    "\n",
    "_Asia es el continente con mayor cantidad de goles en contra_\n",
    "\n",
    "_Sudamérica es quien posee la mayor cantidad de puntos_\n"
   ]
  },
  {
   "cell_type": "markdown",
   "metadata": {},
   "source": [
    "## Desafío 3: Simulaciones\n",
    "\n",
    "Genere una función generate_pet que devuelva de forma aleatoria un string 'perro' o 'gato' . Ejecútela un par de veces.\n",
    "\n",
    "_tip: Puede utilizar la función np.random.choice para retornar elementos al azar._\n",
    "\n",
    "Aplique la función generate_pet 20 veces mediante un loop y guarde los resultados en una lista.\n",
    "\n",
    "_tip: Puede generar una lista vacía con [ ] y asignarla a un objeto. Puede añadir elementos a la lista con .append_"
   ]
  },
  {
   "cell_type": "code",
   "execution_count": 83,
   "metadata": {
    "ExecuteTime": {
     "end_time": "2019-10-17T06:16:50.203860Z",
     "start_time": "2019-10-17T06:16:50.198534Z"
    }
   },
   "outputs": [
    {
     "name": "stdout",
     "output_type": "stream",
     "text": [
      "Ejecutando un par de veces la funcion \n",
      "perro\n",
      "gato\n",
      "\n",
      " Resultados de la lista\n",
      "['gato', 'perro', 'perro', 'gato', 'perro', 'gato', 'perro', 'gato', 'perro', 'gato', 'gato', 'gato', 'gato', 'gato', 'gato', 'gato', 'perro', 'perro', 'perro', 'perro']\n"
     ]
    }
   ],
   "source": [
    "np.random.seed(2)\n",
    "\n",
    "def generate_pet():\n",
    "    \"\"\"\n",
    "    Función que devuelve de forma aleatoria un string 'perro' o 'gato' \n",
    "\n",
    "    Parameters:\n",
    "    Ninguno\n",
    "\n",
    "    Returns:\n",
    "    str: Retorna el string de 'perro' o 'gato'\n",
    "\n",
    "    \"\"\"      \n",
    "    pet = ['perro','gato']\n",
    "    resultado = np.random.choice(a = pet)\n",
    "    return resultado\n",
    "\n",
    "# Ejecutando un par de veces la funcion \n",
    "print('Ejecutando un par de veces la funcion ')\n",
    "print(generate_pet())\n",
    "print(generate_pet())\n",
    "\n",
    "lista_pet = []\n",
    "for i in range(0,20):\n",
    "    resultado_pet = generate_pet()\n",
    "    lista_pet.append(resultado_pet)\n",
    "    \n",
    "    \n",
    "print('\\n Resultados de la lista')\n",
    "print(lista_pet)"
   ]
  },
  {
   "cell_type": "markdown",
   "metadata": {},
   "source": [
    "* ¿Cuál es la probabilidad de elegir un perro al azar? ¿Y un gato?"
   ]
  },
  {
   "cell_type": "markdown",
   "metadata": {
    "ExecuteTime": {
     "end_time": "2019-10-17T05:56:09.723887Z",
     "start_time": "2019-10-17T05:56:09.715650Z"
    }
   },
   "source": [
    "_La probabilidad se define el numero de resultados favorables entre el número de resultados posibles_"
   ]
  },
  {
   "cell_type": "code",
   "execution_count": 80,
   "metadata": {
    "ExecuteTime": {
     "end_time": "2019-10-17T06:04:13.051386Z",
     "start_time": "2019-10-17T06:04:13.040196Z"
    },
    "scrolled": true
   },
   "outputs": [
    {
     "name": "stdout",
     "output_type": "stream",
     "text": [
      "La probabilidad de aparecer gato es de 0.55\n",
      "\n",
      "\n",
      "La probabilidad de aparecer perro es de 0.45\n"
     ]
    }
   ],
   "source": [
    "probabilidad_gato = lista_pet.count(\"gato\") / len(lista_pet)\n",
    "print('La probabilidad de aparecer gato es de {}'.format(probabilidad_gato))\n",
    "print('\\n')\n",
    "probabilidad_perro = lista_pet.count(\"perro\") / len(lista_pet)\n",
    "print('La probabilidad de aparecer perro es de {}'.format(probabilidad_perro))"
   ]
  },
  {
   "cell_type": "markdown",
   "metadata": {},
   "source": [
    "* Agrege np.random.seed(2) al inicio del chunk. ¿Qué hace éste método en la simulación?\n",
    "\n",
    "_Cuando establece la semilla y se vuelve a ejecutar el código cada vez, se obtendrán los mismos números. Obteniendo números pseudo aleatorios_"
   ]
  },
  {
   "cell_type": "markdown",
   "metadata": {},
   "source": [
    "## Desafío 4: Función simuladora\n",
    "\n",
    "Genere un método llamado simulate_pets_prob que tome como argumento un número finito de simulaciones a generar.\n",
    "\n",
    "El método debe simular dos situaciones young_pet y old_pet , y contar la ocurrencia de los siguientes casos:\n",
    "\n",
    "* De los dos animales simulados, contar las ocasiones donde por lo menos uno de los animales sea un perro.\n",
    "* De los dos animales simulados, contar las ocasiones donde por lo menos uno sea un perro viejo.\n",
    "* De los dos animales simulados, contar las ocasiones donde los dos sean perros\n",
    "* El método debe tener una semilla pseudoaleatoria de 1.\n"
   ]
  },
  {
   "cell_type": "code",
   "execution_count": 165,
   "metadata": {
    "ExecuteTime": {
     "end_time": "2019-10-17T06:57:30.019891Z",
     "start_time": "2019-10-17T06:57:30.012755Z"
    }
   },
   "outputs": [
    {
     "name": "stdout",
     "output_type": "stream",
     "text": [
      "['gato', 'perro', 'gato', 'gato', 'gato', 'perro', 'perro', 'gato', 'perro', 'perro']\n",
      "['gato', 'perro', 'gato', 'gato', 'perro', 'gato', 'gato', 'perro', 'gato', 'perro']\n",
      "Contar las ocasiones donde por lo menos uno de los dos animales es un perro: 7\n",
      "Contar las ocasiones donde por lo menos uno de los dos animales es un perro viejo: 4\n",
      "Contar las ocasiones donde los dos sean perros 2\n"
     ]
    }
   ],
   "source": [
    "def simulate_pets_prob(numero):\n",
    "    \"\"\"\n",
    "    El método debe simular dos situaciones young_pet y old_pet , y contar la ocurrencia\n",
    "    debe contar con una semilla pseudoaleatoria de 1\n",
    "\n",
    "    Parameters:\n",
    "    numero (int): numero de simulaciones a realizar\n",
    "\n",
    "    Returns:\n",
    "    str: Retorna un str con la cantidad de ocaciones\n",
    "\n",
    "    \"\"\"  \n",
    "    \n",
    "    np.random.seed(1)\n",
    "    \n",
    "    pet = ['perro','gato']\n",
    "    lista_young_pet = []\n",
    "    lista_old_pet = []\n",
    "\n",
    "    contar_ocasiones_uno_perro = 0\n",
    "    contar_ocasiones_uno_perro_viejo = 0\n",
    "    contar_ocasiones_ambos_perros = 0\n",
    "    for i in range(0,numero):\n",
    "        young_pet = np.random.choice(a = pet)\n",
    "        old_pet = np.random.choice(a = pet)\n",
    "        lista_young_pet.append(young_pet)\n",
    "        lista_old_pet.append(old_pet)\n",
    "        \n",
    "        if (young_pet == 'perro' or old_pet == 'perro'):\n",
    "            contar_ocasiones_uno_perro += 1\n",
    "        if (old_pet == 'perro'):\n",
    "            contar_ocasiones_uno_perro_viejo += 1\n",
    "        if (young_pet == 'perro' and old_pet == 'perro'):\n",
    "            contar_ocasiones_ambos_perros += 1\n",
    "        \n",
    "    print(lista_young_pet)\n",
    "    print(lista_old_pet)\n",
    "    \n",
    "    print('Contar las ocasiones donde por lo menos uno de los dos animales es un perro: {}'.format(contar_ocasiones_uno_perro))\n",
    "    print('Contar las ocasiones donde por lo menos uno de los dos animales es un perro viejo: {}'.format(contar_ocasiones_uno_perro_viejo))\n",
    "    print('Contar las ocasiones donde los dos sean perros {}'.format(contar_ocasiones_ambos_perros))\n",
    "    \n",
    "    return contar_ocasiones_uno_perro, contar_ocasiones_uno_perro_viejo, contar_ocasiones_ambos_perros\n",
    "    \n",
    "numero_simulaciones = 10    \n",
    "contar_ocasiones_uno_perro, contar_ocasiones_uno_perro_viejo, contar_ocasiones_ambos_perros = simulate_pets_prob(numero_simulaciones)  "
   ]
  },
  {
   "cell_type": "markdown",
   "metadata": {},
   "source": [
    "* De los tres escenarios, ¿Cuál es el menos probable? ¿Cuál es el más probable?"
   ]
  },
  {
   "cell_type": "code",
   "execution_count": 169,
   "metadata": {
    "ExecuteTime": {
     "end_time": "2019-10-17T06:59:23.735943Z",
     "start_time": "2019-10-17T06:59:23.731296Z"
    }
   },
   "outputs": [
    {
     "name": "stdout",
     "output_type": "stream",
     "text": [
      "La probabilidad de que por lo menos uno de los dos animales es un perro 0.7\n",
      "\n",
      "\n",
      "La probabilidad de que por lo menos uno de los dos animales es un perro viejo 0.4\n",
      "\n",
      "\n",
      "La probabilidad de que ambos animales sean perros 0.2\n",
      "\n",
      "\n"
     ]
    }
   ],
   "source": [
    "probabilidad_uno_de_los_perros = contar_ocasiones_uno_perro / numero_simulaciones\n",
    "print('La probabilidad de que por lo menos uno de los dos animales es un perro {}'.format(probabilidad_uno_de_los_perros))\n",
    "print('\\n')\n",
    "probabilidad_uno_de_los_perros_viejo = contar_ocasiones_uno_perro_viejo / numero_simulaciones\n",
    "print('La probabilidad de que por lo menos uno de los dos animales es un perro viejo {}'.format(probabilidad_uno_de_los_perros_viejo))\n",
    "print('\\n')\n",
    "probabilidad_ambos_perros = contar_ocasiones_ambos_perros / numero_simulaciones\n",
    "print('La probabilidad de que ambos animales sean perros {}'.format(probabilidad_ambos_perros))\n",
    "print('\\n')"
   ]
  },
  {
   "cell_type": "markdown",
   "metadata": {
    "ExecuteTime": {
     "end_time": "2019-10-17T07:00:54.373936Z",
     "start_time": "2019-10-17T07:00:54.369417Z"
    }
   },
   "source": [
    "_Los escenarios anteriormente descritos se encuentran del más probable al menos probable_"
   ]
  }
 ],
 "metadata": {
  "kernelspec": {
   "display_name": "Python 3",
   "language": "python",
   "name": "python3"
  },
  "language_info": {
   "codemirror_mode": {
    "name": "ipython",
    "version": 3
   },
   "file_extension": ".py",
   "mimetype": "text/x-python",
   "name": "python",
   "nbconvert_exporter": "python",
   "pygments_lexer": "ipython3",
   "version": "3.7.3"
  },
  "varInspector": {
   "cols": {
    "lenName": 16,
    "lenType": 16,
    "lenVar": 40
   },
   "kernels_config": {
    "python": {
     "delete_cmd_postfix": "",
     "delete_cmd_prefix": "del ",
     "library": "var_list.py",
     "varRefreshCmd": "print(var_dic_list())"
    },
    "r": {
     "delete_cmd_postfix": ") ",
     "delete_cmd_prefix": "rm(",
     "library": "var_list.r",
     "varRefreshCmd": "cat(var_dic_list()) "
    }
   },
   "types_to_exclude": [
    "module",
    "function",
    "builtin_function_or_method",
    "instance",
    "_Feature"
   ],
   "window_display": false
  }
 },
 "nbformat": 4,
 "nbformat_minor": 2
}
