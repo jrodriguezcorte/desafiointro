{
 "cells": [
  {
   "cell_type": "markdown",
   "metadata": {
    "ExecuteTime": {
     "end_time": "2019-10-17T19:00:39.249038Z",
     "start_time": "2019-10-17T19:00:39.244075Z"
    }
   },
   "source": [
    "**NOMBRE ALUMNO:** Jonathan Rodriguez\n",
    "\n",
    "**FECHA:** 17-10-19"
   ]
  },
  {
   "cell_type": "markdown",
   "metadata": {},
   "source": [
    "## Desafío 1: Generación de funciones\n",
    "* Genere funciones para calcular la media y varianza de un vector. Debe cumplir con los siguientes requistos:\n",
    "  * Ambas funciones deben ingresar un argumento x .\n",
    "  * Las funciones deben contener docstrings con la documentación asociada a la variable.\n",
    "  * Deben retornar el resultado (tip: utilice return ).\n",
    "  * La función de la varianza debe llamar a la función de la media.\n",
    "* Utilice las funciones para reportar la información sobre goles_favor, goles_contra, puntos.\n",
    "\n",
    "*NOTA:* cuidado con el nombre de sus funciones"
   ]
  },
  {
   "cell_type": "code",
   "execution_count": 1,
   "metadata": {
    "ExecuteTime": {
     "end_time": "2019-10-19T13:18:53.047915Z",
     "start_time": "2019-10-19T13:18:50.268418Z"
    }
   },
   "outputs": [
    {
     "name": "stdout",
     "output_type": "stream",
     "text": [
      "La media de goles_favor es: 4.25\n",
      "La varianza de goles_favor es: 5.1875\n",
      "\n",
      "La media de goles_contra es: 4.25\n",
      "La varianza de goles_contra es: 4.8125\n",
      "\n",
      "La media de puntos es: 4.21875\n",
      "La varianza de puntos es: 8.0458984375\n",
      "\n"
     ]
    }
   ],
   "source": [
    "import pandas as pd\n",
    "import numpy as np\n",
    "import math\n",
    "\n",
    "def media(vector):\n",
    "    \"\"\"\n",
    "    Función que realiza el calculo de la media\n",
    "\n",
    "    Parameters:\n",
    "    vector (<Series>): Vector al cual se le realizará el calculo de la media\n",
    "\n",
    "    Returns:\n",
    "    float: Retorna el valor de la media\n",
    "\n",
    "   \"\"\" \n",
    "    numerador = 0\n",
    "    longitud = len(vector)\n",
    "    for indice_vector in range(longitud): \n",
    "        numerador += vector[indice_vector]\n",
    "    \n",
    "    media = numerador/longitud\n",
    "\n",
    "    return media\n",
    "\n",
    "\n",
    "def varianza(vector):\n",
    "    \"\"\"\n",
    "    Función que realiza el calculo de la varianza\n",
    "\n",
    "    Parameters:\n",
    "    vector (<Series>): Vector al cual se le realizará el calculo de la varianza\n",
    "\n",
    "    Returns:\n",
    "    float: Retorna el valor de la varianza\n",
    "\n",
    "   \"\"\" \n",
    "    varianza = 0\n",
    "    res_media = media(vector)\n",
    "    \n",
    "    for elemento_vector in vector:\n",
    "        varianza += (elemento_vector - res_media) ** 2\n",
    "    \n",
    "    varianza = varianza / float(len(vector))\n",
    "    \n",
    "    return varianza\n",
    "\n",
    "df = pd.read_csv('worldcup2014.csv')\n",
    "\n",
    "# Calculo de media de los goles_favor\n",
    "vector_goles_favor = df['goles_favor']\n",
    "media_goles_favor = media(vector_goles_favor)\n",
    "print('La media de goles_favor es: {}'.format(media_goles_favor))\n",
    "# Calculo de la varianza de los goles_favor\n",
    "varianza_goles_favor = varianza(vector_goles_favor)\n",
    "print('La varianza de goles_favor es: {}'.format(varianza_goles_favor))\n",
    "print('')\n",
    "# Calculo de media de los goles_contra\n",
    "vector_goles_contra = df['goles_contra']\n",
    "media_goles_contra = media(vector_goles_contra)\n",
    "print('La media de goles_contra es: {}'.format(media_goles_contra))\n",
    "# Calculo de la varianza de los goles_favor\n",
    "varianza_goles_contra = varianza(vector_goles_contra)\n",
    "print('La varianza de goles_contra es: {}'.format(varianza_goles_contra))\n",
    "print('')\n",
    "# Calculo de media de los puntos\n",
    "vector_puntos = df['puntos']\n",
    "media_puntos = media(vector_puntos)\n",
    "print('La media de puntos es: {}'.format(media_puntos))\n",
    "# Calculo de la varianza de los goles_favor\n",
    "varianza_puntos = varianza(df['puntos'])\n",
    "print('La varianza de puntos es: {}'.format(varianza_puntos))\n",
    "print('')"
   ]
  },
  {
   "cell_type": "markdown",
   "metadata": {
    "ExecuteTime": {
     "end_time": "2019-10-17T17:59:03.088902Z",
     "start_time": "2019-10-17T17:59:03.080808Z"
    }
   },
   "source": [
    "### Ejemplo de salida del reporte\n",
    "\n",
    "```\n",
    "La media de goles_favor es: 4.25\n",
    "La varianza de goles_favor es: 5.1875\n",
    "\n",
    "La media de goles_contra es: \n",
    "La varianza de goles_contra es: \n",
    "\n",
    "La media de puntos es: \n",
    "La varianza de puntos es:\n",
    "```"
   ]
  },
  {
   "cell_type": "markdown",
   "metadata": {},
   "source": [
    "## Desafío 2: \n",
    "A continuación se presenta el siguiente código para obtener la media y varianza de una variable para\n",
    "distintos continentes\n",
    "\n",
    "```\n",
    "continent = []\n",
    "store_mean = []\n",
    "store_std = []\n",
    "\n",
    "for d in [africa_df, europe_df, asia_df, northamerica_df, southamerica_df]:\n",
    "    continent.append(d.iloc[0,1])\n",
    "    store_mean.append(media(d['goles_favor']))\n",
    "    store_std.append(varianza(d['goles_favor']))\n",
    "\n",
    "tmp = pd.DataFrame({'continente': continent,\n",
    "                    'media_goles': store_mean,\n",
    "                    'std_goles': store_std})\n",
    "\n",
    "tmp\n",
    "```\n",
    "\n",
    "\n",
    "\n",
    "* En base a la información disponible, genere una función con los argumentos *group_by* y *var* para ingresar una lista de submuestras y una variable a analizar, respectivamente.\n",
    "* La función debe retornar un DataFrame .\n",
    "* Implemente la función para extraer la información sobre la cantidad de goles a favor, en contra y la cantidad de puntos.\n",
    "* Reporte en qué continente se encuentra la mayor cantidad de goles a favor, en contra y cantidad de puntos."
   ]
  },
  {
   "cell_type": "code",
   "execution_count": 2,
   "metadata": {
    "ExecuteTime": {
     "end_time": "2019-10-19T13:18:57.003062Z",
     "start_time": "2019-10-19T13:18:56.997849Z"
    }
   },
   "outputs": [],
   "source": [
    "def calculo_media_varianza(group_by,var):\n",
    "    \"\"\"\n",
    "    Función que realiza el calculo de la media, varianza y desviacion estandar de una lista de submuestras y\n",
    "    una variable a analizar\n",
    "\n",
    "    Parameters:\n",
    "    vector (str): elemento a agrupar\n",
    "    var (str): variable a analizar\n",
    "\n",
    "    Returns:\n",
    "    <DataFrame>: Retorna el DataFrame con los valores de media, varianza y desviación en función de la variable\n",
    "                 analizada\n",
    "\n",
    "    \"\"\"     \n",
    "    store_mean = []\n",
    "    store_std = []\n",
    "    \n",
    "    lista = df[group_by].unique()\n",
    "    lista.sort()\n",
    "    for d in range(len(lista)):\n",
    "        df_group_by = df[df[group_by] == lista[d]]\n",
    "        vector = df_group_by[var].tolist() \n",
    "        store_mean.append(media(vector))\n",
    "        store_std.append(math.sqrt(varianza(vector)))            \n",
    "        media_label = var+'_mean'\n",
    "        std_label = var+'_std'\n",
    "    tmp = pd.DataFrame({group_by: lista, media_label: store_mean, std_label: store_std})\n",
    "    \n",
    "    return tmp    "
   ]
  },
  {
   "cell_type": "code",
   "execution_count": 3,
   "metadata": {
    "ExecuteTime": {
     "end_time": "2019-10-19T13:19:04.252048Z",
     "start_time": "2019-10-19T13:19:04.204791Z"
    },
    "scrolled": true
   },
   "outputs": [
    {
     "data": {
      "text/html": [
       "<div>\n",
       "<style scoped>\n",
       "    .dataframe tbody tr th:only-of-type {\n",
       "        vertical-align: middle;\n",
       "    }\n",
       "\n",
       "    .dataframe tbody tr th {\n",
       "        vertical-align: top;\n",
       "    }\n",
       "\n",
       "    .dataframe thead th {\n",
       "        text-align: right;\n",
       "    }\n",
       "</style>\n",
       "<table border=\"1\" class=\"dataframe\">\n",
       "  <thead>\n",
       "    <tr style=\"text-align: right;\">\n",
       "      <th></th>\n",
       "      <th>continent</th>\n",
       "      <th>goles_favor_mean</th>\n",
       "      <th>goles_favor_std</th>\n",
       "    </tr>\n",
       "  </thead>\n",
       "  <tbody>\n",
       "    <tr>\n",
       "      <th>0</th>\n",
       "      <td>africa</td>\n",
       "      <td>3.600000</td>\n",
       "      <td>1.624808</td>\n",
       "    </tr>\n",
       "    <tr>\n",
       "      <th>1</th>\n",
       "      <td>asia</td>\n",
       "      <td>2.250000</td>\n",
       "      <td>0.829156</td>\n",
       "    </tr>\n",
       "    <tr>\n",
       "      <th>2</th>\n",
       "      <td>europe</td>\n",
       "      <td>4.769231</td>\n",
       "      <td>2.516220</td>\n",
       "    </tr>\n",
       "    <tr>\n",
       "      <th>3</th>\n",
       "      <td>northamerica</td>\n",
       "      <td>3.250000</td>\n",
       "      <td>1.299038</td>\n",
       "    </tr>\n",
       "    <tr>\n",
       "      <th>4</th>\n",
       "      <td>southamerica</td>\n",
       "      <td>5.666667</td>\n",
       "      <td>1.972027</td>\n",
       "    </tr>\n",
       "  </tbody>\n",
       "</table>\n",
       "</div>"
      ],
      "text/plain": [
       "      continent  goles_favor_mean  goles_favor_std\n",
       "0        africa          3.600000         1.624808\n",
       "1          asia          2.250000         0.829156\n",
       "2        europe          4.769231         2.516220\n",
       "3  northamerica          3.250000         1.299038\n",
       "4  southamerica          5.666667         1.972027"
      ]
     },
     "execution_count": 3,
     "metadata": {},
     "output_type": "execute_result"
    }
   ],
   "source": [
    "calculo_media_varianza('continent','goles_favor')"
   ]
  },
  {
   "cell_type": "markdown",
   "metadata": {},
   "source": [
    "### En Sudamérica se encuentra la mayor cantidad de goles a favor\n"
   ]
  },
  {
   "cell_type": "code",
   "execution_count": 4,
   "metadata": {
    "ExecuteTime": {
     "end_time": "2019-10-19T13:19:07.703238Z",
     "start_time": "2019-10-19T13:19:07.659211Z"
    },
    "scrolled": true
   },
   "outputs": [
    {
     "data": {
      "text/html": [
       "<div>\n",
       "<style scoped>\n",
       "    .dataframe tbody tr th:only-of-type {\n",
       "        vertical-align: middle;\n",
       "    }\n",
       "\n",
       "    .dataframe tbody tr th {\n",
       "        vertical-align: top;\n",
       "    }\n",
       "\n",
       "    .dataframe thead th {\n",
       "        text-align: right;\n",
       "    }\n",
       "</style>\n",
       "<table border=\"1\" class=\"dataframe\">\n",
       "  <thead>\n",
       "    <tr style=\"text-align: right;\">\n",
       "      <th></th>\n",
       "      <th>continent</th>\n",
       "      <th>goles_contra_mean</th>\n",
       "      <th>goles_contra_std</th>\n",
       "    </tr>\n",
       "  </thead>\n",
       "  <tbody>\n",
       "    <tr>\n",
       "      <th>0</th>\n",
       "      <td>africa</td>\n",
       "      <td>5.600000</td>\n",
       "      <td>1.959592</td>\n",
       "    </tr>\n",
       "    <tr>\n",
       "      <th>1</th>\n",
       "      <td>asia</td>\n",
       "      <td>6.250000</td>\n",
       "      <td>1.785357</td>\n",
       "    </tr>\n",
       "    <tr>\n",
       "      <th>2</th>\n",
       "      <td>europe</td>\n",
       "      <td>4.000000</td>\n",
       "      <td>1.881080</td>\n",
       "    </tr>\n",
       "    <tr>\n",
       "      <th>3</th>\n",
       "      <td>northamerica</td>\n",
       "      <td>3.500000</td>\n",
       "      <td>2.872281</td>\n",
       "    </tr>\n",
       "    <tr>\n",
       "      <th>4</th>\n",
       "      <td>southamerica</td>\n",
       "      <td>2.833333</td>\n",
       "      <td>0.687184</td>\n",
       "    </tr>\n",
       "  </tbody>\n",
       "</table>\n",
       "</div>"
      ],
      "text/plain": [
       "      continent  goles_contra_mean  goles_contra_std\n",
       "0        africa           5.600000          1.959592\n",
       "1          asia           6.250000          1.785357\n",
       "2        europe           4.000000          1.881080\n",
       "3  northamerica           3.500000          2.872281\n",
       "4  southamerica           2.833333          0.687184"
      ]
     },
     "execution_count": 4,
     "metadata": {},
     "output_type": "execute_result"
    }
   ],
   "source": [
    "calculo_media_varianza('continent','goles_contra')"
   ]
  },
  {
   "cell_type": "markdown",
   "metadata": {
    "ExecuteTime": {
     "end_time": "2019-10-17T22:20:56.292728Z",
     "start_time": "2019-10-17T22:20:56.282314Z"
    }
   },
   "source": [
    "### En Asia se encuentra la mayor cantidad de goles en contra\n"
   ]
  },
  {
   "cell_type": "code",
   "execution_count": 5,
   "metadata": {
    "ExecuteTime": {
     "end_time": "2019-10-19T13:19:10.480588Z",
     "start_time": "2019-10-19T13:19:10.457993Z"
    },
    "scrolled": true
   },
   "outputs": [
    {
     "data": {
      "text/html": [
       "<div>\n",
       "<style scoped>\n",
       "    .dataframe tbody tr th:only-of-type {\n",
       "        vertical-align: middle;\n",
       "    }\n",
       "\n",
       "    .dataframe tbody tr th {\n",
       "        vertical-align: top;\n",
       "    }\n",
       "\n",
       "    .dataframe thead th {\n",
       "        text-align: right;\n",
       "    }\n",
       "</style>\n",
       "<table border=\"1\" class=\"dataframe\">\n",
       "  <thead>\n",
       "    <tr style=\"text-align: right;\">\n",
       "      <th></th>\n",
       "      <th>continent</th>\n",
       "      <th>puntos_mean</th>\n",
       "      <th>puntos_std</th>\n",
       "    </tr>\n",
       "  </thead>\n",
       "  <tbody>\n",
       "    <tr>\n",
       "      <th>0</th>\n",
       "      <td>africa</td>\n",
       "      <td>2.400000</td>\n",
       "      <td>1.624808</td>\n",
       "    </tr>\n",
       "    <tr>\n",
       "      <th>1</th>\n",
       "      <td>asia</td>\n",
       "      <td>0.750000</td>\n",
       "      <td>0.433013</td>\n",
       "    </tr>\n",
       "    <tr>\n",
       "      <th>2</th>\n",
       "      <td>europe</td>\n",
       "      <td>4.692308</td>\n",
       "      <td>2.523265</td>\n",
       "    </tr>\n",
       "    <tr>\n",
       "      <th>3</th>\n",
       "      <td>northamerica</td>\n",
       "      <td>4.500000</td>\n",
       "      <td>2.872281</td>\n",
       "    </tr>\n",
       "    <tr>\n",
       "      <th>4</th>\n",
       "      <td>southamerica</td>\n",
       "      <td>6.833333</td>\n",
       "      <td>1.771691</td>\n",
       "    </tr>\n",
       "  </tbody>\n",
       "</table>\n",
       "</div>"
      ],
      "text/plain": [
       "      continent  puntos_mean  puntos_std\n",
       "0        africa     2.400000    1.624808\n",
       "1          asia     0.750000    0.433013\n",
       "2        europe     4.692308    2.523265\n",
       "3  northamerica     4.500000    2.872281\n",
       "4  southamerica     6.833333    1.771691"
      ]
     },
     "execution_count": 5,
     "metadata": {},
     "output_type": "execute_result"
    }
   ],
   "source": [
    "calculo_media_varianza('continent','puntos').head()"
   ]
  },
  {
   "cell_type": "markdown",
   "metadata": {},
   "source": [
    "### En Sudamérica se encuentra la mayor cantidad de puntos\n"
   ]
  },
  {
   "cell_type": "markdown",
   "metadata": {},
   "source": [
    "### Ejemplo de salida de la función"
   ]
  },
  {
   "cell_type": "code",
   "execution_count": 6,
   "metadata": {
    "ExecuteTime": {
     "end_time": "2019-10-19T13:19:13.079801Z",
     "start_time": "2019-10-19T13:19:13.036691Z"
    }
   },
   "outputs": [
    {
     "data": {
      "image/png": "[encoded data removed]",
      "text/plain": [
       "<IPython.core.display.Image object>"
      ]
     },
     "execution_count": 6,
     "metadata": {},
     "output_type": "execute_result"
    }
   ],
   "source": [
    "from IPython.display import Image\n",
    "Image(filename='Ejemplo1_desafio.png')"
   ]
  },
  {
   "cell_type": "markdown",
   "metadata": {},
   "source": [
    "### En Sudamérica se encuentra la mayor cantidad de goles a favor"
   ]
  },
  {
   "cell_type": "markdown",
   "metadata": {},
   "source": [
    "## Desafío 3: Simulaciones\n",
    "* Genere una función **generate_pet** que devuelva de forma aleatoria un string **'perro'** o **'gato'** . Ejecútela un par de veces.\n",
    "  * *tip:* Puede utilizar la función **np.random.choice** para retornar elementos al azar.\n",
    "* Aplique la función **generate_pet** 20 veces mediante un loop y guarde los resultados en una lista.\n",
    "  * *tip:* Puede generar una lista vacía con [ ] y asignarla a un objeto. Puede añadir elementos a la lista con **.append** .\n",
    "* ¿Cuál es la probabilidad de elegir un perro al azar, de manera teórica? ¿Y un gato?\n",
    "* ¿Cuál es la probabilidad de elegir un perro al azar en su lista creada? ¿Y un gato?\n",
    "* Agrege **np.random.seed(2)** al inicio del chunk. ¿Qué hace éste método en la simulación?"
   ]
  },
  {
   "cell_type": "code",
   "execution_count": 10,
   "metadata": {
    "ExecuteTime": {
     "end_time": "2019-10-19T13:23:57.403421Z",
     "start_time": "2019-10-19T13:23:57.386638Z"
    }
   },
   "outputs": [
    {
     "name": "stdout",
     "output_type": "stream",
     "text": [
      "Ejecutando un par de veces la funcion \n",
      "perro\n",
      "perro\n"
     ]
    }
   ],
   "source": [
    "import numpy as np\n",
    "import random\n",
    "np.random.seed(2)\n",
    "list = ['perro','gato']\n",
    "\n",
    "def generate_pet():\n",
    "    \"\"\"\n",
    "    Función que devuelve de forma aleatoria un string 'perro' o 'gato' \n",
    "\n",
    "    Parameters:\n",
    "    Ninguno\n",
    "\n",
    "    Returns:\n",
    "    str: Retorna el string de 'perro' o 'gato'\n",
    "\n",
    "    \"\"\"      \n",
    "    \n",
    "    return np.random.choice(list)\n",
    "\n",
    "\n",
    "pet_list = []\n",
    "for i in range(20):\n",
    "    pet_list.append(generate_pet())\n",
    "    \n",
    "    \n",
    "\n",
    "# Ejecutando un par de veces la funcion \n",
    "print('Ejecutando un par de veces la funcion ')\n",
    "print(generate_pet())\n",
    "print(generate_pet())"
   ]
  },
  {
   "cell_type": "markdown",
   "metadata": {
    "ExecuteTime": {
     "end_time": "2019-10-17T22:31:22.514009Z",
     "start_time": "2019-10-17T22:31:22.493917Z"
    }
   },
   "source": [
    "* ¿Cuál es la probabilidad de elegir un perro al azar, de manera teórica? ¿Y un gato?\n"
   ]
  },
  {
   "cell_type": "markdown",
   "metadata": {},
   "source": [
    "El espacio muestral para obtener nuestra mascota es: {perro, gato}, por tanto nuestro conjunto de posibles resultados en este escenario se traducen en dos opciones:\n",
    "\n",
    "- Obtener al azar un: perro ó\n",
    "- Obtener al azar un: gato\n",
    "\n",
    "Por tanto, _definiendo A como el evento de obtener un perro_:\n",
    "\n",
    "La probabilidad de A se traduce de la siguiente manera:\n",
    "\n",
    "$P(A)$ = $\\frac{númeroDeResultadosFavorablesParaObtenerPerro}{númeroDeResultadosPosibles}$\n",
    "\n",
    "\n",
    "conociendo que el número total de opciones son _dos_ y _una_ de ellas es obtener un perro:\n",
    "\n",
    "$P(A)$ = $\\frac{1}{númeroDeResultadosPosibles}$\n",
    "\n",
    "\n",
    "$P(A)$ = $\\frac{1}{2}$\n",
    "\n",
    "\n",
    "$P(A)$ = 0.5 \n",
    "\n",
    "De igual manera el mismo racionamiento con el caso de la probabilidad del gato = 0.5 "
   ]
  },
  {
   "cell_type": "markdown",
   "metadata": {},
   "source": [
    "* ¿Cuál es la probabilidad de elegir un perro al azar en su lista creada? ¿Y un gato?\n"
   ]
  },
  {
   "cell_type": "code",
   "execution_count": 11,
   "metadata": {
    "ExecuteTime": {
     "end_time": "2019-10-19T13:32:43.999668Z",
     "start_time": "2019-10-19T13:32:43.994649Z"
    }
   },
   "outputs": [
    {
     "name": "stdout",
     "output_type": "stream",
     "text": [
      "perro 0.4\n",
      "gato 0.6\n"
     ]
    }
   ],
   "source": [
    "prob_perro = pet_list.count('perro') / len(pet_list)\n",
    "prob_gato = pet_list.count('gato') / len(pet_list)\n",
    "\n",
    "print('perro {}'.format(prob_perro))\n",
    "print('gato {}'.format(prob_gato)) "
   ]
  },
  {
   "cell_type": "markdown",
   "metadata": {},
   "source": [
    "## Ejemplo de salida\n",
    "```\n",
    "perro    0.6\n",
    "gato     0.4\n",
    "dtype: float64\n",
    "```"
   ]
  },
  {
   "cell_type": "markdown",
   "metadata": {},
   "source": [
    "* Agrege np.random.seed(2) al inicio del chunk. ¿Qué hace éste método en la simulación?\n",
    "\n",
    "_Cuando establece la semilla y se vuelve a ejecutar el código cada vez, se obtendrán los mismos números. Obteniendo números pseudo aleatorios, los cuales van a permitir a varias personas poder trabajar bajo los mismos valores aleatorios_"
   ]
  },
  {
   "cell_type": "markdown",
   "metadata": {},
   "source": [
    "## Desafío 4: Función simuladora\n",
    "* Genere un método llamado simulate_pets_prob que tome como argumento un número finito de simulaciones a generar.\n",
    "* El método debe simular dos situaciones young_pet y old_pet , y contar la ocurrencia de los siguientes casos:\n",
    " * De los dos animales simulados, contar las ocasiones donde por lo menos uno de los animales sea un perro.\n",
    "  * De los dos animales simulados, contar las ocasiones donde por lo menos uno sea un perro viejo.\n",
    "  * De los dos animales simulados, contar las ocasiones donde los dos sean perros\n",
    "* El método debe tener una semilla pseudoaleatoria de 1.\n",
    "* De los tres escenarios: ¿Cuál es el menos probable? ¿Cuál es el más probable?, ¿se dió esta relación en su simulación?"
   ]
  },
  {
   "cell_type": "code",
   "execution_count": 14,
   "metadata": {
    "ExecuteTime": {
     "end_time": "2019-10-19T13:35:54.055559Z",
     "start_time": "2019-10-19T13:35:53.988177Z"
    }
   },
   "outputs": [
    {
     "name": "stdout",
     "output_type": "stream",
     "text": [
      "La probabilidad de que por lo menos uno de los dos animales es un perro es de: 0.7486\n",
      "La probabilidad de que por lo menos uno de los dos animales es un perro viejo es de: 0.4986\n",
      "La probabilidad de que ambos animales sean perros es de: 0.2526\n"
     ]
    }
   ],
   "source": [
    "def simulate_pets_prob(numero):\n",
    "    \"\"\"\n",
    "    El método debe simular dos situaciones young_pet y old_pet , y contar la ocurrencia\n",
    "    debe contar con una semilla pseudoaleatoria de 1\n",
    "\n",
    "    Parameters:\n",
    "    numero (int): numero de simulaciones a realizar\n",
    "\n",
    "    Returns:\n",
    "    str: Retorna un str con la cantidad de ocaciones\n",
    "\n",
    "    \"\"\"  \n",
    "    \n",
    "    np.random.seed(1)\n",
    "    \n",
    "    pet = ['perro','gato']\n",
    "    lista_young_pet = []\n",
    "    lista_old_pet = []\n",
    "\n",
    "    contar_ocasiones_uno_perro = 0\n",
    "    contar_ocasiones_uno_perro_viejo = 0\n",
    "    contar_ocasiones_ambos_perros = 0\n",
    "    for i in range(0,numero):\n",
    "        young_pet = np.random.choice(a = pet)\n",
    "        old_pet = np.random.choice(a = pet)\n",
    "        lista_young_pet.append(young_pet)\n",
    "        lista_old_pet.append(old_pet)\n",
    "        \n",
    "        if (young_pet == 'perro' or old_pet == 'perro'):\n",
    "            contar_ocasiones_uno_perro += 1\n",
    "        if (old_pet == 'perro'):\n",
    "            contar_ocasiones_uno_perro_viejo += 1\n",
    "        if (young_pet == 'perro' and old_pet == 'perro'):\n",
    "            contar_ocasiones_ambos_perros += 1\n",
    "        \n",
    "    return contar_ocasiones_uno_perro, contar_ocasiones_uno_perro_viejo, contar_ocasiones_ambos_perros\n",
    "\n",
    "numero_simulaciones = 5000 \n",
    "contar_ocasiones_uno_perro, contar_ocasiones_uno_perro_viejo, contar_ocasiones_ambos_perros = simulate_pets_prob(numero_simulaciones)  \n",
    "\n",
    "probabilidad_uno_de_los_perros = contar_ocasiones_uno_perro / numero_simulaciones\n",
    "print('La probabilidad de que por lo menos uno de los dos animales es un perro es de: {}'.format(probabilidad_uno_de_los_perros))\n",
    "probabilidad_uno_de_los_perros_viejo = contar_ocasiones_uno_perro_viejo / numero_simulaciones\n",
    "print('La probabilidad de que por lo menos uno de los dos animales es un perro viejo es de: {}'.format(probabilidad_uno_de_los_perros_viejo))\n",
    "probabilidad_ambos_perros = contar_ocasiones_ambos_perros / numero_simulaciones\n",
    "print('La probabilidad de que ambos animales sean perros es de: {}'.format(probabilidad_ambos_perros))"
   ]
  },
  {
   "cell_type": "code",
   "execution_count": 234,
   "metadata": {
    "ExecuteTime": {
     "end_time": "2019-10-18T00:46:59.917009Z",
     "start_time": "2019-10-18T00:46:59.913658Z"
    }
   },
   "outputs": [
    {
     "data": {
      "text/plain": [
       "0.25"
      ]
     },
     "execution_count": 234,
     "metadata": {},
     "output_type": "execute_result"
    }
   ],
   "source": [
    "3/4\n",
    "1/2\n",
    "1/4"
   ]
  },
  {
   "cell_type": "markdown",
   "metadata": {},
   "source": [
    "### Ejemplo de salida de la función\n",
    "```\n",
    "simulate_pets_prob(5000)\n",
    "el evento 1 tiene una probabilidad de : 0.7436\n",
    "el evento 2 tiene una probabilidad de : 0.4894\n",
    "el evento 3 tiene una probabilidad de : 0.249\n",
    "```"
   ]
  },
  {
   "cell_type": "markdown",
   "metadata": {},
   "source": [
    "La probabilidad teórica de los tres escenarios será la siguiente:\n"
   ]
  },
  {
   "cell_type": "markdown",
   "metadata": {
    "ExecuteTime": {
     "end_time": "2019-10-19T14:19:27.863665Z",
     "start_time": "2019-10-19T14:19:27.851677Z"
    }
   },
   "source": [
    "### Probabilidad teórica de que por lo menos uno de los dos animales es un perro\n",
    "\n",
    "El espacio muestral para obtener nuestra mascota en este escenario será el siguiente, los cuales serán representados a través de la siguiente tupla (resultado_young_pet,resultado_old_pet):\n",
    "\n",
    "{(perro, perro),(perro, gato),(gato, perro),(gato, gato)}\n",
    "\n",
    "Se puede observar que a nivel teórico tenemos que 3 de 4 veces podemos obtener al menos un perro: {(perro, perro),(perro, gato),(gato, perro)}, por tanto _siendo A la probabilidad de que al menos uno de los animales es un perro_ puede representarse como:\n",
    "\n",
    "$P(A)$ = $\\frac{númeroDeResultadosFavorablesParaObtenerAlMenosUnPerro}{númeroDeResultadosPosibles}$\n",
    "\n",
    "$P(A)$ = $\\frac{3}{4}$\n",
    "\n",
    "$P(A)$ = 0.75"
   ]
  },
  {
   "cell_type": "markdown",
   "metadata": {
    "ExecuteTime": {
     "end_time": "2019-10-19T14:19:32.210516Z",
     "start_time": "2019-10-19T14:19:32.204919Z"
    }
   },
   "source": [
    "### Probabilidad teórica de que por lo menos uno de los dos animales es un perro VIEJO\n",
    "\n",
    "El espacio muestral para obtener nuestra mascota en este escenario será el siguiente, los cuales serán representados a través de la siguiente tupla (resultado_young_pet,resultado_old_pet):\n",
    "\n",
    "{(perro_joven, perro_viejo),(perro_joven, gato_viejo),(gato_joven, perro_viejo),(gato_joven, gato_viejo)}\n",
    "\n",
    "Se puede observar que a nivel teórico tenemos que 2 de 4 veces podemos obtener al menos un perro viejo {(perro_joven, perro_viejo), (gato_joven, perro_viejo)}, por tanto _siendo A la probabilidad de que al menos uno de los animales es un perro viejo_ puede representarse como:\n",
    "\n",
    "$P(A)$ = $\\frac{númeroDeResultadosFavorablesParaObtenerAlMenosUnPerroViejo}{númeroDeResultadosPosibles}$\n",
    "\n",
    "$P(A)$ = $\\frac{2}{4}$ , simplificando\n",
    "\n",
    "$P(A)$ = $\\frac{1}{2}$\n",
    "\n",
    "$P(A)$ = 0.5\n",
    "\n",
    "Tambien puede interpretarse como:\n",
    "\n",
    "Definiendo,\n",
    "\n",
    "$P(A U B)$ = $P(A)$  +  $P(B)$\n",
    "\n",
    "donde, Probabilidad de obtener un perro viejo y un perro joven = $P($A)\n",
    "\n",
    "donde,  Probabilidad de obtener un perro viejo y un gato joven = $P($B)\n",
    "\n",
    "y $P(A \\cap B )$ no puede ocurrir de forma simultánea\n",
    "\n",
    "Por consiguiente:\n",
    "\n",
    "\n",
    "$P(A)$ = $\\frac{1}{2}$ * $\\frac{1}{2}$\n",
    "\n",
    "$P(A)$ = $\\frac{2}{4}$ , simplificando\n",
    "\n",
    "$P(A)$ = $\\frac{1}{2}$\n",
    "\n",
    "\n",
    "\n",
    "$P(B)$ = $\\frac{1}{2}$ * $\\frac{1}{2}$\n",
    "\n",
    "$P(B)$ = $\\frac{2}{4}$ , simplificando\n",
    "\n",
    "$P(B)$ = $\\frac{1}{2}$\n",
    "\n",
    "\n",
    "$P(A U B)$ = $P(A)$  +  $P(B)$\n",
    "\n",
    "$P(A U B)$ = $\\frac{1}{2}$  + $\\frac{1}{2}$\n",
    "\n",
    "$P(A U B)$ = $\\frac{2}{4}$ , simplificando\n",
    "\n",
    "$P(A U B)$ =  $\\frac{1}{2}$\n",
    "\n",
    "$P(A U B)$ =  0.5\n"
   ]
  },
  {
   "cell_type": "markdown",
   "metadata": {},
   "source": [
    "### Probabilidad teórica de que ambos animales sean perro\n",
    "\n",
    "El espacio muestral para obtener nuestra mascota en este escenario será el siguiente, los cuales serán representados a través de la siguiente tupla (resultado_young_pet,resultado_old_pet):\n",
    "\n",
    "{(perro, perro),(perro, gato),(gato, perro),(gato, gato)}\n",
    "\n",
    "Se puede observar que a nivel teórico tenemos que 1 de 4 veces podemos obtener que ambos sean perros, {(perro, perro)}, por tanto _siendo A la probabilidad de que ambos animales sean un perro_ puede representarse como:\n",
    "\n",
    "$P(A)$ = $\\frac{númeroDeResultadosFavorablesParaObtenerAmbosPerro}{númeroDeResultadosPosibles}$\n",
    "\n",
    "$P(A)$ = $\\frac{1}{4}$ \n",
    "\n",
    "$P(A)$ = 0.25"
   ]
  },
  {
   "cell_type": "markdown",
   "metadata": {},
   "source": [
    "* De los tres escenarios: ¿Cuál es el menos probable? ¿Cuál es el más probable?, ¿se dió esta relación en su simulación?\n",
    "\n",
    "De los resultados obtenidos el *menos* probable es que ambos animales sean un perro\n",
    "\n",
    "De los resultados obtenidos el *más* probable es que por lo menos uno de los dos animales sea un perro\n",
    "\n",
    "Por los resultados teóricos obtenidos y los de la simulación se puede concluir que si se produjo un aproximado y se afirma lo obtenido\n",
    "\n"
   ]
  }
 ],
 "metadata": {
  "kernelspec": {
   "display_name": "Python 3",
   "language": "python",
   "name": "python3"
  },
  "language_info": {
   "codemirror_mode": {
    "name": "ipython",
    "version": 3
   },
   "file_extension": ".py",
   "mimetype": "text/x-python",
   "name": "python",
   "nbconvert_exporter": "python",
   "pygments_lexer": "ipython3",
   "version": "3.7.3"
  },
  "latex_envs": {
   "LaTeX_envs_menu_present": true,
   "autoclose": false,
   "autocomplete": true,
   "bibliofile": "biblio.bib",
   "cite_by": "apalike",
   "current_citInitial": 1,
   "eqLabelWithNumbers": true,
   "eqNumInitial": 1,
   "hotkeys": {
    "equation": "Ctrl-E",
    "itemize": "Ctrl-I"
   },
   "labels_anchors": false,
   "latex_user_defs": false,
   "report_style_numbering": false,
   "user_envs_cfg": false
  },
  "varInspector": {
   "cols": {
    "lenName": 16,
    "lenType": 16,
    "lenVar": 40
   },
   "kernels_config": {
    "python": {
     "delete_cmd_postfix": "",
     "delete_cmd_prefix": "del ",
     "library": "var_list.py",
     "varRefreshCmd": "print(var_dic_list())"
    },
    "r": {
     "delete_cmd_postfix": ") ",
     "delete_cmd_prefix": "rm(",
     "library": "var_list.r",
     "varRefreshCmd": "cat(var_dic_list()) "
    }
   },
   "types_to_exclude": [
    "module",
    "function",
    "builtin_function_or_method",
    "instance",
    "_Feature"
   ],
   "window_display": false
  }
 },
 "nbformat": 4,
 "nbformat_minor": 2
}
