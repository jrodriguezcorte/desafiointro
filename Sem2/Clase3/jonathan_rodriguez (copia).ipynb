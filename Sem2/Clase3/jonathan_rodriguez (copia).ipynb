{
 "cells": [
  {
   "cell_type": "markdown",
   "metadata": {},
   "source": [
    "## Desafío 1: Lectura de archivos\n",
    "\n",
    "* Importe pandas y numpy siguiendo las convenciones.\n",
    "* Lea la base de datos worldcup2014.csv y asígnela a un objeto df .\n",
    "* Solicite las primeras 5 observaciones con head"
   ]
  },
  {
   "cell_type": "code",
   "execution_count": 4,
   "metadata": {
    "ExecuteTime": {
     "end_time": "2019-10-17T07:01:25.881195Z",
     "start_time": "2019-10-17T07:01:25.864516Z"
    },
    "scrolled": true
   },
   "outputs": [
    {
     "data": {
      "text/html": [
       "<div>\n",
       "<style scoped>\n",
       "    .dataframe tbody tr th:only-of-type {\n",
       "        vertical-align: middle;\n",
       "    }\n",
       "\n",
       "    .dataframe tbody tr th {\n",
       "        vertical-align: top;\n",
       "    }\n",
       "\n",
       "    .dataframe thead th {\n",
       "        text-align: right;\n",
       "    }\n",
       "</style>\n",
       "<table border=\"1\" class=\"dataframe\">\n",
       "  <thead>\n",
       "    <tr style=\"text-align: right;\">\n",
       "      <th></th>\n",
       "      <th>team</th>\n",
       "      <th>continent</th>\n",
       "      <th>group</th>\n",
       "      <th>group_pos</th>\n",
       "      <th>cantidad_juegos</th>\n",
       "      <th>juegos_ganados</th>\n",
       "      <th>juegos_empatados</th>\n",
       "      <th>juegos_perdidos</th>\n",
       "      <th>goles_favor</th>\n",
       "      <th>goles_contra</th>\n",
       "      <th>goles_diferencia</th>\n",
       "      <th>puntos</th>\n",
       "      <th>clasificado</th>\n",
       "    </tr>\n",
       "  </thead>\n",
       "  <tbody>\n",
       "    <tr>\n",
       "      <th>0</th>\n",
       "      <td>Brazil</td>\n",
       "      <td>southamerica</td>\n",
       "      <td>A</td>\n",
       "      <td>1</td>\n",
       "      <td>3</td>\n",
       "      <td>2</td>\n",
       "      <td>1</td>\n",
       "      <td>0</td>\n",
       "      <td>7</td>\n",
       "      <td>2</td>\n",
       "      <td>5</td>\n",
       "      <td>7</td>\n",
       "      <td>1</td>\n",
       "    </tr>\n",
       "    <tr>\n",
       "      <th>1</th>\n",
       "      <td>Mexico</td>\n",
       "      <td>northamerica</td>\n",
       "      <td>A</td>\n",
       "      <td>2</td>\n",
       "      <td>3</td>\n",
       "      <td>2</td>\n",
       "      <td>1</td>\n",
       "      <td>0</td>\n",
       "      <td>4</td>\n",
       "      <td>1</td>\n",
       "      <td>3</td>\n",
       "      <td>7</td>\n",
       "      <td>1</td>\n",
       "    </tr>\n",
       "    <tr>\n",
       "      <th>2</th>\n",
       "      <td>Croatia</td>\n",
       "      <td>europe</td>\n",
       "      <td>A</td>\n",
       "      <td>3</td>\n",
       "      <td>3</td>\n",
       "      <td>1</td>\n",
       "      <td>0</td>\n",
       "      <td>2</td>\n",
       "      <td>6</td>\n",
       "      <td>6</td>\n",
       "      <td>0</td>\n",
       "      <td>3</td>\n",
       "      <td>0</td>\n",
       "    </tr>\n",
       "    <tr>\n",
       "      <th>3</th>\n",
       "      <td>Cameroon</td>\n",
       "      <td>africa</td>\n",
       "      <td>A</td>\n",
       "      <td>4</td>\n",
       "      <td>3</td>\n",
       "      <td>0</td>\n",
       "      <td>0</td>\n",
       "      <td>3</td>\n",
       "      <td>1</td>\n",
       "      <td>9</td>\n",
       "      <td>−8</td>\n",
       "      <td>0</td>\n",
       "      <td>0</td>\n",
       "    </tr>\n",
       "    <tr>\n",
       "      <th>4</th>\n",
       "      <td>Netherlands</td>\n",
       "      <td>europe</td>\n",
       "      <td>B</td>\n",
       "      <td>1</td>\n",
       "      <td>3</td>\n",
       "      <td>3</td>\n",
       "      <td>0</td>\n",
       "      <td>0</td>\n",
       "      <td>10</td>\n",
       "      <td>3</td>\n",
       "      <td>7</td>\n",
       "      <td>9</td>\n",
       "      <td>1</td>\n",
       "    </tr>\n",
       "  </tbody>\n",
       "</table>\n",
       "</div>"
      ],
      "text/plain": [
       "          team     continent group  group_pos  cantidad_juegos  \\\n",
       "0       Brazil  southamerica     A          1                3   \n",
       "1       Mexico  northamerica     A          2                3   \n",
       "2      Croatia        europe     A          3                3   \n",
       "3     Cameroon        africa     A          4                3   \n",
       "4  Netherlands        europe     B          1                3   \n",
       "\n",
       "   juegos_ganados  juegos_empatados  juegos_perdidos  goles_favor  \\\n",
       "0               2                 1                0            7   \n",
       "1               2                 1                0            4   \n",
       "2               1                 0                2            6   \n",
       "3               0                 0                3            1   \n",
       "4               3                 0                0           10   \n",
       "\n",
       "   goles_contra goles_diferencia  puntos  clasificado  \n",
       "0             2                5       7            1  \n",
       "1             1                3       7            1  \n",
       "2             6                0       3            0  \n",
       "3             9               −8       0            0  \n",
       "4             3                7       9            1  "
      ]
     },
     "execution_count": 4,
     "metadata": {},
     "output_type": "execute_result"
    }
   ],
   "source": [
    "import pandas as pd\n",
    "import numpy as np\n",
    "\n",
    "df = pd.read_csv('worldcup2014.csv')\n",
    "\n",
    "df.head(5)"
   ]
  },
  {
   "cell_type": "markdown",
   "metadata": {},
   "source": [
    "## Desafío 2: Estime las frecuencias de continent\n",
    "\n",
    "Utilice value_counts . Responda lo siguiente:\n",
    "\n",
    "* ¿Cuál es el continente con una mayor presencia en la muestra?"
   ]
  },
  {
   "cell_type": "code",
   "execution_count": 5,
   "metadata": {
    "ExecuteTime": {
     "end_time": "2019-10-17T07:01:28.411063Z",
     "start_time": "2019-10-17T07:01:28.397609Z"
    }
   },
   "outputs": [
    {
     "data": {
      "text/plain": [
       "europe    13\n",
       "Name: continent, dtype: int64"
      ]
     },
     "execution_count": 5,
     "metadata": {},
     "output_type": "execute_result"
    }
   ],
   "source": [
    "contiente_con_mayor_presencia_por_continente = df['continent'].value_counts().head(1)\n",
    "contiente_con_mayor_presencia_por_continente"
   ]
  },
  {
   "cell_type": "markdown",
   "metadata": {},
   "source": [
    "_El continente con mayor presencia en la muestra es europa con 13 países_"
   ]
  },
  {
   "cell_type": "markdown",
   "metadata": {},
   "source": [
    "* ¿Cuál es la probabilidad de elegir un equipo asiático al azar?\n"
   ]
  },
  {
   "cell_type": "code",
   "execution_count": 6,
   "metadata": {
    "ExecuteTime": {
     "end_time": "2019-10-17T07:01:32.401832Z",
     "start_time": "2019-10-17T07:01:30.956012Z"
    }
   },
   "outputs": [
    {
     "data": {
      "text/plain": [
       "europe          0.40625\n",
       "southamerica    0.18750\n",
       "africa          0.15625\n",
       "northamerica    0.12500\n",
       "asia            0.12500\n",
       "Name: continent, dtype: float64"
      ]
     },
     "execution_count": 6,
     "metadata": {},
     "output_type": "execute_result"
    }
   ],
   "source": [
    "cantidad_por_contiente = df['continent'].value_counts('%')\n",
    "cantidad_por_contiente"
   ]
  },
  {
   "cell_type": "markdown",
   "metadata": {},
   "source": [
    "_La probabilidad de elegir un equipo asiático al azar en función del resultado es de 0.125__"
   ]
  },
  {
   "cell_type": "markdown",
   "metadata": {},
   "source": [
    "* ¿Cuál es la probabilidad de elegir un equipo africano al azar?\n",
    "\n",
    "_En función de la variable anterior, la probabilidad de elegir un equipo africano al azar es de 0.15625_"
   ]
  },
  {
   "cell_type": "markdown",
   "metadata": {
    "ExecuteTime": {
     "end_time": "2019-10-14T02:30:28.474050Z",
     "start_time": "2019-10-14T02:30:28.470868Z"
    }
   },
   "source": [
    "## Desafío 3: Probabilidades por continente\n",
    "\n",
    "Por cada continente, genere un nuevo objeto que almacene sólo las observaciones del continente.\n",
    "\n",
    "_tip: Para ello puede utilizar la siguiente sintáxis: df[df['variable'] == condicion]_"
   ]
  },
  {
   "cell_type": "code",
   "execution_count": 7,
   "metadata": {
    "ExecuteTime": {
     "end_time": "2019-10-17T07:01:34.363649Z",
     "start_time": "2019-10-17T07:01:34.344869Z"
    }
   },
   "outputs": [],
   "source": [
    "dfEurope = df[df['continent'] == 'europe']\n",
    "dfAsia = df[df['continent'] == 'asia']\n",
    "dfAfrica = df[df['continent'] == 'africa']\n",
    "dfNorthAmerica = df[df['continent'] == 'northamerica']\n",
    "dfSouthAmerica = df[df['continent'] == 'southamerica']\n"
   ]
  },
  {
   "cell_type": "markdown",
   "metadata": {},
   "source": [
    "## Desafío 4: Calcule la frecuencia\n",
    "\n",
    "Pase todos los objetos creados en el desafio anterior en un loop que imprima la frecuencia con la que pasaron a la siguiente ronda\n",
    "\n",
    "_tip: Genere un array que contenga los objetos a pasar en el loop._"
   ]
  },
  {
   "cell_type": "code",
   "execution_count": 8,
   "metadata": {
    "ExecuteTime": {
     "end_time": "2019-10-17T07:01:36.420569Z",
     "start_time": "2019-10-17T07:01:36.413253Z"
    }
   },
   "outputs": [
    {
     "name": "stdout",
     "output_type": "stream",
     "text": [
      "{'europe': 0.46153846153846156, 'asia': 0.0, 'africa': 0.4, 'northamerica': 0.75, 'southamerica': 0.8333333333333334}\n"
     ]
    }
   ],
   "source": [
    "cantidad_paises = len(df)\n",
    "arreglo_clasificar_region = []\n",
    "arreglo_clasificados = []\n",
    "for continente in [dfEurope, dfAsia, dfAfrica, dfNorthAmerica, dfSouthAmerica]:\n",
    "    contador_region = len(continente)\n",
    "    contador_clasificados = len(continente[continente['clasificado'] == 1])\n",
    "    frecuencia_clasificados = contador_clasificados/contador_region\n",
    "    arreglo_clasificados.append(frecuencia_clasificados)\n",
    "    \n",
    "frecuencia_clasificar = dict(zip([\"europe\", \"asia\", \"africa\", \"northamerica\", \"southamerica\"], arreglo_clasificados))        \n",
    "\n",
    "\n",
    "print(frecuencia_clasificar)\n",
    "\n",
    "\n"
   ]
  },
  {
   "cell_type": "markdown",
   "metadata": {},
   "source": [
    "_El diccionario anterior nos muestra la frecuencia de clasificación en función de cada continente_"
   ]
  },
  {
   "cell_type": "markdown",
   "metadata": {},
   "source": [
    "* ¿Cuál fue la frecuencia de que un país asiático pase a la siguiente ronda?"
   ]
  },
  {
   "cell_type": "code",
   "execution_count": 9,
   "metadata": {
    "ExecuteTime": {
     "end_time": "2019-10-17T07:01:39.169482Z",
     "start_time": "2019-10-17T07:01:39.163919Z"
    }
   },
   "outputs": [
    {
     "name": "stdout",
     "output_type": "stream",
     "text": [
      "0.0\n"
     ]
    }
   ],
   "source": [
    "print(frecuencia_clasificar['asia'])"
   ]
  },
  {
   "cell_type": "markdown",
   "metadata": {},
   "source": [
    "_La frecuencia de clasifación de un país asiático fue de 0_"
   ]
  },
  {
   "cell_type": "markdown",
   "metadata": {},
   "source": [
    "* ¿Cuáles fueron los dos continentes que tuvieron la mayor frecuencia de clasificar?\n",
    "\n",
    "# SUMA OJOOOO\n"
   ]
  },
  {
   "cell_type": "code",
   "execution_count": 10,
   "metadata": {
    "ExecuteTime": {
     "end_time": "2019-10-17T07:01:41.409561Z",
     "start_time": "2019-10-17T07:01:41.406045Z"
    }
   },
   "outputs": [
    {
     "name": "stdout",
     "output_type": "stream",
     "text": [
      "('southamerica', 0.8333333333333334)\n",
      "('northamerica', 0.75)\n"
     ]
    }
   ],
   "source": [
    "organizar = sorted(frecuencia_clasificar.items(), key=lambda kv: kv[1], reverse=True)\n",
    "print(organizar[0])\n",
    "print(organizar[1])"
   ]
  },
  {
   "cell_type": "markdown",
   "metadata": {},
   "source": [
    "_El resultado muestra aquellos dos continentes con mayor probabilidad de clasificar_"
   ]
  },
  {
   "cell_type": "markdown",
   "metadata": {},
   "source": [
    "* ¿Cuál fue la frecuencia de no clasificar un país europeo?"
   ]
  },
  {
   "cell_type": "code",
   "execution_count": 11,
   "metadata": {
    "ExecuteTime": {
     "end_time": "2019-10-17T07:01:43.438373Z",
     "start_time": "2019-10-17T07:01:43.433131Z"
    }
   },
   "outputs": [
    {
     "name": "stdout",
     "output_type": "stream",
     "text": [
      "0.5384615384615384\n",
      "0.5384615384615384\n"
     ]
    }
   ],
   "source": [
    "frecuencia_clasificar_europe = frecuencia_clasificar['europe']\n",
    "frecuencia_no_clasificar = 1 - frecuencia_clasificar_europe\n",
    "print(frecuencia_no_clasificar)\n",
    "\n",
    "\n",
    "no_clasifica = len(dfEurope[dfEurope['clasificado'] == 0])\n",
    "frecuencia_no_clasificado = no_clasifica/len(dfEurope)\n",
    "print(frecuencia_no_clasificado)"
   ]
  },
  {
   "cell_type": "markdown",
   "metadata": {},
   "source": [
    "_La probabilidad de no clasificar de un país europeo es de: 0.538_"
   ]
  },
  {
   "cell_type": "markdown",
   "metadata": {},
   "source": [
    "## Desafío 5: Refactorización\n",
    "\n",
    "* A continuación se presenta un loop que cuenta las probabilidades de juegos ganados. Se pide que value_counts cuente los juegos no ganados y ganados, ignorando de la cantidad de juegos.\n",
    "\n",
    "\n",
    "```\n",
    "for d in [africa_df, europe_df, asia_df, northamerica_df, southamerica_df]:\n",
    "   print(d['juegos_ganados'].value_counts('%'))\n",
    "\n",
    "```\n"
   ]
  },
  {
   "cell_type": "code",
   "execution_count": 12,
   "metadata": {
    "ExecuteTime": {
     "end_time": "2019-10-17T07:01:46.384880Z",
     "start_time": "2019-10-17T07:01:46.028970Z"
    },
    "scrolled": true
   },
   "outputs": [
    {
     "name": "stdout",
     "output_type": "stream",
     "text": [
      "{'europe': 0.8461538461538461, 'asia': 0.0, 'africa': 0.6, 'northamerica': 0.75, 'southamerica': 1.0}\n"
     ]
    },
    {
     "name": "stderr",
     "output_type": "stream",
     "text": [
      "/home/jonathan/anaconda3/lib/python3.7/site-packages/ipykernel_launcher.py:4: SettingWithCopyWarning: \n",
      "A value is trying to be set on a copy of a slice from a DataFrame.\n",
      "Try using .loc[row_indexer,col_indexer] = value instead\n",
      "\n",
      "See the caveats in the documentation: http://pandas.pydata.org/pandas-docs/stable/indexing.html#indexing-view-versus-copy\n",
      "  after removing the cwd from sys.path.\n"
     ]
    }
   ],
   "source": [
    "arreglo_ganados = []\n",
    "arreglo_frecuencia_ganados = []\n",
    "for continente in [dfEurope, dfAsia, dfAfrica, dfNorthAmerica, dfSouthAmerica]:\n",
    "    continente['ganados'] = np.where(continente['juegos_ganados'] == 0, 0, 1)\n",
    "    cantidad_ganados = len(continente[continente['ganados'] == 1])\n",
    "    cantidad_paises_continente = len(continente)\n",
    "    calculo_frecuencia_ganados = cantidad_ganados/cantidad_paises_continente\n",
    "    arreglo_ganados.append(cantidad_ganados)\n",
    "    arreglo_frecuencia_ganados.append(calculo_frecuencia_ganados)\n",
    "\n",
    "\n",
    "\n",
    "frecuencia_partidos_ganados = dict(zip([\"europe\", \"asia\", \"africa\", \"northamerica\", \"southamerica\"], arreglo_frecuencia_ganados))        \n",
    "print(frecuencia_partidos_ganados)"
   ]
  },
  {
   "cell_type": "markdown",
   "metadata": {},
   "source": [
    "* ¿Qué continente tuvo mayor frecuencia de juegos ganados?\n"
   ]
  },
  {
   "cell_type": "code",
   "execution_count": 13,
   "metadata": {
    "ExecuteTime": {
     "end_time": "2019-10-17T07:01:48.485824Z",
     "start_time": "2019-10-17T07:01:48.478260Z"
    }
   },
   "outputs": [
    {
     "name": "stdout",
     "output_type": "stream",
     "text": [
      "('southamerica', 1.0)\n"
     ]
    }
   ],
   "source": [
    "frecuencia_juegos = sorted(frecuencia_partidos_ganados.items(), key=lambda kv: kv[1], reverse=True)\n",
    "print(frecuencia_juegos[0])"
   ]
  },
  {
   "cell_type": "markdown",
   "metadata": {},
   "source": [
    "_El continente con mayor frecuencia de juegos ganados ha sido sudamerica_"
   ]
  },
  {
   "cell_type": "code",
   "execution_count": 14,
   "metadata": {
    "ExecuteTime": {
     "end_time": "2019-10-17T07:01:50.639562Z",
     "start_time": "2019-10-17T07:01:50.519504Z"
    }
   },
   "outputs": [
    {
     "name": "stdout",
     "output_type": "stream",
     "text": [
      "{'europe': 0.6923076923076923, 'asia': 1.0, 'africa': 1.0, 'northamerica': 0.5, 'southamerica': 0.5}\n"
     ]
    },
    {
     "name": "stderr",
     "output_type": "stream",
     "text": [
      "/home/jonathan/anaconda3/lib/python3.7/site-packages/ipykernel_launcher.py:4: SettingWithCopyWarning: \n",
      "A value is trying to be set on a copy of a slice from a DataFrame.\n",
      "Try using .loc[row_indexer,col_indexer] = value instead\n",
      "\n",
      "See the caveats in the documentation: http://pandas.pydata.org/pandas-docs/stable/indexing.html#indexing-view-versus-copy\n",
      "  after removing the cwd from sys.path.\n"
     ]
    }
   ],
   "source": [
    "arreglo_perdidos = []\n",
    "arreglo_frecuencia_perdidos = []\n",
    "for continente in [dfEurope, dfAsia, dfAfrica, dfNorthAmerica, dfSouthAmerica]:\n",
    "    continente['perdidos'] = np.where(continente['juegos_perdidos'] == 0, 0, 1)\n",
    "    cantidad_perdidos = len(continente[continente['perdidos'] == 1])\n",
    "    cantidad_paises_continente = len(continente)\n",
    "    calculo_frecuencia_perdidos = cantidad_perdidos/cantidad_paises_continente\n",
    "    arreglo_perdidos.append(cantidad_perdidos)\n",
    "    arreglo_frecuencia_perdidos.append(calculo_frecuencia_perdidos)\n",
    "\n",
    "\n",
    "\n",
    "frecuencia_partidos_perdidos = dict(zip([\"europe\", \"asia\", \"africa\", \"northamerica\", \"southamerica\"], arreglo_frecuencia_perdidos))        \n",
    "print(frecuencia_partidos_perdidos)"
   ]
  },
  {
   "cell_type": "markdown",
   "metadata": {},
   "source": [
    " * ¿Qué continente presentó un nivel similar entre juegos ganados y perdidos?"
   ]
  },
  {
   "cell_type": "code",
   "execution_count": 15,
   "metadata": {
    "ExecuteTime": {
     "end_time": "2019-10-17T07:01:53.160790Z",
     "start_time": "2019-10-17T07:01:53.151053Z"
    }
   },
   "outputs": [
    {
     "name": "stdout",
     "output_type": "stream",
     "text": [
      "[0.8461538461538461, 0.0, 0.6, 0.75, 1.0]\n",
      "[0.6923076923076923, 1.0, 1.0, 0.5, 0.5]\n",
      "('europe', 0.15384615384615385)\n"
     ]
    }
   ],
   "source": [
    "print(arreglo_frecuencia_ganados)\n",
    "print(arreglo_frecuencia_perdidos)\n",
    "diferencia = [abs(x1 - x2) for (x1, x2) in zip(arreglo_frecuencia_ganados, arreglo_frecuencia_perdidos)] \n",
    "diferencia_ganados_perdidos = dict(zip([\"europe\", \"asia\", \"africa\", \"northamerica\", \"southamerica\"], diferencia))        \n",
    "nivel_similar = sorted(diferencia_ganados_perdidos.items(), key=lambda kv: kv[1])\n",
    "print(nivel_similar[0])"
   ]
  },
  {
   "cell_type": "markdown",
   "metadata": {},
   "source": [
    "* Utilize el código para el caso de juegos perdidos y analice el continente con una mayor frecuencia de juegos perdidos.\n",
    "\n",
    "_Para la muestra de datos relizada, tanto los representantes del continente africano como el asiático sufrieron derrotas_ "
   ]
  }
 ],
 "metadata": {
  "kernelspec": {
   "display_name": "Python 3",
   "language": "python",
   "name": "python3"
  },
  "language_info": {
   "codemirror_mode": {
    "name": "ipython",
    "version": 3
   },
   "file_extension": ".py",
   "mimetype": "text/x-python",
   "name": "python",
   "nbconvert_exporter": "python",
   "pygments_lexer": "ipython3",
   "version": "3.7.3"
  },
  "varInspector": {
   "cols": {
    "lenName": 16,
    "lenType": 16,
    "lenVar": 40
   },
   "kernels_config": {
    "python": {
     "delete_cmd_postfix": "",
     "delete_cmd_prefix": "del ",
     "library": "var_list.py",
     "varRefreshCmd": "print(var_dic_list())"
    },
    "r": {
     "delete_cmd_postfix": ") ",
     "delete_cmd_prefix": "rm(",
     "library": "var_list.r",
     "varRefreshCmd": "cat(var_dic_list()) "
    }
   },
   "types_to_exclude": [
    "module",
    "function",
    "builtin_function_or_method",
    "instance",
    "_Feature"
   ],
   "window_display": false
  }
 },
 "nbformat": 4,
 "nbformat_minor": 2
}
