{
 "cells": [
  {
   "cell_type": "markdown",
   "metadata": {},
   "source": [
    "**NOMBRE ALUMNO:** Jonathan Rodriguez\n",
    "\n",
    "**FECHA:** 15-10-19"
   ]
  },
  {
   "cell_type": "markdown",
   "metadata": {},
   "source": [
    "## Desafío 1: Lectura de archivos\n",
    "\n",
    "* Importe pandas y numpy siguiendo las convenciones.\n",
    "* Lea la base de datos worldcup2014.csv y asígnela a un objeto df .\n",
    "* Solicite las primeras 5 observaciones con head"
   ]
  },
  {
   "cell_type": "code",
   "execution_count": 1,
   "metadata": {
    "ExecuteTime": {
     "end_time": "2019-10-23T22:07:22.898815Z",
     "start_time": "2019-10-23T22:07:22.571301Z"
    },
    "scrolled": true
   },
   "outputs": [
    {
     "data": {
      "text/html": [
       "<div>\n",
       "<style scoped>\n",
       "    .dataframe tbody tr th:only-of-type {\n",
       "        vertical-align: middle;\n",
       "    }\n",
       "\n",
       "    .dataframe tbody tr th {\n",
       "        vertical-align: top;\n",
       "    }\n",
       "\n",
       "    .dataframe thead th {\n",
       "        text-align: right;\n",
       "    }\n",
       "</style>\n",
       "<table border=\"1\" class=\"dataframe\">\n",
       "  <thead>\n",
       "    <tr style=\"text-align: right;\">\n",
       "      <th></th>\n",
       "      <th>team</th>\n",
       "      <th>continent</th>\n",
       "      <th>group</th>\n",
       "      <th>group_pos</th>\n",
       "      <th>cantidad_juegos</th>\n",
       "      <th>juegos_ganados</th>\n",
       "      <th>juegos_empatados</th>\n",
       "      <th>juegos_perdidos</th>\n",
       "      <th>goles_favor</th>\n",
       "      <th>goles_contra</th>\n",
       "      <th>goles_diferencia</th>\n",
       "      <th>puntos</th>\n",
       "      <th>clasificado</th>\n",
       "    </tr>\n",
       "  </thead>\n",
       "  <tbody>\n",
       "    <tr>\n",
       "      <th>0</th>\n",
       "      <td>Brazil</td>\n",
       "      <td>southamerica</td>\n",
       "      <td>A</td>\n",
       "      <td>1</td>\n",
       "      <td>3</td>\n",
       "      <td>2</td>\n",
       "      <td>1</td>\n",
       "      <td>0</td>\n",
       "      <td>7</td>\n",
       "      <td>2</td>\n",
       "      <td>5</td>\n",
       "      <td>7</td>\n",
       "      <td>1</td>\n",
       "    </tr>\n",
       "    <tr>\n",
       "      <th>1</th>\n",
       "      <td>Mexico</td>\n",
       "      <td>northamerica</td>\n",
       "      <td>A</td>\n",
       "      <td>2</td>\n",
       "      <td>3</td>\n",
       "      <td>2</td>\n",
       "      <td>1</td>\n",
       "      <td>0</td>\n",
       "      <td>4</td>\n",
       "      <td>1</td>\n",
       "      <td>3</td>\n",
       "      <td>7</td>\n",
       "      <td>1</td>\n",
       "    </tr>\n",
       "    <tr>\n",
       "      <th>2</th>\n",
       "      <td>Croatia</td>\n",
       "      <td>europe</td>\n",
       "      <td>A</td>\n",
       "      <td>3</td>\n",
       "      <td>3</td>\n",
       "      <td>1</td>\n",
       "      <td>0</td>\n",
       "      <td>2</td>\n",
       "      <td>6</td>\n",
       "      <td>6</td>\n",
       "      <td>0</td>\n",
       "      <td>3</td>\n",
       "      <td>0</td>\n",
       "    </tr>\n",
       "    <tr>\n",
       "      <th>3</th>\n",
       "      <td>Cameroon</td>\n",
       "      <td>africa</td>\n",
       "      <td>A</td>\n",
       "      <td>4</td>\n",
       "      <td>3</td>\n",
       "      <td>0</td>\n",
       "      <td>0</td>\n",
       "      <td>3</td>\n",
       "      <td>1</td>\n",
       "      <td>9</td>\n",
       "      <td>−8</td>\n",
       "      <td>0</td>\n",
       "      <td>0</td>\n",
       "    </tr>\n",
       "    <tr>\n",
       "      <th>4</th>\n",
       "      <td>Netherlands</td>\n",
       "      <td>europe</td>\n",
       "      <td>B</td>\n",
       "      <td>1</td>\n",
       "      <td>3</td>\n",
       "      <td>3</td>\n",
       "      <td>0</td>\n",
       "      <td>0</td>\n",
       "      <td>10</td>\n",
       "      <td>3</td>\n",
       "      <td>7</td>\n",
       "      <td>9</td>\n",
       "      <td>1</td>\n",
       "    </tr>\n",
       "  </tbody>\n",
       "</table>\n",
       "</div>"
      ],
      "text/plain": [
       "          team     continent group  group_pos  cantidad_juegos  \\\n",
       "0       Brazil  southamerica     A          1                3   \n",
       "1       Mexico  northamerica     A          2                3   \n",
       "2      Croatia        europe     A          3                3   \n",
       "3     Cameroon        africa     A          4                3   \n",
       "4  Netherlands        europe     B          1                3   \n",
       "\n",
       "   juegos_ganados  juegos_empatados  juegos_perdidos  goles_favor  \\\n",
       "0               2                 1                0            7   \n",
       "1               2                 1                0            4   \n",
       "2               1                 0                2            6   \n",
       "3               0                 0                3            1   \n",
       "4               3                 0                0           10   \n",
       "\n",
       "   goles_contra goles_diferencia  puntos  clasificado  \n",
       "0             2                5       7            1  \n",
       "1             1                3       7            1  \n",
       "2             6                0       3            0  \n",
       "3             9               −8       0            0  \n",
       "4             3                7       9            1  "
      ]
     },
     "execution_count": 1,
     "metadata": {},
     "output_type": "execute_result"
    }
   ],
   "source": [
    "import pandas as pd\n",
    "import numpy as np\n",
    "\n",
    "df = pd.read_csv('worldcup2014.csv')\n",
    "\n",
    "df.head(5)"
   ]
  },
  {
   "cell_type": "markdown",
   "metadata": {},
   "source": [
    "## Desafío 2: Estime las frecuencias de continent\n",
    "\n",
    "Utilice value_counts . Responda lo siguiente:\n",
    "\n",
    "* ¿Cuál es el continente con una mayor presencia en la muestra?"
   ]
  },
  {
   "cell_type": "code",
   "execution_count": 2,
   "metadata": {
    "ExecuteTime": {
     "end_time": "2019-10-23T22:07:25.594914Z",
     "start_time": "2019-10-23T22:07:25.567617Z"
    }
   },
   "outputs": [
    {
     "data": {
      "text/plain": [
       "europe    13\n",
       "Name: continent, dtype: int64"
      ]
     },
     "execution_count": 2,
     "metadata": {},
     "output_type": "execute_result"
    }
   ],
   "source": [
    "contiente_con_mayor_presencia_por_continente = df['continent'].value_counts().head(1)\n",
    "contiente_con_mayor_presencia_por_continente"
   ]
  },
  {
   "cell_type": "markdown",
   "metadata": {},
   "source": [
    "_El continente con mayor presencia en la muestra es europa con 13 países_"
   ]
  },
  {
   "cell_type": "markdown",
   "metadata": {},
   "source": [
    "* ¿Cuál es la probabilidad de elegir un equipo asiático al azar?\n"
   ]
  },
  {
   "cell_type": "code",
   "execution_count": 3,
   "metadata": {
    "ExecuteTime": {
     "end_time": "2019-10-23T22:07:27.693100Z",
     "start_time": "2019-10-23T22:07:27.670156Z"
    }
   },
   "outputs": [
    {
     "data": {
      "text/plain": [
       "europe          0.40625\n",
       "southamerica    0.18750\n",
       "africa          0.15625\n",
       "asia            0.12500\n",
       "northamerica    0.12500\n",
       "Name: continent, dtype: float64"
      ]
     },
     "execution_count": 3,
     "metadata": {},
     "output_type": "execute_result"
    }
   ],
   "source": [
    "cantidad_por_contiente = df['continent'].value_counts('%')\n",
    "cantidad_por_contiente"
   ]
  },
  {
   "cell_type": "markdown",
   "metadata": {},
   "source": [
    "La probabilidad de elegir un equipo asiático al azar en función del resultado es de 0.125"
   ]
  },
  {
   "cell_type": "markdown",
   "metadata": {},
   "source": [
    "* ¿Cuál es la probabilidad de elegir un equipo africano al azar?\n",
    "\n",
    "En función de la variable anterior, la probabilidad de elegir un equipo africano al azar es de 0.15625"
   ]
  },
  {
   "cell_type": "markdown",
   "metadata": {
    "ExecuteTime": {
     "end_time": "2019-10-14T02:30:28.474050Z",
     "start_time": "2019-10-14T02:30:28.470868Z"
    }
   },
   "source": [
    "## Desafío 3: Probabilidades por continente\n",
    "\n",
    "Por cada continente, genere un nuevo objeto que almacene sólo las observaciones del continente.\n",
    "\n",
    "_tip: Para ello puede utilizar la siguiente sintáxis: df[df['variable'] == condicion]_"
   ]
  },
  {
   "cell_type": "code",
   "execution_count": 4,
   "metadata": {
    "ExecuteTime": {
     "end_time": "2019-10-23T22:07:30.123644Z",
     "start_time": "2019-10-23T22:07:30.100618Z"
    }
   },
   "outputs": [],
   "source": [
    "dfEurope = df[df['continent'] == 'europe']\n",
    "dfAsia = df[df['continent'] == 'asia']\n",
    "dfAfrica = df[df['continent'] == 'africa']\n",
    "dfNorthAmerica = df[df['continent'] == 'northamerica']\n",
    "dfSouthAmerica = df[df['continent'] == 'southamerica']\n"
   ]
  },
  {
   "cell_type": "markdown",
   "metadata": {},
   "source": [
    "## Desafío 4: Calcule la frecuencia\n",
    "\n",
    "Pase todos los objetos creados en el desafio anterior en un loop que imprima la frecuencia con la que pasaron a la siguiente ronda\n",
    "\n",
    "_tip: Genere un array que contenga los objetos a pasar en el loop._"
   ]
  },
  {
   "cell_type": "code",
   "execution_count": 108,
   "metadata": {
    "ExecuteTime": {
     "end_time": "2019-10-19T17:43:00.657049Z",
     "start_time": "2019-10-19T17:43:00.629611Z"
    }
   },
   "outputs": [
    {
     "name": "stdout",
     "output_type": "stream",
     "text": [
      "Frecuencia absoluta de clasificación por continente\n",
      "{'europe': 6, 'asia': 0, 'africa': 2, 'northamerica': 3, 'southamerica': 5}\n",
      "\n",
      "\n",
      "Frecuencia relativa de clasificación por continente\n",
      "{'europe': 0.46153846153846156, 'asia': 0.0, 'africa': 0.4, 'northamerica': 0.75, 'southamerica': 0.8333333333333334}\n"
     ]
    }
   ],
   "source": [
    "cantidad_paises = len(df)\n",
    "arreglo_clasificar_region = []\n",
    "arreglo_probabilidad_clasificados_continente = []\n",
    "arreglo_frecuencia_clasificados_continente = [] \n",
    "for continente in [dfEurope, dfAsia, dfAfrica, dfNorthAmerica, dfSouthAmerica]:\n",
    "    contador_region = len(continente)\n",
    "    contador_clasificados = len(continente[continente['clasificado'] == 1])\n",
    "    probabilidad_clasificados = contador_clasificados/contador_region\n",
    "    arreglo_probabilidad_clasificados_continente.append(probabilidad_clasificados)\n",
    "    arreglo_frecuencia_clasificados_continente.append(contador_clasificados)\n",
    "    \n",
    "print('Frecuencia absoluta de clasificación por continente')\n",
    "frecuencia_clasificar = dict(zip([\"europe\", \"asia\", \"africa\", \"northamerica\", \"southamerica\"], arreglo_frecuencia_clasificados_continente))        \n",
    "print(frecuencia_clasificar)\n",
    "print('\\n')\n",
    "print('Frecuencia relativa de clasificación por continente')\n",
    "probabilidad_clasificar = dict(zip([\"europe\", \"asia\", \"africa\", \"northamerica\", \"southamerica\"], arreglo_probabilidad_clasificados_continente))        \n",
    "print(probabilidad_clasificar)\n",
    "\n",
    "\n",
    "\n"
   ]
  },
  {
   "cell_type": "markdown",
   "metadata": {},
   "source": [
    "_El diccionario anterior nos muestra la frecuencia y probabilidad de clasificación en función de cada continente_"
   ]
  },
  {
   "cell_type": "markdown",
   "metadata": {},
   "source": [
    "* ¿Cuál fue la frecuencia de que un país asiático pase a la siguiente ronda?"
   ]
  },
  {
   "cell_type": "code",
   "execution_count": 72,
   "metadata": {
    "ExecuteTime": {
     "end_time": "2019-10-19T17:15:24.710848Z",
     "start_time": "2019-10-19T17:15:24.701190Z"
    }
   },
   "outputs": [
    {
     "name": "stdout",
     "output_type": "stream",
     "text": [
      "Frecuencia absoluta\n",
      "0\n",
      "Frecuencia relativa\n",
      "0.0\n"
     ]
    }
   ],
   "source": [
    "print('Frecuencia absoluta')\n",
    "print(frecuencia_clasificar['asia'])\n",
    "print('Frecuencia relativa')\n",
    "print(probabilidad_clasificar['asia'])\n"
   ]
  },
  {
   "cell_type": "markdown",
   "metadata": {},
   "source": [
    "_La frecuencia de clasifación de un país asiático fue de 0_"
   ]
  },
  {
   "cell_type": "markdown",
   "metadata": {},
   "source": [
    "* ¿Cuáles fueron los dos continentes que tuvieron la mayor frecuencia de clasificar?"
   ]
  },
  {
   "cell_type": "code",
   "execution_count": 84,
   "metadata": {
    "ExecuteTime": {
     "end_time": "2019-10-19T17:21:07.683916Z",
     "start_time": "2019-10-19T17:21:07.668413Z"
    }
   },
   "outputs": [
    {
     "name": "stdout",
     "output_type": "stream",
     "text": [
      "('europe', 6)\n",
      "('southamerica', 5)\n"
     ]
    }
   ],
   "source": [
    "organizar = sorted(frecuencia_clasificar.items(), key=lambda kv: kv[1], reverse=True)\n",
    "print(organizar[0])\n",
    "print(organizar[1])"
   ]
  },
  {
   "cell_type": "markdown",
   "metadata": {},
   "source": [
    "_El resultado muestra aquellos dos continentes con mayor frecuencia absoluta_"
   ]
  },
  {
   "cell_type": "code",
   "execution_count": 73,
   "metadata": {
    "ExecuteTime": {
     "end_time": "2019-10-19T17:16:11.748467Z",
     "start_time": "2019-10-19T17:16:11.735855Z"
    }
   },
   "outputs": [
    {
     "name": "stdout",
     "output_type": "stream",
     "text": [
      "('southamerica', 0.8333333333333334)\n",
      "('northamerica', 0.75)\n"
     ]
    }
   ],
   "source": [
    "organizar = sorted(probabilidad_clasificar.items(), key=lambda kv: kv[1], reverse=True)\n",
    "print(organizar[0])\n",
    "print(organizar[1])"
   ]
  },
  {
   "cell_type": "markdown",
   "metadata": {
    "ExecuteTime": {
     "end_time": "2019-10-19T17:16:35.602060Z",
     "start_time": "2019-10-19T17:16:35.589559Z"
    }
   },
   "source": [
    "_El resultado muestra aquellos dos continentes con mayor frecuencia relativa_"
   ]
  },
  {
   "cell_type": "markdown",
   "metadata": {},
   "source": [
    "* ¿Cuál fue la probabilidad de no clasificar para el continente europeo?"
   ]
  },
  {
   "cell_type": "code",
   "execution_count": 26,
   "metadata": {
    "ExecuteTime": {
     "end_time": "2019-10-19T16:22:58.307341Z",
     "start_time": "2019-10-19T16:22:58.302969Z"
    }
   },
   "outputs": [
    {
     "name": "stdout",
     "output_type": "stream",
     "text": [
      "0.5384615384615384\n",
      "0.5384615384615384\n"
     ]
    }
   ],
   "source": [
    "probabilibad_clasificar_europe = probabilidad_clasificar['europe']\n",
    "probabilidad_no_clasificar = 1 - probabilibad_clasificar_europe\n",
    "print(probabilidad_no_clasificar)\n",
    "\n",
    "\n",
    "no_clasifica = len(dfEurope[dfEurope['clasificado'] == 0])\n",
    "probabilidad_no_clasificado = no_clasifica/len(dfEurope)\n",
    "print(probabilidad_no_clasificado)"
   ]
  },
  {
   "cell_type": "markdown",
   "metadata": {},
   "source": [
    "* ¿Cuál fue la frecuencia de no clasificar un país europeo?"
   ]
  },
  {
   "cell_type": "code",
   "execution_count": 59,
   "metadata": {
    "ExecuteTime": {
     "end_time": "2019-10-19T16:59:29.027203Z",
     "start_time": "2019-10-19T16:59:29.013158Z"
    }
   },
   "outputs": [
    {
     "name": "stdout",
     "output_type": "stream",
     "text": [
      "La frecuencia absoluta de los paises europeos que no clasificaron fue de 7 de un total de 13 \n"
     ]
    }
   ],
   "source": [
    "no_clasifica = len(dfEurope[dfEurope['clasificado'] == 0])\n",
    "total_europa = len(dfEurope) \n",
    "print(\"La frecuencia absoluta de los paises europeos que no clasificaron fue de {} de un total de {} \".format(no_clasifica, total_europa))\n"
   ]
  },
  {
   "cell_type": "markdown",
   "metadata": {},
   "source": [
    "_La probabilidad de no clasificar de un país europeo es de: 0.538_"
   ]
  },
  {
   "cell_type": "markdown",
   "metadata": {},
   "source": [
    "## Desafío 5: Refactorización\n",
    "\n",
    "* A continuación se presenta un loop que cuenta las probabilidades de juegos ganados. Se pide que value_counts cuente los juegos no ganados y ganados, ignorando de la cantidad de juegos.\n",
    "\n",
    "\n",
    "```\n",
    "for d in [africa_df, europe_df, asia_df, northamerica_df, southamerica_df]:\n",
    "   print(d['juegos_ganados'].value_counts('%'))\n",
    "\n",
    "```\n",
    "\n",
    "\n",
    "### Para ello puede utilizar np.where , que devuelve un array con valores imputados cuando se satisface una condición. En este caso debemos clasificar como 0 cuando los juegos ganados sean igual a 0, y 1 cuando sean igual o mayor a 1.\n"
   ]
  },
  {
   "cell_type": "code",
   "execution_count": 142,
   "metadata": {
    "ExecuteTime": {
     "end_time": "2019-10-19T18:12:29.795798Z",
     "start_time": "2019-10-19T18:12:29.642562Z"
    },
    "scrolled": true
   },
   "outputs": [
    {
     "name": "stdout",
     "output_type": "stream",
     "text": [
      "Cantidad de juegos ganados frecuencia absoluta\n",
      "{'europe': 18, 'asia': 0, 'africa': 3, 'northamerica': 5, 'southamerica': 13}\n",
      "\n",
      "\n",
      "Cantidad de juegos\n",
      "{'europe': 39, 'asia': 12, 'africa': 15, 'northamerica': 12, 'southamerica': 18}\n",
      "\n",
      "\n",
      "Frecuencia relativa en función del total de juegos\n",
      "{'europe': 0.46153846153846156, 'asia': 0.0, 'africa': 0.2, 'northamerica': 0.4166666666666667, 'southamerica': 0.7222222222222222}\n",
      "\n",
      "\n",
      "Frecuencia utilizando la lógica del enunciado con np.where\n",
      "{'europe': 0.8461538461538461, 'asia': 0.0, 'africa': 0.6, 'northamerica': 0.75, 'southamerica': 1.0}\n"
     ]
    },
    {
     "name": "stderr",
     "output_type": "stream",
     "text": [
      "/home/jonathan/anaconda3/lib/python3.7/site-packages/ipykernel_launcher.py:8: SettingWithCopyWarning: \n",
      "A value is trying to be set on a copy of a slice from a DataFrame.\n",
      "Try using .loc[row_indexer,col_indexer] = value instead\n",
      "\n",
      "See the caveats in the documentation: http://pandas.pydata.org/pandas-docs/stable/indexing.html#indexing-view-versus-copy\n",
      "  \n"
     ]
    }
   ],
   "source": [
    "arreglo_ganados = []\n",
    "arreglo_frecuencia_ganados = []\n",
    "arreglo_frecuencia_absoluta_ganados = []\n",
    "arreglo_cantidad_total_juegos_ganados = []\n",
    "arreglo_frecuencia_relativa = []\n",
    "arreglo_frecuencia_en_funcion_total = []\n",
    "for continente in [dfEurope, dfAsia, dfAfrica, dfNorthAmerica, dfSouthAmerica]:\n",
    "    continente['ganados'] = np.where(continente['juegos_ganados'] == 0, 0, 1)\n",
    "    cantidad_ganados = len(continente[continente['ganados'] == 1])\n",
    "    cantidad_paises_continente = len(continente)\n",
    "    calculo_frecuencia_ganados = cantidad_ganados/cantidad_paises_continente\n",
    "    arreglo_ganados.append(cantidad_ganados)\n",
    "    arreglo_frecuencia_ganados.append(calculo_frecuencia_ganados)\n",
    "    arreglo_frecuencia_absoluta_ganados.append(continente['juegos_ganados'].sum())\n",
    "    arreglo_cantidad_total_juegos_ganados.append(continente['cantidad_juegos'].sum())\n",
    "    arreglo_frecuencia_en_funcion_total.append(continente['juegos_ganados'].sum()/continente['cantidad_juegos'].sum())\n",
    "\n",
    "print('Cantidad de juegos ganados frecuencia absoluta')    \n",
    "frecuencia_absoluta_ganados = dict(zip([\"europe\", \"asia\", \"africa\", \"northamerica\", \"southamerica\"], arreglo_frecuencia_absoluta_ganados))        \n",
    "print(frecuencia_absoluta_ganados)   \n",
    "print('\\n')\n",
    "print('Cantidad de juegos')    \n",
    "cantidad_total_juegos_ganados = dict(zip([\"europe\", \"asia\", \"africa\", \"northamerica\", \"southamerica\"], arreglo_cantidad_total_juegos_ganados))        \n",
    "print(cantidad_total_juegos_ganados)   \n",
    "print('\\n') \n",
    "print('Frecuencia relativa en función del total de juegos')\n",
    "frecuencia_en_funcion_total_ganados = dict(zip([\"europe\", \"asia\", \"africa\", \"northamerica\", \"southamerica\"], arreglo_frecuencia_en_funcion_total))        \n",
    "print(frecuencia_en_funcion_total_ganados)   \n",
    "print('\\n') \n",
    "print('Frecuencia utilizando la lógica del enunciado con np.where')\n",
    "frecuencia_ganados = dict(zip([\"europe\", \"asia\", \"africa\", \"northamerica\", \"southamerica\"], arreglo_frecuencia_ganados))        \n",
    "print(frecuencia_ganados)"
   ]
  },
  {
   "cell_type": "markdown",
   "metadata": {},
   "source": [
    "* ¿Qué continente tuvo mayor frecuencia de juegos ganados?\n"
   ]
  },
  {
   "cell_type": "code",
   "execution_count": 143,
   "metadata": {
    "ExecuteTime": {
     "end_time": "2019-10-19T18:12:35.216509Z",
     "start_time": "2019-10-19T18:12:35.210735Z"
    }
   },
   "outputs": [
    {
     "name": "stdout",
     "output_type": "stream",
     "text": [
      "Frecuencia absoluta en función del total de juegos ganados\n",
      "('europe', 18)\n",
      "\n",
      "\n",
      "Frecuencia relativa de juegos ganados en función del total de juegos ganados\n",
      "('southamerica', 0.7222222222222222)\n",
      "\n",
      "\n",
      "Frecuencia de juegos ganados en función del enunciado con planteamiento de np.where\n",
      "('southamerica', 1.0)\n"
     ]
    }
   ],
   "source": [
    "print('Frecuencia absoluta en función del total de juegos ganados')\n",
    "frecuencia_juegos_frecuencia_absoluta = sorted(frecuencia_absoluta_ganados.items(), key=lambda kv: kv[1], reverse=True)\n",
    "print(frecuencia_juegos_frecuencia_absoluta[0])\n",
    "print('\\n')\n",
    "print('Frecuencia relativa de juegos ganados en función del total de juegos ganados')\n",
    "frecuencia_juegos_frecuencia_relativa = sorted(frecuencia_en_funcion_total_ganados.items(), key=lambda kv: kv[1], reverse=True)\n",
    "print(frecuencia_juegos_frecuencia_relativa[0])\n",
    "print('\\n')\n",
    "print('Frecuencia de juegos ganados en función del enunciado con planteamiento de np.where')\n",
    "frecuencia_juegos = sorted(frecuencia_ganados.items(), key=lambda kv: kv[1], reverse=True)\n",
    "print(frecuencia_juegos[0])"
   ]
  },
  {
   "cell_type": "code",
   "execution_count": 144,
   "metadata": {
    "ExecuteTime": {
     "end_time": "2019-10-19T18:12:47.080555Z",
     "start_time": "2019-10-19T18:12:46.876493Z"
    }
   },
   "outputs": [
    {
     "name": "stdout",
     "output_type": "stream",
     "text": [
      "Cantidad de juegos perdidos frecuencia absoluta\n",
      "{'europe': 14, 'asia': 9, 'africa': 9, 'northamerica': 4, 'southamerica': 3}\n",
      "\n",
      "\n",
      "Cantidad de juegos\n",
      "{'europe': 39, 'asia': 12, 'africa': 15, 'northamerica': 12, 'southamerica': 18}\n",
      "\n",
      "\n",
      "Frecuencia relativa en función del total de juegos\n",
      "{'europe': 0.358974358974359, 'asia': 0.75, 'africa': 0.6, 'northamerica': 0.3333333333333333, 'southamerica': 0.16666666666666666}\n",
      "\n",
      "\n",
      "Frecuencia utilizando la lógica del enunciado con np.where\n",
      "{'europe': 0.6923076923076923, 'asia': 1.0, 'africa': 1.0, 'northamerica': 0.5, 'southamerica': 0.5}\n"
     ]
    },
    {
     "name": "stderr",
     "output_type": "stream",
     "text": [
      "/home/jonathan/anaconda3/lib/python3.7/site-packages/ipykernel_launcher.py:8: SettingWithCopyWarning: \n",
      "A value is trying to be set on a copy of a slice from a DataFrame.\n",
      "Try using .loc[row_indexer,col_indexer] = value instead\n",
      "\n",
      "See the caveats in the documentation: http://pandas.pydata.org/pandas-docs/stable/indexing.html#indexing-view-versus-copy\n",
      "  \n"
     ]
    }
   ],
   "source": [
    "arreglo_perdidos = []\n",
    "arreglo_frecuencia_perdidos = []\n",
    "arreglo_frecuencia_absoluta_perdidos = []\n",
    "arreglo_cantidad_total_juegos_perdidos = []\n",
    "arreglo_frecuencia_relativa = []\n",
    "arreglo_frecuencia_en_funcion_total = []\n",
    "for continente in [dfEurope, dfAsia, dfAfrica, dfNorthAmerica, dfSouthAmerica]:\n",
    "    continente['perdidos'] = np.where(continente['juegos_perdidos'] == 0, 0, 1)\n",
    "    cantidad_perdidos = len(continente[continente['perdidos'] == 1])\n",
    "    cantidad_paises_continente = len(continente)\n",
    "    calculo_frecuencia_perdidos = cantidad_perdidos/cantidad_paises_continente\n",
    "    arreglo_perdidos.append(cantidad_perdidos)\n",
    "    arreglo_frecuencia_perdidos.append(calculo_frecuencia_perdidos)\n",
    "    arreglo_frecuencia_absoluta_perdidos.append(continente['juegos_perdidos'].sum())\n",
    "    arreglo_cantidad_total_juegos_perdidos.append(continente['cantidad_juegos'].sum())\n",
    "    arreglo_frecuencia_en_funcion_total.append(continente['juegos_perdidos'].sum()/continente['cantidad_juegos'].sum())\n",
    "\n",
    "print('Cantidad de juegos perdidos frecuencia absoluta')    \n",
    "frecuencia_absoluta_perdidos = dict(zip([\"europe\", \"asia\", \"africa\", \"northamerica\", \"southamerica\"], arreglo_frecuencia_absoluta_perdidos))        \n",
    "print(frecuencia_absoluta_perdidos)   \n",
    "print('\\n')\n",
    "print('Cantidad de juegos')    \n",
    "cantidad_total_juegos_perdidos = dict(zip([\"europe\", \"asia\", \"africa\", \"northamerica\", \"southamerica\"], arreglo_cantidad_total_juegos_perdidos))        \n",
    "print(cantidad_total_juegos_perdidos)   \n",
    "print('\\n') \n",
    "print('Frecuencia relativa en función del total de juegos')\n",
    "frecuencia_en_funcion_total = dict(zip([\"europe\", \"asia\", \"africa\", \"northamerica\", \"southamerica\"], arreglo_frecuencia_en_funcion_total))        \n",
    "print(frecuencia_en_funcion_total)   \n",
    "print('\\n') \n",
    "print('Frecuencia utilizando la lógica del enunciado con np.where')\n",
    "frecuencia_perdidos = dict(zip([\"europe\", \"asia\", \"africa\", \"northamerica\", \"southamerica\"], arreglo_frecuencia_perdidos))        \n",
    "print(frecuencia_perdidos)\n"
   ]
  },
  {
   "cell_type": "markdown",
   "metadata": {},
   "source": [
    " * ¿Qué continente presentó un nivel similar entre juegos ganados y perdidos?"
   ]
  },
  {
   "cell_type": "code",
   "execution_count": 152,
   "metadata": {
    "ExecuteTime": {
     "end_time": "2019-10-19T18:18:05.401362Z",
     "start_time": "2019-10-19T18:18:05.371190Z"
    }
   },
   "outputs": [
    {
     "name": "stdout",
     "output_type": "stream",
     "text": [
      "En función de la cantidad total de juegos por frecuencia absoluta\n",
      "['Europa', 'Asia', 'Africa', 'NorthAmerica', 'SouthAmerica']\n",
      "[18, 0, 3, 5, 13]\n",
      "[14, 9, 9, 4, 3]\n",
      "[('northamerica', 1), ('europe', 4), ('africa', 6), ('asia', 9), ('southamerica', 10)]\n",
      "Por tanto, en función de la cantidad total de juegos a través de la frecuencia absoluta. Norteamérica presentó un nivel similar entre ganados y perdidos\n",
      "\n",
      "\n"
     ]
    }
   ],
   "source": [
    "print('En función de la cantidad total de juegos por frecuencia absoluta')\n",
    "continentes_arr = ['Europa','Asia','Africa','NorthAmerica','SouthAmerica']\n",
    "print(continentes_arr)\n",
    "print(arreglo_frecuencia_absoluta_ganados)\n",
    "print(arreglo_frecuencia_absoluta_perdidos)\n",
    "diferencia_total_juegos = [abs(x1 - x2) for (x1, x2) in zip(arreglo_frecuencia_absoluta_ganados, arreglo_frecuencia_absoluta_perdidos)] \n",
    "diferencia_ganados_perdidos_total = dict(zip([\"europe\", \"asia\", \"africa\", \"northamerica\", \"southamerica\"], diferencia_total_juegos))        \n",
    "nivel_similar_juegos = sorted(diferencia_ganados_perdidos_total.items(), key=lambda kv: kv[1])\n",
    "print(nivel_similar_juegos)\n",
    "print('Por tanto, en función de la cantidad total de juegos a través de la frecuencia absoluta. Norteamérica presentó un nivel similar entre ganados y perdidos')\n",
    "print('\\n')"
   ]
  },
  {
   "cell_type": "markdown",
   "metadata": {},
   "source": [
    "* Utilize el código para el caso de juegos perdidos y analice el continente con una mayor frecuencia de juegos perdidos.\n",
    "\n"
   ]
  },
  {
   "cell_type": "markdown",
   "metadata": {
    "ExecuteTime": {
     "end_time": "2019-10-19T17:39:00.059596Z",
     "start_time": "2019-10-19T17:39:00.036148Z"
    }
   },
   "source": [
    "Cantidad de juegos perdidos frecuencia absoluta\n",
    "{'europe': 14, 'asia': 9, 'africa': 9, 'northamerica': 4, 'southamerica': 3}\n",
    "\n",
    "\n",
    "Cantidad de juegos\n",
    "{'europe': 39, 'asia': 12, 'africa': 15, 'northamerica': 12, 'southamerica': 18}\n",
    "\n",
    "\n",
    "Frecuencia relativa en función del total de juegos\n",
    "{'europe': 0.358974358974359, 'asia': 0.75, 'africa': 0.6, 'northamerica': 0.3333333333333333, 'southamerica': 0.16666666666666666}\n",
    "\n",
    "\n",
    "Frecuencia utilizando la lógica del enunciado con np.where\n",
    "{'europe': 0.6923076923076923, 'asia': 1.0, 'africa': 1.0, 'northamerica': 0.5, 'southamerica': 0.5}"
   ]
  },
  {
   "cell_type": "markdown",
   "metadata": {},
   "source": [
    "**En función del total de juegos el continente con mayor frecuencia relativa de juegos perdidos es Asia**\n",
    "\n",
    "**Si se observa desde el punto de vista con el planteamiento del uso de la lógica del enunciado a través de np.where los continententes con mayor frecuencia de partidos perdidos serían Asia y Africa**"
   ]
  }
 ],
 "metadata": {
  "kernelspec": {
   "display_name": "Python 3",
   "language": "python",
   "name": "python3"
  },
  "language_info": {
   "codemirror_mode": {
    "name": "ipython",
    "version": 3
   },
   "file_extension": ".py",
   "mimetype": "text/x-python",
   "name": "python",
   "nbconvert_exporter": "python",
   "pygments_lexer": "ipython3",
   "version": "3.7.3"
  },
  "varInspector": {
   "cols": {
    "lenName": 16,
    "lenType": 16,
    "lenVar": 40
   },
   "kernels_config": {
    "python": {
     "delete_cmd_postfix": "",
     "delete_cmd_prefix": "del ",
     "library": "var_list.py",
     "varRefreshCmd": "print(var_dic_list())"
    },
    "r": {
     "delete_cmd_postfix": ") ",
     "delete_cmd_prefix": "rm(",
     "library": "var_list.r",
     "varRefreshCmd": "cat(var_dic_list()) "
    }
   },
   "types_to_exclude": [
    "module",
    "function",
    "builtin_function_or_method",
    "instance",
    "_Feature"
   ],
   "window_display": false
  }
 },
 "nbformat": 4,
 "nbformat_minor": 2
}
