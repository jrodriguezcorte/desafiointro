{
 "cells": [
  {
   "cell_type": "markdown",
   "metadata": {
    "ExecuteTime": {
     "end_time": "2019-11-24T19:54:11.085420Z",
     "start_time": "2019-11-24T19:54:11.080934Z"
    }
   },
   "source": [
    "**NOMBRE ALUMNO:** Jonathan Rodriguez\n",
    "\n",
    "**FECHA:** 21-11-19"
   ]
  },
  {
   "cell_type": "markdown",
   "metadata": {},
   "source": [
    "## Desafío - Regresión desde el aprendizaje de máquinas"
   ]
  },
  {
   "cell_type": "markdown",
   "metadata": {},
   "source": [
    "### Contexto\n",
    "En esta sesión trabajaremos una base de datos sobre los precios de las viviendas en Boston,\n",
    "utilizada en el paper *Harrison Jr, D., & Rubinfeld, D. L. (1978). Hedonic housing prices and the\n",
    "demand for clean air. Journal of environmental economics and management, 5(1), 81-102.*\n",
    "\n",
    "Nuestro objetivo es desarrollar un modelo predictivo para el valor medio de las casas mediante el\n",
    "entrenamiento de un modelo de regresión lineal.\n",
    "\n",
    "`crim` : Tasa de criminalidad por sector de Boston.\n",
    "\n",
    "`zn`   : Proporción de terreno residencial asignado para terrenos baldíos.\n",
    "\n",
    "`indus`: Proporción de negocios no asociados al comercio por sector.\n",
    "\n",
    "`chas` : Dummy, 1 si el sector colinda con el río Charles, 0 de lo contrario.\n",
    "\n",
    "`nox`  : Concentración de dióxido de carbono.\n",
    "\n",
    "`rm`   : Cantidad promedio de habitaciones por casa.\n",
    "\n",
    "`age`  : Proporción de casas construídas antes de 1940.\n",
    "\n",
    "`dis`  : Distancia promedio a cinco centros de empleos.\n",
    "\n",
    "`rad`  : Índice de accesibilidad a autopistas.\n",
    "\n",
    "`tax`  : Nivel de impuestos asociados a viviendas.\n",
    "\n",
    "`ptratio` : Razón alumno:profesor por sector de Boston.\n",
    "\n",
    "`black` : Proporción de afroamericanos por sector de Boston.\n",
    "\n",
    "`lstat` : Porcentaje de población de estratos bajos.\n",
    "\n",
    "`medv` : Valor medio de las casas."
   ]
  },
  {
   "cell_type": "markdown",
   "metadata": {},
   "source": [
    "### Desafío 1: Prepare el ambiente de trabajo\n",
    "* Importe las librerías básicas para el análisis de datos.\n",
    "* Importe el módulo `linear_model` , y las funciones `mean_squared_error` , `r2_score` y `train_test_split`.\n",
    "* Importe la base de datos `boston.csv`y elimine la columna `Unnamed: 0`.\n",
    "* Obtenga las medidas descriptivas de la base de datos con `describe()`."
   ]
  },
  {
   "cell_type": "code",
   "execution_count": 1,
   "metadata": {
    "ExecuteTime": {
     "end_time": "2019-12-09T22:00:00.639091Z",
     "start_time": "2019-12-09T21:59:58.469489Z"
    }
   },
   "outputs": [
    {
     "data": {
      "text/html": [
       "<div>\n",
       "<style scoped>\n",
       "    .dataframe tbody tr th:only-of-type {\n",
       "        vertical-align: middle;\n",
       "    }\n",
       "\n",
       "    .dataframe tbody tr th {\n",
       "        vertical-align: top;\n",
       "    }\n",
       "\n",
       "    .dataframe thead th {\n",
       "        text-align: right;\n",
       "    }\n",
       "</style>\n",
       "<table border=\"1\" class=\"dataframe\">\n",
       "  <thead>\n",
       "    <tr style=\"text-align: right;\">\n",
       "      <th></th>\n",
       "      <th>crim</th>\n",
       "      <th>zn</th>\n",
       "      <th>indus</th>\n",
       "      <th>chas</th>\n",
       "      <th>nox</th>\n",
       "      <th>rm</th>\n",
       "      <th>age</th>\n",
       "      <th>dis</th>\n",
       "      <th>rad</th>\n",
       "      <th>tax</th>\n",
       "      <th>ptratio</th>\n",
       "      <th>black</th>\n",
       "      <th>lstat</th>\n",
       "      <th>medv</th>\n",
       "    </tr>\n",
       "  </thead>\n",
       "  <tbody>\n",
       "    <tr>\n",
       "      <th>count</th>\n",
       "      <td>506.000000</td>\n",
       "      <td>506.000000</td>\n",
       "      <td>506.000000</td>\n",
       "      <td>506.000000</td>\n",
       "      <td>506.000000</td>\n",
       "      <td>506.000000</td>\n",
       "      <td>506.000000</td>\n",
       "      <td>506.000000</td>\n",
       "      <td>506.000000</td>\n",
       "      <td>506.000000</td>\n",
       "      <td>506.000000</td>\n",
       "      <td>506.000000</td>\n",
       "      <td>506.000000</td>\n",
       "      <td>506.000000</td>\n",
       "    </tr>\n",
       "    <tr>\n",
       "      <th>mean</th>\n",
       "      <td>3.613524</td>\n",
       "      <td>11.363636</td>\n",
       "      <td>11.136779</td>\n",
       "      <td>0.069170</td>\n",
       "      <td>0.554695</td>\n",
       "      <td>6.284634</td>\n",
       "      <td>68.574901</td>\n",
       "      <td>3.795043</td>\n",
       "      <td>9.549407</td>\n",
       "      <td>408.237154</td>\n",
       "      <td>18.455534</td>\n",
       "      <td>356.674032</td>\n",
       "      <td>12.653063</td>\n",
       "      <td>22.532806</td>\n",
       "    </tr>\n",
       "    <tr>\n",
       "      <th>std</th>\n",
       "      <td>8.601545</td>\n",
       "      <td>23.322453</td>\n",
       "      <td>6.860353</td>\n",
       "      <td>0.253994</td>\n",
       "      <td>0.115878</td>\n",
       "      <td>0.702617</td>\n",
       "      <td>28.148861</td>\n",
       "      <td>2.105710</td>\n",
       "      <td>8.707259</td>\n",
       "      <td>168.537116</td>\n",
       "      <td>2.164946</td>\n",
       "      <td>91.294864</td>\n",
       "      <td>7.141062</td>\n",
       "      <td>9.197104</td>\n",
       "    </tr>\n",
       "    <tr>\n",
       "      <th>min</th>\n",
       "      <td>0.006320</td>\n",
       "      <td>0.000000</td>\n",
       "      <td>0.460000</td>\n",
       "      <td>0.000000</td>\n",
       "      <td>0.385000</td>\n",
       "      <td>3.561000</td>\n",
       "      <td>2.900000</td>\n",
       "      <td>1.129600</td>\n",
       "      <td>1.000000</td>\n",
       "      <td>187.000000</td>\n",
       "      <td>12.600000</td>\n",
       "      <td>0.320000</td>\n",
       "      <td>1.730000</td>\n",
       "      <td>5.000000</td>\n",
       "    </tr>\n",
       "    <tr>\n",
       "      <th>25%</th>\n",
       "      <td>0.082045</td>\n",
       "      <td>0.000000</td>\n",
       "      <td>5.190000</td>\n",
       "      <td>0.000000</td>\n",
       "      <td>0.449000</td>\n",
       "      <td>5.885500</td>\n",
       "      <td>45.025000</td>\n",
       "      <td>2.100175</td>\n",
       "      <td>4.000000</td>\n",
       "      <td>279.000000</td>\n",
       "      <td>17.400000</td>\n",
       "      <td>375.377500</td>\n",
       "      <td>6.950000</td>\n",
       "      <td>17.025000</td>\n",
       "    </tr>\n",
       "    <tr>\n",
       "      <th>50%</th>\n",
       "      <td>0.256510</td>\n",
       "      <td>0.000000</td>\n",
       "      <td>9.690000</td>\n",
       "      <td>0.000000</td>\n",
       "      <td>0.538000</td>\n",
       "      <td>6.208500</td>\n",
       "      <td>77.500000</td>\n",
       "      <td>3.207450</td>\n",
       "      <td>5.000000</td>\n",
       "      <td>330.000000</td>\n",
       "      <td>19.050000</td>\n",
       "      <td>391.440000</td>\n",
       "      <td>11.360000</td>\n",
       "      <td>21.200000</td>\n",
       "    </tr>\n",
       "    <tr>\n",
       "      <th>75%</th>\n",
       "      <td>3.677082</td>\n",
       "      <td>12.500000</td>\n",
       "      <td>18.100000</td>\n",
       "      <td>0.000000</td>\n",
       "      <td>0.624000</td>\n",
       "      <td>6.623500</td>\n",
       "      <td>94.075000</td>\n",
       "      <td>5.188425</td>\n",
       "      <td>24.000000</td>\n",
       "      <td>666.000000</td>\n",
       "      <td>20.200000</td>\n",
       "      <td>396.225000</td>\n",
       "      <td>16.955000</td>\n",
       "      <td>25.000000</td>\n",
       "    </tr>\n",
       "    <tr>\n",
       "      <th>max</th>\n",
       "      <td>88.976200</td>\n",
       "      <td>100.000000</td>\n",
       "      <td>27.740000</td>\n",
       "      <td>1.000000</td>\n",
       "      <td>0.871000</td>\n",
       "      <td>8.780000</td>\n",
       "      <td>100.000000</td>\n",
       "      <td>12.126500</td>\n",
       "      <td>24.000000</td>\n",
       "      <td>711.000000</td>\n",
       "      <td>22.000000</td>\n",
       "      <td>396.900000</td>\n",
       "      <td>37.970000</td>\n",
       "      <td>50.000000</td>\n",
       "    </tr>\n",
       "  </tbody>\n",
       "</table>\n",
       "</div>"
      ],
      "text/plain": [
       "             crim          zn       indus        chas         nox          rm  \\\n",
       "count  506.000000  506.000000  506.000000  506.000000  506.000000  506.000000   \n",
       "mean     3.613524   11.363636   11.136779    0.069170    0.554695    6.284634   \n",
       "std      8.601545   23.322453    6.860353    0.253994    0.115878    0.702617   \n",
       "min      0.006320    0.000000    0.460000    0.000000    0.385000    3.561000   \n",
       "25%      0.082045    0.000000    5.190000    0.000000    0.449000    5.885500   \n",
       "50%      0.256510    0.000000    9.690000    0.000000    0.538000    6.208500   \n",
       "75%      3.677082   12.500000   18.100000    0.000000    0.624000    6.623500   \n",
       "max     88.976200  100.000000   27.740000    1.000000    0.871000    8.780000   \n",
       "\n",
       "              age         dis         rad         tax     ptratio       black  \\\n",
       "count  506.000000  506.000000  506.000000  506.000000  506.000000  506.000000   \n",
       "mean    68.574901    3.795043    9.549407  408.237154   18.455534  356.674032   \n",
       "std     28.148861    2.105710    8.707259  168.537116    2.164946   91.294864   \n",
       "min      2.900000    1.129600    1.000000  187.000000   12.600000    0.320000   \n",
       "25%     45.025000    2.100175    4.000000  279.000000   17.400000  375.377500   \n",
       "50%     77.500000    3.207450    5.000000  330.000000   19.050000  391.440000   \n",
       "75%     94.075000    5.188425   24.000000  666.000000   20.200000  396.225000   \n",
       "max    100.000000   12.126500   24.000000  711.000000   22.000000  396.900000   \n",
       "\n",
       "            lstat        medv  \n",
       "count  506.000000  506.000000  \n",
       "mean    12.653063   22.532806  \n",
       "std      7.141062    9.197104  \n",
       "min      1.730000    5.000000  \n",
       "25%      6.950000   17.025000  \n",
       "50%     11.360000   21.200000  \n",
       "75%     16.955000   25.000000  \n",
       "max     37.970000   50.000000  "
      ]
     },
     "execution_count": 1,
     "metadata": {},
     "output_type": "execute_result"
    }
   ],
   "source": [
    "import pandas as pd\n",
    "import numpy as np\n",
    "import seaborn as sns\n",
    "import matplotlib.pyplot as plt\n",
    "from sklearn import linear_model\n",
    "from sklearn.metrics import mean_squared_error, r2_score\n",
    "from sklearn.model_selection import train_test_split\n",
    "\n",
    "df = pd.read_csv('boston.csv').drop(columns='Unnamed: 0')\n",
    "df.describe()"
   ]
  },
  {
   "cell_type": "markdown",
   "metadata": {},
   "source": [
    "### Desafío 2: División de la muestra\n",
    "* Genere conjuntos de entrenamiento y validación con `train_test_split`.\n",
    "* Genere segmentaciones del 33% para las muestras de validación.\n",
    "* Incluya una semilla pseudoaleatoria."
   ]
  },
  {
   "cell_type": "code",
   "execution_count": 2,
   "metadata": {
    "ExecuteTime": {
     "end_time": "2019-12-09T22:00:03.010134Z",
     "start_time": "2019-12-09T22:00:02.994996Z"
    }
   },
   "outputs": [],
   "source": [
    "x_mat = df.loc[:,'crim':'lstat']\n",
    "y_vec = df.loc[:, 'medv']"
   ]
  },
  {
   "cell_type": "code",
   "execution_count": 3,
   "metadata": {
    "ExecuteTime": {
     "end_time": "2019-12-09T22:00:05.444701Z",
     "start_time": "2019-12-09T22:00:05.331031Z"
    }
   },
   "outputs": [],
   "source": [
    "X_train, X_test, y_train, y_test = train_test_split(x_mat, y_vec, test_size=.33, random_state=12345)"
   ]
  },
  {
   "cell_type": "markdown",
   "metadata": {},
   "source": [
    "### Desafío 3: Generación de modelos\n",
    "* Ahora implementaremos 4 versiones del modelo lineal:\n",
    "    * Con intercepto y atributos normalizados.\n",
    "    * Con intercepto y atributos no normalizados.\n",
    "    * Sin intercepto y atributos normalizados.\n",
    "    * Sin intercepto y atributos no normalizados.\n",
    "* Cada versión debe generarse en un nuevo objeto inicializado.\n",
    "* Posteriormente se deben entrenar los modelos especificando la matriz y vector de entrenamiento.\n",
    "* Con los modelos entrenados, genere una predicción de matriz de validación."
   ]
  },
  {
   "cell_type": "code",
   "execution_count": 4,
   "metadata": {
    "ExecuteTime": {
     "end_time": "2019-12-09T22:00:08.492457Z",
     "start_time": "2019-12-09T22:00:07.801724Z"
    }
   },
   "outputs": [],
   "source": [
    "modelo_con_intercepto_normalizado = linear_model.LinearRegression(fit_intercept=True, normalize=True)\n",
    "modelo_con_intercepto_normalizado = modelo_con_intercepto_normalizado.fit(X_train, y_train)\n",
    "modelo_con_intercepto_normalizado_yhat = modelo_con_intercepto_normalizado.predict(X_test)"
   ]
  },
  {
   "cell_type": "code",
   "execution_count": 5,
   "metadata": {
    "ExecuteTime": {
     "end_time": "2019-11-28T17:18:56.881524Z",
     "start_time": "2019-11-28T17:18:56.876397Z"
    }
   },
   "outputs": [],
   "source": [
    "modelo_con_intercepto_no_normalizado = linear_model.LinearRegression(fit_intercept=True, normalize=False)\n",
    "modelo_con_intercepto_no_normalizado = modelo_con_intercepto_no_normalizado.fit(X_train, y_train)\n",
    "modelo_con_intercepto_no_normalizado_yhat = modelo_con_intercepto_no_normalizado.predict(X_test)"
   ]
  },
  {
   "cell_type": "code",
   "execution_count": 6,
   "metadata": {
    "ExecuteTime": {
     "end_time": "2019-11-28T17:18:58.092971Z",
     "start_time": "2019-11-28T17:18:58.085170Z"
    }
   },
   "outputs": [],
   "source": [
    "modelo_sin_intercepto_normalizado = linear_model.LinearRegression(fit_intercept=False, normalize=True)\n",
    "modelo_sin_intercepto_normalizado = modelo_sin_intercepto_normalizado.fit(X_train, y_train)\n",
    "modelo_sin_intercepto_normalizado_yhat = modelo_sin_intercepto_normalizado.predict(X_test)"
   ]
  },
  {
   "cell_type": "code",
   "execution_count": 7,
   "metadata": {
    "ExecuteTime": {
     "end_time": "2019-11-28T17:18:59.970727Z",
     "start_time": "2019-11-28T17:18:59.963128Z"
    }
   },
   "outputs": [],
   "source": [
    "modelo_sin_intercepto_sin_normalizado = linear_model.LinearRegression(fit_intercept=False, normalize=False)\n",
    "modelo_sin_intercepto_sin_normalizado = modelo_sin_intercepto_sin_normalizado.fit(X_train, y_train)\n",
    "modelo_sin_intercepto_sin_normalizado_yhat = modelo_sin_intercepto_sin_normalizado.predict(X_test)"
   ]
  },
  {
   "cell_type": "markdown",
   "metadata": {},
   "source": [
    "### Desafío 4: Obtención de métricas\n",
    "* Ahora generemos una función llamada `report_scores` que ingrese como argumentos: el vector de datos predichos y el vector de datos por validar.\n",
    "* La función debe imprimir las métricas del Error Cuadrático Promedio y $R^2$.\n",
    "* Reporte las métricas para los 4 modelos del **Desafío 3**, en base a ello, seleccione el mejor modelo."
   ]
  },
  {
   "cell_type": "code",
   "execution_count": 8,
   "metadata": {
    "ExecuteTime": {
     "end_time": "2019-11-28T17:19:02.284594Z",
     "start_time": "2019-11-28T17:19:02.280031Z"
    }
   },
   "outputs": [],
   "source": [
    "def report_scores(purge_model_yhat, y_test):\n",
    "    m2_mse = mean_squared_error(y_test, purge_model_yhat)\n",
    "    m2_r2 = r2_score(y_test, purge_model_yhat)\n",
    "    print(\"Error Cuadrático Promedio: {}\".format(m2_mse))\n",
    "    print(\"R^2: {}\".format(m2_r2));"
   ]
  },
  {
   "cell_type": "code",
   "execution_count": 9,
   "metadata": {
    "ExecuteTime": {
     "end_time": "2019-11-28T17:19:04.426227Z",
     "start_time": "2019-11-28T17:19:04.413691Z"
    }
   },
   "outputs": [
    {
     "name": "stdout",
     "output_type": "stream",
     "text": [
      "Error Cuadrático Promedio: 20.9399511098467\n",
      "R^2: 0.7038942662506773\n"
     ]
    }
   ],
   "source": [
    "report_scores(modelo_con_intercepto_normalizado_yhat, y_test)"
   ]
  },
  {
   "cell_type": "code",
   "execution_count": 10,
   "metadata": {
    "ExecuteTime": {
     "end_time": "2019-11-28T17:19:06.715660Z",
     "start_time": "2019-11-28T17:19:06.700130Z"
    }
   },
   "outputs": [
    {
     "name": "stdout",
     "output_type": "stream",
     "text": [
      "Error Cuadrático Promedio: 20.93995110984691\n",
      "R^2: 0.7038942662506744\n"
     ]
    }
   ],
   "source": [
    "report_scores(modelo_con_intercepto_no_normalizado_yhat, y_test)"
   ]
  },
  {
   "cell_type": "code",
   "execution_count": 11,
   "metadata": {
    "ExecuteTime": {
     "end_time": "2019-11-28T17:19:08.837576Z",
     "start_time": "2019-11-28T17:19:08.823040Z"
    }
   },
   "outputs": [
    {
     "name": "stdout",
     "output_type": "stream",
     "text": [
      "Error Cuadrático Promedio: 24.59379996775459\n",
      "R^2: 0.652226256549777\n"
     ]
    }
   ],
   "source": [
    "report_scores(modelo_sin_intercepto_normalizado_yhat, y_test)"
   ]
  },
  {
   "cell_type": "code",
   "execution_count": 12,
   "metadata": {
    "ExecuteTime": {
     "end_time": "2019-11-28T17:19:11.261927Z",
     "start_time": "2019-11-28T17:19:11.247221Z"
    }
   },
   "outputs": [
    {
     "name": "stdout",
     "output_type": "stream",
     "text": [
      "Error Cuadrático Promedio: 24.59379996775459\n",
      "R^2: 0.652226256549777\n"
     ]
    }
   ],
   "source": [
    "report_scores(modelo_sin_intercepto_sin_normalizado_yhat, y_test)"
   ]
  },
  {
   "cell_type": "markdown",
   "metadata": {},
   "source": [
    "En función a los resultados obtenidos se decide establecer aquel modelo que presente un menor error cuadrático promedio.\n",
    "\n",
    "En este caso se seleccionaría el primer modelo"
   ]
  },
  {
   "cell_type": "markdown",
   "metadata": {},
   "source": [
    "### Desafío 5: Refactorización del modelo\n",
    "* Genere una función llamada `fetch_features` que ingrese como argumentos la base de datos y el nombre del vector objetivo. El nombre del vector debe ser `medv` por defecto\n",
    "* La función debe retornar una lista con las correlaciones absolutas entre cada atributo y el vector objetivo y su nombre.\n",
    "* Reporte brevemente cuales los 6 atributos con una mayor correlación con `medv`."
   ]
  },
  {
   "cell_type": "code",
   "execution_count": 13,
   "metadata": {
    "ExecuteTime": {
     "end_time": "2019-11-28T17:19:13.485378Z",
     "start_time": "2019-11-28T17:19:13.481557Z"
    }
   },
   "outputs": [],
   "source": [
    "def fetch_features(dataframe,vector='medv'):\n",
    "    tmp_df = pd.DataFrame(columns=['corr'])\n",
    "    for column in df.columns.unique():\n",
    "        if column != vector:\n",
    "            tmp_df.at[column, 'corr'] = abs(df[column].corr(df[vector]))\n",
    "    print('Atributos con mayor correlación con medv \\n')        \n",
    "    print(tmp_df.sort_values(by=['corr'], ascending=False)[:6])\n",
    "    return tmp_df "
   ]
  },
  {
   "cell_type": "code",
   "execution_count": 14,
   "metadata": {
    "ExecuteTime": {
     "end_time": "2019-11-28T17:19:16.477976Z",
     "start_time": "2019-11-28T17:19:15.990622Z"
    }
   },
   "outputs": [
    {
     "name": "stdout",
     "output_type": "stream",
     "text": [
      "Atributos con mayor correlación con medv \n",
      "\n",
      "             corr\n",
      "lstat    0.737663\n",
      "rm        0.69536\n",
      "ptratio  0.507787\n",
      "indus    0.483725\n",
      "tax      0.468536\n",
      "nox      0.427321\n"
     ]
    },
    {
     "data": {
      "text/html": [
       "<div>\n",
       "<style scoped>\n",
       "    .dataframe tbody tr th:only-of-type {\n",
       "        vertical-align: middle;\n",
       "    }\n",
       "\n",
       "    .dataframe tbody tr th {\n",
       "        vertical-align: top;\n",
       "    }\n",
       "\n",
       "    .dataframe thead th {\n",
       "        text-align: right;\n",
       "    }\n",
       "</style>\n",
       "<table border=\"1\" class=\"dataframe\">\n",
       "  <thead>\n",
       "    <tr style=\"text-align: right;\">\n",
       "      <th></th>\n",
       "      <th>corr</th>\n",
       "    </tr>\n",
       "  </thead>\n",
       "  <tbody>\n",
       "    <tr>\n",
       "      <th>crim</th>\n",
       "      <td>0.388305</td>\n",
       "    </tr>\n",
       "    <tr>\n",
       "      <th>zn</th>\n",
       "      <td>0.360445</td>\n",
       "    </tr>\n",
       "    <tr>\n",
       "      <th>indus</th>\n",
       "      <td>0.483725</td>\n",
       "    </tr>\n",
       "    <tr>\n",
       "      <th>chas</th>\n",
       "      <td>0.17526</td>\n",
       "    </tr>\n",
       "    <tr>\n",
       "      <th>nox</th>\n",
       "      <td>0.427321</td>\n",
       "    </tr>\n",
       "    <tr>\n",
       "      <th>rm</th>\n",
       "      <td>0.69536</td>\n",
       "    </tr>\n",
       "    <tr>\n",
       "      <th>age</th>\n",
       "      <td>0.376955</td>\n",
       "    </tr>\n",
       "    <tr>\n",
       "      <th>dis</th>\n",
       "      <td>0.249929</td>\n",
       "    </tr>\n",
       "    <tr>\n",
       "      <th>rad</th>\n",
       "      <td>0.381626</td>\n",
       "    </tr>\n",
       "    <tr>\n",
       "      <th>tax</th>\n",
       "      <td>0.468536</td>\n",
       "    </tr>\n",
       "    <tr>\n",
       "      <th>ptratio</th>\n",
       "      <td>0.507787</td>\n",
       "    </tr>\n",
       "    <tr>\n",
       "      <th>black</th>\n",
       "      <td>0.333461</td>\n",
       "    </tr>\n",
       "    <tr>\n",
       "      <th>lstat</th>\n",
       "      <td>0.737663</td>\n",
       "    </tr>\n",
       "  </tbody>\n",
       "</table>\n",
       "</div>"
      ],
      "text/plain": [
       "             corr\n",
       "crim     0.388305\n",
       "zn       0.360445\n",
       "indus    0.483725\n",
       "chas      0.17526\n",
       "nox      0.427321\n",
       "rm        0.69536\n",
       "age      0.376955\n",
       "dis      0.249929\n",
       "rad      0.381626\n",
       "tax      0.468536\n",
       "ptratio  0.507787\n",
       "black    0.333461\n",
       "lstat    0.737663"
      ]
     },
     "execution_count": 14,
     "metadata": {},
     "output_type": "execute_result"
    }
   ],
   "source": [
    "fetch_features(df)"
   ]
  },
  {
   "cell_type": "markdown",
   "metadata": {},
   "source": [
    "### Desafío 6: Refactorización del modelo predictivo\n",
    "* Genere otros conjuntos de entrenamiento y validación en base a una matriz con los 6 atributos identificados y el vector objetivo.\n",
    "* Entrene el modelo.\n",
    "* Reporte las métricas para el nuevo modelo."
   ]
  },
  {
   "cell_type": "code",
   "execution_count": 15,
   "metadata": {
    "ExecuteTime": {
     "end_time": "2019-11-28T17:19:19.168940Z",
     "start_time": "2019-11-28T17:19:19.164497Z"
    }
   },
   "outputs": [],
   "source": [
    "X_mat_six = df.loc[:, ['lstat','rm','ptratio','indus','tax','nox']] \n",
    "y_vec_six = df.loc[:, 'medv']"
   ]
  },
  {
   "cell_type": "code",
   "execution_count": 16,
   "metadata": {
    "ExecuteTime": {
     "end_time": "2019-11-28T17:19:21.291047Z",
     "start_time": "2019-11-28T17:19:21.142754Z"
    }
   },
   "outputs": [],
   "source": [
    "X_train_six, X_test_six, y_train_six, y_test_six = train_test_split(X_mat_six, y_vec_six,test_size=.33, random_state=12345)\n",
    "modelo_con_intercepto_normalizado_six = linear_model.LinearRegression(fit_intercept=True, normalize=True)\n",
    "modelo_con_intercepto_normalizado_six = modelo_con_intercepto_normalizado_six.fit(X_train_six, y_train_six)\n",
    "modelo_con_intercepto_normalizado_six_yhat = modelo_con_intercepto_normalizado_six.predict(X_test_six)"
   ]
  },
  {
   "cell_type": "code",
   "execution_count": 17,
   "metadata": {
    "ExecuteTime": {
     "end_time": "2019-11-28T17:19:24.967988Z",
     "start_time": "2019-11-28T17:19:24.950941Z"
    }
   },
   "outputs": [
    {
     "name": "stdout",
     "output_type": "stream",
     "text": [
      "Error Cuadrático Promedio: 26.511557273223865\n",
      "R^2: 0.6251078105175856\n"
     ]
    }
   ],
   "source": [
    "report_scores(modelo_con_intercepto_normalizado_six_yhat, y_test_six)"
   ]
  },
  {
   "cell_type": "code",
   "execution_count": 18,
   "metadata": {
    "ExecuteTime": {
     "end_time": "2019-11-28T17:19:28.052648Z",
     "start_time": "2019-11-28T17:19:28.044844Z"
    }
   },
   "outputs": [],
   "source": [
    "X_train_six, X_test_six, y_train_six, y_test_six = train_test_split(X_mat_six, y_vec_six,test_size=.33, random_state=12345)\n",
    "modelo_con_intercepto_normalizado_six = linear_model.LinearRegression(fit_intercept=True, normalize=False)\n",
    "modelo_con_intercepto_normalizado_six = modelo_con_intercepto_normalizado_six.fit(X_train_six, y_train_six)\n",
    "modelo_con_intercepto_normalizado_six_yhat = modelo_con_intercepto_normalizado_six.predict(X_test_six)"
   ]
  },
  {
   "cell_type": "code",
   "execution_count": 19,
   "metadata": {
    "ExecuteTime": {
     "end_time": "2019-11-28T17:19:30.269036Z",
     "start_time": "2019-11-28T17:19:30.265314Z"
    }
   },
   "outputs": [
    {
     "name": "stdout",
     "output_type": "stream",
     "text": [
      "Error Cuadrático Promedio: 26.511557273224\n",
      "R^2: 0.6251078105175836\n"
     ]
    }
   ],
   "source": [
    "report_scores(modelo_con_intercepto_normalizado_six_yhat, y_test_six)"
   ]
  },
  {
   "cell_type": "code",
   "execution_count": 20,
   "metadata": {
    "ExecuteTime": {
     "end_time": "2019-11-28T17:19:32.485901Z",
     "start_time": "2019-11-28T17:19:32.460613Z"
    }
   },
   "outputs": [],
   "source": [
    "X_train_six, X_test_six, y_train_six, y_test_six = train_test_split(X_mat_six, y_vec_six,test_size=.33, random_state=12345)\n",
    "modelo_con_intercepto_normalizado_six = linear_model.LinearRegression(fit_intercept=False, normalize=True)\n",
    "modelo_con_intercepto_normalizado_six = modelo_con_intercepto_normalizado_six.fit(X_train_six, y_train_six)\n",
    "modelo_con_intercepto_normalizado_six_yhat = modelo_con_intercepto_normalizado_six.predict(X_test_six)"
   ]
  },
  {
   "cell_type": "code",
   "execution_count": 21,
   "metadata": {
    "ExecuteTime": {
     "end_time": "2019-11-28T17:19:34.300831Z",
     "start_time": "2019-11-28T17:19:34.295518Z"
    }
   },
   "outputs": [
    {
     "name": "stdout",
     "output_type": "stream",
     "text": [
      "Error Cuadrático Promedio: 27.908073453697906\n",
      "R^2: 0.6053600830208572\n"
     ]
    }
   ],
   "source": [
    "report_scores(modelo_con_intercepto_normalizado_six_yhat, y_test_six)"
   ]
  },
  {
   "cell_type": "code",
   "execution_count": 22,
   "metadata": {
    "ExecuteTime": {
     "end_time": "2019-11-28T17:19:36.463606Z",
     "start_time": "2019-11-28T17:19:36.436396Z"
    }
   },
   "outputs": [],
   "source": [
    "X_train_six, X_test_six, y_train_six, y_test_six = train_test_split(X_mat_six, y_vec_six,test_size=.33, random_state=12345)\n",
    "modelo_con_intercepto_normalizado_six = linear_model.LinearRegression(fit_intercept=False, normalize=False)\n",
    "modelo_con_intercepto_normalizado_six = modelo_con_intercepto_normalizado_six.fit(X_train_six, y_train_six)\n",
    "modelo_con_intercepto_normalizado_six_yhat = modelo_con_intercepto_normalizado_six.predict(X_test_six)"
   ]
  },
  {
   "cell_type": "code",
   "execution_count": 23,
   "metadata": {
    "ExecuteTime": {
     "end_time": "2019-11-28T17:19:38.581981Z",
     "start_time": "2019-11-28T17:19:38.566327Z"
    }
   },
   "outputs": [
    {
     "name": "stdout",
     "output_type": "stream",
     "text": [
      "Error Cuadrático Promedio: 27.908073453697906\n",
      "R^2: 0.6053600830208572\n"
     ]
    }
   ],
   "source": [
    "report_scores(modelo_con_intercepto_normalizado_six_yhat, y_test_six)"
   ]
  },
  {
   "cell_type": "markdown",
   "metadata": {},
   "source": [
    "### En función de los cálculos realizados previamente: el que posee el menor error cuadrático medio es el primer modelo por tanto nuestro modelo seleccionado para este caso será:"
   ]
  },
  {
   "cell_type": "code",
   "execution_count": 24,
   "metadata": {
    "ExecuteTime": {
     "end_time": "2019-11-28T17:19:40.863702Z",
     "start_time": "2019-11-28T17:19:40.840369Z"
    }
   },
   "outputs": [],
   "source": [
    "X_train_six, X_test_six, y_train_six, y_test_six = train_test_split(X_mat_six, y_vec_six,test_size=.33, random_state=12345)\n",
    "modelo_con_intercepto_normalizado_six = linear_model.LinearRegression(fit_intercept=True, normalize=True)\n",
    "modelo_con_intercepto_normalizado_six = modelo_con_intercepto_normalizado_six.fit(X_train_six, y_train_six)\n",
    "modelo_con_intercepto_normalizado_six_yhat = modelo_con_intercepto_normalizado_six.predict(X_test_six)"
   ]
  },
  {
   "cell_type": "code",
   "execution_count": 25,
   "metadata": {
    "ExecuteTime": {
     "end_time": "2019-11-28T17:19:42.964690Z",
     "start_time": "2019-11-28T17:19:42.949974Z"
    }
   },
   "outputs": [
    {
     "name": "stdout",
     "output_type": "stream",
     "text": [
      "Error Cuadrático Promedio: 26.511557273223865\n",
      "R^2: 0.6251078105175856\n"
     ]
    }
   ],
   "source": [
    "report_scores(modelo_con_intercepto_normalizado_six_yhat, y_test_six)"
   ]
  },
  {
   "cell_type": "markdown",
   "metadata": {},
   "source": [
    "### Desafío 7: Predicción de casos\n",
    "A continuación se generaron dos arrays que representan el peor escenario posible:\n",
    "\n",
    "`worst_neighbor : [37.9, 12.6, 3.5, 27.7, 187, 0.87]`\n",
    "\n",
    "y el mejor escenario posible\n",
    "\n",
    "`best_neighbor : [1.73, 22, 8.7, 0.46, 711, 0.38]`\n",
    "\n",
    "Ingrese los arrays en el modelo entrenado y reporte cuál sería el valor esperado dada las\n",
    "condiciones. Trate de interpretar"
   ]
  },
  {
   "cell_type": "markdown",
   "metadata": {},
   "source": [
    "#### A pesar de que el enunciado maneja el orden: best_neighbor [1.73, 22, 8.7, 0.46, 711, 0.38] y worst_neighbor : [37.9, 12.6, 3.5, 27.7, 187, 0.87]\n",
    "#### el orden correcto es:\n",
    "#### best_neighbor [1.73, 8.7, 22, 0.46, 711, 0.38]\n",
    "#### worst_neighbor [37.9, 3.5, 12.6, 27.7, 187, 0.87]"
   ]
  },
  {
   "cell_type": "code",
   "execution_count": 27,
   "metadata": {
    "ExecuteTime": {
     "end_time": "2019-11-28T17:20:04.944593Z",
     "start_time": "2019-11-28T17:20:04.924848Z"
    },
    "scrolled": true
   },
   "outputs": [],
   "source": [
    "X_mat = df.loc[:, ['lstat','rm','ptratio','indus','tax','nox']] \n",
    "worst_neighbor = np.array([37.9, 3.5, 12.6, 27.7, 187, 0.87]).reshape(1, -1)\n",
    "best_neighbor = np.array([1.73, 8.7, 22, 0.46, 711, 0.38]).reshape(1, -1)"
   ]
  },
  {
   "cell_type": "code",
   "execution_count": 28,
   "metadata": {
    "ExecuteTime": {
     "end_time": "2019-11-28T17:20:06.938439Z",
     "start_time": "2019-11-28T17:20:06.921292Z"
    }
   },
   "outputs": [
    {
     "data": {
      "text/plain": [
       "array([36.33336475])"
      ]
     },
     "execution_count": 28,
     "metadata": {},
     "output_type": "execute_result"
    }
   ],
   "source": [
    "modelo_con_intercepto_normalizado_six.predict(best_neighbor)"
   ]
  },
  {
   "cell_type": "code",
   "execution_count": 29,
   "metadata": {
    "ExecuteTime": {
     "end_time": "2019-11-28T17:20:08.963020Z",
     "start_time": "2019-11-28T17:20:08.947304Z"
    },
    "scrolled": true
   },
   "outputs": [
    {
     "data": {
      "text/plain": [
       "array([2.13221312])"
      ]
     },
     "execution_count": 29,
     "metadata": {},
     "output_type": "execute_result"
    }
   ],
   "source": [
    "modelo_con_intercepto_normalizado_six.predict(worst_neighbor)"
   ]
  },
  {
   "cell_type": "markdown",
   "metadata": {},
   "source": [
    "Para el mejor de los casos el valor medio de las casas será de 36.33 unidades de medida y para el peor escenario será de 2.13 unidades de medida aproximadamente"
   ]
  }
 ],
 "metadata": {
  "hide_input": false,
  "kernelspec": {
   "display_name": "Python 3",
   "language": "python",
   "name": "python3"
  },
  "language_info": {
   "codemirror_mode": {
    "name": "ipython",
    "version": 3
   },
   "file_extension": ".py",
   "mimetype": "text/x-python",
   "name": "python",
   "nbconvert_exporter": "python",
   "pygments_lexer": "ipython3",
   "version": "3.7.3"
  },
  "latex_envs": {
   "LaTeX_envs_menu_present": true,
   "autoclose": false,
   "autocomplete": true,
   "bibliofile": "biblio.bib",
   "cite_by": "apalike",
   "current_citInitial": 1,
   "eqLabelWithNumbers": true,
   "eqNumInitial": 1,
   "hotkeys": {
    "equation": "Ctrl-E",
    "itemize": "Ctrl-I"
   },
   "labels_anchors": false,
   "latex_user_defs": false,
   "report_style_numbering": false,
   "user_envs_cfg": false
  },
  "toc": {
   "base_numbering": 1,
   "nav_menu": {},
   "number_sections": false,
   "sideBar": false,
   "skip_h1_title": false,
   "title_cell": "Table of Contents",
   "title_sidebar": "Contents",
   "toc_cell": false,
   "toc_position": {},
   "toc_section_display": false,
   "toc_window_display": false
  },
  "varInspector": {
   "cols": {
    "lenName": 16,
    "lenType": 16,
    "lenVar": 40
   },
   "kernels_config": {
    "python": {
     "delete_cmd_postfix": "",
     "delete_cmd_prefix": "del ",
     "library": "var_list.py",
     "varRefreshCmd": "print(var_dic_list())"
    },
    "r": {
     "delete_cmd_postfix": ") ",
     "delete_cmd_prefix": "rm(",
     "library": "var_list.r",
     "varRefreshCmd": "cat(var_dic_list()) "
    }
   },
   "types_to_exclude": [
    "module",
    "function",
    "builtin_function_or_method",
    "instance",
    "_Feature"
   ],
   "window_display": false
  }
 },
 "nbformat": 4,
 "nbformat_minor": 2
}
