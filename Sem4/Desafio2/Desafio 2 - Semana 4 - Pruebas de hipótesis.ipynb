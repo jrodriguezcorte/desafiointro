{
 "cells": [
  {
   "cell_type": "markdown",
   "metadata": {},
   "source": [
    "# Desafío - Pruebas de hipótesis"
   ]
  },
  {
   "cell_type": "markdown",
   "metadata": {},
   "source": [
    "**NOMBRE ALUMNO:** Jonathan Rodriguez\n",
    "\n",
    "**FECHA:** 14-11-19"
   ]
  },
  {
   "cell_type": "markdown",
   "metadata": {},
   "source": [
    "### Desafío 1: Evaluar juicios de hipótesis\n",
    "\n",
    "A continuación se presenta una serie de enunciados de hipótesis. Usted debe discernir si es posible rechazar la hipótesis nula.\n",
    "\n",
    "* 75 individuos elegidos al azar fueron alcanzados por activistas pro-LGTB que se identificaron como homosexuales, y 75 alcanzados por activistas pro-LGTB que se identificaron como heterosexuales. El objetivo era medir actitudes frente a la adopción homoparentales. La organización encargada de procesar los datos obtuvo los siguientes resultados:\n",
    "    * El 67% de los encuestados por heterosexuales se mostró a favor de la adopción homoparental, mientras que un 72% de los encuestados por activistas que se identifaron como homosexuales se mostraron a favor de la adopción homoparental.\n",
    "    * Asumiendo que la hipótesis nula es que ambos porcentajes no son diferentes, y la hipótesis alternativa es que existe una diferencia substancial entre ambos.\n",
    "    * Con un valor de prueba `p = 0.1183` y un puntaje de corte de `z = 2.59`, ¿qué se debe concluir? \n",
    "    \n",
    "* Un investigador de la Sociedad de Abstemios de Chile sugiere que los hombres tienen mayores niveles de consumo de alcohol que las mujeres, siendo esta diferencia estadísticamente significativa. Esto en base a su estudio realizado con 48 individuos, donde contrastó su puntaje de prueba a una distribución asintóticamente normal. ¿Qué se puede decir sobre su estudio?."
   ]
  },
  {
   "cell_type": "markdown",
   "metadata": {},
   "source": [
    "**Caso Adopción homoparental:**\n",
    "\n",
    "* Se tiene un puntaje de corte de 2.59, que representa un intervalo de confianza de 99% y un alfa de 0.005, podemos decir que con el p-valor > alfa se falla en rechazar la hipótesis nula. Por tanto con 0.1183 > 0.005 se fallar en rechazar la hipótesis nula\n",
    "\n",
    "**Caso Sociedad de Abstemios de Chile:**\n",
    "\n",
    "* Sobre las características del estudio y los resultados que comenta el investigador se indica que no se puede rechazar la hipótesis nula"
   ]
  },
  {
   "cell_type": "markdown",
   "metadata": {},
   "source": [
    "### Desafío 2: Importe la base de datos utilizada la sesión presencial anterior\n",
    "* Agrege una serie de variables binarias por cada continente de la variable region.\n",
    "\n",
    "*tip:* Utilice `np.where` o `pd.get_dummies` para ello.\n",
    "\n",
    "* De manera similar a la sesión anterior, enfóquese en las siguientes variables:\n",
    "    * Apellidos desde la A hasta la N: Enfocarse en las variables `chldmort`, `adfert` y `life`.\n",
    "    * Apellidos desde la N hasta la Z: Enfocarse en las variables `femlab` , `literacy` y `school`."
   ]
  },
  {
   "cell_type": "code",
   "execution_count": 8,
   "metadata": {
    "ExecuteTime": {
     "end_time": "2019-11-17T13:48:16.519411Z",
     "start_time": "2019-11-17T13:48:16.466774Z"
    }
   },
   "outputs": [
    {
     "data": {
      "text/html": [
       "<div>\n",
       "<style scoped>\n",
       "    .dataframe tbody tr th:only-of-type {\n",
       "        vertical-align: middle;\n",
       "    }\n",
       "\n",
       "    .dataframe tbody tr th {\n",
       "        vertical-align: top;\n",
       "    }\n",
       "\n",
       "    .dataframe thead th {\n",
       "        text-align: right;\n",
       "    }\n",
       "</style>\n",
       "<table border=\"1\" class=\"dataframe\">\n",
       "  <thead>\n",
       "    <tr style=\"text-align: right;\">\n",
       "      <th></th>\n",
       "      <th>country</th>\n",
       "      <th>gdp</th>\n",
       "      <th>school</th>\n",
       "      <th>adfert</th>\n",
       "      <th>chldmort</th>\n",
       "      <th>life</th>\n",
       "      <th>pop</th>\n",
       "      <th>urban</th>\n",
       "      <th>femlab</th>\n",
       "      <th>literacy</th>\n",
       "      <th>co2</th>\n",
       "      <th>gini</th>\n",
       "      <th>africa</th>\n",
       "      <th>americas</th>\n",
       "      <th>asia</th>\n",
       "      <th>europe</th>\n",
       "      <th>oceania</th>\n",
       "    </tr>\n",
       "  </thead>\n",
       "  <tbody>\n",
       "    <tr>\n",
       "      <th>0</th>\n",
       "      <td>Algeria</td>\n",
       "      <td>7300.399902</td>\n",
       "      <td>6.716667</td>\n",
       "      <td>7.300000</td>\n",
       "      <td>34.75</td>\n",
       "      <td>72.316666</td>\n",
       "      <td>34172236</td>\n",
       "      <td>64.933334</td>\n",
       "      <td>0.4522</td>\n",
       "      <td>72.599998</td>\n",
       "      <td>15.0</td>\n",
       "      <td>NaN</td>\n",
       "      <td>1</td>\n",
       "      <td>0</td>\n",
       "      <td>0</td>\n",
       "      <td>0</td>\n",
       "      <td>0</td>\n",
       "    </tr>\n",
       "    <tr>\n",
       "      <th>1</th>\n",
       "      <td>Benin</td>\n",
       "      <td>1338.800049</td>\n",
       "      <td>3.100000</td>\n",
       "      <td>111.699997</td>\n",
       "      <td>122.75</td>\n",
       "      <td>54.733334</td>\n",
       "      <td>8237634</td>\n",
       "      <td>41.000000</td>\n",
       "      <td>0.8482</td>\n",
       "      <td>41.700001</td>\n",
       "      <td>1.2</td>\n",
       "      <td>NaN</td>\n",
       "      <td>1</td>\n",
       "      <td>0</td>\n",
       "      <td>0</td>\n",
       "      <td>0</td>\n",
       "      <td>0</td>\n",
       "    </tr>\n",
       "    <tr>\n",
       "      <th>2</th>\n",
       "      <td>Botswana</td>\n",
       "      <td>12307.400391</td>\n",
       "      <td>8.600000</td>\n",
       "      <td>52.099998</td>\n",
       "      <td>60.25</td>\n",
       "      <td>52.250000</td>\n",
       "      <td>1941233</td>\n",
       "      <td>59.250000</td>\n",
       "      <td>0.8870</td>\n",
       "      <td>84.099998</td>\n",
       "      <td>9.2</td>\n",
       "      <td>NaN</td>\n",
       "      <td>1</td>\n",
       "      <td>0</td>\n",
       "      <td>0</td>\n",
       "      <td>0</td>\n",
       "      <td>0</td>\n",
       "    </tr>\n",
       "    <tr>\n",
       "      <th>3</th>\n",
       "      <td>Burkina Faso</td>\n",
       "      <td>1063.400024</td>\n",
       "      <td>1.300000</td>\n",
       "      <td>124.800003</td>\n",
       "      <td>170.50</td>\n",
       "      <td>53.783333</td>\n",
       "      <td>15308383</td>\n",
       "      <td>23.583334</td>\n",
       "      <td>0.8584</td>\n",
       "      <td>23.600000</td>\n",
       "      <td>0.2</td>\n",
       "      <td>NaN</td>\n",
       "      <td>1</td>\n",
       "      <td>0</td>\n",
       "      <td>0</td>\n",
       "      <td>0</td>\n",
       "      <td>0</td>\n",
       "    </tr>\n",
       "    <tr>\n",
       "      <th>4</th>\n",
       "      <td>Burundi</td>\n",
       "      <td>349.200012</td>\n",
       "      <td>2.483333</td>\n",
       "      <td>18.600000</td>\n",
       "      <td>168.50</td>\n",
       "      <td>48.866665</td>\n",
       "      <td>7821783</td>\n",
       "      <td>10.250000</td>\n",
       "      <td>1.0344</td>\n",
       "      <td>66.599998</td>\n",
       "      <td>0.1</td>\n",
       "      <td>33.299999</td>\n",
       "      <td>1</td>\n",
       "      <td>0</td>\n",
       "      <td>0</td>\n",
       "      <td>0</td>\n",
       "      <td>0</td>\n",
       "    </tr>\n",
       "  </tbody>\n",
       "</table>\n",
       "</div>"
      ],
      "text/plain": [
       "        country           gdp    school      adfert  chldmort       life  \\\n",
       "0       Algeria   7300.399902  6.716667    7.300000     34.75  72.316666   \n",
       "1         Benin   1338.800049  3.100000  111.699997    122.75  54.733334   \n",
       "2      Botswana  12307.400391  8.600000   52.099998     60.25  52.250000   \n",
       "3  Burkina Faso   1063.400024  1.300000  124.800003    170.50  53.783333   \n",
       "4       Burundi    349.200012  2.483333   18.600000    168.50  48.866665   \n",
       "\n",
       "        pop      urban  femlab   literacy   co2       gini  africa  americas  \\\n",
       "0  34172236  64.933334  0.4522  72.599998  15.0        NaN       1         0   \n",
       "1   8237634  41.000000  0.8482  41.700001   1.2        NaN       1         0   \n",
       "2   1941233  59.250000  0.8870  84.099998   9.2        NaN       1         0   \n",
       "3  15308383  23.583334  0.8584  23.600000   0.2        NaN       1         0   \n",
       "4   7821783  10.250000  1.0344  66.599998   0.1  33.299999       1         0   \n",
       "\n",
       "   asia  europe  oceania  \n",
       "0     0       0        0  \n",
       "1     0       0        0  \n",
       "2     0       0        0  \n",
       "3     0       0        0  \n",
       "4     0       0        0  "
      ]
     },
     "execution_count": 8,
     "metadata": {},
     "output_type": "execute_result"
    }
   ],
   "source": [
    "# import pandas as pd\n",
    "import numpy as np\n",
    "import matplotlib.pyplot as plt\n",
    "import scipy.stats as stats\n",
    "import seaborn as sns\n",
    "\n",
    "# Solucionando el problema de codificacion\n",
    "df = pd.read_csv('nations.csv',  encoding = 'latin').drop(columns='Unnamed: 0')\n",
    "\n",
    "df = pd.get_dummies(df, prefix = '', prefix_sep = '', columns=['region'])\n",
    "df.columns = map(str.lower, df.columns)     \n",
    "\n",
    "df.head()"
   ]
  },
  {
   "cell_type": "markdown",
   "metadata": {},
   "source": [
    "### Desafío 3: Implemente una función de prueba de hipótesis a mano\n",
    "* La función debe ingresar los siguientes argumentos:\n",
    "    * `df` : La tabla de datos.\n",
    "    * `variable` : La variable a analizar.\n",
    "    * `binarize` : El indicador binario a utilizar.\n",
    "* *tips:*\n",
    "    * Separe la variable en dos, utilizando el indicador binario. Recuerde eliminar los perdidos con dropna() .\n",
    "    * Implemente `ttest_ind` de `scipy.stats` y guarde el valor `t` y `pval`.\n",
    "    * Reporte las medias para cada grupo (0 y 1).\n",
    "    * Reporte la diferencia de entre las medias.\n",
    "    * Reporte los valores `t` y `p`.\n",
    "    \n",
    "*Nota: Use 4 cifras significativas*"
   ]
  },
  {
   "cell_type": "code",
   "execution_count": 9,
   "metadata": {
    "ExecuteTime": {
     "end_time": "2019-11-17T13:48:21.693570Z",
     "start_time": "2019-11-17T13:48:21.654555Z"
    }
   },
   "outputs": [],
   "source": [
    "def prueba_hipotesis(df,variable,binarize,hist=False):\n",
    "    tmp = df.copy()\n",
    "    tmp['binarize'] = np.where(tmp[binarize] > np.mean(tmp[binarize]), 1, 0)\n",
    "    value_zero = tmp[tmp['binarize'] == 0][variable].dropna()\n",
    "    value_one = tmp[tmp['binarize'] == 1][variable].dropna()\n",
    "    \n",
    "    t, p_value = stats.ttest_ind(value_zero, value_one)\n",
    "    mean_value_zero = round(value_zero.mean(),4)\n",
    "    mean_value_one = round(value_one.mean(),4)\n",
    "    mean_diff = mean_value_zero - mean_value_one\n",
    "    mean_diff = round(mean_diff,4)\n",
    "    t = round(t,4)\n",
    "    p_value = round(p_value,4)\n",
    "    \n",
    "    if (hist is True):\n",
    "        plt.hist(value_zero, alpha=0.5, label='{} de países no {}'.format(variable,binarize))\n",
    "        plt.hist(value_one, alpha=0.5, label='{} de países de {}'.format(variable,binarize))\n",
    "        plt.legend(loc='upper right')\n",
    "    \n",
    "    print('Resultados del estudio')\n",
    "    print('La media de {} excluyendo {} es: {} '.format(variable,binarize,mean_value_zero))\n",
    "    print('La media de {} en {} es: {}'.format(variable,binarize,mean_value_one))\n",
    "    print('Diferencia de medias: {} '.format(mean_diff))\n",
    "    print('Valor de t: {} '.format(t))\n",
    "    print('Valor de p: {} '.format(p_value))\n",
    "    alpha = 0.005\n",
    "    if p_value > alpha:\n",
    "        print('No podemos rechazar la hipótesis nula con un 99%')\n",
    "    else:\n",
    "        print('Rechazamos la hipótesis nula con igualdad de medias con un 99%')\n",
    "    print('\\n')\n",
    "    "
   ]
  },
  {
   "cell_type": "markdown",
   "metadata": {},
   "source": [
    "### Desafío 4: Implemente una función que grafique los histogramas para ambas muestras.\n",
    "* Genere una función que devuelva un gráfico donde visualice los dos histogramas cuando la variable es 1 y 0, respectivamente.\n",
    "    * *tips:* Refactorize la función incluyendo el método `hist` de `matplotlib.pyplot`. Incluya los argumentos `alpha` y `label`.\n",
    "* Para las tres variables de interés acorde a su grupo, analice las diferencias de medias por cada continente, y posteriormente grafique. Concluya con los principales resultados al respecto."
   ]
  },
  {
   "cell_type": "code",
   "execution_count": 10,
   "metadata": {
    "ExecuteTime": {
     "end_time": "2019-11-17T13:48:27.458296Z",
     "start_time": "2019-11-17T13:48:27.242038Z"
    },
    "scrolled": true
   },
   "outputs": [
    {
     "name": "stdout",
     "output_type": "stream",
     "text": [
      "Resultados del estudio\n",
      "La media de gdp excluyendo africa es: 15381.8551 \n",
      "La media de gdp en africa es: 3699.9\n",
      "Diferencia de medias: 11681.9551 \n",
      "Valor de t: 5.415 \n",
      "Valor de p: 0.0 \n",
      "Rechazamos la hipótesis nula con igualdad de medias con un 99%\n",
      "\n",
      "\n"
     ]
    },
    {
     "data": {
      "image/png": "[encoded data removed]",
      "text/plain": [
       "<Figure size 432x288 with 1 Axes>"
      ]
     },
     "metadata": {
      "needs_background": "light"
     },
     "output_type": "display_data"
    }
   ],
   "source": [
    "prueba_hipotesis(df, 'gdp', 'africa',True)"
   ]
  },
  {
   "cell_type": "markdown",
   "metadata": {},
   "source": [
    "#### En este caso como su p-valor es cercano sea a cero, lo más probable es que los procesos tengan diferentes medias y se rechaza la hipótesis nula de igualdad de medias"
   ]
  },
  {
   "cell_type": "code",
   "execution_count": 19,
   "metadata": {
    "ExecuteTime": {
     "end_time": "2019-11-17T13:49:49.853173Z",
     "start_time": "2019-11-17T13:49:49.034859Z"
    }
   },
   "outputs": [
    {
     "name": "stdout",
     "output_type": "stream",
     "text": [
      "Resultados del estudio\n",
      "La media de femlab excluyendo africa es: 0.6761 \n",
      "La media de femlab en africa es: 0.7299\n",
      "Diferencia de medias: -0.0538 \n",
      "Valor de t: -1.7839 \n",
      "Valor de p: 0.0762 \n",
      "No podemos rechazar la hipótesis nula con un 99%\n",
      "\n",
      "\n",
      "Resultados del estudio\n",
      "La media de femlab excluyendo asia es: 0.7223 \n",
      "La media de femlab en asia es: 0.6113\n",
      "Diferencia de medias: 0.111 \n",
      "Valor de t: 3.7455 \n",
      "Valor de p: 0.0002 \n",
      "Rechazamos la hipótesis nula con igualdad de medias con un 99%\n",
      "\n",
      "\n",
      "Resultados del estudio\n",
      "La media de femlab excluyendo americas es: 0.7003 \n",
      "La media de femlab en americas es: 0.6507\n",
      "Diferencia de medias: 0.0496 \n",
      "Valor de t: 1.3731 \n",
      "Valor de p: 0.1715 \n",
      "No podemos rechazar la hipótesis nula con un 99%\n",
      "\n",
      "\n",
      "Resultados del estudio\n",
      "La media de femlab excluyendo europe es: 0.6705 \n",
      "La media de femlab en europe es: 0.7716\n",
      "Diferencia de medias: -0.1011 \n",
      "Valor de t: -3.0635 \n",
      "Valor de p: 0.0025 \n",
      "Rechazamos la hipótesis nula con igualdad de medias con un 99%\n",
      "\n",
      "\n",
      "Resultados del estudio\n",
      "La media de femlab excluyendo oceania es: 0.6899 \n",
      "La media de femlab en oceania es: 0.7234\n",
      "Diferencia de medias: -0.0335 \n",
      "Valor de t: -0.5347 \n",
      "Valor de p: 0.5936 \n",
      "No podemos rechazar la hipótesis nula con un 99%\n",
      "\n",
      "\n"
     ]
    },
    {
     "data": {
      "image/png": "[encoded data removed]",
      "text/plain": [
       "<Figure size 1440x360 with 5 Axes>"
      ]
     },
     "metadata": {
      "needs_background": "light"
     },
     "output_type": "display_data"
    }
   ],
   "source": [
    "fig=plt.figure(figsize=(20,5))\n",
    "plt.subplot(1, 5, 1,autoscale_on = True)\n",
    "prueba_hipotesis(df, 'femlab', 'africa',True)\n",
    "plt.subplot(1, 5, 2,autoscale_on = True)\n",
    "prueba_hipotesis(df, 'femlab', 'asia',True)\n",
    "plt.subplot(1, 5, 3,autoscale_on = True)\n",
    "prueba_hipotesis(df, 'femlab', 'americas',True)\n",
    "plt.subplot(1, 5, 4,autoscale_on = True)\n",
    "prueba_hipotesis(df, 'femlab', 'europe',True)\n",
    "plt.subplot(1, 5, 5,autoscale_on = True)\n",
    "prueba_hipotesis(df, 'femlab', 'oceania',True)"
   ]
  },
  {
   "cell_type": "code",
   "execution_count": 18,
   "metadata": {
    "ExecuteTime": {
     "end_time": "2019-11-17T13:49:44.491501Z",
     "start_time": "2019-11-17T13:49:43.689759Z"
    },
    "scrolled": false
   },
   "outputs": [
    {
     "name": "stdout",
     "output_type": "stream",
     "text": [
      "Resultados del estudio\n",
      "La media de literacy excluyendo africa es: 90.1986 \n",
      "La media de literacy en africa es: 65.3085\n",
      "Diferencia de medias: 24.8901 \n",
      "Valor de t: 8.91 \n",
      "Valor de p: 0.0 \n",
      "Rechazamos la hipótesis nula con igualdad de medias con un 99%\n",
      "\n",
      "\n",
      "Resultados del estudio\n",
      "La media de literacy excluyendo asia es: 78.9928 \n",
      "La media de literacy en asia es: 87.3573\n",
      "Diferencia de medias: -8.3645 \n",
      "Valor de t: -2.3336 \n",
      "Valor de p: 0.0211 \n",
      "No podemos rechazar la hipótesis nula con un 99%\n",
      "\n",
      "\n",
      "Resultados del estudio\n",
      "La media de literacy excluyendo americas es: 80.1822 \n",
      "La media de literacy en americas es: 89.3012\n",
      "Diferencia de medias: -9.119 \n",
      "Valor de t: -1.9538 \n",
      "Valor de p: 0.0528 \n",
      "No podemos rechazar la hipótesis nula con un 99%\n",
      "\n",
      "\n",
      "Resultados del estudio\n",
      "La media de literacy excluyendo europe es: 78.2927 \n",
      "La media de literacy en europe es: 98.1773\n",
      "Diferencia de medias: -19.8846 \n",
      "Valor de t: -4.7184 \n",
      "Valor de p: 0.0 \n",
      "Rechazamos la hipótesis nula con igualdad de medias con un 99%\n",
      "\n",
      "\n",
      "Resultados del estudio\n",
      "La media de literacy excluyendo oceania es: 81.516 \n",
      "La media de literacy en oceania es: 81.98\n",
      "Diferencia de medias: -0.464 \n",
      "Valor de t: -0.0521 \n",
      "Valor de p: 0.9585 \n",
      "No podemos rechazar la hipótesis nula con un 99%\n",
      "\n",
      "\n"
     ]
    },
    {
     "data": {
      "image/png": "[encoded data removed]",
      "text/plain": [
       "<Figure size 1440x360 with 5 Axes>"
      ]
     },
     "metadata": {
      "needs_background": "light"
     },
     "output_type": "display_data"
    }
   ],
   "source": [
    "fig=plt.figure(figsize=(20,5))\n",
    "plt.subplot(1, 5, 1,autoscale_on = True)\n",
    "prueba_hipotesis(df, 'literacy', 'africa',True)\n",
    "plt.subplot(1, 5, 2,autoscale_on = True)\n",
    "prueba_hipotesis(df, 'literacy', 'asia',True)\n",
    "plt.subplot(1, 5, 3,autoscale_on = True)\n",
    "prueba_hipotesis(df, 'literacy', 'americas',True)\n",
    "plt.subplot(1, 5, 4,autoscale_on = True)\n",
    "prueba_hipotesis(df, 'literacy', 'europe',True)\n",
    "plt.subplot(1, 5, 5,autoscale_on = True)\n",
    "prueba_hipotesis(df, 'literacy', 'oceania',True)"
   ]
  },
  {
   "cell_type": "code",
   "execution_count": 17,
   "metadata": {
    "ExecuteTime": {
     "end_time": "2019-11-17T13:49:39.638583Z",
     "start_time": "2019-11-17T13:49:38.776236Z"
    }
   },
   "outputs": [
    {
     "name": "stdout",
     "output_type": "stream",
     "text": [
      "Resultados del estudio\n",
      "La media de school excluyendo africa es: 8.5523 \n",
      "La media de school en africa es: 4.5229\n",
      "Diferencia de medias: 4.0294 \n",
      "Valor de t: 10.4158 \n",
      "Valor de p: 0.0 \n",
      "Rechazamos la hipótesis nula con igualdad de medias con un 99%\n",
      "\n",
      "\n",
      "Resultados del estudio\n",
      "La media de school excluyendo asia es: 7.5271 \n",
      "La media de school en asia es: 7.2611\n",
      "Diferencia de medias: 0.266 \n",
      "Valor de t: 0.5364 \n",
      "Valor de p: 0.5923 \n",
      "No podemos rechazar la hipótesis nula con un 99%\n",
      "\n",
      "\n",
      "Resultados del estudio\n",
      "La media de school excluyendo americas es: 7.3188 \n",
      "La media de school en americas es: 8.0729\n",
      "Diferencia de medias: -0.7541 \n",
      "Valor de t: -1.3628 \n",
      "Valor de p: 0.1746 \n",
      "No podemos rechazar la hipótesis nula con un 99%\n",
      "\n",
      "\n",
      "Resultados del estudio\n",
      "La media de school excluyendo europe es: 6.633 \n",
      "La media de school en europe es: 10.4215\n",
      "Diferencia de medias: -3.7885 \n",
      "Valor de t: -8.5243 \n",
      "Valor de p: 0.0 \n",
      "Rechazamos la hipótesis nula con igualdad de medias con un 99%\n",
      "\n",
      "\n",
      "Resultados del estudio\n",
      "La media de school excluyendo oceania es: 7.3659 \n",
      "La media de school en oceania es: 8.7154\n",
      "Diferencia de medias: -1.3495 \n",
      "Valor de t: -1.5927 \n",
      "Valor de p: 0.1129 \n",
      "No podemos rechazar la hipótesis nula con un 99%\n",
      "\n",
      "\n"
     ]
    },
    {
     "data": {
      "image/png": "[encoded data removed]",
      "text/plain": [
       "<Figure size 1440x360 with 5 Axes>"
      ]
     },
     "metadata": {
      "needs_background": "light"
     },
     "output_type": "display_data"
    }
   ],
   "source": [
    "fig=plt.figure(figsize=(20,5))\n",
    "plt.subplot(1, 5, 1,autoscale_on = True)\n",
    "prueba_hipotesis(df, 'school', 'africa',True)\n",
    "plt.subplot(1, 5, 2,autoscale_on = True)\n",
    "prueba_hipotesis(df, 'school', 'asia',True)\n",
    "plt.subplot(1, 5, 3,autoscale_on = True)\n",
    "prueba_hipotesis(df, 'school', 'americas',True)\n",
    "plt.subplot(1, 5, 4,autoscale_on = True)\n",
    "prueba_hipotesis(df, 'school', 'europe',True)\n",
    "plt.subplot(1, 5, 5,autoscale_on = True)\n",
    "prueba_hipotesis(df, 'school', 'oceania',True)"
   ]
  }
 ],
 "metadata": {
  "kernelspec": {
   "display_name": "Python 3",
   "language": "python",
   "name": "python3"
  },
  "language_info": {
   "codemirror_mode": {
    "name": "ipython",
    "version": 3
   },
   "file_extension": ".py",
   "mimetype": "text/x-python",
   "name": "python",
   "nbconvert_exporter": "python",
   "pygments_lexer": "ipython3",
   "version": "3.7.3"
  },
  "latex_envs": {
   "LaTeX_envs_menu_present": true,
   "autoclose": true,
   "autocomplete": true,
   "bibliofile": "biblio.bib",
   "cite_by": "apalike",
   "current_citInitial": 1,
   "eqLabelWithNumbers": true,
   "eqNumInitial": 1,
   "hotkeys": {
    "equation": "Ctrl-E",
    "itemize": "Ctrl-I"
   },
   "labels_anchors": false,
   "latex_user_defs": false,
   "report_style_numbering": true,
   "user_envs_cfg": false
  },
  "varInspector": {
   "cols": {
    "lenName": 16,
    "lenType": 16,
    "lenVar": 40
   },
   "kernels_config": {
    "python": {
     "delete_cmd_postfix": "",
     "delete_cmd_prefix": "del ",
     "library": "var_list.py",
     "varRefreshCmd": "print(var_dic_list())"
    },
    "r": {
     "delete_cmd_postfix": ") ",
     "delete_cmd_prefix": "rm(",
     "library": "var_list.r",
     "varRefreshCmd": "cat(var_dic_list()) "
    }
   },
   "types_to_exclude": [
    "module",
    "function",
    "builtin_function_or_method",
    "instance",
    "_Feature"
   ],
   "window_display": false
  }
 },
 "nbformat": 4,
 "nbformat_minor": 2
}
