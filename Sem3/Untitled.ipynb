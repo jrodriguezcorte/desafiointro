{
 "cells": [
  {
   "cell_type": "code",
   "execution_count": 3,
   "metadata": {
    "ExecuteTime": {
     "end_time": "2019-10-21T19:43:30.385732Z",
     "start_time": "2019-10-21T19:43:30.224920Z"
    }
   },
   "outputs": [
    {
     "data": {
      "text/plain": [
       "count    186.000\n",
       "mean       0.696\n",
       "std        0.155\n",
       "min        0.347\n",
       "25%        0.567\n",
       "50%        0.726\n",
       "75%        0.805\n",
       "max        0.948\n",
       "Name: undp_hdi, dtype: float64"
      ]
     },
     "execution_count": 3,
     "metadata": {},
     "output_type": "execute_result"
    }
   ],
   "source": [
    "%matplotlib inline\n",
    "# importamos la triada de Data Science\n",
    "import pandas as pd\n",
    "import numpy as np\n",
    "import matplotlib.pyplot as plt\n",
    "# importamos scipy.stats que ayudará a generar distribuciones\n",
    "import scipy.stats as stats\n",
    "# archivos con funciones de visualización\n",
    "import lec3_graphs as gfx\n",
    "plt.style.use('seaborn-whitegrid') # Gráficos estilo seaborn\n",
    "plt.rcParams[\"figure.figsize\"] = (10, 6) # Tamaño gráficos\n",
    "\n",
    "\n",
    "df = pd.read_csv('qog_std_cs_jan18.csv')\n",
    "df.shape\n",
    "\n",
    "df['undp_hdi'].describe().round(3)"
   ]
  },
  {
   "cell_type": "code",
   "execution_count": 6,
   "metadata": {
    "ExecuteTime": {
     "end_time": "2019-10-21T19:45:57.624722Z",
     "start_time": "2019-10-21T19:45:57.475993Z"
    }
   },
   "outputs": [
    {
     "name": "stdout",
     "output_type": "stream",
     "text": [
      "Taiwan\n",
      "Korea, North\n",
      "Monaco\n",
      "Nauru\n",
      "Marshall Islands\n",
      "San Marino\n",
      "Somalia\n",
      "Tuvalu\n"
     ]
    },
    {
     "data": {
      "text/plain": [
       "array(['Taiwan', 'Korea, North', 'Monaco', 'Nauru', 'Marshall Islands',\n",
       "       'San Marino', 'Somalia', 'Tuvalu'], dtype=object)"
      ]
     },
     "execution_count": 6,
     "metadata": {},
     "output_type": "execute_result"
    }
   ],
   "source": [
    "# Generamos una nueva columna que devuelva un booleano si es que la observación no está presente\n",
    "df['flagnull'] = df['undp_hdi'].isnull()\n",
    "# dentro de cada fila de nuestra base\n",
    "for i, r in df.iterrows():\n",
    "# si flagnull es verdadero\n",
    "    if r['flagnull'] is True:\n",
    "# imprime el nombre\n",
    "        print(r['cname'])\n",
    "# Obs: Hay una forma menos 'memory hungry' de hacer esto con el metodo 'loc' que veremos mas adelante:\n",
    "df.loc[df['undp_hdi'].isnull()]['cname'].unique()"
   ]
  }
 ],
 "metadata": {
  "kernelspec": {
   "display_name": "Python 3",
   "language": "python",
   "name": "python3"
  },
  "language_info": {
   "codemirror_mode": {
    "name": "ipython",
    "version": 3
   },
   "file_extension": ".py",
   "mimetype": "text/x-python",
   "name": "python",
   "nbconvert_exporter": "python",
   "pygments_lexer": "ipython3",
   "version": "3.7.3"
  },
  "varInspector": {
   "cols": {
    "lenName": 16,
    "lenType": 16,
    "lenVar": 40
   },
   "kernels_config": {
    "python": {
     "delete_cmd_postfix": "",
     "delete_cmd_prefix": "del ",
     "library": "var_list.py",
     "varRefreshCmd": "print(var_dic_list())"
    },
    "r": {
     "delete_cmd_postfix": ") ",
     "delete_cmd_prefix": "rm(",
     "library": "var_list.r",
     "varRefreshCmd": "cat(var_dic_list()) "
    }
   },
   "types_to_exclude": [
    "module",
    "function",
    "builtin_function_or_method",
    "instance",
    "_Feature"
   ],
   "window_display": false
  }
 },
 "nbformat": 4,
 "nbformat_minor": 2
}
