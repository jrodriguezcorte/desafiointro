{
 "cells": [
  {
   "cell_type": "markdown",
   "metadata": {},
   "source": [
    "**NOMBRE ALUMNO:** Jonathan Rodriguez\n",
    "\n",
    "**FECHA:** "
   ]
  },
  {
   "cell_type": "markdown",
   "metadata": {},
   "source": [
    "## 1. Genere una submuestra de casos\n",
    "\n",
    "* Utilice los últimos 4 dígitos de su rut como semilla pseudoaleatoria.\n",
    "* Seleccione el 50% de los casos.\n",
    "* Cada base generada debe contener los siguientes elementos:\n",
    "  * El índice de desarrollo humano ( _undp_hdi_ )\n",
    "  * El nombre del país ( _ccodealp_ )\n",
    "  * La región a la que pertenece ( _ht_region_ )\n",
    "  * El PIB per capita. ( _gle_cgdpc_ )\n",
    "  * El total de la población ( _imf_pop_ )\n",
    "  \n",
    "* Si su apellido está entre la N y la Z, escoja las siguientes variables del módulo Salud:\n",
    "   * _wef_imort_ : Infant mortality, deaths/1000 live births\n",
    "   * _who_alc2000_ : Alcohol consumption per capita (2000-)\n",
    "   * _who_tobt_ : Current smoking of any tobacco product (Total).\n",
    "   * _wdi_exph_ : Government expenditure on health, total (% of GDP)\n",
    "   * Guarde esta tabla procesada en un nuevo objeto\n",
    "   * Renombre las categorías de la variable ht_region de números a regiones  "
   ]
  },
  {
   "cell_type": "code",
   "execution_count": 1,
   "metadata": {
    "ExecuteTime": {
     "end_time": "2019-10-29T00:18:20.176048Z",
     "start_time": "2019-10-29T00:18:19.608742Z"
    },
    "scrolled": true
   },
   "outputs": [
    {
     "data": {
      "text/html": [
       "<div>\n",
       "<style scoped>\n",
       "    .dataframe tbody tr th:only-of-type {\n",
       "        vertical-align: middle;\n",
       "    }\n",
       "\n",
       "    .dataframe tbody tr th {\n",
       "        vertical-align: top;\n",
       "    }\n",
       "\n",
       "    .dataframe thead th {\n",
       "        text-align: right;\n",
       "    }\n",
       "</style>\n",
       "<table border=\"1\" class=\"dataframe\">\n",
       "  <thead>\n",
       "    <tr style=\"text-align: right;\">\n",
       "      <th></th>\n",
       "      <th>undp_hdi</th>\n",
       "      <th>ccodealp</th>\n",
       "      <th>ht_region</th>\n",
       "      <th>gle_cgdpc</th>\n",
       "      <th>imf_pop</th>\n",
       "      <th>wef_imort</th>\n",
       "      <th>who_alc2000</th>\n",
       "      <th>who_tobt</th>\n",
       "      <th>wdi_exph</th>\n",
       "      <th>region_recod</th>\n",
       "    </tr>\n",
       "  </thead>\n",
       "  <tbody>\n",
       "    <tr>\n",
       "      <th>101</th>\n",
       "      <td>0.896</td>\n",
       "      <td>LUX</td>\n",
       "      <td>5</td>\n",
       "      <td>61404.4800</td>\n",
       "      <td>0.550</td>\n",
       "      <td>1.700000</td>\n",
       "      <td>11.12</td>\n",
       "      <td>24.400000</td>\n",
       "      <td>6.937873</td>\n",
       "      <td>WesternDem</td>\n",
       "    </tr>\n",
       "    <tr>\n",
       "      <th>51</th>\n",
       "      <td>0.739</td>\n",
       "      <td>ECU</td>\n",
       "      <td>2</td>\n",
       "      <td>7259.5200</td>\n",
       "      <td>15.775</td>\n",
       "      <td>19.100000</td>\n",
       "      <td>3.82</td>\n",
       "      <td>9.000000</td>\n",
       "      <td>9.161088</td>\n",
       "      <td>LatAm</td>\n",
       "    </tr>\n",
       "    <tr>\n",
       "      <th>146</th>\n",
       "      <td>0.735</td>\n",
       "      <td>LCA</td>\n",
       "      <td>10</td>\n",
       "      <td>11095.8000</td>\n",
       "      <td>0.167</td>\n",
       "      <td>NaN</td>\n",
       "      <td>9.97</td>\n",
       "      <td>NaN</td>\n",
       "      <td>6.719041</td>\n",
       "      <td>Caribbean</td>\n",
       "    </tr>\n",
       "    <tr>\n",
       "      <th>153</th>\n",
       "      <td>0.781</td>\n",
       "      <td>SYC</td>\n",
       "      <td>4</td>\n",
       "      <td>9583.3203</td>\n",
       "      <td>0.090</td>\n",
       "      <td>11.200000</td>\n",
       "      <td>9.72</td>\n",
       "      <td>26.700001</td>\n",
       "      <td>3.369817</td>\n",
       "      <td>SubSaharian</td>\n",
       "    </tr>\n",
       "    <tr>\n",
       "      <th>106</th>\n",
       "      <td>0.438</td>\n",
       "      <td>MLI</td>\n",
       "      <td>4</td>\n",
       "      <td>1063.2600</td>\n",
       "      <td>14.854</td>\n",
       "      <td>79.599998</td>\n",
       "      <td>0.61</td>\n",
       "      <td>18.600000</td>\n",
       "      <td>6.862166</td>\n",
       "      <td>SubSaharian</td>\n",
       "    </tr>\n",
       "  </tbody>\n",
       "</table>\n",
       "</div>"
      ],
      "text/plain": [
       "     undp_hdi ccodealp  ht_region   gle_cgdpc  imf_pop  wef_imort  \\\n",
       "101     0.896      LUX          5  61404.4800    0.550   1.700000   \n",
       "51      0.739      ECU          2   7259.5200   15.775  19.100000   \n",
       "146     0.735      LCA         10  11095.8000    0.167        NaN   \n",
       "153     0.781      SYC          4   9583.3203    0.090  11.200000   \n",
       "106     0.438      MLI          4   1063.2600   14.854  79.599998   \n",
       "\n",
       "     who_alc2000   who_tobt  wdi_exph region_recod  \n",
       "101        11.12  24.400000  6.937873   WesternDem  \n",
       "51          3.82   9.000000  9.161088        LatAm  \n",
       "146         9.97        NaN  6.719041    Caribbean  \n",
       "153         9.72  26.700001  3.369817  SubSaharian  \n",
       "106         0.61  18.600000  6.862166  SubSaharian  "
      ]
     },
     "execution_count": 1,
     "metadata": {},
     "output_type": "execute_result"
    }
   ],
   "source": [
    "%matplotlib inline\n",
    "import pandas as pd\n",
    "import numpy as np\n",
    "import matplotlib.pyplot as plt\n",
    "import scipy.stats as stats\n",
    "\n",
    "np.random.seed(1234)\n",
    "\n",
    "df = pd.read_csv('qog_std_cs_jan18.csv')\n",
    "\n",
    "subset = df.sample(frac = 0.5) \n",
    "\n",
    "subset_group = subset.loc[:, ['undp_hdi', 'ccodealp', 'ht_region', 'gle_cgdpc', 'imf_pop', 'wef_imort', 'who_alc2000', 'who_tobt', 'wdi_exph']] \n",
    "\n",
    "subset_group['region_recod'] = subset_group['ht_region'].replace([1, 2, 3, 4, 5, 6, 7, 8, 9, 10],\n",
    "['EastEurope','LatAm','NorthAfrica','SubSaharian','WesternDem','EastAsia','SouthEastAsia','SouthAsia','Pacific','Caribbean'])\n",
    "\n",
    "\n",
    "subset_group.head()"
   ]
  },
  {
   "cell_type": "markdown",
   "metadata": {},
   "source": [
    "## 2. Genere una función que ingrese su objeto y devuelva:\n",
    "\n",
    "* Por cada variable existente en su objeto, calcule las medidas descriptivas para los casos contínuos"
   ]
  },
  {
   "cell_type": "code",
   "execution_count": 2,
   "metadata": {
    "ExecuteTime": {
     "end_time": "2019-10-29T00:18:23.189492Z",
     "start_time": "2019-10-29T00:18:23.148684Z"
    },
    "scrolled": false
   },
   "outputs": [
    {
     "name": "stdout",
     "output_type": "stream",
     "text": [
      "undp_hdi\n",
      "____________________\n",
      "count    94.000000\n",
      "mean      0.700628\n",
      "std       0.156066\n",
      "min       0.347000\n",
      "25%       0.567500\n",
      "50%       0.734500\n",
      "75%       0.818250\n",
      "max       0.938000\n",
      "Name: undp_hdi, dtype: float64\n",
      "\n",
      "\n",
      "ccodealp\n",
      "____________________\n",
      "Frecuencia\n",
      "AUT    1\n",
      "HUN    1\n",
      "URY    1\n",
      "CHE    1\n",
      "FJI    1\n",
      "MHL    1\n",
      "MLI    1\n",
      "MNE    1\n",
      "VUT    1\n",
      "LBR    1\n",
      "KGZ    1\n",
      "TUN    1\n",
      "KIR    1\n",
      "PRY    1\n",
      "BHR    1\n",
      "MRT    1\n",
      "SUR    1\n",
      "GMB    1\n",
      "TTO    1\n",
      "ESP    1\n",
      "UZB    1\n",
      "AZE    1\n",
      "BLR    1\n",
      "MDG    1\n",
      "PAN    1\n",
      "SYR    1\n",
      "BFA    1\n",
      "NER    1\n",
      "CUB    1\n",
      "OMN    1\n",
      "      ..\n",
      "COG    1\n",
      "NRU    1\n",
      "GRC    1\n",
      "UGA    1\n",
      "LSO    1\n",
      "QAT    1\n",
      "PAK    1\n",
      "NZL    1\n",
      "VNM    1\n",
      "MMR    1\n",
      "TKM    1\n",
      "ECU    1\n",
      "CHL    1\n",
      "LTU    1\n",
      "SWE    1\n",
      "ETH    1\n",
      "WSM    1\n",
      "CZE    1\n",
      "ZAF    1\n",
      "CRI    1\n",
      "BGR    1\n",
      "KNA    1\n",
      "POL    1\n",
      "PHL    1\n",
      "ARG    1\n",
      "NLD    1\n",
      "TGO    1\n",
      "KWT    1\n",
      "CHN    1\n",
      "COM    1\n",
      "Name: ccodealp, Length: 97, dtype: int64\n",
      "\n",
      "\n",
      "ht_region\n",
      "____________________\n",
      "count    97.000000\n",
      "mean      4.422680\n",
      "std       2.641161\n",
      "min       1.000000\n",
      "25%       2.000000\n",
      "50%       4.000000\n",
      "75%       5.000000\n",
      "max      10.000000\n",
      "Name: ht_region, dtype: float64\n",
      "\n",
      "\n",
      "gle_cgdpc\n",
      "____________________\n",
      "count        96.000000\n",
      "mean      15676.866471\n",
      "std       21061.300373\n",
      "min         488.269990\n",
      "25%        2850.155000\n",
      "50%        9337.989750\n",
      "75%       18093.010250\n",
      "max      108481.130000\n",
      "Name: gle_cgdpc, dtype: float64\n",
      "\n",
      "\n",
      "imf_pop\n",
      "____________________\n",
      "count     73.000000\n",
      "mean      26.257151\n",
      "std       46.742281\n",
      "min        0.012000\n",
      "25%        2.045000\n",
      "50%        8.544000\n",
      "75%       30.709000\n",
      "max      252.164993\n",
      "Name: imf_pop, dtype: float64\n",
      "\n",
      "\n",
      "wef_imort\n",
      "____________________\n",
      "count    71.000000\n",
      "mean     22.716901\n",
      "std      21.908191\n",
      "min       1.700000\n",
      "25%       5.000000\n",
      "50%      13.800000\n",
      "75%      39.300001\n",
      "max      79.599998\n",
      "Name: wef_imort, dtype: float64\n",
      "\n",
      "\n",
      "who_alc2000\n",
      "____________________\n",
      "count    89.000000\n",
      "mean      5.341461\n",
      "std       4.024292\n",
      "min       0.010000\n",
      "25%       1.640000\n",
      "50%       5.030000\n",
      "75%       8.680000\n",
      "max      15.190000\n",
      "Name: who_alc2000, dtype: float64\n",
      "\n",
      "\n",
      "who_tobt\n",
      "____________________\n",
      "count    67.000000\n",
      "mean     23.710448\n",
      "std      10.021857\n",
      "min       4.700000\n",
      "25%      16.200000\n",
      "50%      23.700001\n",
      "75%      29.850000\n",
      "max      54.000000\n",
      "Name: who_tobt, dtype: float64\n",
      "\n",
      "\n",
      "wdi_exph\n",
      "____________________\n",
      "count    96.000000\n",
      "mean      6.564768\n",
      "std       2.752314\n",
      "min       1.865546\n",
      "25%       4.779361\n",
      "50%       6.166642\n",
      "75%       8.330492\n",
      "max      17.135723\n",
      "Name: wdi_exph, dtype: float64\n",
      "\n",
      "\n",
      "region_recod\n",
      "____________________\n",
      "Frecuencia\n",
      "SubSaharian      26\n",
      "WesternDem       15\n",
      "EastEurope       14\n",
      "LatAm            12\n",
      "Pacific           8\n",
      "NorthAfrica       8\n",
      "Caribbean         6\n",
      "SouthEastAsia     6\n",
      "EastAsia          1\n",
      "SouthAsia         1\n",
      "Name: region_recod, dtype: int64\n",
      "\n",
      "\n"
     ]
    }
   ],
   "source": [
    "def getdescribe(dataframe): \n",
    "    for key, value in dataframe.iteritems():\n",
    "        if pd.api.types.is_numeric_dtype(value):\n",
    "            print(key)\n",
    "            print('____________________')\n",
    "            print(value.describe())\n",
    "            print('\\n')\n",
    "        else:\n",
    "            print(key)\n",
    "            print('____________________')\n",
    "            print('Frecuencia')\n",
    "            print(value.value_counts())\n",
    "            print('\\n')            \n",
    "\n",
    "getdescribe(subset_group)"
   ]
  },
  {
   "cell_type": "markdown",
   "metadata": {},
   "source": [
    "* Reporte las estadísticas descriptivas para _gle_cgdpc_ , _undp_hdi_ , _imf_pop_ .\n"
   ]
  },
  {
   "cell_type": "code",
   "execution_count": 3,
   "metadata": {
    "ExecuteTime": {
     "end_time": "2019-10-29T00:18:30.200877Z",
     "start_time": "2019-10-29T00:18:30.154893Z"
    }
   },
   "outputs": [
    {
     "name": "stdout",
     "output_type": "stream",
     "text": [
      "gle_cgdpc\n",
      "____________________\n",
      "media\n",
      "15676.866\n",
      "varianza\n",
      "438957765.36\n",
      "desviación estándar\n",
      "20951.319\n",
      "\n",
      "\n",
      "undp_hdi\n",
      "____________________\n",
      "media\n",
      "0.701\n",
      "varianza\n",
      "0.024\n",
      "desviación estándar\n",
      "0.155\n",
      "\n",
      "\n",
      "imf_pop\n",
      "____________________\n",
      "media\n",
      "26.257\n",
      "varianza\n",
      "2154.912\n",
      "desviación estándar\n",
      "46.421\n",
      "\n",
      "\n"
     ]
    }
   ],
   "source": [
    "lista_estadistica = ['gle_cgdpc' , 'undp_hdi' , 'imf_pop' ]\n",
    "for i in range(len(lista_estadistica)):\n",
    "    value = lista_estadistica[i]\n",
    "    print(value)\n",
    "    print('____________________')    \n",
    "    print('media')\n",
    "    print(round(subset_group[value].mean(),3))\n",
    "    print('varianza')\n",
    "    print(round(np.var(subset_group[value]), 3))\n",
    "    print('desviación estándar')\n",
    "    print(round(np.std(subset_group[value]),3))\n",
    "    print('\\n')  "
   ]
  },
  {
   "cell_type": "markdown",
   "metadata": {},
   "source": [
    "* Compare las estadísticas con algún compañero. ¿Ve alguna diferencia substancial en alguna de ellas?"
   ]
  },
  {
   "cell_type": "code",
   "execution_count": null,
   "metadata": {},
   "outputs": [],
   "source": []
  },
  {
   "cell_type": "markdown",
   "metadata": {},
   "source": [
    "## 3. Genere una función que liste las observaciones perdidas de una variable\n",
    "\n",
    "* La función debe contener los siguientes argumentos:\n",
    "  * _dataframe_ : La función debe ingresar un objeto DataFrame.\n",
    "  * _var_ : Variable a inspeccionar.\n",
    "  * print_list : Opción para imprimir la lista de observaciones perdidas en la variable. Debe ser False por defecto.\n",
    "  * La función debe retornar la cantidad de casos perdidos y el porcentaje correspondiente.\n",
    "  * Cuando print_list = True , debe retornar la lista de casos.\n",
    "  * Analice todas las variables y sus casos perdidos.\n",
    "  * Para las 3 variables con un mayor porcentaje de casos perdidos, solicite la lista de países con ausencia de datos."
   ]
  },
  {
   "cell_type": "code",
   "execution_count": 4,
   "metadata": {
    "ExecuteTime": {
     "end_time": "2019-10-29T00:18:33.554943Z",
     "start_time": "2019-10-29T00:18:33.492299Z"
    },
    "scrolled": true
   },
   "outputs": [
    {
     "name": "stdout",
     "output_type": "stream",
     "text": [
      "undp_hdi\n",
      "____________________\n",
      "Cantidad de perdidos 3\n",
      "Porcentaje de perdidos: 0.03\n",
      "\n",
      "\n",
      "ccodealp\n",
      "____________________\n",
      "Cantidad de perdidos 0\n",
      "Porcentaje de perdidos: 0.0\n",
      "\n",
      "\n",
      "ht_region\n",
      "____________________\n",
      "Cantidad de perdidos 0\n",
      "Porcentaje de perdidos: 0.0\n",
      "\n",
      "\n",
      "gle_cgdpc\n",
      "____________________\n",
      "Cantidad de perdidos 1\n",
      "Porcentaje de perdidos: 0.01\n",
      "\n",
      "\n",
      "imf_pop\n",
      "____________________\n",
      "Cantidad de perdidos 24\n",
      "Porcentaje de perdidos: 0.25\n",
      "\n",
      "\n",
      "wef_imort\n",
      "____________________\n",
      "Cantidad de perdidos 26\n",
      "Porcentaje de perdidos: 0.27\n",
      "\n",
      "\n",
      "who_alc2000\n",
      "____________________\n",
      "Cantidad de perdidos 8\n",
      "Porcentaje de perdidos: 0.08\n",
      "\n",
      "\n",
      "who_tobt\n",
      "____________________\n",
      "Cantidad de perdidos 30\n",
      "Porcentaje de perdidos: 0.31\n",
      "\n",
      "\n",
      "wdi_exph\n",
      "____________________\n",
      "Cantidad de perdidos 1\n",
      "Porcentaje de perdidos: 0.01\n",
      "\n",
      "\n",
      "region_recod\n",
      "____________________\n",
      "Cantidad de perdidos 0\n",
      "Porcentaje de perdidos: 0.0\n",
      "\n",
      "\n",
      "Lista de países con datos perdidos para: who_tobt\n",
      "['LCA' 'SYR' 'PLW' 'ATG' 'KWT' 'TKM' 'AUT' 'MCO' 'MNE' 'PER' 'LIE' 'BOL'\n",
      " 'MDG' 'MHL' 'SUR' 'TGO' 'GMB' 'VUT' 'CAF' 'DMA' 'GAB' 'CIV' 'QAT' 'TUN'\n",
      " 'TTO' 'IRQ' 'STP' 'KNA' 'SSD' 'SLB']\n",
      "\n",
      "\n",
      "Lista de países con datos perdidos para: wef_imort\n",
      "['LCA' 'WSM' 'PLW' 'KIR' 'ATG' 'TKM' 'MCO' 'NRU' 'COG' 'COM' 'LIE' 'MHL'\n",
      " 'TGO' 'BLR' 'VUT' 'CAF' 'DMA' 'NER' 'FJI' 'IRQ' 'STP' 'KNA' 'SSD' 'CUB'\n",
      " 'SLB' 'UZB']\n",
      "\n",
      "\n",
      "Lista de países con datos perdidos para: imf_pop\n",
      "['SYR' 'CMR' 'LSO' 'LBR' 'ATG' 'TKM' 'MCO' 'COG' 'LIE' 'MDG' 'GHA' 'GMB'\n",
      " 'SEN' 'CAF' 'DMA' 'GAB' 'NER' 'TUN' 'CRI' 'CHN' 'STP' 'KNA' 'SSD' 'CUB']\n",
      "\n",
      "\n"
     ]
    }
   ],
   "source": [
    "def getna(dataframe,var,print_list = False):  \n",
    "    \"\"\"\n",
    "    Función que liste las observaciones perdidas de una variable\n",
    "\n",
    "    Parameters:\n",
    "    dataframe (DataFrame): La función debe ingresar un objeto DataFrame\n",
    "    var (str): Variable a inspeccionar\n",
    "    print_list (bool): Opción para imprimir la lista de observaciones perdidas en la variable. Debe ser False por defecto.\n",
    "\n",
    "    Returns:\n",
    "    cantidad_perdidos: Retorna la cantidad de casos perdidos\n",
    "    porcentaje_perdidos: Retorna el porcentaje correspondiente de casos perdidos\n",
    "    lista : Lista de observaciones perdidas (en caso de print_list == True)\n",
    "\n",
    "   \"\"\"    \n",
    "    temp = dataframe\n",
    "    temp['flagnull'] = temp[var].isnull()\n",
    "    total_elementos = len(temp)\n",
    "    cantidad_perdidos = total_elementos - temp['flagnull'].value_counts().loc[False]\n",
    "    porcentaje_perdidos = cantidad_perdidos/total_elementos\n",
    "    del temp['flagnull']\n",
    "\n",
    "    if print_list:\n",
    "       lista = temp.loc[temp[var].isnull()]['ccodealp'].unique()\n",
    "       return cantidad_perdidos, porcentaje_perdidos, lista\n",
    "    else:\n",
    "       return cantidad_perdidos, porcentaje_perdidos\n",
    "    \n",
    "lista = []\n",
    "dic_perdidos = {}\n",
    "# Registrando los nombres de columnas en una lista\n",
    "for value in subset_group:\n",
    "    lista.append(value)\n",
    "\n",
    "# Analizando todas las variables con sus casos perdidos    \n",
    "for value in range(len(lista)):\n",
    "    codigo_columna = lista[value]\n",
    "    c_perdidos, p_perdidods = getna(subset_group,codigo_columna)\n",
    "    dic_perdidos[codigo_columna] = c_perdidos\n",
    "    print(lista[value])\n",
    "    print('____________________')\n",
    "    print('Cantidad de perdidos {}'.format(c_perdidos))\n",
    "    print('Porcentaje de perdidos: {}'.format(round(p_perdidods,2)))   \n",
    "    print('\\n')    \n",
    "    \n",
    "\n",
    "# Obteniendo los países perdidos para aquellas tres variables con mayor porcentaje de datos    \n",
    "dic_perdidos = {k: v for k, v in sorted(dic_perdidos.items(), key=lambda x: x[1], reverse=True)}\n",
    "\n",
    "contador = 0\n",
    "for key in dic_perdidos:\n",
    "    if (contador < 3):\n",
    "        codigo_columna = key\n",
    "        c_perdidos, p_perdidods, lista_perdidos = getna(subset_group,codigo_columna, True)\n",
    "        print('Lista de países con datos perdidos para: {}'.format(key))\n",
    "        print('{}'.format(lista_perdidos))   \n",
    "        print('\\n')\n",
    "    contador += 1"
   ]
  },
  {
   "cell_type": "markdown",
   "metadata": {},
   "source": [
    "## 4. Grafique los histogramas\n",
    "\n",
    "Genere una función que grafique un histograma en conjunto y señale las medias.\n",
    "\n",
    "La función debe incluír los siguientes argumentos:\n",
    "\n",
    "* dataframe : La base de datos donde se encuentran los datos específicos.\n",
    "* var : La variable a graficar.\n",
    "* sample_mean : Booleano. Si es verdadero, debe generar una recta vertical indicando la media de la variable en la selección muestral. Por defecto debe ser False .\n",
    "* true_mean : Booleano. Si es verdadero, debe generar una recta vertical indicando la media de variable en la base de datos completa.\n",
    "\n",
    "**Implemente las funciones para las 4 variables seleccionadas según su grupo.**\n",
    "\n"
   ]
  },
  {
   "cell_type": "code",
   "execution_count": 5,
   "metadata": {
    "ExecuteTime": {
     "end_time": "2019-10-29T00:18:38.513367Z",
     "start_time": "2019-10-29T00:18:38.493637Z"
    }
   },
   "outputs": [],
   "source": [
    "def gethistograma(dataframe,var,true_mean,sample_mean = False):  \n",
    "    \"\"\"\n",
    "    Función que liste las observaciones perdidas de una variable\n",
    "\n",
    "    Parameters:\n",
    "    dataframe (Dataframe): La base de datos donde se encuentran los datos específicos.\n",
    "    var (str): La variable a graficar.\n",
    "    sample_mean (bool): ooleano. Si es verdadero, debe generar una recta vertical indicando la media de la variable en la selección muestral. Por defecto debe ser False\n",
    "    true_mean : Booleano. Si es verdadero, debe generar una recta vertical indicando la media de variable en la base de datos completa\n",
    "\n",
    "    Returns:  Graficacion de Histograma\n",
    "   \"\"\"  \n",
    "    \n",
    "    dfhisto_dropna = dataframe[var].dropna()\n",
    "\n",
    "    df_mean = np.mean(df[var].dropna())\n",
    "    \n",
    "    print('Media muestra completa {}'.format(df_mean))\n",
    "    print('Media submuestra {}'.format(np.mean(dfhisto_dropna)))    \n",
    "\n",
    "    subhisto_dropna = subset_group[var].dropna()\n",
    "    subhisto_dropna_mean = subhisto_dropna.mean()     \n",
    "    \n",
    "    plt.hist(dfhisto_dropna, color='grey', alpha=.4)\n",
    "    if (sample_mean):\n",
    "        plt.axvline(np.mean(dfhisto_dropna), color = 'tomato', linestyle = '--')\n",
    "    if (true_mean):    \n",
    "        plt.axvline(np.mean(dataframe[var]), color = 'blue', linestyle = '--')\n",
    "    plt.title(\"Variable {}\".format(var))    \n"
   ]
  },
  {
   "cell_type": "code",
   "execution_count": 6,
   "metadata": {
    "ExecuteTime": {
     "end_time": "2019-10-29T00:18:41.485202Z",
     "start_time": "2019-10-29T00:18:41.463633Z"
    }
   },
   "outputs": [],
   "source": [
    "def gethistograma(dataframe, subdf, var,true_mean,sample_mean = False):  \n",
    "    \"\"\"\n",
    "    Función que liste las observaciones perdidas de una variable\n",
    "\n",
    "    Parameters:\n",
    "    dataframe (Dataframe): La base de datos donde se encuentran los datos específicos.\n",
    "    subdf (Dataframe): La base de datos donde se encuentran los datos específicos.\n",
    "    var (str): La variable a graficar.\n",
    "    sample_mean (bool): ooleano. Si es verdadero, debe generar una recta vertical indicando la media de la variable en la selección muestral. Por defecto debe ser False\n",
    "    true_mean : Booleano. Si es verdadero, debe generar una recta vertical indicando la media de variable en la base de datos completa\n",
    "\n",
    "    Returns:  Graficacion de Histograma\n",
    "   \"\"\"  \n",
    "    \n",
    "    subdf_mean = np.mean(subdf[var].dropna())\n",
    "\n",
    "    df_mean = np.mean(df[var].dropna())\n",
    "    \n",
    "    print('Media muestra completa {}'.format(df_mean))\n",
    "    print('Media submuestra {}'.format(subdf_mean))    \n",
    "\n",
    "    subhisto_dropna = subdf[var].dropna()\n",
    "    \n",
    "    plt.hist(subhisto_dropna, color='grey', alpha=.4)\n",
    "    if (sample_mean):\n",
    "        plt.axvline(subdf_mean, color = 'tomato', lw=3, linestyle = '--', label=\"Media Submuestra\" )\n",
    "    if (true_mean):    \n",
    "        plt.axvline(df_mean, color = 'blue', lw=3, linestyle = '--', label=\"Media Muestra Completa\")\n",
    "    plt.title(\"Variable {}\".format(var))    \n",
    "    plt.legend(loc='upper right')\n",
    "    if (subdf_mean > df_mean):\n",
    "        print('Para el caso de {} la media de la submuestra es mayor a la muestra completa'.format(var))"
   ]
  },
  {
   "cell_type": "code",
   "execution_count": 7,
   "metadata": {
    "ExecuteTime": {
     "end_time": "2019-10-29T00:18:44.292001Z",
     "start_time": "2019-10-29T00:18:44.026120Z"
    },
    "scrolled": true
   },
   "outputs": [
    {
     "name": "stdout",
     "output_type": "stream",
     "text": [
      "Media muestra completa 24.086897087097167\n",
      "Media submuestra 22.716901393003866\n"
     ]
    },
    {
     "data": {
      "image/png": "[encoded data removed]",
      "text/plain": [
       "<Figure size 432x288 with 1 Axes>"
      ]
     },
     "metadata": {
      "needs_background": "light"
     },
     "output_type": "display_data"
    }
   ],
   "source": [
    "gethistograma(df, subset_group,'wef_imort',True,True)   "
   ]
  },
  {
   "cell_type": "code",
   "execution_count": 8,
   "metadata": {
    "ExecuteTime": {
     "end_time": "2019-10-29T00:18:46.663124Z",
     "start_time": "2019-10-29T00:18:46.394803Z"
    }
   },
   "outputs": [
    {
     "name": "stdout",
     "output_type": "stream",
     "text": [
      "Media muestra completa 4.949340671727473\n",
      "Media submuestra 5.341460709919102\n",
      "Para el caso de who_alc2000 la media de la submuestra es mayor a la muestra completa\n"
     ]
    },
    {
     "data": {
      "image/png": "[encoded data removed]",
      "text/plain": [
       "<Figure size 432x288 with 1 Axes>"
      ]
     },
     "metadata": {
      "needs_background": "light"
     },
     "output_type": "display_data"
    }
   ],
   "source": [
    "gethistograma(df, subset_group,'who_alc2000',True,True) \n"
   ]
  },
  {
   "cell_type": "code",
   "execution_count": 9,
   "metadata": {
    "ExecuteTime": {
     "end_time": "2019-10-29T00:18:48.970360Z",
     "start_time": "2019-10-29T00:18:48.719412Z"
    }
   },
   "outputs": [
    {
     "name": "stdout",
     "output_type": "stream",
     "text": [
      "Media muestra completa 23.285483875000008\n",
      "Media submuestra 23.71044777164179\n",
      "Para el caso de who_tobt la media de la submuestra es mayor a la muestra completa\n"
     ]
    },
    {
     "data": {
      "image/png": "[encoded data removed]",
      "text/plain": [
       "<Figure size 432x288 with 1 Axes>"
      ]
     },
     "metadata": {
      "needs_background": "light"
     },
     "output_type": "display_data"
    }
   ],
   "source": [
    "gethistograma(df, subset_group,'who_tobt',True,True)     \n"
   ]
  },
  {
   "cell_type": "code",
   "execution_count": 10,
   "metadata": {
    "ExecuteTime": {
     "end_time": "2019-10-29T00:18:51.237682Z",
     "start_time": "2019-10-29T00:18:51.024563Z"
    }
   },
   "outputs": [
    {
     "name": "stdout",
     "output_type": "stream",
     "text": [
      "Media muestra completa 6.783758504767167\n",
      "Media submuestra 6.564767864843209\n"
     ]
    },
    {
     "data": {
      "image/png": "[encoded data removed]",
      "text/plain": [
       "<Figure size 432x288 with 1 Axes>"
      ]
     },
     "metadata": {
      "needs_background": "light"
     },
     "output_type": "display_data"
    }
   ],
   "source": [
    "gethistograma(df, subset_group,'wdi_exph',True,True)     \n"
   ]
  },
  {
   "cell_type": "markdown",
   "metadata": {},
   "source": [
    "¿En qué variables la media de la submuestra es mayor a la de la muestra completa?"
   ]
  },
  {
   "cell_type": "code",
   "execution_count": 11,
   "metadata": {
    "ExecuteTime": {
     "end_time": "2019-10-29T00:18:53.833731Z",
     "start_time": "2019-10-29T00:18:53.400801Z"
    }
   },
   "outputs": [
    {
     "name": "stdout",
     "output_type": "stream",
     "text": [
      "wef_imort\n",
      "Media muestra completa 24.086897087097167\n",
      "Media submuestra 22.716901393003866\n",
      "\n",
      "\n",
      "who_tobt\n",
      "Media muestra completa 23.285483875000008\n",
      "Media submuestra 23.71044777164179\n",
      "Para el caso de who_tobt la media de la submuestra es mayor a la muestra completa\n",
      "\n",
      "\n"
     ]
    },
    {
     "data": {
      "image/png": "[encoded data removed]",
      "text/plain": [
       "<Figure size 576x576 with 2 Axes>"
      ]
     },
     "metadata": {
      "needs_background": "light"
     },
     "output_type": "display_data"
    }
   ],
   "source": [
    "plt.figure(figsize=(8, 8))\n",
    "print('wef_imort')\n",
    "plt.subplot(2, 1, 1)\n",
    "gethistograma(df, subset_group,'wef_imort',True,True) \n",
    "print('\\n')\n",
    "print('who_tobt')\n",
    "plt.subplot(2, 1, 2)\n",
    "gethistograma(df, subset_group,'who_tobt',True,True)     \n",
    "print('\\n')\n"
   ]
  },
  {
   "cell_type": "markdown",
   "metadata": {},
   "source": [
    "## 5. Genere una función que devuelva un dotplot\n",
    "\n",
    "La función debe contener los siguientes argumentos como argumentos:\n",
    "* dataframe : La tabla de datos donde buscar las variables.\n",
    "* plot_var : La variable a analizar y extraer las medias.\n",
    "* plot_by : La variable agrupadora.\n",
    "* global_stat : Booleano. Si es True debe graficar la media global de la variable. Por defecto debe ser False .\n",
    "* statistic: Debe presentar dos opciones. mean para la media y median para la mediana. Por defecto debe ser mean .\n",
    "\n",
    "Implemente la función en las 3 variables con una menor cantidad de datos perdidos."
   ]
  },
  {
   "cell_type": "code",
   "execution_count": 12,
   "metadata": {
    "ExecuteTime": {
     "end_time": "2019-10-29T00:18:56.923176Z",
     "start_time": "2019-10-29T00:18:56.911279Z"
    },
    "scrolled": true
   },
   "outputs": [],
   "source": [
    "def getdotplot(dataframe,plot_var,plot_by,global_stat = False, statistic = 'mean'):\n",
    "    \"\"\"\n",
    "    Función que liste las observaciones perdidas de una variable\n",
    "\n",
    "    Parameters:\n",
    "    dataframe (Dataframe): La base de datos donde se encuentran los datos específicos.\n",
    "    plot_var (str): La variable a analizar y extraer las medias\n",
    "    plot_by (str): La variable agrupadora\n",
    "    global_stat: Booleano. Si es True debe graficar la media global de la variable. Por defecto debe ser False     \n",
    "    statistic: Debe presentar dos opciones. mean para la media y median para la mediana. Por defecto debe ser mean\n",
    "\n",
    "    Returns:  Graficacion de Dotplot\n",
    "\n",
    "\n",
    "   \"\"\"      \n",
    "    df_dropna = dataframe.dropna(subset=[plot_var]) \n",
    "    plt.title(\"Dotplot caso: {}\".format(statistic))\n",
    "    if (statistic == 'mean'):\n",
    "        group_stat = round(df_dropna.groupby(plot_by)[plot_var].mean(),2)\n",
    "        if (global_stat):\n",
    "            plt.axvline(df_dropna[plot_var].mean(), color = 'tomato', linestyle = '--', )\n",
    "        plt.plot(group_stat.values, group_stat.index, 'o', color = 'blue')\n",
    "    else:\n",
    "        group_stat = round(df_dropna.groupby(plot_by)[plot_var].median(),2)\n",
    "        if (global_stat):\n",
    "            plt.axvline(df_dropna[plot_var].median(), color = 'green', linestyle = '--')\n",
    "        plt.plot(group_stat.values, group_stat.index, 'o', color = 'blue')        \n"
   ]
  },
  {
   "cell_type": "code",
   "execution_count": 13,
   "metadata": {
    "ExecuteTime": {
     "end_time": "2019-10-29T00:18:59.708554Z",
     "start_time": "2019-10-29T00:18:59.364833Z"
    }
   },
   "outputs": [
    {
     "data": {
      "image/png": "[encoded data removed]",
      "text/plain": [
       "<Figure size 576x576 with 2 Axes>"
      ]
     },
     "metadata": {
      "needs_background": "light"
     },
     "output_type": "display_data"
    }
   ],
   "source": [
    "plt.figure(figsize=(8, 8))\n",
    "plt.subplot(2, 1, 1)        \n",
    "getdotplot(subset_group,'undp_hdi','region_recod',True,'mean')  \n",
    "plt.subplot(2, 1, 2)\n",
    "getdotplot(subset_group,'undp_hdi','region_recod',True,'median')   "
   ]
  },
  {
   "cell_type": "code",
   "execution_count": 14,
   "metadata": {
    "ExecuteTime": {
     "end_time": "2019-10-29T00:19:03.698394Z",
     "start_time": "2019-10-29T00:19:03.432229Z"
    }
   },
   "outputs": [
    {
     "data": {
      "image/png": "[encoded data removed]",
      "text/plain": [
       "<Figure size 576x576 with 2 Axes>"
      ]
     },
     "metadata": {
      "needs_background": "light"
     },
     "output_type": "display_data"
    }
   ],
   "source": [
    "plt.figure(figsize=(8, 8))\n",
    "plt.subplot(2, 1, 1)        \n",
    "getdotplot(subset_group,'gle_cgdpc','region_recod',True,'mean')        \n",
    "plt.subplot(2, 1, 2)        \n",
    "getdotplot(subset_group,'gle_cgdpc','region_recod',True,'median') "
   ]
  },
  {
   "cell_type": "code",
   "execution_count": 15,
   "metadata": {
    "ExecuteTime": {
     "end_time": "2019-10-29T00:19:06.787218Z",
     "start_time": "2019-10-29T00:19:06.487844Z"
    }
   },
   "outputs": [
    {
     "data": {
      "image/png": "[encoded data removed]",
      "text/plain": [
       "<Figure size 576x576 with 2 Axes>"
      ]
     },
     "metadata": {
      "needs_background": "light"
     },
     "output_type": "display_data"
    }
   ],
   "source": [
    "plt.figure(figsize=(8, 8))\n",
    "plt.subplot(2, 1, 1)        \n",
    "getdotplot(subset_group,'wdi_exph','region_recod',True,'mean')        \n",
    "plt.subplot(2, 1, 2)        \n",
    "getdotplot(subset_group,'wdi_exph','region_recod',True,'median') "
   ]
  },
  {
   "cell_type": "markdown",
   "metadata": {},
   "source": [
    "## 6. Guarde la base de datos\n",
    "La submuestra creada tiene un método llamado to_csv .\n",
    "\n",
    "Acceda a éste y guarde la base de datos con la siguiente nomenclatura:\n",
    "\n",
    "subsample_iniciales.csv"
   ]
  },
  {
   "cell_type": "code",
   "execution_count": 16,
   "metadata": {
    "ExecuteTime": {
     "end_time": "2019-10-29T00:19:13.283484Z",
     "start_time": "2019-10-29T00:19:13.276095Z"
    }
   },
   "outputs": [],
   "source": [
    "subset_group.to_csv('subsample_comp.csv', encoding='utf-8', index=False)\n"
   ]
  }
 ],
 "metadata": {
  "kernelspec": {
   "display_name": "Python 3",
   "language": "python",
   "name": "python3"
  },
  "language_info": {
   "codemirror_mode": {
    "name": "ipython",
    "version": 3
   },
   "file_extension": ".py",
   "mimetype": "text/x-python",
   "name": "python",
   "nbconvert_exporter": "python",
   "pygments_lexer": "ipython3",
   "version": "3.7.3"
  },
  "varInspector": {
   "cols": {
    "lenName": 16,
    "lenType": 16,
    "lenVar": 40
   },
   "kernels_config": {
    "python": {
     "delete_cmd_postfix": "",
     "delete_cmd_prefix": "del ",
     "library": "var_list.py",
     "varRefreshCmd": "print(var_dic_list())"
    },
    "r": {
     "delete_cmd_postfix": ") ",
     "delete_cmd_prefix": "rm(",
     "library": "var_list.r",
     "varRefreshCmd": "cat(var_dic_list()) "
    }
   },
   "types_to_exclude": [
    "module",
    "function",
    "builtin_function_or_method",
    "instance",
    "_Feature"
   ],
   "window_display": false
  }
 },
 "nbformat": 4,
 "nbformat_minor": 2
}
