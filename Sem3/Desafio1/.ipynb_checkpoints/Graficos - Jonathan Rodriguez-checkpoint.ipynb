{
 "cells": [
  {
   "cell_type": "markdown",
   "metadata": {},
   "source": [
    "**NOMBRE ALUMNO:** Jonathan Rodriguez\n",
    "\n",
    "**FECHA:** 05-11-19"
   ]
  },
  {
   "cell_type": "markdown",
   "metadata": {},
   "source": [
    "## 1. Genere una submuestra de casos\n",
    "\n",
    "* Utilice los últimos 4 dígitos de su rut como semilla pseudoaleatoria.\n",
    "* Seleccione el 50% de los casos.\n",
    "* Cada base generada debe contener los siguientes elementos:\n",
    "    * El índice de desarrollo humano ( undp_hdi )\n",
    "    * El nombre del país ( ccodealp )\n",
    "    * La región a la que pertenece ( ht_region )\n",
    "    * El PIB per capita. ( gle_cgdpc )\n",
    "    * El total de la población ( imf_pop )\n",
    "\n",
    "* Si su apellido está entre la N y la Z, escoja las siguientes variables del módulo Salud:\n",
    "    * wef_imort : Infant mortality, deaths/1000 live births\n",
    "    * who_alc2000 : Alcohol consumption per capita (2000-)\n",
    "    * who_tobt : Current smoking of any tobacco product (Total).\n",
    "    * wdi_exph : Government expenditure on health, total (% of GDP)\n",
    "* Renombre las categorías de la variable ht_region de números a regiones\n",
    "* Guarde esta tabla procesada en un nuevo objeto "
   ]
  },
  {
   "cell_type": "code",
   "execution_count": 82,
   "metadata": {
    "ExecuteTime": {
     "end_time": "2019-11-06T00:12:27.872089Z",
     "start_time": "2019-11-06T00:12:27.644196Z"
    },
    "scrolled": true
   },
   "outputs": [
    {
     "data": {
      "text/html": [
       "<div>\n",
       "<style scoped>\n",
       "    .dataframe tbody tr th:only-of-type {\n",
       "        vertical-align: middle;\n",
       "    }\n",
       "\n",
       "    .dataframe tbody tr th {\n",
       "        vertical-align: top;\n",
       "    }\n",
       "\n",
       "    .dataframe thead th {\n",
       "        text-align: right;\n",
       "    }\n",
       "</style>\n",
       "<table border=\"1\" class=\"dataframe\">\n",
       "  <thead>\n",
       "    <tr style=\"text-align: right;\">\n",
       "      <th></th>\n",
       "      <th>undp_hdi</th>\n",
       "      <th>ccodealp</th>\n",
       "      <th>ht_region</th>\n",
       "      <th>gle_cgdpc</th>\n",
       "      <th>imf_pop</th>\n",
       "      <th>wef_imort</th>\n",
       "      <th>who_alc2000</th>\n",
       "      <th>who_tobt</th>\n",
       "      <th>wdi_exph</th>\n",
       "    </tr>\n",
       "  </thead>\n",
       "  <tbody>\n",
       "    <tr>\n",
       "      <th>125</th>\n",
       "      <td>0.351</td>\n",
       "      <td>NER</td>\n",
       "      <td>SubSaharian</td>\n",
       "      <td>644.53998</td>\n",
       "      <td>NaN</td>\n",
       "      <td>NaN</td>\n",
       "      <td>0.15</td>\n",
       "      <td>8.400000</td>\n",
       "      <td>5.821299</td>\n",
       "    </tr>\n",
       "    <tr>\n",
       "      <th>167</th>\n",
       "      <td>0.909</td>\n",
       "      <td>SWE</td>\n",
       "      <td>WesternDem</td>\n",
       "      <td>39000.91000</td>\n",
       "      <td>9.645000</td>\n",
       "      <td>2.300000</td>\n",
       "      <td>7.30</td>\n",
       "      <td>21.900000</td>\n",
       "      <td>11.929840</td>\n",
       "    </tr>\n",
       "    <tr>\n",
       "      <th>12</th>\n",
       "      <td>0.575</td>\n",
       "      <td>BGD</td>\n",
       "      <td>SouthAsia</td>\n",
       "      <td>1796.64000</td>\n",
       "      <td>154.695007</td>\n",
       "      <td>33.099998</td>\n",
       "      <td>0.01</td>\n",
       "      <td>21.799999</td>\n",
       "      <td>2.818999</td>\n",
       "    </tr>\n",
       "    <tr>\n",
       "      <th>101</th>\n",
       "      <td>0.896</td>\n",
       "      <td>LUX</td>\n",
       "      <td>WesternDem</td>\n",
       "      <td>61404.48000</td>\n",
       "      <td>0.550000</td>\n",
       "      <td>1.700000</td>\n",
       "      <td>11.12</td>\n",
       "      <td>24.400000</td>\n",
       "      <td>6.937873</td>\n",
       "    </tr>\n",
       "    <tr>\n",
       "      <th>154</th>\n",
       "      <td>0.431</td>\n",
       "      <td>SLE</td>\n",
       "      <td>SubSaharian</td>\n",
       "      <td>979.95001</td>\n",
       "      <td>6.232000</td>\n",
       "      <td>117.400002</td>\n",
       "      <td>3.78</td>\n",
       "      <td>34.400002</td>\n",
       "      <td>11.089902</td>\n",
       "    </tr>\n",
       "  </tbody>\n",
       "</table>\n",
       "</div>"
      ],
      "text/plain": [
       "     undp_hdi ccodealp    ht_region    gle_cgdpc     imf_pop   wef_imort  \\\n",
       "125     0.351      NER  SubSaharian    644.53998         NaN         NaN   \n",
       "167     0.909      SWE   WesternDem  39000.91000    9.645000    2.300000   \n",
       "12      0.575      BGD    SouthAsia   1796.64000  154.695007   33.099998   \n",
       "101     0.896      LUX   WesternDem  61404.48000    0.550000    1.700000   \n",
       "154     0.431      SLE  SubSaharian    979.95001    6.232000  117.400002   \n",
       "\n",
       "     who_alc2000   who_tobt   wdi_exph  \n",
       "125         0.15   8.400000   5.821299  \n",
       "167         7.30  21.900000  11.929840  \n",
       "12          0.01  21.799999   2.818999  \n",
       "101        11.12  24.400000   6.937873  \n",
       "154         3.78  34.400002  11.089902  "
      ]
     },
     "execution_count": 82,
     "metadata": {},
     "output_type": "execute_result"
    }
   ],
   "source": [
    "%matplotlib inline\n",
    "import pandas as pd\n",
    "import numpy as np\n",
    "import matplotlib.pyplot as plt\n",
    "import scipy.stats as stats\n",
    "\n",
    "\n",
    "df = pd.read_csv('qog_std_cs_jan18.csv')\n",
    "\n",
    "subset = df.sample(frac = 0.5, random_state = 1641) \n",
    "\n",
    "subset_group = subset.loc[:, ['undp_hdi', 'ccodealp', 'ht_region', 'gle_cgdpc', 'imf_pop', 'wef_imort', 'who_alc2000', 'who_tobt', 'wdi_exph']] \n",
    "\n",
    "subset_group['ht_region'] = subset_group['ht_region'].replace([1, 2, 3, 4, 5, 6, 7, 8, 9, 10],\n",
    "['EastEurope','LatAm','NorthAfrica','SubSaharian','WesternDem','EastAsia','SouthEastAsia','SouthAsia','Pacific','Caribbean'])\n",
    "\n",
    "\n",
    "subset_group.head()\n"
   ]
  },
  {
   "cell_type": "markdown",
   "metadata": {},
   "source": [
    "## 2. Genere una función que ingrese su objeto y devuelva:\n",
    "\n",
    "* Por cada variable existente en su objeto, calcule las medidas descriptivas para los casos contínuos\n",
    "* Para cada variable discreta, que calcule la frecuencia.\n",
    "* Reporte las estadísticas descriptivas para gle_cgdpc , undp_hdi , imf_pop .\n",
    "* Compare las estadísticas con algún compañero. ¿Ve alguna diferencia substancial en alguna de ellas?"
   ]
  },
  {
   "cell_type": "code",
   "execution_count": 83,
   "metadata": {
    "ExecuteTime": {
     "end_time": "2019-11-06T00:12:30.773769Z",
     "start_time": "2019-11-06T00:12:30.620253Z"
    },
    "scrolled": false
   },
   "outputs": [
    {
     "name": "stdout",
     "output_type": "stream",
     "text": [
      "undp_hdi\n",
      "____________________\n",
      "count    94.000000\n",
      "mean      0.695415\n",
      "std       0.153491\n",
      "min       0.347000\n",
      "25%       0.593250\n",
      "50%       0.737500\n",
      "75%       0.793750\n",
      "max       0.924000\n",
      "Name: undp_hdi, dtype: float64\n",
      "\n",
      "\n",
      "ccodealp\n",
      "____________________\n",
      "Frecuencia\n",
      "count      97\n",
      "unique     97\n",
      "top       YEM\n",
      "freq        1\n",
      "Name: ccodealp, dtype: object\n",
      "\n",
      "\n",
      "ht_region\n",
      "____________________\n",
      "Frecuencia\n",
      "count              97\n",
      "unique             10\n",
      "top       SubSaharian\n",
      "freq               23\n",
      "Name: ht_region, dtype: object\n",
      "\n",
      "\n",
      "gle_cgdpc\n",
      "____________________\n",
      "count        97.000000\n",
      "mean      13641.850489\n",
      "std       18176.779207\n",
      "min         324.160000\n",
      "25%        2685.500000\n",
      "50%        8507.650400\n",
      "75%       15997.670000\n",
      "max      104049.440000\n",
      "Name: gle_cgdpc, dtype: float64\n",
      "\n",
      "\n",
      "imf_pop\n",
      "____________________\n",
      "count     71.000000\n",
      "mean      29.322042\n",
      "std       48.559793\n",
      "min        0.018000\n",
      "25%        3.168000\n",
      "50%        8.212000\n",
      "75%       32.878500\n",
      "max      252.164993\n",
      "Name: imf_pop, dtype: float64\n",
      "\n",
      "\n",
      "wef_imort\n",
      "____________________\n",
      "count     74.000000\n",
      "mean      24.201351\n",
      "std       25.256045\n",
      "min        1.700000\n",
      "25%        6.525000\n",
      "50%       15.050000\n",
      "75%       31.899999\n",
      "max      117.400002\n",
      "Name: wef_imort, dtype: float64\n",
      "\n",
      "\n",
      "who_alc2000\n",
      "____________________\n",
      "count    92.000000\n",
      "mean      4.618370\n",
      "std       3.563758\n",
      "min       0.000000\n",
      "25%       1.430000\n",
      "50%       4.095000\n",
      "75%       7.372500\n",
      "max      12.680000\n",
      "Name: who_alc2000, dtype: float64\n",
      "\n",
      "\n",
      "who_tobt\n",
      "____________________\n",
      "count    60.000000\n",
      "mean     24.128333\n",
      "std       9.829980\n",
      "min       4.700000\n",
      "25%      16.175001\n",
      "50%      23.799999\n",
      "75%      30.475000\n",
      "max      43.400002\n",
      "Name: who_tobt, dtype: float64\n",
      "\n",
      "\n",
      "wdi_exph\n",
      "____________________\n",
      "count    94.000000\n",
      "mean      6.734551\n",
      "std       2.614790\n",
      "min       1.475303\n",
      "25%       4.982963\n",
      "50%       6.249361\n",
      "75%       8.287694\n",
      "max      17.135723\n",
      "Name: wdi_exph, dtype: float64\n",
      "\n",
      "\n"
     ]
    },
    {
     "data": {
      "text/html": [
       "<div>\n",
       "<style scoped>\n",
       "    .dataframe tbody tr th:only-of-type {\n",
       "        vertical-align: middle;\n",
       "    }\n",
       "\n",
       "    .dataframe tbody tr th {\n",
       "        vertical-align: top;\n",
       "    }\n",
       "\n",
       "    .dataframe thead th {\n",
       "        text-align: right;\n",
       "    }\n",
       "</style>\n",
       "<table border=\"1\" class=\"dataframe\">\n",
       "  <thead>\n",
       "    <tr style=\"text-align: right;\">\n",
       "      <th></th>\n",
       "      <th>undp_hdi</th>\n",
       "      <th>gle_cgdpc</th>\n",
       "      <th>imf_pop</th>\n",
       "      <th>wef_imort</th>\n",
       "      <th>who_alc2000</th>\n",
       "      <th>who_tobt</th>\n",
       "      <th>wdi_exph</th>\n",
       "    </tr>\n",
       "  </thead>\n",
       "  <tbody>\n",
       "    <tr>\n",
       "      <th>count</th>\n",
       "      <td>94.000000</td>\n",
       "      <td>97.000000</td>\n",
       "      <td>71.000000</td>\n",
       "      <td>74.000000</td>\n",
       "      <td>92.000000</td>\n",
       "      <td>60.000000</td>\n",
       "      <td>94.000000</td>\n",
       "    </tr>\n",
       "    <tr>\n",
       "      <th>mean</th>\n",
       "      <td>0.695415</td>\n",
       "      <td>13641.850489</td>\n",
       "      <td>29.322042</td>\n",
       "      <td>24.201351</td>\n",
       "      <td>4.618370</td>\n",
       "      <td>24.128333</td>\n",
       "      <td>6.734551</td>\n",
       "    </tr>\n",
       "    <tr>\n",
       "      <th>std</th>\n",
       "      <td>0.153491</td>\n",
       "      <td>18176.779207</td>\n",
       "      <td>48.559793</td>\n",
       "      <td>25.256045</td>\n",
       "      <td>3.563758</td>\n",
       "      <td>9.829980</td>\n",
       "      <td>2.614790</td>\n",
       "    </tr>\n",
       "    <tr>\n",
       "      <th>min</th>\n",
       "      <td>0.347000</td>\n",
       "      <td>324.160000</td>\n",
       "      <td>0.018000</td>\n",
       "      <td>1.700000</td>\n",
       "      <td>0.000000</td>\n",
       "      <td>4.700000</td>\n",
       "      <td>1.475303</td>\n",
       "    </tr>\n",
       "    <tr>\n",
       "      <th>25%</th>\n",
       "      <td>0.593250</td>\n",
       "      <td>2685.500000</td>\n",
       "      <td>3.168000</td>\n",
       "      <td>6.525000</td>\n",
       "      <td>1.430000</td>\n",
       "      <td>16.175001</td>\n",
       "      <td>4.982963</td>\n",
       "    </tr>\n",
       "    <tr>\n",
       "      <th>50%</th>\n",
       "      <td>0.737500</td>\n",
       "      <td>8507.650400</td>\n",
       "      <td>8.212000</td>\n",
       "      <td>15.050000</td>\n",
       "      <td>4.095000</td>\n",
       "      <td>23.799999</td>\n",
       "      <td>6.249361</td>\n",
       "    </tr>\n",
       "    <tr>\n",
       "      <th>75%</th>\n",
       "      <td>0.793750</td>\n",
       "      <td>15997.670000</td>\n",
       "      <td>32.878500</td>\n",
       "      <td>31.899999</td>\n",
       "      <td>7.372500</td>\n",
       "      <td>30.475000</td>\n",
       "      <td>8.287694</td>\n",
       "    </tr>\n",
       "    <tr>\n",
       "      <th>max</th>\n",
       "      <td>0.924000</td>\n",
       "      <td>104049.440000</td>\n",
       "      <td>252.164993</td>\n",
       "      <td>117.400002</td>\n",
       "      <td>12.680000</td>\n",
       "      <td>43.400002</td>\n",
       "      <td>17.135723</td>\n",
       "    </tr>\n",
       "  </tbody>\n",
       "</table>\n",
       "</div>"
      ],
      "text/plain": [
       "        undp_hdi      gle_cgdpc     imf_pop   wef_imort  who_alc2000  \\\n",
       "count  94.000000      97.000000   71.000000   74.000000    92.000000   \n",
       "mean    0.695415   13641.850489   29.322042   24.201351     4.618370   \n",
       "std     0.153491   18176.779207   48.559793   25.256045     3.563758   \n",
       "min     0.347000     324.160000    0.018000    1.700000     0.000000   \n",
       "25%     0.593250    2685.500000    3.168000    6.525000     1.430000   \n",
       "50%     0.737500    8507.650400    8.212000   15.050000     4.095000   \n",
       "75%     0.793750   15997.670000   32.878500   31.899999     7.372500   \n",
       "max     0.924000  104049.440000  252.164993  117.400002    12.680000   \n",
       "\n",
       "        who_tobt   wdi_exph  \n",
       "count  60.000000  94.000000  \n",
       "mean   24.128333   6.734551  \n",
       "std     9.829980   2.614790  \n",
       "min     4.700000   1.475303  \n",
       "25%    16.175001   4.982963  \n",
       "50%    23.799999   6.249361  \n",
       "75%    30.475000   8.287694  \n",
       "max    43.400002  17.135723  "
      ]
     },
     "execution_count": 83,
     "metadata": {},
     "output_type": "execute_result"
    }
   ],
   "source": [
    "def getdescribe(dataframe): \n",
    "    for key, value in dataframe.iteritems():\n",
    "        if pd.api.types.is_numeric_dtype(value):\n",
    "            print(key)\n",
    "            print('____________________')\n",
    "            print(value.describe())\n",
    "            print('\\n')\n",
    "        else:\n",
    "            print(key)\n",
    "            print('____________________')\n",
    "            print('Frecuencia')\n",
    "            print(value.describe())\n",
    "            print('\\n')            \n",
    "\n",
    "getdescribe(subset_group)\n",
    "\n",
    "\n",
    "subset_group.describe()"
   ]
  },
  {
   "cell_type": "markdown",
   "metadata": {},
   "source": [
    "* Compare las estadísticas con algún compañero. ¿Ve alguna diferencia substancial en alguna de ellas?"
   ]
  },
  {
   "cell_type": "code",
   "execution_count": 84,
   "metadata": {
    "ExecuteTime": {
     "end_time": "2019-11-06T00:12:42.214862Z",
     "start_time": "2019-11-06T00:12:42.201846Z"
    }
   },
   "outputs": [
    {
     "data": {
      "image/png": "[encoded data removed]",
      "text/plain": [
       "<IPython.core.display.Image object>"
      ]
     },
     "execution_count": 84,
     "metadata": {},
     "output_type": "execute_result"
    }
   ],
   "source": [
    "from IPython.display import Image\n",
    "Image(filename='imagen.png')"
   ]
  },
  {
   "cell_type": "markdown",
   "metadata": {},
   "source": [
    "En función a la comparación nos podemos percatar de que no existen grandes diferencias, ésto es debido a que fue realizado de forma aleatoria y se tiene un tamaño de muestra sustancial que permite generar una tendencia."
   ]
  },
  {
   "cell_type": "markdown",
   "metadata": {},
   "source": [
    "## 3. Genere una función que liste las observaciones perdidas de una variable\n",
    "\n",
    "* La función debe contener los siguientes argumentos:\n",
    "    * dataframe : La función debe ingresar un objeto DataFrame.\n",
    "    * var : Variable a inspeccionar.\n",
    "    * print_list : Opción para imprimir la lista de observaciones perdidas en la variable. Debe ser False por defecto.\n",
    "* La función debe retornar la cantidad de casos perdidos y el porcentaje correspondiente.\n",
    "* Cuando print_list = True , debe retornar la lista de casos.\n",
    "* Analice todas las variables y sus casos perdidos.\n",
    "\n",
    "Para las 3 variables con un mayor porcentaje de casos perdidos, solicite la lista de países con\n",
    "ausencia de datos."
   ]
  },
  {
   "cell_type": "code",
   "execution_count": 85,
   "metadata": {
    "ExecuteTime": {
     "end_time": "2019-11-06T00:12:44.619844Z",
     "start_time": "2019-11-06T00:12:44.499704Z"
    },
    "scrolled": true
   },
   "outputs": [
    {
     "name": "stdout",
     "output_type": "stream",
     "text": [
      "undp_hdi\n",
      "____________________\n",
      "Cantidad de perdidos 3\n",
      "Porcentaje de perdidos: 3.09%\n",
      "\n",
      "\n",
      "ccodealp\n",
      "____________________\n",
      "Cantidad de perdidos 0\n",
      "Porcentaje de perdidos: 0.0%\n",
      "\n",
      "\n",
      "ht_region\n",
      "____________________\n",
      "Cantidad de perdidos 0\n",
      "Porcentaje de perdidos: 0.0%\n",
      "\n",
      "\n",
      "gle_cgdpc\n",
      "____________________\n",
      "Cantidad de perdidos 0\n",
      "Porcentaje de perdidos: 0.0%\n",
      "\n",
      "\n",
      "imf_pop\n",
      "____________________\n",
      "Cantidad de perdidos 26\n",
      "Porcentaje de perdidos: 26.8%\n",
      "\n",
      "\n",
      "wef_imort\n",
      "____________________\n",
      "Cantidad de perdidos 23\n",
      "Porcentaje de perdidos: 23.71%\n",
      "\n",
      "\n",
      "who_alc2000\n",
      "____________________\n",
      "Cantidad de perdidos 5\n",
      "Porcentaje de perdidos: 5.15%\n",
      "\n",
      "\n",
      "who_tobt\n",
      "____________________\n",
      "Cantidad de perdidos 37\n",
      "Porcentaje de perdidos: 38.14%\n",
      "\n",
      "\n",
      "wdi_exph\n",
      "____________________\n",
      "Cantidad de perdidos 3\n",
      "Porcentaje de perdidos: 3.09%\n",
      "\n",
      "\n",
      "Lista de países con datos perdidos para: who_tobt\n",
      "['KNA' 'TKM' 'AGO' 'IRQ' 'DJI' 'BTN' 'SUR' 'GRD' 'PLW' 'ARE' 'VEN' 'TCD'\n",
      " 'CIV' 'TJK' 'BLZ' 'CAF' 'LIE' 'SLB' 'VCT' 'ATG' 'SOM' 'TLS' 'AFG' 'QAT'\n",
      " 'YEM' 'TTO' 'TGO' 'MHL' 'ZWE' 'BDI' 'KWT' 'MDV' 'COD' 'GTM' 'PNG' 'PRK'\n",
      " 'NIC']\n",
      "\n",
      "\n",
      "Lista de países con datos perdidos para: imf_pop\n",
      "['NER' 'KNA' 'TKM' 'DJI' 'CHN' 'GRD' 'ARE' 'VEN' 'AND' 'TCD' 'CUB' 'CRI'\n",
      " 'CAF' 'LIE' 'ATG' 'DOM' 'SOM' 'COG' 'YEM' 'NAM' 'BDI' 'COD' 'GTM' 'ALB'\n",
      " 'LBR' 'PRK']\n",
      "\n",
      "\n",
      "Lista de países con datos perdidos para: wef_imort\n",
      "['NER' 'KNA' 'TKM' 'IRQ' 'DJI' 'GRD' 'PLW' 'AND' 'CUB' 'CAF' 'LIE' 'SLB'\n",
      " 'VCT' 'ATG' 'SOM' 'AFG' 'COG' 'TGO' 'MHL' 'UZB' 'MDV' 'PNG' 'PRK']\n",
      "\n",
      "\n"
     ]
    }
   ],
   "source": [
    "def getna(dataframe,var,print_list = False):  \n",
    "    \"\"\"\n",
    "    Función que liste las observaciones perdidas de una variable\n",
    "\n",
    "    Parameters:\n",
    "    dataframe (DataFrame): La función debe ingresar un objeto DataFrame\n",
    "    var (str): Variable a inspeccionar\n",
    "    print_list (bool): Opción para imprimir la lista de observaciones perdidas en la variable. Debe ser False por defecto.\n",
    "\n",
    "    Returns:\n",
    "    cantidad_perdidos: Retorna la cantidad de casos perdidos\n",
    "    porcentaje_perdidos: Retorna el porcentaje correspondiente de casos perdidos\n",
    "    lista : Lista de observaciones perdidas (en caso de print_list == True)\n",
    "\n",
    "   \"\"\"    \n",
    "    temp = dataframe\n",
    "    temp['flagnull'] = temp[var].isnull()\n",
    "    total_elementos = len(temp)\n",
    "    cantidad_perdidos = total_elementos - temp['flagnull'].value_counts().loc[False]\n",
    "    porcentaje_perdidos = (cantidad_perdidos/total_elementos)*100\n",
    "    del temp['flagnull']\n",
    "\n",
    "    if print_list:\n",
    "       lista = temp.loc[temp[var].isnull()]['ccodealp'].unique()\n",
    "       return cantidad_perdidos, porcentaje_perdidos, lista\n",
    "    else:\n",
    "       return cantidad_perdidos, porcentaje_perdidos\n",
    "    \n",
    "lista = []\n",
    "dic_perdidos = {}\n",
    "# Registrando los nombres de columnas en una lista\n",
    "for value in subset_group:\n",
    "    lista.append(value)\n",
    "\n",
    "# Analizando todas las variables con sus casos perdidos    \n",
    "for value in range(len(lista)):\n",
    "    codigo_columna = lista[value]\n",
    "    c_perdidos, p_perdidods = getna(subset_group,codigo_columna)\n",
    "    dic_perdidos[codigo_columna] = c_perdidos\n",
    "    print(lista[value])\n",
    "    print('____________________')\n",
    "    print('Cantidad de perdidos {}'.format(c_perdidos))\n",
    "    print('Porcentaje de perdidos: {}%'.format(round(p_perdidods,2)))   \n",
    "    print('\\n')    \n",
    "    \n",
    "\n",
    "# Obteniendo los países perdidos para aquellas tres variables con mayor porcentaje de datos    \n",
    "dic_perdidos = {k: v for k, v in sorted(dic_perdidos.items(), key=lambda x: x[1], reverse=True)}\n",
    "\n",
    "contador = 0\n",
    "for key in dic_perdidos:\n",
    "    if (contador < 3):\n",
    "        codigo_columna = key\n",
    "        c_perdidos, p_perdidods, lista_perdidos = getna(subset_group,codigo_columna, True)\n",
    "        print('Lista de países con datos perdidos para: {}'.format(key))\n",
    "        print('{}'.format(lista_perdidos))   \n",
    "        print('\\n')\n",
    "    contador += 1"
   ]
  },
  {
   "cell_type": "markdown",
   "metadata": {},
   "source": [
    "## 4. Grafique los histogramas\n",
    "\n",
    "* Genere una función que grafique un histograma en conjunto y señale las medias.\n",
    "* La función debe incluír los siguientes argumentos:\n",
    "    * dataframe : La base de datos donde se encuentran los datos específicos.\n",
    "    * var : La variable a graficar.\n",
    "    * sample_mean : Booleano. Si es verdadero, debe generar una recta vertical indicando la media de la variable en la selección muestral. Por defecto debe ser False.\n",
    "    * true_mean : Booleano. Si es verdadero, debe generar una recta vertical indicando la media de variable en la base de datos completa. \n",
    "    \n",
    "* Implemente las funciones para las 4 variables seleccionadas según su grupo.\n",
    "\n",
    "¿En qué variables la media de la submuestra es mayor a la de la muestra completa?\n",
    "\n"
   ]
  },
  {
   "cell_type": "code",
   "execution_count": 86,
   "metadata": {
    "ExecuteTime": {
     "end_time": "2019-11-06T00:12:53.060857Z",
     "start_time": "2019-11-06T00:12:53.037508Z"
    }
   },
   "outputs": [],
   "source": [
    "def gethistograma(subdf, var,true_mean,sample_mean = False):  \n",
    "    \"\"\"\n",
    "    Función que liste las observaciones perdidas de una variable\n",
    "\n",
    "    Parameters:\n",
    "    dataframe (Dataframe): La base de datos donde se encuentran los datos específicos.\n",
    "    subdf (Dataframe): La base de datos donde se encuentran los datos específicos.\n",
    "    var (str): La variable a graficar.\n",
    "    sample_mean (bool): ooleano. Si es verdadero, debe generar una recta vertical indicando la media de la variable en la selección muestral. Por defecto debe ser False\n",
    "    true_mean : Booleano. Si es verdadero, debe generar una recta vertical indicando la media de variable en la base de datos completa\n",
    "\n",
    "    Returns:  Graficacion de Histograma\n",
    "   \"\"\"  \n",
    "    \n",
    "    subdf_mean = np.mean(subdf[var].dropna())\n",
    "\n",
    "    df_mean = np.mean(df[var].dropna())\n",
    "    \n",
    "    print('Media muestra completa {}'.format(df_mean))\n",
    "    print('Media submuestra {}'.format(subdf_mean))    \n",
    "\n",
    "    subhisto_dropna = subdf[var].dropna()\n",
    "    \n",
    "    plt.hist(subhisto_dropna, color='grey', alpha=.4)\n",
    "    if (sample_mean):\n",
    "        plt.axvline(subdf_mean, color = 'tomato', lw=3, linestyle = '--', label=\"Media Submuestra\" )\n",
    "    if (true_mean):    \n",
    "        plt.axvline(df_mean, color = 'blue', lw=3, linestyle = '--', label=\"Media Muestra Completa\")\n",
    "    plt.title(\"Variable {}\".format(var))    \n",
    "    plt.legend(loc='upper right')\n",
    "    if (subdf_mean > df_mean):\n",
    "        print('Para el caso de {} la media de la submuestra es mayor a la muestra completa'.format(var))"
   ]
  },
  {
   "cell_type": "code",
   "execution_count": 68,
   "metadata": {
    "ExecuteTime": {
     "end_time": "2019-11-06T00:06:23.622559Z",
     "start_time": "2019-11-06T00:06:23.327498Z"
    },
    "scrolled": true
   },
   "outputs": [
    {
     "name": "stdout",
     "output_type": "stream",
     "text": [
      "Media muestra completa 24.086897087097167\n",
      "Media submuestra 24.20135136230572\n",
      "Para el caso de wef_imort la media de la submuestra es mayor a la muestra completa\n"
     ]
    },
    {
     "data": {
      "image/png": "[encoded data removed]",
      "text/plain": [
       "<Figure size 432x288 with 1 Axes>"
      ]
     },
     "metadata": {
      "needs_background": "light"
     },
     "output_type": "display_data"
    }
   ],
   "source": [
    "gethistograma(subset_group,'wef_imort',True,True)   "
   ]
  },
  {
   "cell_type": "code",
   "execution_count": 87,
   "metadata": {
    "ExecuteTime": {
     "end_time": "2019-11-06T00:12:56.437237Z",
     "start_time": "2019-11-06T00:12:56.159146Z"
    }
   },
   "outputs": [
    {
     "name": "stdout",
     "output_type": "stream",
     "text": [
      "Media muestra completa 4.949340671727473\n",
      "Media submuestra 4.618369594419565\n"
     ]
    },
    {
     "data": {
      "image/png": "[encoded data removed]",
      "text/plain": [
       "<Figure size 432x288 with 1 Axes>"
      ]
     },
     "metadata": {
      "needs_background": "light"
     },
     "output_type": "display_data"
    }
   ],
   "source": [
    "gethistograma(subset_group,'who_alc2000',True,True) \n"
   ]
  },
  {
   "cell_type": "code",
   "execution_count": 88,
   "metadata": {
    "ExecuteTime": {
     "end_time": "2019-11-06T00:12:59.204495Z",
     "start_time": "2019-11-06T00:12:58.909251Z"
    }
   },
   "outputs": [
    {
     "name": "stdout",
     "output_type": "stream",
     "text": [
      "Media muestra completa 23.285483875000008\n",
      "Media submuestra 24.128333311666673\n",
      "Para el caso de who_tobt la media de la submuestra es mayor a la muestra completa\n"
     ]
    },
    {
     "data": {
      "image/png": "[encoded data removed]",
      "text/plain": [
       "<Figure size 432x288 with 1 Axes>"
      ]
     },
     "metadata": {
      "needs_background": "light"
     },
     "output_type": "display_data"
    }
   ],
   "source": [
    "gethistograma(subset_group,'who_tobt',True,True)     \n"
   ]
  },
  {
   "cell_type": "code",
   "execution_count": 89,
   "metadata": {
    "ExecuteTime": {
     "end_time": "2019-11-06T00:13:01.619079Z",
     "start_time": "2019-11-06T00:13:01.302130Z"
    }
   },
   "outputs": [
    {
     "name": "stdout",
     "output_type": "stream",
     "text": [
      "Media muestra completa 6.783758504767167\n",
      "Media submuestra 6.73455144750311\n"
     ]
    },
    {
     "data": {
      "image/png": "[encoded data removed]",
      "text/plain": [
       "<Figure size 432x288 with 1 Axes>"
      ]
     },
     "metadata": {
      "needs_background": "light"
     },
     "output_type": "display_data"
    }
   ],
   "source": [
    "gethistograma(subset_group,'wdi_exph',True,True)     \n"
   ]
  },
  {
   "cell_type": "markdown",
   "metadata": {},
   "source": [
    "¿En qué variables la media de la submuestra es mayor a la de la muestra completa?"
   ]
  },
  {
   "cell_type": "code",
   "execution_count": 90,
   "metadata": {
    "ExecuteTime": {
     "end_time": "2019-11-06T00:13:04.507088Z",
     "start_time": "2019-11-06T00:13:04.010704Z"
    }
   },
   "outputs": [
    {
     "name": "stdout",
     "output_type": "stream",
     "text": [
      "wef_imort\n",
      "Media muestra completa 24.086897087097167\n",
      "Media submuestra 24.20135136230572\n",
      "Para el caso de wef_imort la media de la submuestra es mayor a la muestra completa\n",
      "\n",
      "\n",
      "who_tobt\n",
      "Media muestra completa 23.285483875000008\n",
      "Media submuestra 24.128333311666673\n",
      "Para el caso de who_tobt la media de la submuestra es mayor a la muestra completa\n",
      "\n",
      "\n"
     ]
    },
    {
     "data": {
      "image/png": "[encoded data removed]",
      "text/plain": [
       "<Figure size 576x576 with 2 Axes>"
      ]
     },
     "metadata": {
      "needs_background": "light"
     },
     "output_type": "display_data"
    }
   ],
   "source": [
    "plt.figure(figsize=(8, 8))\n",
    "print('wef_imort')\n",
    "plt.subplot(2, 1, 1)\n",
    "gethistograma(subset_group,'wef_imort',True,True) \n",
    "print('\\n')\n",
    "print('who_tobt')\n",
    "plt.subplot(2, 1, 2)\n",
    "gethistograma(subset_group,'who_tobt',True,True)     \n",
    "print('\\n')\n"
   ]
  },
  {
   "cell_type": "markdown",
   "metadata": {},
   "source": [
    "## 5. Genere una función que devuelva un dotplot\n",
    "\n",
    "La función debe contener los siguientes argumentos como argumentos:\n",
    "* dataframe : La tabla de datos donde buscar las variables.\n",
    "* plot_var : La variable a analizar y extraer las medias.\n",
    "* plot_by : La variable agrupadora.\n",
    "* global_stat : Booleano. Si es True debe graficar la media global de la variable. Por defecto debe ser False .\n",
    "* statistic: Debe presentar dos opciones. mean para la media y median para la mediana. Por defecto debe ser mean .\n",
    "\n",
    "Implemente la función en las 3 variables con una menor cantidad de datos perdidos."
   ]
  },
  {
   "cell_type": "code",
   "execution_count": 91,
   "metadata": {
    "ExecuteTime": {
     "end_time": "2019-11-06T00:13:07.401650Z",
     "start_time": "2019-11-06T00:13:07.376089Z"
    },
    "scrolled": true
   },
   "outputs": [],
   "source": [
    "def getdotplot(dataframe,plot_var,plot_by,global_stat = False, statistic = 'mean'):\n",
    "    \"\"\"\n",
    "    Función que liste las observaciones perdidas de una variable\n",
    "\n",
    "    Parameters:\n",
    "    dataframe (Dataframe): La base de datos donde se encuentran los datos específicos.\n",
    "    plot_var (str): La variable a analizar y extraer las medias\n",
    "    plot_by (str): La variable agrupadora\n",
    "    global_stat: Booleano. Si es True debe graficar la media global de la variable. Por defecto debe ser False     \n",
    "    statistic: Debe presentar dos opciones. mean para la media y median para la mediana. Por defecto debe ser mean\n",
    "\n",
    "    Returns:  Graficacion de Dotplot\n",
    "\n",
    "\n",
    "   \"\"\"      \n",
    "    df_dropna = dataframe.dropna(subset=[plot_var]) \n",
    "    plt.title(\"Dotplot caso: {}\".format(statistic))\n",
    "    if (statistic == 'mean'):\n",
    "        group_stat = round(df_dropna.groupby(plot_by)[plot_var].mean(),2)\n",
    "        if (global_stat):\n",
    "            plt.axvline(df_dropna[plot_var].mean(), color = 'tomato', linestyle = '--', )\n",
    "        plt.plot(group_stat.values, group_stat.index, 'o', color = 'blue')\n",
    "    else:\n",
    "        group_stat = round(df_dropna.groupby(plot_by)[plot_var].median(),2)\n",
    "        if (global_stat):\n",
    "            plt.axvline(df_dropna[plot_var].median(), color = 'green', linestyle = '--')\n",
    "        plt.plot(group_stat.values, group_stat.index, 'o', color = 'blue')        \n"
   ]
  },
  {
   "cell_type": "code",
   "execution_count": 95,
   "metadata": {
    "ExecuteTime": {
     "end_time": "2019-11-06T00:15:50.250894Z",
     "start_time": "2019-11-06T00:15:49.953387Z"
    }
   },
   "outputs": [
    {
     "data": {
      "image/png": "[encoded data removed]",
      "text/plain": [
       "<Figure size 576x576 with 1 Axes>"
      ]
     },
     "metadata": {
      "needs_background": "light"
     },
     "output_type": "display_data"
    }
   ],
   "source": [
    "plt.figure(figsize=(8, 8))\n",
    "plt.subplot(2, 1, 1)        \n",
    "getdotplot(subset_group,'undp_hdi','ht_region',True,'mean')  \n",
    "#plt.subplot(2, 1, 2)\n",
    "#getdotplot(subset_group,'undp_hdi','ht_region',True,'median')   "
   ]
  },
  {
   "cell_type": "code",
   "execution_count": 96,
   "metadata": {
    "ExecuteTime": {
     "end_time": "2019-11-06T00:15:57.393812Z",
     "start_time": "2019-11-06T00:15:57.158832Z"
    }
   },
   "outputs": [
    {
     "data": {
      "image/png": "[encoded data removed]",
      "text/plain": [
       "<Figure size 576x576 with 1 Axes>"
      ]
     },
     "metadata": {
      "needs_background": "light"
     },
     "output_type": "display_data"
    }
   ],
   "source": [
    "plt.figure(figsize=(8, 8))\n",
    "plt.subplot(2, 1, 1)        \n",
    "getdotplot(subset_group,'gle_cgdpc','ht_region',True,'mean')        \n",
    "#plt.subplot(2, 1, 2)        \n",
    "#getdotplot(subset_group,'gle_cgdpc','ht_region',True,'median') "
   ]
  },
  {
   "cell_type": "code",
   "execution_count": 97,
   "metadata": {
    "ExecuteTime": {
     "end_time": "2019-11-06T00:16:04.326167Z",
     "start_time": "2019-11-06T00:16:04.051266Z"
    }
   },
   "outputs": [
    {
     "data": {
      "image/png": "[encoded data removed]",
      "text/plain": [
       "<Figure size 576x576 with 1 Axes>"
      ]
     },
     "metadata": {
      "needs_background": "light"
     },
     "output_type": "display_data"
    }
   ],
   "source": [
    "plt.figure(figsize=(8, 8))\n",
    "plt.subplot(2, 1, 1)        \n",
    "getdotplot(subset_group,'wdi_exph','ht_region',True,'mean')        \n",
    "#plt.subplot(2, 1, 2)        \n",
    "#getdotplot(subset_group,'wdi_exph','ht_region',True,'median') "
   ]
  },
  {
   "cell_type": "markdown",
   "metadata": {},
   "source": [
    "## 6. Guarde la base de datos\n",
    "La submuestra creada tiene un método llamado to_csv .\n",
    "\n",
    "Acceda a éste y guarde la base de datos con la siguiente nomenclatura:\n",
    "\n",
    "subsample_iniciales.csv"
   ]
  },
  {
   "cell_type": "code",
   "execution_count": 98,
   "metadata": {
    "ExecuteTime": {
     "end_time": "2019-11-06T00:16:06.905846Z",
     "start_time": "2019-11-06T00:16:06.862062Z"
    }
   },
   "outputs": [],
   "source": [
    "subset_group.to_csv('subsample_jrc.csv', encoding='utf-8', index=False)\n"
   ]
  }
 ],
 "metadata": {
  "kernelspec": {
   "display_name": "Python 3",
   "language": "python",
   "name": "python3"
  },
  "language_info": {
   "codemirror_mode": {
    "name": "ipython",
    "version": 3
   },
   "file_extension": ".py",
   "mimetype": "text/x-python",
   "name": "python",
   "nbconvert_exporter": "python",
   "pygments_lexer": "ipython3",
   "version": "3.7.3"
  },
  "varInspector": {
   "cols": {
    "lenName": 16,
    "lenType": 16,
    "lenVar": 40
   },
   "kernels_config": {
    "python": {
     "delete_cmd_postfix": "",
     "delete_cmd_prefix": "del ",
     "library": "var_list.py",
     "varRefreshCmd": "print(var_dic_list())"
    },
    "r": {
     "delete_cmd_postfix": ") ",
     "delete_cmd_prefix": "rm(",
     "library": "var_list.r",
     "varRefreshCmd": "cat(var_dic_list()) "
    }
   },
   "types_to_exclude": [
    "module",
    "function",
    "builtin_function_or_method",
    "instance",
    "_Feature"
   ],
   "window_display": false
  }
 },
 "nbformat": 4,
 "nbformat_minor": 2
}
