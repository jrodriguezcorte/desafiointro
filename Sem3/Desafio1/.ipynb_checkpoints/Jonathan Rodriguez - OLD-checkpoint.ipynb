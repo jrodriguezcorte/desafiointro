{
 "cells": [
  {
   "cell_type": "markdown",
   "metadata": {},
   "source": [
    "## 1. Genere una submuestra de casos\n",
    "\n",
    "* Utilice los últimos 4 dígitos de su rut como semilla pseudoaleatoria.\n",
    "* Seleccione el 50% de los casos.\n",
    "* Cada base generada debe contener los siguientes elementos:\n",
    "  * El índice de desarrollo humano ( _undp_hdi_ )\n",
    "  * El nombre del país ( _ccodealp_ )\n",
    "  * La región a la que pertenece ( _ht_region_ )\n",
    "  * El PIB per capita. ( _gle_cgdpc_ )\n",
    "  * El total de la población ( _imf_pop_ )\n",
    "  \n",
    "* Si su apellido está entre la N y la Z, escoja las siguientes variables del módulo Salud:\n",
    "   * _wef_imort_ : Infant mortality, deaths/1000 live births\n",
    "   * _who_alc2000_ : Alcohol consumption per capita (2000-)\n",
    "   * _who_tobt_ : Current smoking of any tobacco product (Total).\n",
    "   * _wdi_exph_ : Government expenditure on health, total (% of GDP)\n",
    "   * Guarde esta tabla procesada en un nuevo objeto\n",
    "   * Renombre las categorías de la variable ht_region de números a regiones  "
   ]
  },
  {
   "cell_type": "code",
   "execution_count": 96,
   "metadata": {
    "ExecuteTime": {
     "end_time": "2019-10-23T21:53:39.925909Z",
     "start_time": "2019-10-23T21:53:39.698146Z"
    },
    "scrolled": true
   },
   "outputs": [
    {
     "data": {
      "text/html": [
       "<div>\n",
       "<style scoped>\n",
       "    .dataframe tbody tr th:only-of-type {\n",
       "        vertical-align: middle;\n",
       "    }\n",
       "\n",
       "    .dataframe tbody tr th {\n",
       "        vertical-align: top;\n",
       "    }\n",
       "\n",
       "    .dataframe thead th {\n",
       "        text-align: right;\n",
       "    }\n",
       "</style>\n",
       "<table border=\"1\" class=\"dataframe\">\n",
       "  <thead>\n",
       "    <tr style=\"text-align: right;\">\n",
       "      <th></th>\n",
       "      <th>undp_hdi</th>\n",
       "      <th>ccodealp</th>\n",
       "      <th>ht_region</th>\n",
       "      <th>gle_cgdpc</th>\n",
       "      <th>imf_pop</th>\n",
       "      <th>wef_imort</th>\n",
       "      <th>who_alc2000</th>\n",
       "      <th>who_tobt</th>\n",
       "      <th>wdi_exph</th>\n",
       "      <th>region_recod</th>\n",
       "    </tr>\n",
       "  </thead>\n",
       "  <tbody>\n",
       "    <tr>\n",
       "      <th>125</th>\n",
       "      <td>0.351</td>\n",
       "      <td>NER</td>\n",
       "      <td>4</td>\n",
       "      <td>644.53998</td>\n",
       "      <td>NaN</td>\n",
       "      <td>NaN</td>\n",
       "      <td>0.15</td>\n",
       "      <td>8.400000</td>\n",
       "      <td>5.821299</td>\n",
       "      <td>SubSaharian</td>\n",
       "    </tr>\n",
       "    <tr>\n",
       "      <th>167</th>\n",
       "      <td>0.909</td>\n",
       "      <td>SWE</td>\n",
       "      <td>5</td>\n",
       "      <td>39000.91000</td>\n",
       "      <td>9.645000</td>\n",
       "      <td>2.300000</td>\n",
       "      <td>7.30</td>\n",
       "      <td>21.900000</td>\n",
       "      <td>11.929840</td>\n",
       "      <td>WesternDem</td>\n",
       "    </tr>\n",
       "    <tr>\n",
       "      <th>12</th>\n",
       "      <td>0.575</td>\n",
       "      <td>BGD</td>\n",
       "      <td>8</td>\n",
       "      <td>1796.64000</td>\n",
       "      <td>154.695007</td>\n",
       "      <td>33.099998</td>\n",
       "      <td>0.01</td>\n",
       "      <td>21.799999</td>\n",
       "      <td>2.818999</td>\n",
       "      <td>SouthAsia</td>\n",
       "    </tr>\n",
       "    <tr>\n",
       "      <th>101</th>\n",
       "      <td>0.896</td>\n",
       "      <td>LUX</td>\n",
       "      <td>5</td>\n",
       "      <td>61404.48000</td>\n",
       "      <td>0.550000</td>\n",
       "      <td>1.700000</td>\n",
       "      <td>11.12</td>\n",
       "      <td>24.400000</td>\n",
       "      <td>6.937873</td>\n",
       "      <td>WesternDem</td>\n",
       "    </tr>\n",
       "    <tr>\n",
       "      <th>154</th>\n",
       "      <td>0.431</td>\n",
       "      <td>SLE</td>\n",
       "      <td>4</td>\n",
       "      <td>979.95001</td>\n",
       "      <td>6.232000</td>\n",
       "      <td>117.400002</td>\n",
       "      <td>3.78</td>\n",
       "      <td>34.400002</td>\n",
       "      <td>11.089902</td>\n",
       "      <td>SubSaharian</td>\n",
       "    </tr>\n",
       "  </tbody>\n",
       "</table>\n",
       "</div>"
      ],
      "text/plain": [
       "     undp_hdi ccodealp  ht_region    gle_cgdpc     imf_pop   wef_imort  \\\n",
       "125     0.351      NER          4    644.53998         NaN         NaN   \n",
       "167     0.909      SWE          5  39000.91000    9.645000    2.300000   \n",
       "12      0.575      BGD          8   1796.64000  154.695007   33.099998   \n",
       "101     0.896      LUX          5  61404.48000    0.550000    1.700000   \n",
       "154     0.431      SLE          4    979.95001    6.232000  117.400002   \n",
       "\n",
       "     who_alc2000   who_tobt   wdi_exph region_recod  \n",
       "125         0.15   8.400000   5.821299  SubSaharian  \n",
       "167         7.30  21.900000  11.929840   WesternDem  \n",
       "12          0.01  21.799999   2.818999    SouthAsia  \n",
       "101        11.12  24.400000   6.937873   WesternDem  \n",
       "154         3.78  34.400002  11.089902  SubSaharian  "
      ]
     },
     "execution_count": 96,
     "metadata": {},
     "output_type": "execute_result"
    }
   ],
   "source": [
    "%matplotlib inline\n",
    "import pandas as pd\n",
    "import numpy as np\n",
    "import matplotlib.pyplot as plt\n",
    "import scipy.stats as stats\n",
    "\n",
    "np.random.seed(1641)\n",
    "\n",
    "df = pd.read_csv('qog_std_cs_jan18.csv')\n",
    "\n",
    "subset = df.sample(frac = 0.5) \n",
    "\n",
    "subset_group = subset.loc[:, ['undp_hdi', 'ccodealp', 'ht_region', 'gle_cgdpc', 'imf_pop', 'wef_imort', 'who_alc2000', 'who_tobt', 'wdi_exph']] \n",
    "\n",
    "subset_group['region_recod'] = subset_group['ht_region'].replace([1, 2, 3, 4, 5, 6, 7, 8, 9, 10],\n",
    "['EastEurope','LatAm','NorthAfrica','SubSaharian','WesternDem','EastAsia','SouthEastAsia','SouthAsia','Pacific','Caribbean'])\n",
    "\n",
    "\n",
    "subset_group.head()"
   ]
  },
  {
   "cell_type": "markdown",
   "metadata": {},
   "source": [
    "## 2. Genere una función que ingrese su objeto y devuelva:\n",
    "\n",
    "* Por cada variable existente en su objeto, calcule las medidas descriptivas para los casos contínuos"
   ]
  },
  {
   "cell_type": "code",
   "execution_count": 61,
   "metadata": {
    "ExecuteTime": {
     "end_time": "2019-10-23T21:36:26.501630Z",
     "start_time": "2019-10-23T21:36:26.366409Z"
    },
    "scrolled": false
   },
   "outputs": [
    {
     "name": "stdout",
     "output_type": "stream",
     "text": [
      "undp_hdi\n",
      "count    186.000\n",
      "mean       0.696\n",
      "std        0.155\n",
      "min        0.347\n",
      "25%        0.567\n",
      "50%        0.726\n",
      "75%        0.805\n",
      "max        0.948\n",
      "Name: undp_hdi, dtype: float64\n",
      "\n",
      "\n",
      "gle_cgdpc\n",
      "count       192.000\n",
      "mean      14279.041\n",
      "std       17914.921\n",
      "min         324.160\n",
      "25%        2614.188\n",
      "50%        7884.720\n",
      "75%       19239.776\n",
      "max      108481.130\n",
      "Name: gle_cgdpc, dtype: float64\n",
      "\n",
      "\n",
      "imf_pop\n",
      "count    145.000\n",
      "mean      27.480\n",
      "std       48.734\n",
      "min        0.011\n",
      "25%        2.001\n",
      "50%        8.132\n",
      "75%       30.770\n",
      "max      318.789\n",
      "Name: imf_pop, dtype: float64\n",
      "\n",
      "\n",
      "wef_imort\n",
      "count    150.000\n",
      "mean      24.087\n",
      "std       23.696\n",
      "min        1.700\n",
      "25%        5.725\n",
      "50%       14.850\n",
      "75%       38.525\n",
      "max      117.400\n",
      "Name: wef_imort, dtype: float64\n",
      "\n",
      "\n",
      "who_alc2000\n",
      "count    182.000\n",
      "mean       4.949\n",
      "std        3.837\n",
      "min        0.000\n",
      "25%        1.392\n",
      "50%        4.285\n",
      "75%        8.322\n",
      "max       15.190\n",
      "Name: who_alc2000, dtype: float64\n",
      "\n",
      "\n",
      "who_tobt\n",
      "count    124.000\n",
      "mean      23.285\n",
      "std        9.244\n",
      "min        4.700\n",
      "25%       16.300\n",
      "50%       23.100\n",
      "75%       29.450\n",
      "max       54.000\n",
      "Name: who_tobt, dtype: float64\n",
      "\n",
      "\n",
      "wdi_exph\n",
      "count    190.000\n",
      "mean       6.784\n",
      "std        2.797\n",
      "min        1.475\n",
      "25%        4.894\n",
      "50%        6.365\n",
      "75%        8.439\n",
      "max       17.141\n",
      "Name: wdi_exph, dtype: float64\n",
      "\n",
      "\n"
     ]
    }
   ],
   "source": [
    "print('undp_hdi')\n",
    "print(df['undp_hdi'].describe().round(3))\n",
    "print('\\n')\n",
    "print('gle_cgdpc')\n",
    "print(df['gle_cgdpc'].describe().round(3))\n",
    "print('\\n')\n",
    "print('imf_pop')\n",
    "print(df['imf_pop'].describe().round(3))\n",
    "print('\\n')\n",
    "print('wef_imort')\n",
    "print(df['wef_imort'].describe().round(3))\n",
    "print('\\n')\n",
    "print('who_alc2000')\n",
    "print(df['who_alc2000'].describe().round(3))\n",
    "print('\\n')\n",
    "print('who_tobt')\n",
    "print(df['who_tobt'].describe().round(3))\n",
    "print('\\n')\n",
    "print('wdi_exph')\n",
    "print(df['wdi_exph'].describe().round(3))\n",
    "print('\\n')"
   ]
  },
  {
   "cell_type": "markdown",
   "metadata": {},
   "source": [
    "* Para cada variable discreta, calcule la frecuencia."
   ]
  },
  {
   "cell_type": "code",
   "execution_count": 62,
   "metadata": {
    "ExecuteTime": {
     "end_time": "2019-10-23T21:36:31.661330Z",
     "start_time": "2019-10-23T21:36:31.654319Z"
    }
   },
   "outputs": [
    {
     "data": {
      "text/plain": [
       "SubSaharian      0.24\n",
       "EastEurope       0.18\n",
       "NorthAfrica      0.12\n",
       "LatAm            0.12\n",
       "WesternDem       0.09\n",
       "Caribbean        0.08\n",
       "EastAsia         0.04\n",
       "SouthEastAsia    0.04\n",
       "Pacific          0.04\n",
       "SouthAsia        0.04\n",
       "Name: region_recod, dtype: float64"
      ]
     },
     "execution_count": 62,
     "metadata": {},
     "output_type": "execute_result"
    }
   ],
   "source": [
    "region_record_frecuencia = round(subset_group['region_recod'].value_counts('%'),2)\n",
    "region_record_frecuencia"
   ]
  },
  {
   "cell_type": "markdown",
   "metadata": {},
   "source": [
    "* Reporte las estadísticas descriptivas para _gle_cgdpc_ , _undp_hdi_ , _imf_pop_ .\n"
   ]
  },
  {
   "cell_type": "code",
   "execution_count": 63,
   "metadata": {
    "ExecuteTime": {
     "end_time": "2019-10-23T21:36:33.789096Z",
     "start_time": "2019-10-23T21:36:33.734431Z"
    }
   },
   "outputs": [
    {
     "name": "stdout",
     "output_type": "stream",
     "text": [
      "Media gle_cgdpc\n",
      "13641.85\n",
      "Varianza gle_cgdpc\n",
      "326989165.192\n",
      "Desviación estándar gle_cgdpc\n",
      "18082.842\n",
      "\n",
      "\n",
      "Media undp_hdi\n",
      "0.695\n",
      "Varianza undp_hdi\n",
      "0.023\n",
      "Desviación estándar undp_hdi\n",
      "0.153\n",
      "\n",
      "\n",
      "Media imf_pop\n",
      "29.322\n",
      "Varianza imf_pop\n",
      "2324.841\n",
      "Desviación estándar gle_cgdpc\n",
      "18082.842\n",
      "\n",
      "\n"
     ]
    }
   ],
   "source": [
    "print('Media gle_cgdpc')\n",
    "gle_cgdpc_mean = round(subset_group['gle_cgdpc'].mean(),3)\n",
    "print(gle_cgdpc_mean)\n",
    "print('Varianza gle_cgdpc')\n",
    "gle_cgdpc_variance = round(np.var(subset_group['gle_cgdpc']), 3)\n",
    "print(gle_cgdpc_variance)\n",
    "print('Desviación estándar gle_cgdpc')\n",
    "gle_cgdpc_std = round(np.std(subset_group['gle_cgdpc']),3)\n",
    "print(gle_cgdpc_std)\n",
    "print('\\n')\n",
    "\n",
    "print('Media undp_hdi')\n",
    "undp_hdi_mean = round(subset_group['undp_hdi'].mean(),3)\n",
    "print(undp_hdi_mean)\n",
    "print('Varianza undp_hdi')\n",
    "undp_hdi_variance = round(np.var(subset_group['undp_hdi']), 3)\n",
    "print(undp_hdi_variance)\n",
    "print('Desviación estándar undp_hdi')\n",
    "undp_hdi_std = round(np.std(subset_group['undp_hdi']),3)\n",
    "print(undp_hdi_std)\n",
    "print('\\n')\n",
    "\n",
    "print('Media imf_pop')\n",
    "imf_pop_mean = round(subset_group['imf_pop'].mean(),3)\n",
    "print(imf_pop_mean)\n",
    "print('Varianza imf_pop')\n",
    "imf_pop_variance = round(np.var(subset_group['imf_pop']), 3)\n",
    "print(imf_pop_variance)\n",
    "print('Desviación estándar gle_cgdpc')\n",
    "gle_cgdpc_std = round(np.std(subset_group['gle_cgdpc']),3)\n",
    "print(gle_cgdpc_std)\n",
    "print('\\n')"
   ]
  },
  {
   "cell_type": "markdown",
   "metadata": {},
   "source": [
    "* Compare las estadísticas con algún compañero. ¿Ve alguna diferencia substancial en alguna de ellas?"
   ]
  },
  {
   "cell_type": "code",
   "execution_count": null,
   "metadata": {},
   "outputs": [],
   "source": []
  },
  {
   "cell_type": "markdown",
   "metadata": {},
   "source": [
    "## 3. Genere una función que liste las observaciones perdidas de una variable\n",
    "\n",
    "* La función debe contener los siguientes argumentos:\n",
    "  * _dataframe_ : La función debe ingresar un objeto DataFrame.\n",
    "  * _var_ : Variable a inspeccionar.\n",
    "  * print_list : Opción para imprimir la lista de observaciones perdidas en la variable. Debe ser False por defecto.\n",
    "  * La función debe retornar la cantidad de casos perdidos y el porcentaje correspondiente.\n",
    "  * Cuando print_list = True , debe retornar la lista de casos.\n",
    "  * Analice todas las variables y sus casos perdidos.\n",
    "  * Para las 3 variables con un mayor porcentaje de casos perdidos, solicite la lista de países con ausencia de datos."
   ]
  },
  {
   "cell_type": "code",
   "execution_count": 98,
   "metadata": {
    "ExecuteTime": {
     "end_time": "2019-10-23T22:09:03.509529Z",
     "start_time": "2019-10-23T22:09:03.388828Z"
    },
    "scrolled": true
   },
   "outputs": [
    {
     "name": "stdout",
     "output_type": "stream",
     "text": [
      "Caso: undp_hdi\n",
      "Cantidad de perdidos 3\n",
      "Porcentaje de perdidos 0.03\n",
      "\n",
      "\n",
      "Caso: ccodealp\n",
      "Cantidad de perdidos 0\n",
      "Porcentaje de perdidos 0.0\n",
      "\n",
      "\n",
      "Caso: gle_cgdpc\n",
      "Cantidad de perdidos 0\n",
      "Porcentaje de perdidos 0.0\n",
      "\n",
      "\n",
      "Caso: imf_pop\n",
      "Cantidad de perdidos 26\n",
      "Porcentaje de perdidos 0.27\n",
      "\n",
      "\n",
      "Caso: wef_imort\n",
      "Cantidad de perdidos 23\n",
      "Porcentaje de perdidos 0.24\n",
      "\n",
      "\n",
      "Caso: who_alc2000\n",
      "Cantidad de perdidos 5\n",
      "Porcentaje de perdidos 0.05\n",
      "\n",
      "\n",
      "Caso: who_tobt\n",
      "Cantidad de perdidos 37\n",
      "Porcentaje de perdidos 0.38\n",
      "\n",
      "\n",
      "Caso: wdi_exph\n",
      "Cantidad de perdidos 3\n",
      "Porcentaje de perdidos 0.03\n",
      "\n",
      "\n",
      "\n",
      "\n",
      "Tres variables con mayor cantidad de porcentaje perdidos\n",
      "Caso: imf_pop\n",
      "Listado de paises\n",
      "['NER' 'KNA' 'TKM' 'DJI' 'CHN' 'GRD' 'ARE' 'VEN' 'AND' 'TCD' 'CUB' 'CRI'\n",
      " 'CAF' 'LIE' 'ATG' 'DOM' 'SOM' 'COG' 'YEM' 'NAM' 'BDI' 'COD' 'GTM' 'ALB'\n",
      " 'LBR' 'PRK']\n",
      "Caso: wef_imort\n",
      "Listado de paises\n",
      "['NER' 'KNA' 'TKM' 'IRQ' 'DJI' 'GRD' 'PLW' 'AND' 'CUB' 'CAF' 'LIE' 'SLB'\n",
      " 'VCT' 'ATG' 'SOM' 'AFG' 'COG' 'TGO' 'MHL' 'UZB' 'MDV' 'PNG' 'PRK']\n",
      "Caso: who_tobt\n",
      "Listado de paises\n",
      "['KNA' 'TKM' 'AGO' 'IRQ' 'DJI' 'BTN' 'SUR' 'GRD' 'PLW' 'ARE' 'VEN' 'TCD'\n",
      " 'CIV' 'TJK' 'BLZ' 'CAF' 'LIE' 'SLB' 'VCT' 'ATG' 'SOM' 'TLS' 'AFG' 'QAT'\n",
      " 'YEM' 'TTO' 'TGO' 'MHL' 'ZWE' 'BDI' 'KWT' 'MDV' 'COD' 'GTM' 'PNG' 'PRK'\n",
      " 'NIC']\n"
     ]
    }
   ],
   "source": [
    "def getna(dataframe,var,print_list = False):  \n",
    "    \"\"\"\n",
    "    Función que liste las observaciones perdidas de una variable\n",
    "\n",
    "    Parameters:\n",
    "    dataframe (DataFrame): La función debe ingresar un objeto DataFrame\n",
    "    var (str): Variable a inspeccionar\n",
    "    print_list (bool): Opción para imprimir la lista de observaciones perdidas en la variable. Debe ser False por defecto.\n",
    "\n",
    "    Returns:\n",
    "    cantidad_perdidos: Retorna la cantidad de casos perdidos\n",
    "    porcentaje_perdidos: Retorna el porcentaje correspondiente de casos perdidos\n",
    "    lista : Lista de observaciones perdidas (en caso de print_list == True)\n",
    "\n",
    "   \"\"\"     \n",
    "    cantidad_perdidos = len(dataframe.loc[df[var].isnull()])\n",
    "    porcentaje_perdidos = cantidad_perdidos/len(dataframe)\n",
    "    lista = dataframe.loc[df[var].isnull()]['ccodealp'].unique()\n",
    "\n",
    "    if print_list:\n",
    "        return cantidad_perdidos, porcentaje_perdidos, lista\n",
    "    else:\n",
    "        return cantidad_perdidos, porcentaje_perdidos\n",
    "    \n",
    "c_perdidos, p_perdidods = getna(subset_group,'undp_hdi')\n",
    "print('Caso: undp_hdi')\n",
    "print('Cantidad de perdidos {}'.format(c_perdidos))\n",
    "print('Porcentaje de perdidos {}'.format(round(p_perdidods,2)))\n",
    "print('\\n')\n",
    "c_perdidos, p_perdidods = getna(subset_group,'ccodealp')\n",
    "print('Caso: ccodealp')\n",
    "print('Cantidad de perdidos {}'.format(c_perdidos))\n",
    "print('Porcentaje de perdidos {}'.format(round(p_perdidods,2)))\n",
    "print('\\n')\n",
    "c_perdidos, p_perdidods = getna(subset_group,'gle_cgdpc')\n",
    "print('Caso: gle_cgdpc')\n",
    "print('Cantidad de perdidos {}'.format(c_perdidos))\n",
    "print('Porcentaje de perdidos {}'.format(round(p_perdidods,2)))\n",
    "print('\\n')\n",
    "c_perdidos, p_perdidods = getna(subset_group,'imf_pop')\n",
    "print('Caso: imf_pop')\n",
    "print('Cantidad de perdidos {}'.format(c_perdidos))\n",
    "print('Porcentaje de perdidos {}'.format(round(p_perdidods,2)))\n",
    "print('\\n')\n",
    "c_perdidos, p_perdidods = getna(subset_group,'wef_imort')\n",
    "print('Caso: wef_imort')\n",
    "print('Cantidad de perdidos {}'.format(c_perdidos))\n",
    "print('Porcentaje de perdidos {}'.format(round(p_perdidods,2)))\n",
    "print('\\n')\n",
    "c_perdidos, p_perdidods = getna(subset_group,'who_alc2000')\n",
    "print('Caso: who_alc2000')\n",
    "print('Cantidad de perdidos {}'.format(c_perdidos))\n",
    "print('Porcentaje de perdidos {}'.format(round(p_perdidods,2)))\n",
    "print('\\n')\n",
    "c_perdidos, p_perdidods = getna(subset_group,'who_tobt')\n",
    "print('Caso: who_tobt')\n",
    "print('Cantidad de perdidos {}'.format(c_perdidos))\n",
    "print('Porcentaje de perdidos {}'.format(round(p_perdidods,2)))\n",
    "print('\\n')\n",
    "c_perdidos, p_perdidods = getna(subset_group,'wdi_exph')\n",
    "print('Caso: wdi_exph')\n",
    "print('Cantidad de perdidos {}'.format(c_perdidos))\n",
    "print('Porcentaje de perdidos {}'.format(round(p_perdidods,2)))\n",
    "print('\\n')\n",
    "print('\\n')\n",
    "print('Tres variables con mayor cantidad de porcentaje perdidos')\n",
    "print('Caso: imf_pop')\n",
    "c_perdidos, p_perdidods, lista_perdidos = getna(subset_group,'imf_pop',True)\n",
    "print('Listado de paises')\n",
    "print(lista_perdidos)\n",
    "print('Caso: wef_imort')\n",
    "c_perdidos, p_perdidods, lista_perdidos = getna(subset_group,'wef_imort',True)\n",
    "print('Listado de paises')\n",
    "print(lista_perdidos)\n",
    "print('Caso: who_tobt')\n",
    "c_perdidos, p_perdidods, lista_perdidos = getna(subset_group,'who_tobt',True)\n",
    "print('Listado de paises')\n",
    "print(lista_perdidos)"
   ]
  },
  {
   "cell_type": "markdown",
   "metadata": {},
   "source": [
    "## 4. Grafique los histogramas\n",
    "\n",
    "Genere una función que grafique un histograma en conjunto y señale las medias.\n",
    "\n",
    "La función debe incluír los siguientes argumentos:\n",
    "\n",
    "* dataframe : La base de datos donde se encuentran los datos específicos.\n",
    "* var : La variable a graficar.\n",
    "* sample_mean : Booleano. Si es verdadero, debe generar una recta vertical indicando la media de la variable en la selección muestral. Por defecto debe ser False .\n",
    "* true_mean : Booleano. Si es verdadero, debe generar una recta vertical indicando la media de variable en la base de datos completa.\n",
    "\n",
    "**Implemente las funciones para las 4 variables seleccionadas según su grupo.**\n",
    "\n"
   ]
  },
  {
   "cell_type": "code",
   "execution_count": 101,
   "metadata": {
    "ExecuteTime": {
     "end_time": "2019-10-23T22:34:01.038981Z",
     "start_time": "2019-10-23T22:34:01.007771Z"
    }
   },
   "outputs": [
    {
     "data": {
      "text/plain": [
       "\"\\nplt.subplot(2, 2, 1)\\ngethistograma(df,'wef_imort',True,True)   \\nplt.subplot(2, 2, 2)\\ngethistograma(df,'who_alc2000',True,True) \\nplt.subplot(2, 2, 3)\\ngethistograma(df,'who_tobt',True,True)     \\nplt.subplot(2, 2, 4)\\ngethistograma(df,'wdi_exph',True,True)     \\n\""
      ]
     },
     "execution_count": 101,
     "metadata": {},
     "output_type": "execute_result"
    }
   ],
   "source": [
    "def gethistograma(dataframe,var,true_mean,sample_mean = False):  \n",
    "    \"\"\"\n",
    "    Función que liste las observaciones perdidas de una variable\n",
    "\n",
    "    Parameters:\n",
    "    dataframe (Dataframe): La base de datos donde se encuentran los datos específicos.\n",
    "    var (str): La variable a graficar.\n",
    "    sample_mean (bool): ooleano. Si es verdadero, debe generar una recta vertical indicando la media de la variable en la selección muestral. Por defecto debe ser False\n",
    "    true_mean : Booleano. Si es verdadero, debe generar una recta vertical indicando la media de variable en la base de datos completa\n",
    "\n",
    "    Returns:  Graficacion de Histograma\n",
    "   \"\"\"  \n",
    "    \n",
    "    dfhisto_dropna = dataframe[var].dropna()\n",
    "    dfhisto_dropna_mean = dfhisto_dropna.mean()\n",
    "\n",
    "    subhisto_dropna = subset_group[var].dropna()\n",
    "    subhisto_dropna_mean = subhisto_dropna.mean()   \n",
    "    \n",
    "    print('Muestra completa {}'.format(dfhisto_dropna_mean))\n",
    "    print('Submuestra {}'.format(subhisto_dropna_mean))\n",
    "    plt.hist(dfhisto_dropna, color='grey', alpha=.4)\n",
    "    if (true_mean):\n",
    "        plt.axvline(dfhisto_dropna_mean, color = 'tomato', linestyle = '--')\n",
    "    if (sample_mean):    \n",
    "        plt.axvline(subhisto_dropna_mean, color = 'blue', linestyle = '--')\n",
    "    plt.title(\"Variable {}\".format(var))    \n",
    "\n",
    "\"\"\"\n",
    "plt.subplot(2, 2, 1)\n",
    "gethistograma(df,'wef_imort',True,True)   \n",
    "plt.subplot(2, 2, 2)\n",
    "gethistograma(df,'who_alc2000',True,True) \n",
    "plt.subplot(2, 2, 3)\n",
    "gethistograma(df,'who_tobt',True,True)     \n",
    "plt.subplot(2, 2, 4)\n",
    "gethistograma(df,'wdi_exph',True,True)     \n",
    "\"\"\"\n",
    "\n"
   ]
  },
  {
   "cell_type": "code",
   "execution_count": 88,
   "metadata": {
    "ExecuteTime": {
     "end_time": "2019-10-23T21:49:24.457038Z",
     "start_time": "2019-10-23T21:49:24.214706Z"
    },
    "scrolled": true
   },
   "outputs": [
    {
     "name": "stdout",
     "output_type": "stream",
     "text": [
      "Muestra completa 24.086897087097167\n",
      "Submuestra 24.20135136230572\n"
     ]
    },
    {
     "data": {
      "image/png": "[encoded data removed]",
      "text/plain": [
       "<Figure size 432x288 with 1 Axes>"
      ]
     },
     "metadata": {
      "needs_background": "light"
     },
     "output_type": "display_data"
    }
   ],
   "source": [
    "gethistograma(df,'wef_imort',True,True)   \n"
   ]
  },
  {
   "cell_type": "code",
   "execution_count": 89,
   "metadata": {
    "ExecuteTime": {
     "end_time": "2019-10-23T21:49:28.999636Z",
     "start_time": "2019-10-23T21:49:28.748036Z"
    }
   },
   "outputs": [
    {
     "name": "stdout",
     "output_type": "stream",
     "text": [
      "Muestra completa 4.949340671727473\n",
      "Submuestra 4.618369594419565\n"
     ]
    },
    {
     "data": {
      "image/png": "[encoded data removed]",
      "text/plain": [
       "<Figure size 432x288 with 1 Axes>"
      ]
     },
     "metadata": {
      "needs_background": "light"
     },
     "output_type": "display_data"
    }
   ],
   "source": [
    "gethistograma(df,'who_alc2000',True,True) \n"
   ]
  },
  {
   "cell_type": "code",
   "execution_count": 90,
   "metadata": {
    "ExecuteTime": {
     "end_time": "2019-10-23T21:49:31.883811Z",
     "start_time": "2019-10-23T21:49:31.668683Z"
    }
   },
   "outputs": [
    {
     "name": "stdout",
     "output_type": "stream",
     "text": [
      "Muestra completa 23.285483875000008\n",
      "Submuestra 24.128333311666673\n"
     ]
    },
    {
     "data": {
      "image/png": "[encoded data removed]",
      "text/plain": [
       "<Figure size 432x288 with 1 Axes>"
      ]
     },
     "metadata": {
      "needs_background": "light"
     },
     "output_type": "display_data"
    }
   ],
   "source": [
    "gethistograma(df,'who_tobt',True,True)     \n"
   ]
  },
  {
   "cell_type": "code",
   "execution_count": 91,
   "metadata": {
    "ExecuteTime": {
     "end_time": "2019-10-23T21:49:34.130623Z",
     "start_time": "2019-10-23T21:49:33.882319Z"
    }
   },
   "outputs": [
    {
     "name": "stdout",
     "output_type": "stream",
     "text": [
      "Muestra completa 6.783758504767167\n",
      "Submuestra 6.73455144750311\n"
     ]
    },
    {
     "data": {
      "image/png": "[encoded data removed]",
      "text/plain": [
       "<Figure size 432x288 with 1 Axes>"
      ]
     },
     "metadata": {
      "needs_background": "light"
     },
     "output_type": "display_data"
    }
   ],
   "source": [
    "gethistograma(df,'wdi_exph',True,True)     \n"
   ]
  },
  {
   "cell_type": "markdown",
   "metadata": {},
   "source": [
    "¿En qué variables la media de la submuestra es mayor a la de la muestra completa?"
   ]
  },
  {
   "cell_type": "code",
   "execution_count": 95,
   "metadata": {
    "ExecuteTime": {
     "end_time": "2019-10-23T21:52:10.692076Z",
     "start_time": "2019-10-23T21:52:10.373812Z"
    }
   },
   "outputs": [
    {
     "name": "stdout",
     "output_type": "stream",
     "text": [
      "wef_imort\n",
      "Muestra completa 24.086897087097167\n",
      "Submuestra 24.20135136230572\n",
      "\n",
      "\n",
      "who_tobt\n",
      "Muestra completa 23.285483875000008\n",
      "Submuestra 24.128333311666673\n",
      "\n",
      "\n"
     ]
    },
    {
     "data": {
      "image/png": "[encoded data removed]",
      "text/plain": [
       "<Figure size 432x288 with 2 Axes>"
      ]
     },
     "metadata": {
      "needs_background": "light"
     },
     "output_type": "display_data"
    }
   ],
   "source": [
    "print('wef_imort')\n",
    "plt.subplot(2, 2, 1)\n",
    "gethistograma(df,'wef_imort',True,True) \n",
    "print('\\n')\n",
    "print('who_tobt')\n",
    "plt.subplot(2, 2, 2)\n",
    "gethistograma(df,'who_tobt',True,True)     \n",
    "print('\\n')\n"
   ]
  },
  {
   "cell_type": "markdown",
   "metadata": {},
   "source": [
    "## 5. Genere una función que devuelva un dotplot\n",
    "\n",
    "La función debe contener los siguientes argumentos como argumentos:\n",
    "* dataframe : La tabla de datos donde buscar las variables.\n",
    "* plot_var : La variable a analizar y extraer las medias.\n",
    "* plot_by : La variable agrupadora.\n",
    "* global_stat : Booleano. Si es True debe graficar la media global de la variable. Por defecto debe ser False .\n",
    "* statistic: Debe presentar dos opciones. mean para la media y median para la mediana. Por defecto debe ser mean .\n",
    "\n",
    "Implemente la función en las 3 variables con una menor cantidad de datos perdidos."
   ]
  },
  {
   "cell_type": "code",
   "execution_count": 113,
   "metadata": {
    "ExecuteTime": {
     "end_time": "2019-10-23T22:42:45.025564Z",
     "start_time": "2019-10-23T22:42:44.818126Z"
    },
    "scrolled": true
   },
   "outputs": [
    {
     "data": {
      "image/png": "[encoded data removed]",
      "text/plain": [
       "<Figure size 432x288 with 1 Axes>"
      ]
     },
     "metadata": {
      "needs_background": "light"
     },
     "output_type": "display_data"
    }
   ],
   "source": [
    "def getdotplot(dataframe,plot_var,plot_by,global_stat = False, statistic = 'mean'):\n",
    "    \"\"\"\n",
    "    Función que liste las observaciones perdidas de una variable\n",
    "\n",
    "    Parameters:\n",
    "    dataframe (Dataframe): La base de datos donde se encuentran los datos específicos.\n",
    "    plot_var (str): La variable a analizar y extraer las medias\n",
    "    plot_by (str): La variable agrupadora\n",
    "    global_stat: Booleano. Si es True debe graficar la media global de la variable. Por defecto debe ser False     \n",
    "    statistic: Debe presentar dos opciones. mean para la media y median para la mediana. Por defecto debe ser mean\n",
    "\n",
    "    Returns:  Graficacion de Dotplot\n",
    "\n",
    "\n",
    "   \"\"\"      \n",
    "    df_dropna = dataframe.dropna(subset=[plot_var]) \n",
    "    if (statistic == 'mean'):\n",
    "        group_stat = round(df_dropna.groupby(plot_by)[plot_var].mean(),2)\n",
    "        if (global_stat):\n",
    "            plt.axvline(df_dropna[plot_var].mean(), color = 'tomato', linestyle = '--')\n",
    "        plt.plot(group_stat.values, group_stat.index, 'o', color = 'blue')\n",
    "    else:\n",
    "        group_stat = round(df_dropna.groupby(plot_by)[plot_var].median(),2)\n",
    "        if (global_stat):\n",
    "            plt.axvline(df_dropna[plot_var].median(), color = 'green', linestyle = '--')\n",
    "        plt.plot(group_stat.values, group_stat.index, 'o', color = 'blue')        \n",
    "        \n",
    "        \n",
    "getdotplot(subset_group,'undp_hdi','region_recod',True,'mean')        \n",
    "getdotplot(subset_group,'undp_hdi','region_recod',True,'median')        "
   ]
  },
  {
   "cell_type": "code",
   "execution_count": 115,
   "metadata": {
    "ExecuteTime": {
     "end_time": "2019-10-23T22:44:54.484357Z",
     "start_time": "2019-10-23T22:44:54.342025Z"
    }
   },
   "outputs": [
    {
     "data": {
      "image/png": "[encoded data removed]",
      "text/plain": [
       "<Figure size 432x288 with 1 Axes>"
      ]
     },
     "metadata": {
      "needs_background": "light"
     },
     "output_type": "display_data"
    }
   ],
   "source": [
    "getdotplot(subset_group,'gle_cgdpc','region_recod',True,'mean')        \n",
    "getdotplot(subset_group,'gle_cgdpc','region_recod',True,'median') "
   ]
  },
  {
   "cell_type": "code",
   "execution_count": 116,
   "metadata": {
    "ExecuteTime": {
     "end_time": "2019-10-23T22:45:09.697190Z",
     "start_time": "2019-10-23T22:45:09.550130Z"
    }
   },
   "outputs": [
    {
     "data": {
      "image/png": "[encoded data removed]",
      "text/plain": [
       "<Figure size 432x288 with 1 Axes>"
      ]
     },
     "metadata": {
      "needs_background": "light"
     },
     "output_type": "display_data"
    }
   ],
   "source": [
    "getdotplot(subset_group,'wdi_exph','region_recod',True,'mean')        \n",
    "getdotplot(subset_group,'wdi_exph','region_recod',True,'median') "
   ]
  },
  {
   "cell_type": "markdown",
   "metadata": {},
   "source": [
    "## 6. Guarde la base de datos\n",
    "La submuestra creada tiene un método llamado to_csv .\n",
    "\n",
    "Acceda a éste y guarde la base de datos con la siguiente nomenclatura:\n",
    "\n",
    "subsample_<iniciales>_demo.csv"
   ]
  },
  {
   "cell_type": "code",
   "execution_count": null,
   "metadata": {},
   "outputs": [],
   "source": []
  }
 ],
 "metadata": {
  "kernelspec": {
   "display_name": "Python 3",
   "language": "python",
   "name": "python3"
  },
  "language_info": {
   "codemirror_mode": {
    "name": "ipython",
    "version": 3
   },
   "file_extension": ".py",
   "mimetype": "text/x-python",
   "name": "python",
   "nbconvert_exporter": "python",
   "pygments_lexer": "ipython3",
   "version": "3.7.3"
  },
  "varInspector": {
   "cols": {
    "lenName": 16,
    "lenType": 16,
    "lenVar": 40
   },
   "kernels_config": {
    "python": {
     "delete_cmd_postfix": "",
     "delete_cmd_prefix": "del ",
     "library": "var_list.py",
     "varRefreshCmd": "print(var_dic_list())"
    },
    "r": {
     "delete_cmd_postfix": ") ",
     "delete_cmd_prefix": "rm(",
     "library": "var_list.r",
     "varRefreshCmd": "cat(var_dic_list()) "
    }
   },
   "types_to_exclude": [
    "module",
    "function",
    "builtin_function_or_method",
    "instance",
    "_Feature"
   ],
   "window_display": false
  }
 },
 "nbformat": 4,
 "nbformat_minor": 2
}
