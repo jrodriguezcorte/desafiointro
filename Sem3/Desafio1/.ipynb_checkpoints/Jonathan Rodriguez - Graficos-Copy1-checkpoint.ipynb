{
 "cells": [
  {
   "cell_type": "markdown",
   "metadata": {},
   "source": [
    "**NOMBRE ALUMNO:** Jonathan Rodriguez\n",
    "\n",
    "**FECHA:** "
   ]
  },
  {
   "cell_type": "markdown",
   "metadata": {},
   "source": [
    "## 1. Genere una submuestra de casos\n",
    "\n",
    "* Utilice los últimos 4 dígitos de su rut como semilla pseudoaleatoria.\n",
    "* Seleccione el 50% de los casos.\n",
    "* Cada base generada debe contener los siguientes elementos:\n",
    "  * El índice de desarrollo humano ( _undp_hdi_ )\n",
    "  * El nombre del país ( _ccodealp_ )\n",
    "  * La región a la que pertenece ( _ht_region_ )\n",
    "  * El PIB per capita. ( _gle_cgdpc_ )\n",
    "  * El total de la población ( _imf_pop_ )\n",
    "  \n",
    "* Si su apellido está entre la N y la Z, escoja las siguientes variables del módulo Salud:\n",
    "   * _wef_imort_ : Infant mortality, deaths/1000 live births\n",
    "   * _who_alc2000_ : Alcohol consumption per capita (2000-)\n",
    "   * _who_tobt_ : Current smoking of any tobacco product (Total).\n",
    "   * _wdi_exph_ : Government expenditure on health, total (% of GDP)\n",
    "   * Guarde esta tabla procesada en un nuevo objeto\n",
    "   * Renombre las categorías de la variable ht_region de números a regiones  "
   ]
  },
  {
   "cell_type": "code",
   "execution_count": 121,
   "metadata": {
    "ExecuteTime": {
     "end_time": "2019-10-25T00:43:52.026165Z",
     "start_time": "2019-10-25T00:43:51.789071Z"
    },
    "scrolled": true
   },
   "outputs": [
    {
     "data": {
      "text/html": [
       "<div>\n",
       "<style scoped>\n",
       "    .dataframe tbody tr th:only-of-type {\n",
       "        vertical-align: middle;\n",
       "    }\n",
       "\n",
       "    .dataframe tbody tr th {\n",
       "        vertical-align: top;\n",
       "    }\n",
       "\n",
       "    .dataframe thead th {\n",
       "        text-align: right;\n",
       "    }\n",
       "</style>\n",
       "<table border=\"1\" class=\"dataframe\">\n",
       "  <thead>\n",
       "    <tr style=\"text-align: right;\">\n",
       "      <th></th>\n",
       "      <th>undp_hdi</th>\n",
       "      <th>ccodealp</th>\n",
       "      <th>ht_region</th>\n",
       "      <th>gle_cgdpc</th>\n",
       "      <th>imf_pop</th>\n",
       "      <th>wef_imort</th>\n",
       "      <th>who_alc2000</th>\n",
       "      <th>who_tobt</th>\n",
       "      <th>wdi_exph</th>\n",
       "      <th>region_recod</th>\n",
       "    </tr>\n",
       "  </thead>\n",
       "  <tbody>\n",
       "    <tr>\n",
       "      <th>125</th>\n",
       "      <td>0.351</td>\n",
       "      <td>NER</td>\n",
       "      <td>4</td>\n",
       "      <td>644.53998</td>\n",
       "      <td>NaN</td>\n",
       "      <td>NaN</td>\n",
       "      <td>0.15</td>\n",
       "      <td>8.400000</td>\n",
       "      <td>5.821299</td>\n",
       "      <td>SubSaharian</td>\n",
       "    </tr>\n",
       "    <tr>\n",
       "      <th>167</th>\n",
       "      <td>0.909</td>\n",
       "      <td>SWE</td>\n",
       "      <td>5</td>\n",
       "      <td>39000.91000</td>\n",
       "      <td>9.645000</td>\n",
       "      <td>2.300000</td>\n",
       "      <td>7.30</td>\n",
       "      <td>21.900000</td>\n",
       "      <td>11.929840</td>\n",
       "      <td>WesternDem</td>\n",
       "    </tr>\n",
       "    <tr>\n",
       "      <th>12</th>\n",
       "      <td>0.575</td>\n",
       "      <td>BGD</td>\n",
       "      <td>8</td>\n",
       "      <td>1796.64000</td>\n",
       "      <td>154.695007</td>\n",
       "      <td>33.099998</td>\n",
       "      <td>0.01</td>\n",
       "      <td>21.799999</td>\n",
       "      <td>2.818999</td>\n",
       "      <td>SouthAsia</td>\n",
       "    </tr>\n",
       "    <tr>\n",
       "      <th>101</th>\n",
       "      <td>0.896</td>\n",
       "      <td>LUX</td>\n",
       "      <td>5</td>\n",
       "      <td>61404.48000</td>\n",
       "      <td>0.550000</td>\n",
       "      <td>1.700000</td>\n",
       "      <td>11.12</td>\n",
       "      <td>24.400000</td>\n",
       "      <td>6.937873</td>\n",
       "      <td>WesternDem</td>\n",
       "    </tr>\n",
       "    <tr>\n",
       "      <th>154</th>\n",
       "      <td>0.431</td>\n",
       "      <td>SLE</td>\n",
       "      <td>4</td>\n",
       "      <td>979.95001</td>\n",
       "      <td>6.232000</td>\n",
       "      <td>117.400002</td>\n",
       "      <td>3.78</td>\n",
       "      <td>34.400002</td>\n",
       "      <td>11.089902</td>\n",
       "      <td>SubSaharian</td>\n",
       "    </tr>\n",
       "  </tbody>\n",
       "</table>\n",
       "</div>"
      ],
      "text/plain": [
       "     undp_hdi ccodealp  ht_region    gle_cgdpc     imf_pop   wef_imort  \\\n",
       "125     0.351      NER          4    644.53998         NaN         NaN   \n",
       "167     0.909      SWE          5  39000.91000    9.645000    2.300000   \n",
       "12      0.575      BGD          8   1796.64000  154.695007   33.099998   \n",
       "101     0.896      LUX          5  61404.48000    0.550000    1.700000   \n",
       "154     0.431      SLE          4    979.95001    6.232000  117.400002   \n",
       "\n",
       "     who_alc2000   who_tobt   wdi_exph region_recod  \n",
       "125         0.15   8.400000   5.821299  SubSaharian  \n",
       "167         7.30  21.900000  11.929840   WesternDem  \n",
       "12          0.01  21.799999   2.818999    SouthAsia  \n",
       "101        11.12  24.400000   6.937873   WesternDem  \n",
       "154         3.78  34.400002  11.089902  SubSaharian  "
      ]
     },
     "execution_count": 121,
     "metadata": {},
     "output_type": "execute_result"
    }
   ],
   "source": [
    "%matplotlib inline\n",
    "import pandas as pd\n",
    "import numpy as np\n",
    "import matplotlib.pyplot as plt\n",
    "import scipy.stats as stats\n",
    "\n",
    "np.random.seed(1641)\n",
    "\n",
    "df = pd.read_csv('qog_std_cs_jan18.csv')\n",
    "\n",
    "subset = df.sample(frac = 0.5) \n",
    "\n",
    "subset_group = subset.loc[:, ['undp_hdi', 'ccodealp', 'ht_region', 'gle_cgdpc', 'imf_pop', 'wef_imort', 'who_alc2000', 'who_tobt', 'wdi_exph']] \n",
    "\n",
    "subset_group['region_recod'] = subset_group['ht_region'].replace([1, 2, 3, 4, 5, 6, 7, 8, 9, 10],\n",
    "['EastEurope','LatAm','NorthAfrica','SubSaharian','WesternDem','EastAsia','SouthEastAsia','SouthAsia','Pacific','Caribbean'])\n",
    "\n",
    "\n",
    "subset_group.head()"
   ]
  },
  {
   "cell_type": "markdown",
   "metadata": {},
   "source": [
    "## 2. Genere una función que ingrese su objeto y devuelva:\n",
    "\n",
    "* Por cada variable existente en su objeto, calcule las medidas descriptivas para los casos contínuos"
   ]
  },
  {
   "cell_type": "code",
   "execution_count": 12,
   "metadata": {
    "ExecuteTime": {
     "end_time": "2019-10-24T21:52:41.032363Z",
     "start_time": "2019-10-24T21:52:40.973194Z"
    },
    "scrolled": false
   },
   "outputs": [
    {
     "name": "stdout",
     "output_type": "stream",
     "text": [
      "undp_hdi\n",
      "____________________\n",
      "count    94.000000\n",
      "mean      0.695415\n",
      "std       0.153491\n",
      "min       0.347000\n",
      "25%       0.593250\n",
      "50%       0.737500\n",
      "75%       0.793750\n",
      "max       0.924000\n",
      "Name: undp_hdi, dtype: float64\n",
      "\n",
      "\n",
      "ccodealp\n",
      "____________________\n",
      "count      97\n",
      "unique     97\n",
      "top       SGP\n",
      "freq        1\n",
      "Name: ccodealp, dtype: object\n",
      "\n",
      "\n",
      "ht_region\n",
      "____________________\n",
      "count    97.000000\n",
      "mean      4.268041\n",
      "std       2.736769\n",
      "min       1.000000\n",
      "25%       2.000000\n",
      "50%       4.000000\n",
      "75%       5.000000\n",
      "max      10.000000\n",
      "Name: ht_region, dtype: float64\n",
      "\n",
      "\n",
      "gle_cgdpc\n",
      "____________________\n",
      "count        97.000000\n",
      "mean      13641.850489\n",
      "std       18176.779207\n",
      "min         324.160000\n",
      "25%        2685.500000\n",
      "50%        8507.650400\n",
      "75%       15997.670000\n",
      "max      104049.440000\n",
      "Name: gle_cgdpc, dtype: float64\n",
      "\n",
      "\n",
      "imf_pop\n",
      "____________________\n",
      "count     71.000000\n",
      "mean      29.322042\n",
      "std       48.559793\n",
      "min        0.018000\n",
      "25%        3.168000\n",
      "50%        8.212000\n",
      "75%       32.878500\n",
      "max      252.164993\n",
      "Name: imf_pop, dtype: float64\n",
      "\n",
      "\n",
      "wef_imort\n",
      "____________________\n",
      "count     74.000000\n",
      "mean      24.201351\n",
      "std       25.256045\n",
      "min        1.700000\n",
      "25%        6.525000\n",
      "50%       15.050000\n",
      "75%       31.899999\n",
      "max      117.400002\n",
      "Name: wef_imort, dtype: float64\n",
      "\n",
      "\n",
      "who_alc2000\n",
      "____________________\n",
      "count    92.000000\n",
      "mean      4.618370\n",
      "std       3.563758\n",
      "min       0.000000\n",
      "25%       1.430000\n",
      "50%       4.095000\n",
      "75%       7.372500\n",
      "max      12.680000\n",
      "Name: who_alc2000, dtype: float64\n",
      "\n",
      "\n",
      "who_tobt\n",
      "____________________\n",
      "count    60.000000\n",
      "mean     24.128333\n",
      "std       9.829980\n",
      "min       4.700000\n",
      "25%      16.175001\n",
      "50%      23.799999\n",
      "75%      30.475000\n",
      "max      43.400002\n",
      "Name: who_tobt, dtype: float64\n",
      "\n",
      "\n",
      "wdi_exph\n",
      "____________________\n",
      "count    94.000000\n",
      "mean      6.734551\n",
      "std       2.614790\n",
      "min       1.475303\n",
      "25%       4.982963\n",
      "50%       6.249361\n",
      "75%       8.287694\n",
      "max      17.135723\n",
      "Name: wdi_exph, dtype: float64\n",
      "\n",
      "\n",
      "region_recod\n",
      "____________________\n",
      "count              97\n",
      "unique             10\n",
      "top       SubSaharian\n",
      "freq               23\n",
      "Name: region_recod, dtype: object\n",
      "\n",
      "\n"
     ]
    }
   ],
   "source": [
    "for key, value in subset_group.iteritems():\n",
    "        print(key)\n",
    "        print('____________________')\n",
    "        print(value.describe())\n",
    "        print('\\n')\n"
   ]
  },
  {
   "cell_type": "markdown",
   "metadata": {},
   "source": [
    "* Para cada variable discreta, calcule la frecuencia."
   ]
  },
  {
   "cell_type": "code",
   "execution_count": 10,
   "metadata": {
    "ExecuteTime": {
     "end_time": "2019-10-24T21:51:45.459289Z",
     "start_time": "2019-10-24T21:51:44.995430Z"
    }
   },
   "outputs": [
    {
     "data": {
      "text/plain": [
       "SubSaharian      0.24\n",
       "EastEurope       0.18\n",
       "LatAm            0.12\n",
       "NorthAfrica      0.12\n",
       "WesternDem       0.09\n",
       "Caribbean        0.08\n",
       "SouthEastAsia    0.04\n",
       "Pacific          0.04\n",
       "EastAsia         0.04\n",
       "SouthAsia        0.04\n",
       "Name: region_recod, dtype: float64"
      ]
     },
     "execution_count": 10,
     "metadata": {},
     "output_type": "execute_result"
    }
   ],
   "source": [
    "region_record_frecuencia = round(subset_group['region_recod'].value_counts('%'),2)\n",
    "region_record_frecuencia"
   ]
  },
  {
   "cell_type": "markdown",
   "metadata": {},
   "source": [
    "* Reporte las estadísticas descriptivas para _gle_cgdpc_ , _undp_hdi_ , _imf_pop_ .\n"
   ]
  },
  {
   "cell_type": "code",
   "execution_count": 17,
   "metadata": {
    "ExecuteTime": {
     "end_time": "2019-10-24T22:30:49.852767Z",
     "start_time": "2019-10-24T22:30:49.832040Z"
    }
   },
   "outputs": [
    {
     "name": "stdout",
     "output_type": "stream",
     "text": [
      "gle_cgdpc\n",
      "media\n",
      "13641.85\n",
      "varianza\n",
      "326989165.192\n",
      "desviación estándar\n",
      "18082.842\n",
      "\n",
      "\n",
      "undp_hdi\n",
      "media\n",
      "0.695\n",
      "varianza\n",
      "0.023\n",
      "desviación estándar\n",
      "0.153\n",
      "\n",
      "\n",
      "imf_pop\n",
      "media\n",
      "29.322\n",
      "varianza\n",
      "2324.841\n",
      "desviación estándar\n",
      "48.217\n",
      "\n",
      "\n"
     ]
    }
   ],
   "source": [
    "lista_estadistica = ['gle_cgdpc' , 'undp_hdi' , 'imf_pop' ]\n",
    "for i in range(len(lista_estadistica)):\n",
    "    value = lista_estadistica[i]\n",
    "    print(value)\n",
    "    print('media')\n",
    "    print(round(subset_group[value].mean(),3))\n",
    "    print('varianza')\n",
    "    print(round(np.var(subset_group[value]), 3))\n",
    "    print('desviación estándar')\n",
    "    print(round(np.std(subset_group[value]),3))\n",
    "    print('\\n')  "
   ]
  },
  {
   "cell_type": "markdown",
   "metadata": {},
   "source": [
    "* Compare las estadísticas con algún compañero. ¿Ve alguna diferencia substancial en alguna de ellas?"
   ]
  },
  {
   "cell_type": "code",
   "execution_count": null,
   "metadata": {},
   "outputs": [],
   "source": []
  },
  {
   "cell_type": "markdown",
   "metadata": {},
   "source": [
    "## 3. Genere una función que liste las observaciones perdidas de una variable\n",
    "\n",
    "* La función debe contener los siguientes argumentos:\n",
    "  * _dataframe_ : La función debe ingresar un objeto DataFrame.\n",
    "  * _var_ : Variable a inspeccionar.\n",
    "  * print_list : Opción para imprimir la lista de observaciones perdidas en la variable. Debe ser False por defecto.\n",
    "  * La función debe retornar la cantidad de casos perdidos y el porcentaje correspondiente.\n",
    "  * Cuando print_list = True , debe retornar la lista de casos.\n",
    "  * Analice todas las variables y sus casos perdidos.\n",
    "  * Para las 3 variables con un mayor porcentaje de casos perdidos, solicite la lista de países con ausencia de datos."
   ]
  },
  {
   "cell_type": "code",
   "execution_count": 82,
   "metadata": {
    "ExecuteTime": {
     "end_time": "2019-10-24T23:51:01.787543Z",
     "start_time": "2019-10-24T23:51:01.714852Z"
    },
    "scrolled": true
   },
   "outputs": [
    {
     "name": "stdout",
     "output_type": "stream",
     "text": [
      "undp_hdi\n",
      "____________________\n",
      "Cantidad de perdidos 3\n",
      "Porcentaje de perdidos: 0.03\n",
      "\n",
      "\n",
      "ccodealp\n",
      "____________________\n",
      "Cantidad de perdidos 0\n",
      "Porcentaje de perdidos: 0.0\n",
      "\n",
      "\n",
      "ht_region\n",
      "____________________\n",
      "Cantidad de perdidos 0\n",
      "Porcentaje de perdidos: 0.0\n",
      "\n",
      "\n",
      "gle_cgdpc\n",
      "____________________\n",
      "Cantidad de perdidos 0\n",
      "Porcentaje de perdidos: 0.0\n",
      "\n",
      "\n",
      "imf_pop\n",
      "____________________\n",
      "Cantidad de perdidos 26\n",
      "Porcentaje de perdidos: 0.27\n",
      "\n",
      "\n",
      "wef_imort\n",
      "____________________\n",
      "Cantidad de perdidos 23\n",
      "Porcentaje de perdidos: 0.24\n",
      "\n",
      "\n",
      "who_alc2000\n",
      "____________________\n",
      "Cantidad de perdidos 5\n",
      "Porcentaje de perdidos: 0.05\n",
      "\n",
      "\n",
      "who_tobt\n",
      "____________________\n",
      "Cantidad de perdidos 37\n",
      "Porcentaje de perdidos: 0.38\n",
      "\n",
      "\n",
      "wdi_exph\n",
      "____________________\n",
      "Cantidad de perdidos 3\n",
      "Porcentaje de perdidos: 0.03\n",
      "\n",
      "\n",
      "region_recod\n",
      "____________________\n",
      "Cantidad de perdidos 0\n",
      "Porcentaje de perdidos: 0.0\n",
      "\n",
      "\n",
      "flagnull\n",
      "____________________\n",
      "Cantidad de perdidos 0\n",
      "Porcentaje de perdidos: 0.0\n",
      "\n",
      "\n",
      "Lista de países con datos perdidos para: who_tobt\n",
      "['KNA' 'TKM' 'AGO' 'IRQ' 'DJI' 'BTN' 'SUR' 'GRD' 'PLW' 'ARE' 'VEN' 'TCD'\n",
      " 'CIV' 'TJK' 'BLZ' 'CAF' 'LIE' 'SLB' 'VCT' 'ATG' 'SOM' 'TLS' 'AFG' 'QAT'\n",
      " 'YEM' 'TTO' 'TGO' 'MHL' 'ZWE' 'BDI' 'KWT' 'MDV' 'COD' 'GTM' 'PNG' 'PRK'\n",
      " 'NIC']\n",
      "\n",
      "\n",
      "Lista de países con datos perdidos para: imf_pop\n",
      "['NER' 'KNA' 'TKM' 'DJI' 'CHN' 'GRD' 'ARE' 'VEN' 'AND' 'TCD' 'CUB' 'CRI'\n",
      " 'CAF' 'LIE' 'ATG' 'DOM' 'SOM' 'COG' 'YEM' 'NAM' 'BDI' 'COD' 'GTM' 'ALB'\n",
      " 'LBR' 'PRK']\n",
      "\n",
      "\n",
      "Lista de países con datos perdidos para: wef_imort\n",
      "['NER' 'KNA' 'TKM' 'IRQ' 'DJI' 'GRD' 'PLW' 'AND' 'CUB' 'CAF' 'LIE' 'SLB'\n",
      " 'VCT' 'ATG' 'SOM' 'AFG' 'COG' 'TGO' 'MHL' 'UZB' 'MDV' 'PNG' 'PRK']\n",
      "\n",
      "\n"
     ]
    }
   ],
   "source": [
    "def getna(dataframe,var,print_list = False):  \n",
    "    \"\"\"\n",
    "    Función que liste las observaciones perdidas de una variable\n",
    "\n",
    "    Parameters:\n",
    "    dataframe (DataFrame): La función debe ingresar un objeto DataFrame\n",
    "    var (str): Variable a inspeccionar\n",
    "    print_list (bool): Opción para imprimir la lista de observaciones perdidas en la variable. Debe ser False por defecto.\n",
    "\n",
    "    Returns:\n",
    "    cantidad_perdidos: Retorna la cantidad de casos perdidos\n",
    "    porcentaje_perdidos: Retorna el porcentaje correspondiente de casos perdidos\n",
    "    lista : Lista de observaciones perdidas (en caso de print_list == True)\n",
    "\n",
    "   \"\"\"    \n",
    "    temp = dataframe\n",
    "    temp['flagnull'] = temp[var].isnull()\n",
    "    total_elementos = len(temp)\n",
    "    cantidad_perdidos = total_elementos - temp['flagnull'].value_counts().loc[False]\n",
    "    porcentaje_perdidos = cantidad_perdidos/total_elementos\n",
    "\n",
    "    if print_list:\n",
    "       lista = temp.loc[temp[var].isnull()]['ccodealp'].unique()\n",
    "       return cantidad_perdidos, porcentaje_perdidos, lista\n",
    "    else:\n",
    "       return cantidad_perdidos, porcentaje_perdidos\n",
    "    \n",
    "lista = []\n",
    "dic_perdidos = {}\n",
    "# Registrando los nombres de columnas en una lista\n",
    "for value in subset_group:\n",
    "    lista.append(value)\n",
    "\n",
    "# Analizando todas las variables con sus casos perdidos    \n",
    "for value in range(len(lista)):\n",
    "    codigo_columna = lista[value]\n",
    "    c_perdidos, p_perdidods = getna(subset_group,codigo_columna)\n",
    "    dic_perdidos[codigo_columna] = c_perdidos\n",
    "    print(lista[value])\n",
    "    print('____________________')\n",
    "    print('Cantidad de perdidos {}'.format(c_perdidos))\n",
    "    print('Porcentaje de perdidos: {}'.format(round(p_perdidods,2)))   \n",
    "    print('\\n')    \n",
    "    \n",
    "\n",
    "# Obteniendo los países perdidos para aquellas tres variables con mayor porcentaje de datos    \n",
    "dic_perdidos = {k: v for k, v in sorted(dic_perdidos.items(), key=lambda x: x[1], reverse=True)}\n",
    "\n",
    "contador = 0\n",
    "for key in dic_perdidos:\n",
    "    if (contador < 3):\n",
    "        codigo_columna = key\n",
    "        c_perdidos, p_perdidods, lista_perdidos = getna(subset_group,codigo_columna, True)\n",
    "        print('Lista de países con datos perdidos para: {}'.format(key))\n",
    "        print('{}'.format(lista_perdidos))   \n",
    "        print('\\n')\n",
    "    contador += 1"
   ]
  },
  {
   "cell_type": "markdown",
   "metadata": {},
   "source": [
    "## 4. Grafique los histogramas\n",
    "\n",
    "Genere una función que grafique un histograma en conjunto y señale las medias.\n",
    "\n",
    "La función debe incluír los siguientes argumentos:\n",
    "\n",
    "* dataframe : La base de datos donde se encuentran los datos específicos.\n",
    "* var : La variable a graficar.\n",
    "* sample_mean : Booleano. Si es verdadero, debe generar una recta vertical indicando la media de la variable en la selección muestral. Por defecto debe ser False .\n",
    "* true_mean : Booleano. Si es verdadero, debe generar una recta vertical indicando la media de variable en la base de datos completa.\n",
    "\n",
    "**Implemente las funciones para las 4 variables seleccionadas según su grupo.**\n",
    "\n"
   ]
  },
  {
   "cell_type": "code",
   "execution_count": 101,
   "metadata": {
    "ExecuteTime": {
     "end_time": "2019-10-25T00:33:13.045361Z",
     "start_time": "2019-10-25T00:33:13.025673Z"
    }
   },
   "outputs": [],
   "source": [
    "def gethistograma(dataframe,var,true_mean,sample_mean = False):  \n",
    "    \"\"\"\n",
    "    Función que liste las observaciones perdidas de una variable\n",
    "\n",
    "    Parameters:\n",
    "    dataframe (Dataframe): La base de datos donde se encuentran los datos específicos.\n",
    "    var (str): La variable a graficar.\n",
    "    sample_mean (bool): ooleano. Si es verdadero, debe generar una recta vertical indicando la media de la variable en la selección muestral. Por defecto debe ser False\n",
    "    true_mean : Booleano. Si es verdadero, debe generar una recta vertical indicando la media de variable en la base de datos completa\n",
    "\n",
    "    Returns:  Graficacion de Histograma\n",
    "   \"\"\"  \n",
    "    \n",
    "    dfhisto_dropna = dataframe[var].dropna()\n",
    "\n",
    "    df_mean = np.mean(df[var].dropna())\n",
    "    \n",
    "    print('Media muestra completa {}'.format(df_mean))\n",
    "    print('Media submuestra {}'.format(np.mean(dfhisto_dropna)))    \n",
    "\n",
    "    subhisto_dropna = subset_group[var].dropna()\n",
    "    subhisto_dropna_mean = subhisto_dropna.mean()     \n",
    "    \n",
    "    plt.hist(dfhisto_dropna, color='grey', alpha=.4)\n",
    "    if (sample_mean):\n",
    "        plt.axvline(np.mean(dfhisto_dropna), color = 'tomato', linestyle = '--')\n",
    "    if (true_mean):    \n",
    "        plt.axvline(np.mean(dataframe[var]), color = 'blue', linestyle = '--')\n",
    "    plt.title(\"Variable {}\".format(var))    \n"
   ]
  },
  {
   "cell_type": "code",
   "execution_count": 102,
   "metadata": {
    "ExecuteTime": {
     "end_time": "2019-10-25T00:33:17.733384Z",
     "start_time": "2019-10-25T00:33:17.537722Z"
    },
    "scrolled": true
   },
   "outputs": [
    {
     "name": "stdout",
     "output_type": "stream",
     "text": [
      "Media muestra completa 24.086897087097167\n",
      "Media submuestra 24.20135136230572\n"
     ]
    },
    {
     "data": {
      "image/png": "[encoded data removed]",
      "text/plain": [
       "<Figure size 432x288 with 1 Axes>"
      ]
     },
     "metadata": {
      "needs_background": "light"
     },
     "output_type": "display_data"
    }
   ],
   "source": [
    "gethistograma(subset_group,'wef_imort',True,True)   \n"
   ]
  },
  {
   "cell_type": "code",
   "execution_count": 103,
   "metadata": {
    "ExecuteTime": {
     "end_time": "2019-10-25T00:33:28.416224Z",
     "start_time": "2019-10-25T00:33:28.192355Z"
    }
   },
   "outputs": [
    {
     "name": "stdout",
     "output_type": "stream",
     "text": [
      "Media muestra completa 4.949340671727473\n",
      "Media submuestra 4.618369594419565\n"
     ]
    },
    {
     "data": {
      "image/png": "[encoded data removed]",
      "text/plain": [
       "<Figure size 432x288 with 1 Axes>"
      ]
     },
     "metadata": {
      "needs_background": "light"
     },
     "output_type": "display_data"
    }
   ],
   "source": [
    "gethistograma(subset_group,'who_alc2000',True,True) \n"
   ]
  },
  {
   "cell_type": "code",
   "execution_count": 104,
   "metadata": {
    "ExecuteTime": {
     "end_time": "2019-10-25T00:33:38.063994Z",
     "start_time": "2019-10-25T00:33:37.812726Z"
    }
   },
   "outputs": [
    {
     "name": "stdout",
     "output_type": "stream",
     "text": [
      "Media muestra completa 23.285483875000008\n",
      "Media submuestra 24.128333311666673\n"
     ]
    },
    {
     "data": {
      "image/png": "[encoded data removed]",
      "text/plain": [
       "<Figure size 432x288 with 1 Axes>"
      ]
     },
     "metadata": {
      "needs_background": "light"
     },
     "output_type": "display_data"
    }
   ],
   "source": [
    "gethistograma(subset_group,'who_tobt',True,True)     \n"
   ]
  },
  {
   "cell_type": "code",
   "execution_count": 105,
   "metadata": {
    "ExecuteTime": {
     "end_time": "2019-10-25T00:33:41.436241Z",
     "start_time": "2019-10-25T00:33:41.183709Z"
    }
   },
   "outputs": [
    {
     "name": "stdout",
     "output_type": "stream",
     "text": [
      "Media muestra completa 6.783758504767167\n",
      "Media submuestra 6.73455144750311\n"
     ]
    },
    {
     "data": {
      "image/png": "[encoded data removed]",
      "text/plain": [
       "<Figure size 432x288 with 1 Axes>"
      ]
     },
     "metadata": {
      "needs_background": "light"
     },
     "output_type": "display_data"
    }
   ],
   "source": [
    "gethistograma(subset_group,'wdi_exph',True,True)     \n"
   ]
  },
  {
   "cell_type": "markdown",
   "metadata": {},
   "source": [
    "¿En qué variables la media de la submuestra es mayor a la de la muestra completa?"
   ]
  },
  {
   "cell_type": "code",
   "execution_count": 107,
   "metadata": {
    "ExecuteTime": {
     "end_time": "2019-10-25T00:34:44.822789Z",
     "start_time": "2019-10-25T00:34:44.485651Z"
    }
   },
   "outputs": [
    {
     "name": "stdout",
     "output_type": "stream",
     "text": [
      "wef_imort\n",
      "Media muestra completa 24.086897087097167\n",
      "Media submuestra 24.20135136230572\n",
      "\n",
      "\n",
      "who_tobt\n",
      "Media muestra completa 23.285483875000008\n",
      "Media submuestra 24.128333311666673\n",
      "\n",
      "\n"
     ]
    },
    {
     "data": {
      "image/png": "[encoded data removed]",
      "text/plain": [
       "<Figure size 432x288 with 2 Axes>"
      ]
     },
     "metadata": {
      "needs_background": "light"
     },
     "output_type": "display_data"
    }
   ],
   "source": [
    "print('wef_imort')\n",
    "plt.subplot(2, 2, 1)\n",
    "gethistograma(subset_group,'wef_imort',True,True) \n",
    "print('\\n')\n",
    "print('who_tobt')\n",
    "plt.subplot(2, 2, 2)\n",
    "gethistograma(subset_group,'who_tobt',True,True)     \n",
    "print('\\n')\n"
   ]
  },
  {
   "cell_type": "markdown",
   "metadata": {},
   "source": [
    "## 5. Genere una función que devuelva un dotplot\n",
    "\n",
    "La función debe contener los siguientes argumentos como argumentos:\n",
    "* dataframe : La tabla de datos donde buscar las variables.\n",
    "* plot_var : La variable a analizar y extraer las medias.\n",
    "* plot_by : La variable agrupadora.\n",
    "* global_stat : Booleano. Si es True debe graficar la media global de la variable. Por defecto debe ser False .\n",
    "* statistic: Debe presentar dos opciones. mean para la media y median para la mediana. Por defecto debe ser mean .\n",
    "\n",
    "Implemente la función en las 3 variables con una menor cantidad de datos perdidos."
   ]
  },
  {
   "cell_type": "code",
   "execution_count": 115,
   "metadata": {
    "ExecuteTime": {
     "end_time": "2019-10-25T00:40:04.106041Z",
     "start_time": "2019-10-25T00:40:03.826667Z"
    },
    "scrolled": true
   },
   "outputs": [
    {
     "data": {
      "image/png": "[encoded data removed]",
      "text/plain": [
       "<Figure size 432x288 with 2 Axes>"
      ]
     },
     "metadata": {
      "needs_background": "light"
     },
     "output_type": "display_data"
    }
   ],
   "source": [
    "def getdotplot(dataframe,plot_var,plot_by,global_stat = False, statistic = 'mean'):\n",
    "    \"\"\"\n",
    "    Función que liste las observaciones perdidas de una variable\n",
    "\n",
    "    Parameters:\n",
    "    dataframe (Dataframe): La base de datos donde se encuentran los datos específicos.\n",
    "    plot_var (str): La variable a analizar y extraer las medias\n",
    "    plot_by (str): La variable agrupadora\n",
    "    global_stat: Booleano. Si es True debe graficar la media global de la variable. Por defecto debe ser False     \n",
    "    statistic: Debe presentar dos opciones. mean para la media y median para la mediana. Por defecto debe ser mean\n",
    "\n",
    "    Returns:  Graficacion de Dotplot\n",
    "\n",
    "\n",
    "   \"\"\"      \n",
    "    df_dropna = dataframe.dropna(subset=[plot_var]) \n",
    "    if (statistic == 'mean'):\n",
    "        group_stat = round(df_dropna.groupby(plot_by)[plot_var].mean(),2)\n",
    "        if (global_stat):\n",
    "            plt.axvline(df_dropna[plot_var].mean(), color = 'tomato', linestyle = '--')\n",
    "        plt.plot(group_stat.values, group_stat.index, 'o', color = 'blue')\n",
    "    else:\n",
    "        group_stat = round(df_dropna.groupby(plot_by)[plot_var].median(),2)\n",
    "        if (global_stat):\n",
    "            plt.axvline(df_dropna[plot_var].median(), color = 'green', linestyle = '--')\n",
    "        plt.plot(group_stat.values, group_stat.index, 'o', color = 'blue')        \n",
    "        \n",
    "plt.subplot(2, 1, 1)        \n",
    "getdotplot(subset_group,'undp_hdi','region_recod',True,'mean')  \n",
    "plt.subplot(2, 1, 2)\n",
    "getdotplot(subset_group,'undp_hdi','region_recod',True,'median')   \n",
    "\n",
    "\n"
   ]
  },
  {
   "cell_type": "code",
   "execution_count": 117,
   "metadata": {
    "ExecuteTime": {
     "end_time": "2019-10-25T00:40:57.244855Z",
     "start_time": "2019-10-25T00:40:56.986515Z"
    }
   },
   "outputs": [
    {
     "data": {
      "image/png": "[encoded data removed]",
      "text/plain": [
       "<Figure size 432x288 with 2 Axes>"
      ]
     },
     "metadata": {
      "needs_background": "light"
     },
     "output_type": "display_data"
    }
   ],
   "source": [
    "plt.subplot(2, 1, 1)        \n",
    "getdotplot(subset_group,'gle_cgdpc','region_recod',True,'mean')        \n",
    "plt.subplot(2, 1, 2)        \n",
    "getdotplot(subset_group,'gle_cgdpc','region_recod',True,'median') "
   ]
  },
  {
   "cell_type": "code",
   "execution_count": 118,
   "metadata": {
    "ExecuteTime": {
     "end_time": "2019-10-25T00:41:09.705217Z",
     "start_time": "2019-10-25T00:41:09.401445Z"
    }
   },
   "outputs": [
    {
     "data": {
      "image/png": "[encoded data removed]",
      "text/plain": [
       "<Figure size 432x288 with 2 Axes>"
      ]
     },
     "metadata": {
      "needs_background": "light"
     },
     "output_type": "display_data"
    }
   ],
   "source": [
    "plt.subplot(2, 1, 1)        \n",
    "getdotplot(subset_group,'wdi_exph','region_recod',True,'mean')        \n",
    "plt.subplot(2, 1, 2)        \n",
    "getdotplot(subset_group,'wdi_exph','region_recod',True,'median') "
   ]
  },
  {
   "cell_type": "markdown",
   "metadata": {},
   "source": [
    "## 6. Guarde la base de datos\n",
    "La submuestra creada tiene un método llamado to_csv .\n",
    "\n",
    "Acceda a éste y guarde la base de datos con la siguiente nomenclatura:\n",
    "\n",
    "subsample_iniciales.csv"
   ]
  },
  {
   "cell_type": "code",
   "execution_count": 120,
   "metadata": {
    "ExecuteTime": {
     "end_time": "2019-10-25T00:43:01.206242Z",
     "start_time": "2019-10-25T00:43:01.153587Z"
    }
   },
   "outputs": [],
   "source": [
    "subset_group.to_csv('subsample_jrc.csv', encoding='utf-8', index=False)\n"
   ]
  }
 ],
 "metadata": {
  "kernelspec": {
   "display_name": "Python 3",
   "language": "python",
   "name": "python3"
  },
  "language_info": {
   "codemirror_mode": {
    "name": "ipython",
    "version": 3
   },
   "file_extension": ".py",
   "mimetype": "text/x-python",
   "name": "python",
   "nbconvert_exporter": "python",
   "pygments_lexer": "ipython3",
   "version": "3.7.3"
  },
  "varInspector": {
   "cols": {
    "lenName": 16,
    "lenType": 16,
    "lenVar": 40
   },
   "kernels_config": {
    "python": {
     "delete_cmd_postfix": "",
     "delete_cmd_prefix": "del ",
     "library": "var_list.py",
     "varRefreshCmd": "print(var_dic_list())"
    },
    "r": {
     "delete_cmd_postfix": ") ",
     "delete_cmd_prefix": "rm(",
     "library": "var_list.r",
     "varRefreshCmd": "cat(var_dic_list()) "
    }
   },
   "types_to_exclude": [
    "module",
    "function",
    "builtin_function_or_method",
    "instance",
    "_Feature"
   ],
   "window_display": false
  }
 },
 "nbformat": 4,
 "nbformat_minor": 2
}
