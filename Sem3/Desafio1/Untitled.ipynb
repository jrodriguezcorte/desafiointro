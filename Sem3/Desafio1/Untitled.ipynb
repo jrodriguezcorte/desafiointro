{
 "cells": [
  {
   "cell_type": "code",
   "execution_count": 1,
   "metadata": {
    "ExecuteTime": {
     "end_time": "2019-10-28T23:49:05.732460Z",
     "start_time": "2019-10-28T23:49:05.114521Z"
    }
   },
   "outputs": [
    {
     "data": {
      "text/html": [
       "<div>\n",
       "<style scoped>\n",
       "    .dataframe tbody tr th:only-of-type {\n",
       "        vertical-align: middle;\n",
       "    }\n",
       "\n",
       "    .dataframe tbody tr th {\n",
       "        vertical-align: top;\n",
       "    }\n",
       "\n",
       "    .dataframe thead th {\n",
       "        text-align: right;\n",
       "    }\n",
       "</style>\n",
       "<table border=\"1\" class=\"dataframe\">\n",
       "  <thead>\n",
       "    <tr style=\"text-align: right;\">\n",
       "      <th></th>\n",
       "      <th>undp_hdi</th>\n",
       "      <th>ccodealp</th>\n",
       "      <th>ht_region</th>\n",
       "      <th>gle_cgdpc</th>\n",
       "      <th>imf_pop</th>\n",
       "      <th>wef_imort</th>\n",
       "      <th>who_alc2000</th>\n",
       "      <th>who_tobt</th>\n",
       "      <th>wdi_exph</th>\n",
       "      <th>region_recod</th>\n",
       "    </tr>\n",
       "  </thead>\n",
       "  <tbody>\n",
       "    <tr>\n",
       "      <th>125</th>\n",
       "      <td>0.351</td>\n",
       "      <td>NER</td>\n",
       "      <td>4</td>\n",
       "      <td>644.53998</td>\n",
       "      <td>NaN</td>\n",
       "      <td>NaN</td>\n",
       "      <td>0.15</td>\n",
       "      <td>8.400000</td>\n",
       "      <td>5.821299</td>\n",
       "      <td>SubSaharian</td>\n",
       "    </tr>\n",
       "    <tr>\n",
       "      <th>167</th>\n",
       "      <td>0.909</td>\n",
       "      <td>SWE</td>\n",
       "      <td>5</td>\n",
       "      <td>39000.91000</td>\n",
       "      <td>9.645000</td>\n",
       "      <td>2.300000</td>\n",
       "      <td>7.30</td>\n",
       "      <td>21.900000</td>\n",
       "      <td>11.929840</td>\n",
       "      <td>WesternDem</td>\n",
       "    </tr>\n",
       "    <tr>\n",
       "      <th>12</th>\n",
       "      <td>0.575</td>\n",
       "      <td>BGD</td>\n",
       "      <td>8</td>\n",
       "      <td>1796.64000</td>\n",
       "      <td>154.695007</td>\n",
       "      <td>33.099998</td>\n",
       "      <td>0.01</td>\n",
       "      <td>21.799999</td>\n",
       "      <td>2.818999</td>\n",
       "      <td>SouthAsia</td>\n",
       "    </tr>\n",
       "    <tr>\n",
       "      <th>101</th>\n",
       "      <td>0.896</td>\n",
       "      <td>LUX</td>\n",
       "      <td>5</td>\n",
       "      <td>61404.48000</td>\n",
       "      <td>0.550000</td>\n",
       "      <td>1.700000</td>\n",
       "      <td>11.12</td>\n",
       "      <td>24.400000</td>\n",
       "      <td>6.937873</td>\n",
       "      <td>WesternDem</td>\n",
       "    </tr>\n",
       "    <tr>\n",
       "      <th>154</th>\n",
       "      <td>0.431</td>\n",
       "      <td>SLE</td>\n",
       "      <td>4</td>\n",
       "      <td>979.95001</td>\n",
       "      <td>6.232000</td>\n",
       "      <td>117.400002</td>\n",
       "      <td>3.78</td>\n",
       "      <td>34.400002</td>\n",
       "      <td>11.089902</td>\n",
       "      <td>SubSaharian</td>\n",
       "    </tr>\n",
       "  </tbody>\n",
       "</table>\n",
       "</div>"
      ],
      "text/plain": [
       "     undp_hdi ccodealp  ht_region    gle_cgdpc     imf_pop   wef_imort  \\\n",
       "125     0.351      NER          4    644.53998         NaN         NaN   \n",
       "167     0.909      SWE          5  39000.91000    9.645000    2.300000   \n",
       "12      0.575      BGD          8   1796.64000  154.695007   33.099998   \n",
       "101     0.896      LUX          5  61404.48000    0.550000    1.700000   \n",
       "154     0.431      SLE          4    979.95001    6.232000  117.400002   \n",
       "\n",
       "     who_alc2000   who_tobt   wdi_exph region_recod  \n",
       "125         0.15   8.400000   5.821299  SubSaharian  \n",
       "167         7.30  21.900000  11.929840   WesternDem  \n",
       "12          0.01  21.799999   2.818999    SouthAsia  \n",
       "101        11.12  24.400000   6.937873   WesternDem  \n",
       "154         3.78  34.400002  11.089902  SubSaharian  "
      ]
     },
     "execution_count": 1,
     "metadata": {},
     "output_type": "execute_result"
    }
   ],
   "source": [
    "import pandas as pd\n",
    "import numpy as np\n",
    "import matplotlib.pyplot as plt\n",
    "import scipy.stats as stats\n",
    "\n",
    "np.random.seed(1641)\n",
    "\n",
    "df = pd.read_csv('qog_std_cs_jan18.csv')\n",
    "\n",
    "subset = df.sample(frac = 0.5) \n",
    "\n",
    "subset_group = subset.loc[:, ['undp_hdi', 'ccodealp', 'ht_region', 'gle_cgdpc', 'imf_pop', 'wef_imort', 'who_alc2000', 'who_tobt', 'wdi_exph']] \n",
    "\n",
    "subset_group['region_recod'] = subset_group['ht_region'].replace([1, 2, 3, 4, 5, 6, 7, 8, 9, 10],\n",
    "['EastEurope','LatAm','NorthAfrica','SubSaharian','WesternDem','EastAsia','SouthEastAsia','SouthAsia','Pacific','Caribbean'])\n",
    "\n",
    "\n",
    "subset_group.head()"
   ]
  },
  {
   "cell_type": "code",
   "execution_count": null,
   "metadata": {},
   "outputs": [],
   "source": []
  }
 ],
 "metadata": {
  "kernelspec": {
   "display_name": "Python 3",
   "language": "python",
   "name": "python3"
  },
  "language_info": {
   "codemirror_mode": {
    "name": "ipython",
    "version": 3
   },
   "file_extension": ".py",
   "mimetype": "text/x-python",
   "name": "python",
   "nbconvert_exporter": "python",
   "pygments_lexer": "ipython3",
   "version": "3.7.3"
  },
  "varInspector": {
   "cols": {
    "lenName": 16,
    "lenType": 16,
    "lenVar": 40
   },
   "kernels_config": {
    "python": {
     "delete_cmd_postfix": "",
     "delete_cmd_prefix": "del ",
     "library": "var_list.py",
     "varRefreshCmd": "print(var_dic_list())"
    },
    "r": {
     "delete_cmd_postfix": ") ",
     "delete_cmd_prefix": "rm(",
     "library": "var_list.r",
     "varRefreshCmd": "cat(var_dic_list()) "
    }
   },
   "types_to_exclude": [
    "module",
    "function",
    "builtin_function_or_method",
    "instance",
    "_Feature"
   ],
   "window_display": false
  }
 },
 "nbformat": 4,
 "nbformat_minor": 2
}
