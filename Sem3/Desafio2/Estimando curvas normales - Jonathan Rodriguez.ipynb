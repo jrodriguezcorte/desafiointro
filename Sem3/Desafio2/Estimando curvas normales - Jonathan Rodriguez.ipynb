{
 "cells": [
  {
   "cell_type": "markdown",
   "metadata": {},
   "source": [
    "**NOMBRE ALUMNO:** Jonathan Rodriguez\n",
    "\n",
    "**FECHA:** 07-11-2019"
   ]
  },
  {
   "cell_type": "markdown",
   "metadata": {},
   "source": [
    "## 1. Importe un csv desde internet\n",
    "\n",
    "Utilice la base de datos de un compañero creada en la sesión pasada"
   ]
  },
  {
   "cell_type": "code",
   "execution_count": 1,
   "metadata": {
    "ExecuteTime": {
     "end_time": "2019-11-11T23:42:31.585060Z",
     "start_time": "2019-11-11T23:42:24.780008Z"
    }
   },
   "outputs": [],
   "source": [
    "%matplotlib inline\n",
    "import pandas as pd\n",
    "import numpy as np\n",
    "import matplotlib.pyplot as plt\n",
    "import scipy.stats as stats\n",
    "from scipy.stats import norm\n",
    "\n",
    "df = pd.read_csv('subsample_jrc.csv')\n",
    "df_comp = pd.read_csv('subsample_comp.csv').drop(columns='Unnamed: 0')"
   ]
  },
  {
   "cell_type": "code",
   "execution_count": 2,
   "metadata": {
    "ExecuteTime": {
     "end_time": "2019-11-11T23:42:31.746266Z",
     "start_time": "2019-11-11T23:42:31.682468Z"
    }
   },
   "outputs": [
    {
     "data": {
      "text/html": [
       "<div>\n",
       "<style scoped>\n",
       "    .dataframe tbody tr th:only-of-type {\n",
       "        vertical-align: middle;\n",
       "    }\n",
       "\n",
       "    .dataframe tbody tr th {\n",
       "        vertical-align: top;\n",
       "    }\n",
       "\n",
       "    .dataframe thead th {\n",
       "        text-align: right;\n",
       "    }\n",
       "</style>\n",
       "<table border=\"1\" class=\"dataframe\">\n",
       "  <thead>\n",
       "    <tr style=\"text-align: right;\">\n",
       "      <th></th>\n",
       "      <th>undp_hdi</th>\n",
       "      <th>ccodealp</th>\n",
       "      <th>ht_region</th>\n",
       "      <th>gle_cgdpc</th>\n",
       "      <th>imf_pop</th>\n",
       "      <th>wef_imort</th>\n",
       "      <th>who_alc2000</th>\n",
       "      <th>who_tobt</th>\n",
       "      <th>wdi_exph</th>\n",
       "    </tr>\n",
       "  </thead>\n",
       "  <tbody>\n",
       "    <tr>\n",
       "      <th>0</th>\n",
       "      <td>0.351</td>\n",
       "      <td>NER</td>\n",
       "      <td>SubSaharian</td>\n",
       "      <td>644.53998</td>\n",
       "      <td>NaN</td>\n",
       "      <td>NaN</td>\n",
       "      <td>0.15</td>\n",
       "      <td>8.400000</td>\n",
       "      <td>5.821299</td>\n",
       "    </tr>\n",
       "    <tr>\n",
       "      <th>1</th>\n",
       "      <td>0.909</td>\n",
       "      <td>SWE</td>\n",
       "      <td>WesternDem</td>\n",
       "      <td>39000.91000</td>\n",
       "      <td>9.645000</td>\n",
       "      <td>2.300000</td>\n",
       "      <td>7.30</td>\n",
       "      <td>21.900000</td>\n",
       "      <td>11.929840</td>\n",
       "    </tr>\n",
       "    <tr>\n",
       "      <th>2</th>\n",
       "      <td>0.575</td>\n",
       "      <td>BGD</td>\n",
       "      <td>SouthAsia</td>\n",
       "      <td>1796.64000</td>\n",
       "      <td>154.695007</td>\n",
       "      <td>33.099998</td>\n",
       "      <td>0.01</td>\n",
       "      <td>21.799999</td>\n",
       "      <td>2.818999</td>\n",
       "    </tr>\n",
       "    <tr>\n",
       "      <th>3</th>\n",
       "      <td>0.896</td>\n",
       "      <td>LUX</td>\n",
       "      <td>WesternDem</td>\n",
       "      <td>61404.48000</td>\n",
       "      <td>0.550000</td>\n",
       "      <td>1.700000</td>\n",
       "      <td>11.12</td>\n",
       "      <td>24.400000</td>\n",
       "      <td>6.937873</td>\n",
       "    </tr>\n",
       "    <tr>\n",
       "      <th>4</th>\n",
       "      <td>0.431</td>\n",
       "      <td>SLE</td>\n",
       "      <td>SubSaharian</td>\n",
       "      <td>979.95001</td>\n",
       "      <td>6.232000</td>\n",
       "      <td>117.400002</td>\n",
       "      <td>3.78</td>\n",
       "      <td>34.400002</td>\n",
       "      <td>11.089902</td>\n",
       "    </tr>\n",
       "  </tbody>\n",
       "</table>\n",
       "</div>"
      ],
      "text/plain": [
       "   undp_hdi ccodealp    ht_region    gle_cgdpc     imf_pop   wef_imort  \\\n",
       "0     0.351      NER  SubSaharian    644.53998         NaN         NaN   \n",
       "1     0.909      SWE   WesternDem  39000.91000    9.645000    2.300000   \n",
       "2     0.575      BGD    SouthAsia   1796.64000  154.695007   33.099998   \n",
       "3     0.896      LUX   WesternDem  61404.48000    0.550000    1.700000   \n",
       "4     0.431      SLE  SubSaharian    979.95001    6.232000  117.400002   \n",
       "\n",
       "   who_alc2000   who_tobt   wdi_exph  \n",
       "0         0.15   8.400000   5.821299  \n",
       "1         7.30  21.900000  11.929840  \n",
       "2         0.01  21.799999   2.818999  \n",
       "3        11.12  24.400000   6.937873  \n",
       "4         3.78  34.400002  11.089902  "
      ]
     },
     "execution_count": 2,
     "metadata": {},
     "output_type": "execute_result"
    }
   ],
   "source": [
    "df.head()"
   ]
  },
  {
   "cell_type": "code",
   "execution_count": 3,
   "metadata": {
    "ExecuteTime": {
     "end_time": "2019-11-11T23:42:33.746740Z",
     "start_time": "2019-11-11T23:42:33.724662Z"
    }
   },
   "outputs": [
    {
     "data": {
      "text/html": [
       "<div>\n",
       "<style scoped>\n",
       "    .dataframe tbody tr th:only-of-type {\n",
       "        vertical-align: middle;\n",
       "    }\n",
       "\n",
       "    .dataframe tbody tr th {\n",
       "        vertical-align: top;\n",
       "    }\n",
       "\n",
       "    .dataframe thead th {\n",
       "        text-align: right;\n",
       "    }\n",
       "</style>\n",
       "<table border=\"1\" class=\"dataframe\">\n",
       "  <thead>\n",
       "    <tr style=\"text-align: right;\">\n",
       "      <th></th>\n",
       "      <th>undp_hdi</th>\n",
       "      <th>ccodealp</th>\n",
       "      <th>ht_region</th>\n",
       "      <th>gle_cgdpc</th>\n",
       "      <th>imf_pop</th>\n",
       "      <th>wef_imort</th>\n",
       "      <th>who_alc2000</th>\n",
       "      <th>who_tobt</th>\n",
       "      <th>wdi_exph</th>\n",
       "    </tr>\n",
       "  </thead>\n",
       "  <tbody>\n",
       "    <tr>\n",
       "      <th>0</th>\n",
       "      <td>0.678</td>\n",
       "      <td>VNM</td>\n",
       "      <td>SouthEastAsia</td>\n",
       "      <td>4147.5698</td>\n",
       "      <td>89.691002</td>\n",
       "      <td>18.4</td>\n",
       "      <td>4.09</td>\n",
       "      <td>23.700001</td>\n",
       "      <td>7.066778</td>\n",
       "    </tr>\n",
       "    <tr>\n",
       "      <th>1</th>\n",
       "      <td>0.729</td>\n",
       "      <td>JAM</td>\n",
       "      <td>Caribbean</td>\n",
       "      <td>4668.7700</td>\n",
       "      <td>2.799000</td>\n",
       "      <td>14.4</td>\n",
       "      <td>3.83</td>\n",
       "      <td>17.600000</td>\n",
       "      <td>5.361525</td>\n",
       "    </tr>\n",
       "    <tr>\n",
       "      <th>2</th>\n",
       "      <td>0.784</td>\n",
       "      <td>ATG</td>\n",
       "      <td>Caribbean</td>\n",
       "      <td>12257.7100</td>\n",
       "      <td>NaN</td>\n",
       "      <td>NaN</td>\n",
       "      <td>8.56</td>\n",
       "      <td>NaN</td>\n",
       "      <td>5.541683</td>\n",
       "    </tr>\n",
       "    <tr>\n",
       "      <th>3</th>\n",
       "      <td>0.754</td>\n",
       "      <td>BRA</td>\n",
       "      <td>LatAm</td>\n",
       "      <td>9815.2402</td>\n",
       "      <td>202.768997</td>\n",
       "      <td>12.9</td>\n",
       "      <td>7.32</td>\n",
       "      <td>16.100000</td>\n",
       "      <td>8.322834</td>\n",
       "    </tr>\n",
       "    <tr>\n",
       "      <th>4</th>\n",
       "      <td>0.911</td>\n",
       "      <td>LIE</td>\n",
       "      <td>WesternDem</td>\n",
       "      <td>102243.5200</td>\n",
       "      <td>NaN</td>\n",
       "      <td>NaN</td>\n",
       "      <td>NaN</td>\n",
       "      <td>NaN</td>\n",
       "      <td>NaN</td>\n",
       "    </tr>\n",
       "  </tbody>\n",
       "</table>\n",
       "</div>"
      ],
      "text/plain": [
       "   undp_hdi ccodealp      ht_region    gle_cgdpc     imf_pop  wef_imort  \\\n",
       "0     0.678      VNM  SouthEastAsia    4147.5698   89.691002       18.4   \n",
       "1     0.729      JAM      Caribbean    4668.7700    2.799000       14.4   \n",
       "2     0.784      ATG      Caribbean   12257.7100         NaN        NaN   \n",
       "3     0.754      BRA          LatAm    9815.2402  202.768997       12.9   \n",
       "4     0.911      LIE     WesternDem  102243.5200         NaN        NaN   \n",
       "\n",
       "   who_alc2000   who_tobt  wdi_exph  \n",
       "0         4.09  23.700001  7.066778  \n",
       "1         3.83  17.600000  5.361525  \n",
       "2         8.56        NaN  5.541683  \n",
       "3         7.32  16.100000  8.322834  \n",
       "4          NaN        NaN       NaN  "
      ]
     },
     "execution_count": 3,
     "metadata": {},
     "output_type": "execute_result"
    }
   ],
   "source": [
    "df_comp.head()"
   ]
  },
  {
   "cell_type": "markdown",
   "metadata": {},
   "source": [
    "## 2. Importe su conjunto de funciones\n",
    "\n",
    "Genere un archivo _ancilliary_funcs.py_ para guardar las funciones creadas en la sesión pasada e impórtelo.\n",
    "\n",
    "Utilice las funciones creadas para inspeccionar la cantidad de casos perdidos de la muestra de su compañero."
   ]
  },
  {
   "cell_type": "code",
   "execution_count": 4,
   "metadata": {
    "ExecuteTime": {
     "end_time": "2019-11-11T23:42:37.329813Z",
     "start_time": "2019-11-11T23:42:37.057316Z"
    }
   },
   "outputs": [
    {
     "name": "stdout",
     "output_type": "stream",
     "text": [
      "undp_hdi\n",
      "____________________\n",
      "Cantidad de perdidos 6\n",
      "Porcentaje de perdidos: 0.06\n",
      "\n",
      "\n",
      "ccodealp\n",
      "____________________\n",
      "Cantidad de perdidos 0\n",
      "Porcentaje de perdidos: 0.0\n",
      "\n",
      "\n",
      "ht_region\n",
      "____________________\n",
      "Cantidad de perdidos 0\n",
      "Porcentaje de perdidos: 0.0\n",
      "\n",
      "\n",
      "gle_cgdpc\n",
      "____________________\n",
      "Cantidad de perdidos 1\n",
      "Porcentaje de perdidos: 0.01\n",
      "\n",
      "\n",
      "imf_pop\n",
      "____________________\n",
      "Cantidad de perdidos 26\n",
      "Porcentaje de perdidos: 0.27\n",
      "\n",
      "\n",
      "wef_imort\n",
      "____________________\n",
      "Cantidad de perdidos 26\n",
      "Porcentaje de perdidos: 0.27\n",
      "\n",
      "\n",
      "who_alc2000\n",
      "____________________\n",
      "Cantidad de perdidos 8\n",
      "Porcentaje de perdidos: 0.08\n",
      "\n",
      "\n",
      "who_tobt\n",
      "____________________\n",
      "Cantidad de perdidos 32\n",
      "Porcentaje de perdidos: 0.33\n",
      "\n",
      "\n",
      "wdi_exph\n",
      "____________________\n",
      "Cantidad de perdidos 3\n",
      "Porcentaje de perdidos: 0.03\n",
      "\n",
      "\n"
     ]
    }
   ],
   "source": [
    "from ancilliary_funcs_jrc import *\n",
    "\n",
    "\n",
    "lista = []\n",
    "# Registrando los nombres de columnas en una lista\n",
    "for value in df_comp:\n",
    "    lista.append(value)\n",
    "\n",
    "# Analizando todas las variables con sus casos perdidos    \n",
    "for value in range(len(lista)):\n",
    "    codigo_columna = lista[value]\n",
    "    c_perdidos, p_perdidods = getna(df_comp,codigo_columna)\n",
    "    print(lista[value])\n",
    "    print('____________________')\n",
    "    print('Cantidad de perdidos {}'.format(c_perdidos))\n",
    "    print('Porcentaje de perdidos: {}'.format(round(p_perdidods,2)))   \n",
    "    print('\\n')    \n",
    "    \n"
   ]
  },
  {
   "cell_type": "markdown",
   "metadata": {},
   "source": [
    "## Desafío 3. Estime el puntaje Z\n",
    "\n",
    "Estime el puntaje $z$ para las $10$ primeras y últimas observaciones de las variables con una menor cantidad de datos perdidos, para ello haga lo siguiente:\n",
    "* Genere una nueva columna en la tabla de datos mediante funciones vectorizadas. Recuerde que para calcular el puntaje $z$ de una observación se utiliza la fórmula:\n",
    "    \n",
    "$$z_i = \\frac{x_i - \\bar{x}}{\\sigma(x)}$$\n",
    "* Para ordenar los valores puedes utilizar la función **sort_values** del DataFrame analizado. \n",
    "*Indicación:* Lean la documentación asociada al argumento **by** para evitar conflictos en la sobreescritura.\n",
    "* Asegúrense de eliminar las observaciones que tengan valores perdidos con **dropna**.\n",
    "*Indicación:* Lean la documentación asociada al método **reset_index**.\n",
    "* Seleccionen las primeras y últimas 10 observaciones de la base reordenada. ¿Qué características en común se encuentran?"
   ]
  },
  {
   "cell_type": "code",
   "execution_count": 5,
   "metadata": {
    "ExecuteTime": {
     "end_time": "2019-11-11T23:42:42.168375Z",
     "start_time": "2019-11-11T23:42:41.464915Z"
    },
    "scrolled": true
   },
   "outputs": [
    {
     "name": "stdout",
     "output_type": "stream",
     "text": [
      "gle_cpgdc_zscore\n"
     ]
    },
    {
     "data": {
      "text/html": [
       "<div>\n",
       "<style scoped>\n",
       "    .dataframe tbody tr th:only-of-type {\n",
       "        vertical-align: middle;\n",
       "    }\n",
       "\n",
       "    .dataframe tbody tr th {\n",
       "        vertical-align: top;\n",
       "    }\n",
       "\n",
       "    .dataframe thead th {\n",
       "        text-align: right;\n",
       "    }\n",
       "</style>\n",
       "<table border=\"1\" class=\"dataframe\">\n",
       "  <thead>\n",
       "    <tr style=\"text-align: right;\">\n",
       "      <th></th>\n",
       "      <th>undp_hdi</th>\n",
       "      <th>ccodealp</th>\n",
       "      <th>ht_region</th>\n",
       "      <th>gle_cgdpc</th>\n",
       "      <th>imf_pop</th>\n",
       "      <th>wef_imort</th>\n",
       "      <th>who_alc2000</th>\n",
       "      <th>who_tobt</th>\n",
       "      <th>wdi_exph</th>\n",
       "      <th>gle_cgdpc_zscore</th>\n",
       "    </tr>\n",
       "  </thead>\n",
       "  <tbody>\n",
       "    <tr>\n",
       "      <th>0</th>\n",
       "      <td>0.351</td>\n",
       "      <td>NER</td>\n",
       "      <td>SubSaharian</td>\n",
       "      <td>644.53998</td>\n",
       "      <td>NaN</td>\n",
       "      <td>NaN</td>\n",
       "      <td>0.15</td>\n",
       "      <td>8.400000</td>\n",
       "      <td>5.821299</td>\n",
       "      <td>-0.728255</td>\n",
       "    </tr>\n",
       "    <tr>\n",
       "      <th>1</th>\n",
       "      <td>0.511</td>\n",
       "      <td>MDG</td>\n",
       "      <td>SubSaharian</td>\n",
       "      <td>822.62000</td>\n",
       "      <td>NaN</td>\n",
       "      <td>40.900002</td>\n",
       "      <td>0.87</td>\n",
       "      <td>NaN</td>\n",
       "      <td>3.041355</td>\n",
       "      <td>-0.718912</td>\n",
       "    </tr>\n",
       "    <tr>\n",
       "      <th>2</th>\n",
       "      <td>0.441</td>\n",
       "      <td>ETH</td>\n",
       "      <td>SubSaharian</td>\n",
       "      <td>900.77002</td>\n",
       "      <td>88.347</td>\n",
       "      <td>46.500000</td>\n",
       "      <td>1.86</td>\n",
       "      <td>4.700000</td>\n",
       "      <td>4.884313</td>\n",
       "      <td>-0.714812</td>\n",
       "    </tr>\n",
       "    <tr>\n",
       "      <th>3</th>\n",
       "      <td>0.473</td>\n",
       "      <td>MWI</td>\n",
       "      <td>SubSaharian</td>\n",
       "      <td>938.34998</td>\n",
       "      <td>17.604</td>\n",
       "      <td>46.000000</td>\n",
       "      <td>1.23</td>\n",
       "      <td>16.299999</td>\n",
       "      <td>11.377956</td>\n",
       "      <td>-0.712840</td>\n",
       "    </tr>\n",
       "    <tr>\n",
       "      <th>4</th>\n",
       "      <td>0.431</td>\n",
       "      <td>SLE</td>\n",
       "      <td>SubSaharian</td>\n",
       "      <td>979.95001</td>\n",
       "      <td>6.232</td>\n",
       "      <td>117.400002</td>\n",
       "      <td>3.78</td>\n",
       "      <td>34.400002</td>\n",
       "      <td>11.089902</td>\n",
       "      <td>-0.710658</td>\n",
       "    </tr>\n",
       "    <tr>\n",
       "      <th>5</th>\n",
       "      <td>0.414</td>\n",
       "      <td>GIN</td>\n",
       "      <td>SubSaharian</td>\n",
       "      <td>993.83002</td>\n",
       "      <td>11.745</td>\n",
       "      <td>65.199997</td>\n",
       "      <td>0.22</td>\n",
       "      <td>NaN</td>\n",
       "      <td>5.644798</td>\n",
       "      <td>-0.709930</td>\n",
       "    </tr>\n",
       "    <tr>\n",
       "      <th>6</th>\n",
       "      <td>0.418</td>\n",
       "      <td>ERI</td>\n",
       "      <td>SubSaharian</td>\n",
       "      <td>1007.28000</td>\n",
       "      <td>NaN</td>\n",
       "      <td>NaN</td>\n",
       "      <td>0.62</td>\n",
       "      <td>NaN</td>\n",
       "      <td>3.338293</td>\n",
       "      <td>-0.709224</td>\n",
       "    </tr>\n",
       "    <tr>\n",
       "      <th>7</th>\n",
       "      <td>0.490</td>\n",
       "      <td>HTI</td>\n",
       "      <td>LatAm</td>\n",
       "      <td>1024.93990</td>\n",
       "      <td>NaN</td>\n",
       "      <td>56.500000</td>\n",
       "      <td>5.68</td>\n",
       "      <td>11.800000</td>\n",
       "      <td>7.555654</td>\n",
       "      <td>-0.708297</td>\n",
       "    </tr>\n",
       "    <tr>\n",
       "      <th>8</th>\n",
       "      <td>0.438</td>\n",
       "      <td>MLI</td>\n",
       "      <td>SubSaharian</td>\n",
       "      <td>1063.26000</td>\n",
       "      <td>14.854</td>\n",
       "      <td>79.599998</td>\n",
       "      <td>0.61</td>\n",
       "      <td>18.600000</td>\n",
       "      <td>6.862166</td>\n",
       "      <td>-0.706287</td>\n",
       "    </tr>\n",
       "    <tr>\n",
       "      <th>9</th>\n",
       "      <td>0.481</td>\n",
       "      <td>BEN</td>\n",
       "      <td>SubSaharian</td>\n",
       "      <td>1413.05000</td>\n",
       "      <td>10.320</td>\n",
       "      <td>56.200001</td>\n",
       "      <td>1.40</td>\n",
       "      <td>8.800000</td>\n",
       "      <td>4.594296</td>\n",
       "      <td>-0.687935</td>\n",
       "    </tr>\n",
       "  </tbody>\n",
       "</table>\n",
       "</div>"
      ],
      "text/plain": [
       "   undp_hdi ccodealp    ht_region   gle_cgdpc  imf_pop   wef_imort  \\\n",
       "0     0.351      NER  SubSaharian   644.53998      NaN         NaN   \n",
       "1     0.511      MDG  SubSaharian   822.62000      NaN   40.900002   \n",
       "2     0.441      ETH  SubSaharian   900.77002   88.347   46.500000   \n",
       "3     0.473      MWI  SubSaharian   938.34998   17.604   46.000000   \n",
       "4     0.431      SLE  SubSaharian   979.95001    6.232  117.400002   \n",
       "5     0.414      GIN  SubSaharian   993.83002   11.745   65.199997   \n",
       "6     0.418      ERI  SubSaharian  1007.28000      NaN         NaN   \n",
       "7     0.490      HTI        LatAm  1024.93990      NaN   56.500000   \n",
       "8     0.438      MLI  SubSaharian  1063.26000   14.854   79.599998   \n",
       "9     0.481      BEN  SubSaharian  1413.05000   10.320   56.200001   \n",
       "\n",
       "   who_alc2000   who_tobt   wdi_exph  gle_cgdpc_zscore  \n",
       "0         0.15   8.400000   5.821299         -0.728255  \n",
       "1         0.87        NaN   3.041355         -0.718912  \n",
       "2         1.86   4.700000   4.884313         -0.714812  \n",
       "3         1.23  16.299999  11.377956         -0.712840  \n",
       "4         3.78  34.400002  11.089902         -0.710658  \n",
       "5         0.22        NaN   5.644798         -0.709930  \n",
       "6         0.62        NaN   3.338293         -0.709224  \n",
       "7         5.68  11.800000   7.555654         -0.708297  \n",
       "8         0.61  18.600000   6.862166         -0.706287  \n",
       "9         1.40   8.800000   4.594296         -0.687935  "
      ]
     },
     "execution_count": 5,
     "metadata": {},
     "output_type": "execute_result"
    }
   ],
   "source": [
    "def zvalue (df, col):\n",
    "    \"\"\"\n",
    "    Función que calcula el z-value\n",
    "    Parameters:\n",
    "    dataframe (Dataframe): La base de datos donde se encuentran los datos específicos.\n",
    "    col (str): columna a realizar el cálculo del puntaje Z\n",
    "\n",
    "    Returns:  Columna nueve en Dataframe con el resultado del puntaje Z\n",
    "   \"\"\"         \n",
    "    df = df.sort_values(by=[col])\n",
    "    return (df[col] - df[col].mean()) / df[col].std()\n",
    "\n",
    "\n",
    "df_comp['gle_cgdpc_zscore'] = zvalue(df_comp,'gle_cgdpc')\n",
    "df_comp_cgdpc = df_comp.sort_values(by=['gle_cgdpc_zscore'])\n",
    "df_comp_cgdpc = df_comp_cgdpc.dropna(subset=['gle_cgdpc_zscore'])\n",
    "df_comp_cgdpc.reset_index(drop=True, inplace = True)\n",
    "\n",
    "print('gle_cpgdc_zscore')\n",
    "df_comp_cgdpc.iloc[:10]"
   ]
  },
  {
   "cell_type": "code",
   "execution_count": 6,
   "metadata": {
    "ExecuteTime": {
     "end_time": "2019-11-11T23:42:54.594244Z",
     "start_time": "2019-11-11T23:42:54.571965Z"
    },
    "scrolled": false
   },
   "outputs": [
    {
     "data": {
      "text/html": [
       "<div>\n",
       "<style scoped>\n",
       "    .dataframe tbody tr th:only-of-type {\n",
       "        vertical-align: middle;\n",
       "    }\n",
       "\n",
       "    .dataframe tbody tr th {\n",
       "        vertical-align: top;\n",
       "    }\n",
       "\n",
       "    .dataframe thead th {\n",
       "        text-align: right;\n",
       "    }\n",
       "</style>\n",
       "<table border=\"1\" class=\"dataframe\">\n",
       "  <thead>\n",
       "    <tr style=\"text-align: right;\">\n",
       "      <th></th>\n",
       "      <th>undp_hdi</th>\n",
       "      <th>ccodealp</th>\n",
       "      <th>ht_region</th>\n",
       "      <th>gle_cgdpc</th>\n",
       "      <th>imf_pop</th>\n",
       "      <th>wef_imort</th>\n",
       "      <th>who_alc2000</th>\n",
       "      <th>who_tobt</th>\n",
       "      <th>wdi_exph</th>\n",
       "      <th>gle_cgdpc_zscore</th>\n",
       "    </tr>\n",
       "  </thead>\n",
       "  <tbody>\n",
       "    <tr>\n",
       "      <th>86</th>\n",
       "      <td>0.937</td>\n",
       "      <td>AUS</td>\n",
       "      <td>WesternDem</td>\n",
       "      <td>38611.949</td>\n",
       "      <td>23.621</td>\n",
       "      <td>4.1</td>\n",
       "      <td>9.71</td>\n",
       "      <td>16.000000</td>\n",
       "      <td>9.422300</td>\n",
       "      <td>1.263691</td>\n",
       "    </tr>\n",
       "    <tr>\n",
       "      <th>87</th>\n",
       "      <td>0.923</td>\n",
       "      <td>NLD</td>\n",
       "      <td>WesternDem</td>\n",
       "      <td>42258.352</td>\n",
       "      <td>16.865</td>\n",
       "      <td>3.4</td>\n",
       "      <td>8.68</td>\n",
       "      <td>25.700001</td>\n",
       "      <td>10.897293</td>\n",
       "      <td>1.454998</td>\n",
       "    </tr>\n",
       "    <tr>\n",
       "      <th>88</th>\n",
       "      <td>NaN</td>\n",
       "      <td>SMR</td>\n",
       "      <td>WesternDem</td>\n",
       "      <td>42664.211</td>\n",
       "      <td>0.034</td>\n",
       "      <td>NaN</td>\n",
       "      <td>NaN</td>\n",
       "      <td>NaN</td>\n",
       "      <td>6.129065</td>\n",
       "      <td>1.476292</td>\n",
       "    </tr>\n",
       "    <tr>\n",
       "      <th>89</th>\n",
       "      <td>0.864</td>\n",
       "      <td>BRN</td>\n",
       "      <td>SouthEastAsia</td>\n",
       "      <td>46103.840</td>\n",
       "      <td>0.412</td>\n",
       "      <td>5.6</td>\n",
       "      <td>0.97</td>\n",
       "      <td>16.400000</td>\n",
       "      <td>2.648163</td>\n",
       "      <td>1.656750</td>\n",
       "    </tr>\n",
       "    <tr>\n",
       "      <th>90</th>\n",
       "      <td>0.920</td>\n",
       "      <td>IRL</td>\n",
       "      <td>WesternDem</td>\n",
       "      <td>46422.070</td>\n",
       "      <td>4.621</td>\n",
       "      <td>3.4</td>\n",
       "      <td>10.75</td>\n",
       "      <td>23.200001</td>\n",
       "      <td>7.783196</td>\n",
       "      <td>1.673446</td>\n",
       "    </tr>\n",
       "    <tr>\n",
       "      <th>91</th>\n",
       "      <td>0.938</td>\n",
       "      <td>CHE</td>\n",
       "      <td>WesternDem</td>\n",
       "      <td>50454.410</td>\n",
       "      <td>8.140</td>\n",
       "      <td>3.7</td>\n",
       "      <td>9.61</td>\n",
       "      <td>24.100000</td>\n",
       "      <td>11.659268</td>\n",
       "      <td>1.885002</td>\n",
       "    </tr>\n",
       "    <tr>\n",
       "      <th>92</th>\n",
       "      <td>0.924</td>\n",
       "      <td>SGP</td>\n",
       "      <td>SouthEastAsia</td>\n",
       "      <td>54268.148</td>\n",
       "      <td>5.470</td>\n",
       "      <td>2.3</td>\n",
       "      <td>1.83</td>\n",
       "      <td>16.200001</td>\n",
       "      <td>4.922792</td>\n",
       "      <td>2.085088</td>\n",
       "    </tr>\n",
       "    <tr>\n",
       "      <th>93</th>\n",
       "      <td>0.896</td>\n",
       "      <td>LUX</td>\n",
       "      <td>WesternDem</td>\n",
       "      <td>61404.480</td>\n",
       "      <td>0.550</td>\n",
       "      <td>1.7</td>\n",
       "      <td>11.12</td>\n",
       "      <td>24.400000</td>\n",
       "      <td>6.937873</td>\n",
       "      <td>2.459493</td>\n",
       "    </tr>\n",
       "    <tr>\n",
       "      <th>94</th>\n",
       "      <td>0.911</td>\n",
       "      <td>LIE</td>\n",
       "      <td>WesternDem</td>\n",
       "      <td>102243.520</td>\n",
       "      <td>NaN</td>\n",
       "      <td>NaN</td>\n",
       "      <td>NaN</td>\n",
       "      <td>NaN</td>\n",
       "      <td>NaN</td>\n",
       "      <td>4.602098</td>\n",
       "    </tr>\n",
       "    <tr>\n",
       "      <th>95</th>\n",
       "      <td>NaN</td>\n",
       "      <td>MCO</td>\n",
       "      <td>WesternDem</td>\n",
       "      <td>108481.130</td>\n",
       "      <td>NaN</td>\n",
       "      <td>NaN</td>\n",
       "      <td>NaN</td>\n",
       "      <td>NaN</td>\n",
       "      <td>4.337683</td>\n",
       "      <td>4.929352</td>\n",
       "    </tr>\n",
       "  </tbody>\n",
       "</table>\n",
       "</div>"
      ],
      "text/plain": [
       "    undp_hdi ccodealp      ht_region   gle_cgdpc  imf_pop  wef_imort  \\\n",
       "86     0.937      AUS     WesternDem   38611.949   23.621        4.1   \n",
       "87     0.923      NLD     WesternDem   42258.352   16.865        3.4   \n",
       "88       NaN      SMR     WesternDem   42664.211    0.034        NaN   \n",
       "89     0.864      BRN  SouthEastAsia   46103.840    0.412        5.6   \n",
       "90     0.920      IRL     WesternDem   46422.070    4.621        3.4   \n",
       "91     0.938      CHE     WesternDem   50454.410    8.140        3.7   \n",
       "92     0.924      SGP  SouthEastAsia   54268.148    5.470        2.3   \n",
       "93     0.896      LUX     WesternDem   61404.480    0.550        1.7   \n",
       "94     0.911      LIE     WesternDem  102243.520      NaN        NaN   \n",
       "95       NaN      MCO     WesternDem  108481.130      NaN        NaN   \n",
       "\n",
       "    who_alc2000   who_tobt   wdi_exph  gle_cgdpc_zscore  \n",
       "86         9.71  16.000000   9.422300          1.263691  \n",
       "87         8.68  25.700001  10.897293          1.454998  \n",
       "88          NaN        NaN   6.129065          1.476292  \n",
       "89         0.97  16.400000   2.648163          1.656750  \n",
       "90        10.75  23.200001   7.783196          1.673446  \n",
       "91         9.61  24.100000  11.659268          1.885002  \n",
       "92         1.83  16.200001   4.922792          2.085088  \n",
       "93        11.12  24.400000   6.937873          2.459493  \n",
       "94          NaN        NaN        NaN          4.602098  \n",
       "95          NaN        NaN   4.337683          4.929352  "
      ]
     },
     "execution_count": 6,
     "metadata": {},
     "output_type": "execute_result"
    }
   ],
   "source": [
    "df_comp_cgdpc.iloc[-10:]"
   ]
  },
  {
   "cell_type": "markdown",
   "metadata": {},
   "source": [
    "Se visualizará el histograma para una revisión adicional de los datos, antes de determinar las conclusiones"
   ]
  },
  {
   "cell_type": "code",
   "execution_count": 43,
   "metadata": {
    "ExecuteTime": {
     "end_time": "2019-11-12T00:25:59.485700Z",
     "start_time": "2019-11-12T00:25:59.292871Z"
    }
   },
   "outputs": [
    {
     "data": {
      "text/plain": [
       "(array([1.06788376, 0.38664757, 0.07364716, 0.11047073, 0.07364716,\n",
       "        0.01841179, 0.        , 0.        , 0.        , 0.03682358]),\n",
       " array([-0.72825498, -0.16249427,  0.40326643,  0.96902714,  1.53478784,\n",
       "         2.10054855,  2.66630925,  3.23206996,  3.79783066,  4.36359137,\n",
       "         4.92935207]),\n",
       " <a list of 10 Patch objects>)"
      ]
     },
     "execution_count": 43,
     "metadata": {},
     "output_type": "execute_result"
    },
    {
     "data": {
      "image/png": "[encoded data removed]",
      "text/plain": [
       "<Figure size 432x288 with 1 Axes>"
      ]
     },
     "metadata": {
      "needs_background": "light"
     },
     "output_type": "display_data"
    }
   ],
   "source": [
    "df_comp_cgdpc = df_comp_cgdpc.dropna(subset=['gle_cgdpc_zscore'])\n",
    "plt.hist(df_comp_cgdpc['gle_cgdpc_zscore'], color='grey', alpha=.4, density = True)"
   ]
  },
  {
   "cell_type": "markdown",
   "metadata": {},
   "source": [
    "El resultado del Puntaje Z para la variable gle_cgdpc nos indica cuántas desviaciones estándares se encuentra una observación respecto a la media. En este caso en particular, los valores no se encuentran distribuidos simétricamente y con presencia de outliers hacia la derecha, se puede observar que la distribución presenta un fuerte sesgo en valores bajos"
   ]
  },
  {
   "cell_type": "code",
   "execution_count": 42,
   "metadata": {
    "ExecuteTime": {
     "end_time": "2019-11-12T00:25:53.135917Z",
     "start_time": "2019-11-12T00:25:53.104407Z"
    }
   },
   "outputs": [
    {
     "data": {
      "text/html": [
       "<div>\n",
       "<style scoped>\n",
       "    .dataframe tbody tr th:only-of-type {\n",
       "        vertical-align: middle;\n",
       "    }\n",
       "\n",
       "    .dataframe tbody tr th {\n",
       "        vertical-align: top;\n",
       "    }\n",
       "\n",
       "    .dataframe thead th {\n",
       "        text-align: right;\n",
       "    }\n",
       "</style>\n",
       "<table border=\"1\" class=\"dataframe\">\n",
       "  <thead>\n",
       "    <tr style=\"text-align: right;\">\n",
       "      <th></th>\n",
       "      <th>undp_hdi</th>\n",
       "      <th>ccodealp</th>\n",
       "      <th>ht_region</th>\n",
       "      <th>gle_cgdpc</th>\n",
       "      <th>imf_pop</th>\n",
       "      <th>wef_imort</th>\n",
       "      <th>who_alc2000</th>\n",
       "      <th>who_tobt</th>\n",
       "      <th>wdi_exph</th>\n",
       "      <th>gle_cgdpc_zscore</th>\n",
       "      <th>wdi_exph_zscore</th>\n",
       "    </tr>\n",
       "  </thead>\n",
       "  <tbody>\n",
       "    <tr>\n",
       "      <th>0</th>\n",
       "      <td>0.688</td>\n",
       "      <td>TKM</td>\n",
       "      <td>EastEurope</td>\n",
       "      <td>13217.3900</td>\n",
       "      <td>NaN</td>\n",
       "      <td>NaN</td>\n",
       "      <td>2.90</td>\n",
       "      <td>NaN</td>\n",
       "      <td>2.067386</td>\n",
       "      <td>-0.068625</td>\n",
       "      <td>-1.626675</td>\n",
       "    </tr>\n",
       "    <tr>\n",
       "      <th>1</th>\n",
       "      <td>0.552</td>\n",
       "      <td>MMR</td>\n",
       "      <td>SouthEastAsia</td>\n",
       "      <td>5733.3701</td>\n",
       "      <td>51.418999</td>\n",
       "      <td>41.099998</td>\n",
       "      <td>0.70</td>\n",
       "      <td>20.000000</td>\n",
       "      <td>2.275755</td>\n",
       "      <td>-0.461271</td>\n",
       "      <td>-1.550962</td>\n",
       "    </tr>\n",
       "    <tr>\n",
       "      <th>2</th>\n",
       "      <td>0.548</td>\n",
       "      <td>PAK</td>\n",
       "      <td>SouthAsia</td>\n",
       "      <td>2855.5500</td>\n",
       "      <td>186.190002</td>\n",
       "      <td>69.300003</td>\n",
       "      <td>0.04</td>\n",
       "      <td>22.600000</td>\n",
       "      <td>2.613916</td>\n",
       "      <td>-0.612255</td>\n",
       "      <td>-1.428088</td>\n",
       "    </tr>\n",
       "    <tr>\n",
       "      <th>3</th>\n",
       "      <td>0.864</td>\n",
       "      <td>BRN</td>\n",
       "      <td>SouthEastAsia</td>\n",
       "      <td>46103.8400</td>\n",
       "      <td>0.412000</td>\n",
       "      <td>5.600000</td>\n",
       "      <td>0.97</td>\n",
       "      <td>16.400000</td>\n",
       "      <td>2.648163</td>\n",
       "      <td>1.656750</td>\n",
       "      <td>-1.415644</td>\n",
       "    </tr>\n",
       "    <tr>\n",
       "      <th>4</th>\n",
       "      <td>0.575</td>\n",
       "      <td>BGD</td>\n",
       "      <td>SouthAsia</td>\n",
       "      <td>1796.6400</td>\n",
       "      <td>154.695007</td>\n",
       "      <td>33.099998</td>\n",
       "      <td>0.01</td>\n",
       "      <td>21.799999</td>\n",
       "      <td>2.818999</td>\n",
       "      <td>-0.667810</td>\n",
       "      <td>-1.353569</td>\n",
       "    </tr>\n",
       "    <tr>\n",
       "      <th>5</th>\n",
       "      <td>0.686</td>\n",
       "      <td>IDN</td>\n",
       "      <td>SouthEastAsia</td>\n",
       "      <td>4780.0098</td>\n",
       "      <td>252.164993</td>\n",
       "      <td>25.799999</td>\n",
       "      <td>0.09</td>\n",
       "      <td>38.500000</td>\n",
       "      <td>2.846860</td>\n",
       "      <td>-0.511289</td>\n",
       "      <td>-1.343445</td>\n",
       "    </tr>\n",
       "    <tr>\n",
       "      <th>6</th>\n",
       "      <td>0.511</td>\n",
       "      <td>MDG</td>\n",
       "      <td>SubSaharian</td>\n",
       "      <td>822.6200</td>\n",
       "      <td>NaN</td>\n",
       "      <td>40.900002</td>\n",
       "      <td>0.87</td>\n",
       "      <td>NaN</td>\n",
       "      <td>3.041355</td>\n",
       "      <td>-0.718912</td>\n",
       "      <td>-1.272773</td>\n",
       "    </tr>\n",
       "    <tr>\n",
       "      <th>7</th>\n",
       "      <td>NaN</td>\n",
       "      <td>NRU</td>\n",
       "      <td>Pacific</td>\n",
       "      <td>3130.4700</td>\n",
       "      <td>0.012000</td>\n",
       "      <td>NaN</td>\n",
       "      <td>NaN</td>\n",
       "      <td>48.900002</td>\n",
       "      <td>3.326649</td>\n",
       "      <td>-0.597832</td>\n",
       "      <td>-1.169108</td>\n",
       "    </tr>\n",
       "    <tr>\n",
       "      <th>8</th>\n",
       "      <td>0.418</td>\n",
       "      <td>ERI</td>\n",
       "      <td>SubSaharian</td>\n",
       "      <td>1007.2800</td>\n",
       "      <td>NaN</td>\n",
       "      <td>NaN</td>\n",
       "      <td>0.62</td>\n",
       "      <td>NaN</td>\n",
       "      <td>3.338293</td>\n",
       "      <td>-0.709224</td>\n",
       "      <td>-1.164877</td>\n",
       "    </tr>\n",
       "    <tr>\n",
       "      <th>9</th>\n",
       "      <td>0.781</td>\n",
       "      <td>SYC</td>\n",
       "      <td>SubSaharian</td>\n",
       "      <td>9583.3203</td>\n",
       "      <td>0.090000</td>\n",
       "      <td>11.200000</td>\n",
       "      <td>9.72</td>\n",
       "      <td>26.700001</td>\n",
       "      <td>3.369817</td>\n",
       "      <td>-0.259285</td>\n",
       "      <td>-1.153423</td>\n",
       "    </tr>\n",
       "  </tbody>\n",
       "</table>\n",
       "</div>"
      ],
      "text/plain": [
       "   undp_hdi ccodealp      ht_region   gle_cgdpc     imf_pop  wef_imort  \\\n",
       "0     0.688      TKM     EastEurope  13217.3900         NaN        NaN   \n",
       "1     0.552      MMR  SouthEastAsia   5733.3701   51.418999  41.099998   \n",
       "2     0.548      PAK      SouthAsia   2855.5500  186.190002  69.300003   \n",
       "3     0.864      BRN  SouthEastAsia  46103.8400    0.412000   5.600000   \n",
       "4     0.575      BGD      SouthAsia   1796.6400  154.695007  33.099998   \n",
       "5     0.686      IDN  SouthEastAsia   4780.0098  252.164993  25.799999   \n",
       "6     0.511      MDG    SubSaharian    822.6200         NaN  40.900002   \n",
       "7       NaN      NRU        Pacific   3130.4700    0.012000        NaN   \n",
       "8     0.418      ERI    SubSaharian   1007.2800         NaN        NaN   \n",
       "9     0.781      SYC    SubSaharian   9583.3203    0.090000  11.200000   \n",
       "\n",
       "   who_alc2000   who_tobt  wdi_exph  gle_cgdpc_zscore  wdi_exph_zscore  \n",
       "0         2.90        NaN  2.067386         -0.068625        -1.626675  \n",
       "1         0.70  20.000000  2.275755         -0.461271        -1.550962  \n",
       "2         0.04  22.600000  2.613916         -0.612255        -1.428088  \n",
       "3         0.97  16.400000  2.648163          1.656750        -1.415644  \n",
       "4         0.01  21.799999  2.818999         -0.667810        -1.353569  \n",
       "5         0.09  38.500000  2.846860         -0.511289        -1.343445  \n",
       "6         0.87        NaN  3.041355         -0.718912        -1.272773  \n",
       "7          NaN  48.900002  3.326649         -0.597832        -1.169108  \n",
       "8         0.62        NaN  3.338293         -0.709224        -1.164877  \n",
       "9         9.72  26.700001  3.369817         -0.259285        -1.153423  "
      ]
     },
     "execution_count": 42,
     "metadata": {},
     "output_type": "execute_result"
    }
   ],
   "source": [
    "df_comp['wdi_exph_zscore'] = zvalue(df_comp,'wdi_exph')\n",
    "df_comp_wdi_exph = df_comp.sort_values(by=['wdi_exph_zscore'])\n",
    "df_comp_wdi_exph = df_comp_wdi_exph.dropna(subset=['wdi_exph_zscore'])\n",
    "df_comp_wdi_exph.reset_index(drop=True, inplace = True)\n",
    "\n",
    "df_comp_wdi_exph.iloc[:10]"
   ]
  },
  {
   "cell_type": "code",
   "execution_count": 8,
   "metadata": {
    "ExecuteTime": {
     "end_time": "2019-11-11T23:43:08.050857Z",
     "start_time": "2019-11-11T23:43:08.021919Z"
    },
    "scrolled": true
   },
   "outputs": [
    {
     "data": {
      "text/html": [
       "<div>\n",
       "<style scoped>\n",
       "    .dataframe tbody tr th:only-of-type {\n",
       "        vertical-align: middle;\n",
       "    }\n",
       "\n",
       "    .dataframe tbody tr th {\n",
       "        vertical-align: top;\n",
       "    }\n",
       "\n",
       "    .dataframe thead th {\n",
       "        text-align: right;\n",
       "    }\n",
       "</style>\n",
       "<table border=\"1\" class=\"dataframe\">\n",
       "  <thead>\n",
       "    <tr style=\"text-align: right;\">\n",
       "      <th></th>\n",
       "      <th>undp_hdi</th>\n",
       "      <th>ccodealp</th>\n",
       "      <th>ht_region</th>\n",
       "      <th>gle_cgdpc</th>\n",
       "      <th>imf_pop</th>\n",
       "      <th>wef_imort</th>\n",
       "      <th>who_alc2000</th>\n",
       "      <th>who_tobt</th>\n",
       "      <th>wdi_exph</th>\n",
       "      <th>gle_cgdpc_zscore</th>\n",
       "      <th>wdi_exph_zscore</th>\n",
       "    </tr>\n",
       "  </thead>\n",
       "  <tbody>\n",
       "    <tr>\n",
       "      <th>84</th>\n",
       "      <td>0.775</td>\n",
       "      <td>SRB</td>\n",
       "      <td>EastEurope</td>\n",
       "      <td>11343.92000</td>\n",
       "      <td>7.167</td>\n",
       "      <td>5.700000</td>\n",
       "      <td>9.09</td>\n",
       "      <td>42.099998</td>\n",
       "      <td>10.368812</td>\n",
       "      <td>-0.166916</td>\n",
       "      <td>1.389739</td>\n",
       "    </tr>\n",
       "    <tr>\n",
       "      <th>85</th>\n",
       "      <td>0.470</td>\n",
       "      <td>DJI</td>\n",
       "      <td>SubSaharian</td>\n",
       "      <td>2685.50000</td>\n",
       "      <td>NaN</td>\n",
       "      <td>NaN</td>\n",
       "      <td>0.38</td>\n",
       "      <td>NaN</td>\n",
       "      <td>10.568256</td>\n",
       "      <td>-0.621177</td>\n",
       "      <td>1.462209</td>\n",
       "    </tr>\n",
       "    <tr>\n",
       "      <th>86</th>\n",
       "      <td>0.923</td>\n",
       "      <td>NLD</td>\n",
       "      <td>WesternDem</td>\n",
       "      <td>42258.35200</td>\n",
       "      <td>16.865</td>\n",
       "      <td>3.400000</td>\n",
       "      <td>8.68</td>\n",
       "      <td>25.700001</td>\n",
       "      <td>10.897293</td>\n",
       "      <td>1.454998</td>\n",
       "      <td>1.581768</td>\n",
       "    </tr>\n",
       "    <tr>\n",
       "      <th>87</th>\n",
       "      <td>0.773</td>\n",
       "      <td>CUB</td>\n",
       "      <td>LatAm</td>\n",
       "      <td>5899.93990</td>\n",
       "      <td>NaN</td>\n",
       "      <td>NaN</td>\n",
       "      <td>4.37</td>\n",
       "      <td>36.099998</td>\n",
       "      <td>11.058801</td>\n",
       "      <td>-0.452532</td>\n",
       "      <td>1.640454</td>\n",
       "    </tr>\n",
       "    <tr>\n",
       "      <th>88</th>\n",
       "      <td>0.431</td>\n",
       "      <td>SLE</td>\n",
       "      <td>SubSaharian</td>\n",
       "      <td>979.95001</td>\n",
       "      <td>6.232</td>\n",
       "      <td>117.400002</td>\n",
       "      <td>3.78</td>\n",
       "      <td>34.400002</td>\n",
       "      <td>11.089902</td>\n",
       "      <td>-0.710658</td>\n",
       "      <td>1.651755</td>\n",
       "    </tr>\n",
       "    <tr>\n",
       "      <th>89</th>\n",
       "      <td>0.473</td>\n",
       "      <td>MWI</td>\n",
       "      <td>SubSaharian</td>\n",
       "      <td>938.34998</td>\n",
       "      <td>17.604</td>\n",
       "      <td>46.000000</td>\n",
       "      <td>1.23</td>\n",
       "      <td>16.299999</td>\n",
       "      <td>11.377956</td>\n",
       "      <td>-0.712840</td>\n",
       "      <td>1.756423</td>\n",
       "    </tr>\n",
       "    <tr>\n",
       "      <th>90</th>\n",
       "      <td>0.894</td>\n",
       "      <td>FRA</td>\n",
       "      <td>WesternDem</td>\n",
       "      <td>34007.89800</td>\n",
       "      <td>64.028</td>\n",
       "      <td>3.400000</td>\n",
       "      <td>11.50</td>\n",
       "      <td>28.100000</td>\n",
       "      <td>11.539519</td>\n",
       "      <td>1.022141</td>\n",
       "      <td>1.815128</td>\n",
       "    </tr>\n",
       "    <tr>\n",
       "      <th>91</th>\n",
       "      <td>0.938</td>\n",
       "      <td>CHE</td>\n",
       "      <td>WesternDem</td>\n",
       "      <td>50454.41000</td>\n",
       "      <td>8.140</td>\n",
       "      <td>3.700000</td>\n",
       "      <td>9.61</td>\n",
       "      <td>24.100000</td>\n",
       "      <td>11.659268</td>\n",
       "      <td>1.885002</td>\n",
       "      <td>1.858640</td>\n",
       "    </tr>\n",
       "    <tr>\n",
       "      <th>92</th>\n",
       "      <td>0.701</td>\n",
       "      <td>MDV</td>\n",
       "      <td>SouthAsia</td>\n",
       "      <td>13349.76000</td>\n",
       "      <td>0.336</td>\n",
       "      <td>NaN</td>\n",
       "      <td>1.92</td>\n",
       "      <td>NaN</td>\n",
       "      <td>13.733521</td>\n",
       "      <td>-0.061680</td>\n",
       "      <td>2.612343</td>\n",
       "    </tr>\n",
       "    <tr>\n",
       "      <th>93</th>\n",
       "      <td>NaN</td>\n",
       "      <td>TUV</td>\n",
       "      <td>Pacific</td>\n",
       "      <td>3174.05000</td>\n",
       "      <td>0.011</td>\n",
       "      <td>NaN</td>\n",
       "      <td>1.34</td>\n",
       "      <td>NaN</td>\n",
       "      <td>16.536638</td>\n",
       "      <td>-0.595545</td>\n",
       "      <td>3.630886</td>\n",
       "    </tr>\n",
       "  </tbody>\n",
       "</table>\n",
       "</div>"
      ],
      "text/plain": [
       "    undp_hdi ccodealp    ht_region    gle_cgdpc  imf_pop   wef_imort  \\\n",
       "84     0.775      SRB   EastEurope  11343.92000    7.167    5.700000   \n",
       "85     0.470      DJI  SubSaharian   2685.50000      NaN         NaN   \n",
       "86     0.923      NLD   WesternDem  42258.35200   16.865    3.400000   \n",
       "87     0.773      CUB        LatAm   5899.93990      NaN         NaN   \n",
       "88     0.431      SLE  SubSaharian    979.95001    6.232  117.400002   \n",
       "89     0.473      MWI  SubSaharian    938.34998   17.604   46.000000   \n",
       "90     0.894      FRA   WesternDem  34007.89800   64.028    3.400000   \n",
       "91     0.938      CHE   WesternDem  50454.41000    8.140    3.700000   \n",
       "92     0.701      MDV    SouthAsia  13349.76000    0.336         NaN   \n",
       "93       NaN      TUV      Pacific   3174.05000    0.011         NaN   \n",
       "\n",
       "    who_alc2000   who_tobt   wdi_exph  gle_cgdpc_zscore  wdi_exph_zscore  \n",
       "84         9.09  42.099998  10.368812         -0.166916         1.389739  \n",
       "85         0.38        NaN  10.568256         -0.621177         1.462209  \n",
       "86         8.68  25.700001  10.897293          1.454998         1.581768  \n",
       "87         4.37  36.099998  11.058801         -0.452532         1.640454  \n",
       "88         3.78  34.400002  11.089902         -0.710658         1.651755  \n",
       "89         1.23  16.299999  11.377956         -0.712840         1.756423  \n",
       "90        11.50  28.100000  11.539519          1.022141         1.815128  \n",
       "91         9.61  24.100000  11.659268          1.885002         1.858640  \n",
       "92         1.92        NaN  13.733521         -0.061680         2.612343  \n",
       "93         1.34        NaN  16.536638         -0.595545         3.630886  "
      ]
     },
     "execution_count": 8,
     "metadata": {},
     "output_type": "execute_result"
    }
   ],
   "source": [
    "df_comp_wdi_exph.iloc[-10:]"
   ]
  },
  {
   "cell_type": "markdown",
   "metadata": {
    "ExecuteTime": {
     "end_time": "2019-11-12T00:23:49.985101Z",
     "start_time": "2019-11-12T00:23:49.978861Z"
    }
   },
   "source": [
    "Se visualizará el histograma para una revisión adicional de los datos, antes de determinar las conclusiones"
   ]
  },
  {
   "cell_type": "code",
   "execution_count": 41,
   "metadata": {
    "ExecuteTime": {
     "end_time": "2019-11-12T00:25:43.582739Z",
     "start_time": "2019-11-12T00:25:43.388917Z"
    }
   },
   "outputs": [
    {
     "data": {
      "text/plain": [
       "(array([0.24281136, 0.36421705, 0.38445133, 0.40468561, 0.24281136,\n",
       "        0.1011714 , 0.12140568, 0.        , 0.02023428, 0.02023428]),\n",
       " array([-1.62667542, -1.10091924, -0.57516306, -0.04940689,  0.47634929,\n",
       "         1.00210546,  1.52786164,  2.05361782,  2.57937399,  3.10513017,\n",
       "         3.63088634]),\n",
       " <a list of 10 Patch objects>)"
      ]
     },
     "execution_count": 41,
     "metadata": {},
     "output_type": "execute_result"
    },
    {
     "data": {
      "image/png": "[encoded data removed]",
      "text/plain": [
       "<Figure size 432x288 with 1 Axes>"
      ]
     },
     "metadata": {
      "needs_background": "light"
     },
     "output_type": "display_data"
    }
   ],
   "source": [
    "df_comp_wdi_exph = df_comp_wdi_exph.dropna(subset=['wdi_exph_zscore'])\n",
    "plt.hist(df_comp_wdi_exph['wdi_exph_zscore'], color='grey', alpha=.4, density=True)"
   ]
  },
  {
   "cell_type": "markdown",
   "metadata": {},
   "source": [
    "El resultado del Puntaje Z para la variable wdi_exph nos indica cuántas desviaciones estándares se encuentra una observación respecto a la media. En este caso en particular, los valores presentan una mayor simetría con relación al caso anterior y se observa la presencia de outliers hacia la derecha"
   ]
  },
  {
   "cell_type": "markdown",
   "metadata": {
    "ExecuteTime": {
     "end_time": "2019-10-25T00:49:25.680574Z",
     "start_time": "2019-10-25T00:49:25.675870Z"
    }
   },
   "source": [
    "## Desafío 4: Estime el puntaje $z$ de las regiones\n",
    "\n",
    "Para ello, modifique la función para generar dotplots de la clase pasada, donde deberá agregar una opción al argumento *statistic* para calcular el puntaje $z$ y su promedio de $z$ por agrupación."
   ]
  },
  {
   "cell_type": "code",
   "execution_count": 55,
   "metadata": {
    "ExecuteTime": {
     "end_time": "2019-11-12T00:35:08.948563Z",
     "start_time": "2019-11-12T00:35:08.926423Z"
    }
   },
   "outputs": [],
   "source": [
    "def getdotplot(dataframe,plot_var,plot_by,global_stat = False, statistic = 'mean'):\n",
    "    \"\"\"\n",
    "    Función que liste las observaciones perdidas de una variable\n",
    "\n",
    "    Parameters:\n",
    "    dataframe (Dataframe): La base de datos donde se encuentran los datos específicos.\n",
    "    plot_var (str): La variable a analizar y extraer las medias\n",
    "    plot_by (str): La variable agrupadora\n",
    "    global_stat: Booleano. Si es True debe graficar la media global de la variable. Por defecto debe ser False     \n",
    "    statistic: Debe presentar dos opciones. mean para la media y median para la mediana. Por defecto debe ser mean\n",
    "\n",
    "    Returns:  Graficacion de Dotplot\n",
    "\n",
    "\n",
    "   \"\"\"      \n",
    "    df_dropna = dataframe.dropna(subset=[plot_var]) \n",
    "    plt.grid()\n",
    "    plt.title(\"caso: {}\".format(plot_var))\n",
    "    if (statistic == 'mean'):\n",
    "        group_stat = round(df_dropna.groupby(plot_by)[plot_var].mean(),2)\n",
    "        if (global_stat):\n",
    "            plt.axvline(df_dropna[plot_var].mean(), color = 'tomato', linestyle = '--', )\n",
    "        plt.plot(group_stat.values, group_stat.index, 'o', color = 'blue')\n",
    "    if (statistic == 'median'):\n",
    "        group_stat = round(df_dropna.groupby(plot_by)[plot_var].median(),2)\n",
    "        if (global_stat):\n",
    "            plt.axvline(df_dropna[plot_var].median(), color = 'green', linestyle = '--')\n",
    "        plt.plot(group_stat.values, group_stat.index, 'o', color = 'blue')         \n",
    "    if (statistic == 'z-score'):\n",
    "        tmp_df = dataframe[plot_var].dropna()\n",
    "        group_stat = dataframe.groupby(plot_by)[plot_var].mean()\n",
    "        plt.axvline(df_dropna[plot_var].mean(), color = 'tomato', linestyle = '--', )\n",
    "        plt.plot(group_stat.values, group_stat.index, 'o', color = 'blue')      \n",
    "        \n"
   ]
  },
  {
   "cell_type": "code",
   "execution_count": 56,
   "metadata": {
    "ExecuteTime": {
     "end_time": "2019-11-12T00:35:11.048607Z",
     "start_time": "2019-11-12T00:35:10.849128Z"
    }
   },
   "outputs": [
    {
     "data": {
      "image/png": "[encoded data removed]",
      "text/plain": [
       "<Figure size 432x288 with 1 Axes>"
      ]
     },
     "metadata": {
      "needs_background": "light"
     },
     "output_type": "display_data"
    }
   ],
   "source": [
    "getdotplot(df_comp,'gle_cgdpc_zscore','ht_region',True,'z-score')  "
   ]
  },
  {
   "cell_type": "markdown",
   "metadata": {},
   "source": [
    "### Desafío 5: Genere un método que devuelva un gráfico comparando dos curvas de densidad\n",
    "* El método debe contener los siguientes argumentos:\n",
    "    * *df1* : Tabla de datos 1.\n",
    "    * *df2* : Tabla de datos 2.\n",
    "    * *variable* : Variable a contrastar.\n",
    "    * *log* : Booleano. Si es True transformar la variable al logaritmo. Por defecto debe ser False .\n",
    "* Grafique las curvas para *imf_pop* , *gle_cgdpc* y *undp_hdi*. ¿En qué casos es necesario utilizar logaritmos?.¿Por qué?.\n",
    "\n",
    "*Indicaciones :* \n",
    "* Cuidado con el *$log(0)$*"
   ]
  },
  {
   "cell_type": "code",
   "execution_count": 98,
   "metadata": {
    "ExecuteTime": {
     "end_time": "2019-11-12T02:10:33.436259Z",
     "start_time": "2019-11-12T02:10:33.413236Z"
    }
   },
   "outputs": [],
   "source": [
    "def curva_densidad(df1, df2, var, log=False):\n",
    "    \n",
    "    if (log is False):\n",
    "        df1_curvad = df1[var].dropna()\n",
    "        df1_curvad = df1_curvad.sort_values(ascending=True)\n",
    "        \n",
    "        df2_curvad = df2[var].dropna()\n",
    "        df2_curvad = df2_curvad.sort_values(ascending=True)        \n",
    "    else:\n",
    "        df1_curvad =  np.log(df1[var].dropna())\n",
    "        df1_curvad = df1_curvad.sort_values(ascending=True)\n",
    "\n",
    "        df2_curvad =  np.log(df2[var].dropna())\n",
    "        df2_curvad = df2_curvad.sort_values(ascending=True)        \n",
    "    \n",
    "    plt.plot(df1_curvad, stats.norm.pdf(df1_curvad, df1_curvad.mean(),df1_curvad.std()),\n",
    "             label='Sample 1 {}'.format(var), linewidth=2)\n",
    "    plt.plot(df2_curvad, stats.norm.pdf(df2_curvad, df2_curvad.mean(),df2_curvad.std()),\n",
    "             label='Sample 2 {}'.format(var), linewidth=2)\n",
    "    \n",
    "    plt.legend(loc='lower right')\n",
    "    plt.title(\"Curvas de densidad para {}\".format(var))    \n",
    "\n"
   ]
  },
  {
   "cell_type": "code",
   "execution_count": 99,
   "metadata": {
    "ExecuteTime": {
     "end_time": "2019-11-12T02:10:35.856326Z",
     "start_time": "2019-11-12T02:10:35.697553Z"
    },
    "scrolled": true
   },
   "outputs": [
    {
     "data": {
      "image/png": "[encoded data removed]",
      "text/plain": [
       "<Figure size 432x288 with 1 Axes>"
      ]
     },
     "metadata": {
      "needs_background": "light"
     },
     "output_type": "display_data"
    }
   ],
   "source": [
    "curva_densidad(df, df_comp, 'imf_pop', False)"
   ]
  },
  {
   "cell_type": "markdown",
   "metadata": {},
   "source": [
    "* En este caso no se presenta un comportamiento similar a una normal (0,1), por tanto debe aplicarse el logaritmo,  ya que la distribución se encuentra altamente sesgada. Al aplicar el logaritmo permitirá reescalar sus valores y que los mismos se aproxien a una distribución normal"
   ]
  },
  {
   "cell_type": "code",
   "execution_count": 100,
   "metadata": {
    "ExecuteTime": {
     "end_time": "2019-11-12T02:10:38.941981Z",
     "start_time": "2019-11-12T02:10:38.767886Z"
    }
   },
   "outputs": [
    {
     "data": {
      "image/png": "[encoded data removed]",
      "text/plain": [
       "<Figure size 432x288 with 1 Axes>"
      ]
     },
     "metadata": {
      "needs_background": "light"
     },
     "output_type": "display_data"
    }
   ],
   "source": [
    "curva_densidad(df, df_comp, 'imf_pop', True)\n"
   ]
  },
  {
   "cell_type": "code",
   "execution_count": 101,
   "metadata": {
    "ExecuteTime": {
     "end_time": "2019-11-12T02:10:42.495621Z",
     "start_time": "2019-11-12T02:10:42.309650Z"
    },
    "scrolled": true
   },
   "outputs": [
    {
     "data": {
      "image/png": "[encoded data removed]",
      "text/plain": [
       "<Figure size 432x288 with 1 Axes>"
      ]
     },
     "metadata": {
      "needs_background": "light"
     },
     "output_type": "display_data"
    }
   ],
   "source": [
    "curva_densidad(df, df_comp, 'gle_cgdpc', False)"
   ]
  },
  {
   "cell_type": "markdown",
   "metadata": {
    "ExecuteTime": {
     "end_time": "2019-11-12T02:05:15.654494Z",
     "start_time": "2019-11-12T02:05:15.635159Z"
    }
   },
   "source": [
    "* En este caso no se presenta un comportamiento similar a una normal (0,1), por tanto debe aplicarse el logaritmo,  ya que la distribución se encuentra altamente sesgada. Al aplicar el logaritmo permitirá reescalar sus valores y que los mismos se aproxien a una distribución normal"
   ]
  },
  {
   "cell_type": "code",
   "execution_count": 102,
   "metadata": {
    "ExecuteTime": {
     "end_time": "2019-11-12T02:10:45.334085Z",
     "start_time": "2019-11-12T02:10:45.077046Z"
    }
   },
   "outputs": [
    {
     "data": {
      "image/png": "[encoded data removed]",
      "text/plain": [
       "<Figure size 432x288 with 1 Axes>"
      ]
     },
     "metadata": {
      "needs_background": "light"
     },
     "output_type": "display_data"
    }
   ],
   "source": [
    "curva_densidad(df, df_comp, 'gle_cgdpc', True)"
   ]
  },
  {
   "cell_type": "code",
   "execution_count": 103,
   "metadata": {
    "ExecuteTime": {
     "end_time": "2019-11-12T02:11:41.470591Z",
     "start_time": "2019-11-12T02:11:41.179738Z"
    }
   },
   "outputs": [
    {
     "data": {
      "image/png": "[encoded data removed]",
      "text/plain": [
       "<Figure size 432x288 with 1 Axes>"
      ]
     },
     "metadata": {
      "needs_background": "light"
     },
     "output_type": "display_data"
    }
   ],
   "source": [
    "curva_densidad(df, df_comp, 'undp_hdi', False)"
   ]
  }
 ],
 "metadata": {
  "kernelspec": {
   "display_name": "Python 3",
   "language": "python",
   "name": "python3"
  },
  "language_info": {
   "codemirror_mode": {
    "name": "ipython",
    "version": 3
   },
   "file_extension": ".py",
   "mimetype": "text/x-python",
   "name": "python",
   "nbconvert_exporter": "python",
   "pygments_lexer": "ipython3",
   "version": "3.7.3"
  },
  "varInspector": {
   "cols": {
    "lenName": 16,
    "lenType": 16,
    "lenVar": 40
   },
   "kernels_config": {
    "python": {
     "delete_cmd_postfix": "",
     "delete_cmd_prefix": "del ",
     "library": "var_list.py",
     "varRefreshCmd": "print(var_dic_list())"
    },
    "r": {
     "delete_cmd_postfix": ") ",
     "delete_cmd_prefix": "rm(",
     "library": "var_list.r",
     "varRefreshCmd": "cat(var_dic_list()) "
    }
   },
   "types_to_exclude": [
    "module",
    "function",
    "builtin_function_or_method",
    "instance",
    "_Feature"
   ],
   "window_display": false
  }
 },
 "nbformat": 4,
 "nbformat_minor": 2
}
