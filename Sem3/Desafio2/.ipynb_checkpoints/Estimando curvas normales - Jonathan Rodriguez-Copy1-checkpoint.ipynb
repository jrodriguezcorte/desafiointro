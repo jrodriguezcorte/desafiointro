{
 "cells": [
  {
   "cell_type": "markdown",
   "metadata": {},
   "source": [
    "**NOMBRE ALUMNO:** Jonathan Rodriguez\n",
    "\n",
    "**FECHA:** "
   ]
  },
  {
   "cell_type": "markdown",
   "metadata": {},
   "source": [
    "## 1. Importe un csv desde internet\n",
    "\n",
    "Utilice la base de datos de un compañero creada en la sesión pasada"
   ]
  },
  {
   "cell_type": "code",
   "execution_count": 6,
   "metadata": {
    "ExecuteTime": {
     "end_time": "2019-10-29T00:19:52.263791Z",
     "start_time": "2019-10-29T00:19:52.225516Z"
    }
   },
   "outputs": [],
   "source": [
    "%matplotlib inline\n",
    "import pandas as pd\n",
    "import numpy as np\n",
    "import matplotlib.pyplot as plt\n",
    "import scipy.stats as stats\n",
    "\n",
    "np.random.seed(1641)\n",
    "\n",
    "df = pd.read_csv('subsample_jrc.csv')\n",
    "df_comp = pd.read_csv('subsample_comp.csv')"
   ]
  },
  {
   "cell_type": "code",
   "execution_count": 7,
   "metadata": {
    "ExecuteTime": {
     "end_time": "2019-10-29T00:19:54.151534Z",
     "start_time": "2019-10-29T00:19:54.107665Z"
    }
   },
   "outputs": [
    {
     "data": {
      "text/html": [
       "<div>\n",
       "<style scoped>\n",
       "    .dataframe tbody tr th:only-of-type {\n",
       "        vertical-align: middle;\n",
       "    }\n",
       "\n",
       "    .dataframe tbody tr th {\n",
       "        vertical-align: top;\n",
       "    }\n",
       "\n",
       "    .dataframe thead th {\n",
       "        text-align: right;\n",
       "    }\n",
       "</style>\n",
       "<table border=\"1\" class=\"dataframe\">\n",
       "  <thead>\n",
       "    <tr style=\"text-align: right;\">\n",
       "      <th></th>\n",
       "      <th>undp_hdi</th>\n",
       "      <th>ccodealp</th>\n",
       "      <th>ht_region</th>\n",
       "      <th>gle_cgdpc</th>\n",
       "      <th>imf_pop</th>\n",
       "      <th>wef_imort</th>\n",
       "      <th>who_alc2000</th>\n",
       "      <th>who_tobt</th>\n",
       "      <th>wdi_exph</th>\n",
       "      <th>region_recod</th>\n",
       "    </tr>\n",
       "  </thead>\n",
       "  <tbody>\n",
       "    <tr>\n",
       "      <th>0</th>\n",
       "      <td>0.351</td>\n",
       "      <td>NER</td>\n",
       "      <td>4</td>\n",
       "      <td>644.53998</td>\n",
       "      <td>NaN</td>\n",
       "      <td>NaN</td>\n",
       "      <td>0.15</td>\n",
       "      <td>8.400000</td>\n",
       "      <td>5.821299</td>\n",
       "      <td>SubSaharian</td>\n",
       "    </tr>\n",
       "    <tr>\n",
       "      <th>1</th>\n",
       "      <td>0.909</td>\n",
       "      <td>SWE</td>\n",
       "      <td>5</td>\n",
       "      <td>39000.91000</td>\n",
       "      <td>9.645000</td>\n",
       "      <td>2.300000</td>\n",
       "      <td>7.30</td>\n",
       "      <td>21.900000</td>\n",
       "      <td>11.929840</td>\n",
       "      <td>WesternDem</td>\n",
       "    </tr>\n",
       "    <tr>\n",
       "      <th>2</th>\n",
       "      <td>0.575</td>\n",
       "      <td>BGD</td>\n",
       "      <td>8</td>\n",
       "      <td>1796.64000</td>\n",
       "      <td>154.695007</td>\n",
       "      <td>33.099998</td>\n",
       "      <td>0.01</td>\n",
       "      <td>21.799999</td>\n",
       "      <td>2.818999</td>\n",
       "      <td>SouthAsia</td>\n",
       "    </tr>\n",
       "    <tr>\n",
       "      <th>3</th>\n",
       "      <td>0.896</td>\n",
       "      <td>LUX</td>\n",
       "      <td>5</td>\n",
       "      <td>61404.48000</td>\n",
       "      <td>0.550000</td>\n",
       "      <td>1.700000</td>\n",
       "      <td>11.12</td>\n",
       "      <td>24.400000</td>\n",
       "      <td>6.937873</td>\n",
       "      <td>WesternDem</td>\n",
       "    </tr>\n",
       "    <tr>\n",
       "      <th>4</th>\n",
       "      <td>0.431</td>\n",
       "      <td>SLE</td>\n",
       "      <td>4</td>\n",
       "      <td>979.95001</td>\n",
       "      <td>6.232000</td>\n",
       "      <td>117.400002</td>\n",
       "      <td>3.78</td>\n",
       "      <td>34.400002</td>\n",
       "      <td>11.089902</td>\n",
       "      <td>SubSaharian</td>\n",
       "    </tr>\n",
       "  </tbody>\n",
       "</table>\n",
       "</div>"
      ],
      "text/plain": [
       "   undp_hdi ccodealp  ht_region    gle_cgdpc     imf_pop   wef_imort  \\\n",
       "0     0.351      NER          4    644.53998         NaN         NaN   \n",
       "1     0.909      SWE          5  39000.91000    9.645000    2.300000   \n",
       "2     0.575      BGD          8   1796.64000  154.695007   33.099998   \n",
       "3     0.896      LUX          5  61404.48000    0.550000    1.700000   \n",
       "4     0.431      SLE          4    979.95001    6.232000  117.400002   \n",
       "\n",
       "   who_alc2000   who_tobt   wdi_exph region_recod  \n",
       "0         0.15   8.400000   5.821299  SubSaharian  \n",
       "1         7.30  21.900000  11.929840   WesternDem  \n",
       "2         0.01  21.799999   2.818999    SouthAsia  \n",
       "3        11.12  24.400000   6.937873   WesternDem  \n",
       "4         3.78  34.400002  11.089902  SubSaharian  "
      ]
     },
     "execution_count": 7,
     "metadata": {},
     "output_type": "execute_result"
    }
   ],
   "source": [
    "df.head()"
   ]
  },
  {
   "cell_type": "code",
   "execution_count": 8,
   "metadata": {
    "ExecuteTime": {
     "end_time": "2019-10-29T00:19:57.034662Z",
     "start_time": "2019-10-29T00:19:56.972211Z"
    }
   },
   "outputs": [
    {
     "data": {
      "text/html": [
       "<div>\n",
       "<style scoped>\n",
       "    .dataframe tbody tr th:only-of-type {\n",
       "        vertical-align: middle;\n",
       "    }\n",
       "\n",
       "    .dataframe tbody tr th {\n",
       "        vertical-align: top;\n",
       "    }\n",
       "\n",
       "    .dataframe thead th {\n",
       "        text-align: right;\n",
       "    }\n",
       "</style>\n",
       "<table border=\"1\" class=\"dataframe\">\n",
       "  <thead>\n",
       "    <tr style=\"text-align: right;\">\n",
       "      <th></th>\n",
       "      <th>undp_hdi</th>\n",
       "      <th>ccodealp</th>\n",
       "      <th>ht_region</th>\n",
       "      <th>gle_cgdpc</th>\n",
       "      <th>imf_pop</th>\n",
       "      <th>wef_imort</th>\n",
       "      <th>who_alc2000</th>\n",
       "      <th>who_tobt</th>\n",
       "      <th>wdi_exph</th>\n",
       "      <th>region_recod</th>\n",
       "    </tr>\n",
       "  </thead>\n",
       "  <tbody>\n",
       "    <tr>\n",
       "      <th>0</th>\n",
       "      <td>0.896</td>\n",
       "      <td>LUX</td>\n",
       "      <td>5</td>\n",
       "      <td>61404.4800</td>\n",
       "      <td>0.550</td>\n",
       "      <td>1.700000</td>\n",
       "      <td>11.12</td>\n",
       "      <td>24.400000</td>\n",
       "      <td>6.937873</td>\n",
       "      <td>WesternDem</td>\n",
       "    </tr>\n",
       "    <tr>\n",
       "      <th>1</th>\n",
       "      <td>0.739</td>\n",
       "      <td>ECU</td>\n",
       "      <td>2</td>\n",
       "      <td>7259.5200</td>\n",
       "      <td>15.775</td>\n",
       "      <td>19.100000</td>\n",
       "      <td>3.82</td>\n",
       "      <td>9.000000</td>\n",
       "      <td>9.161088</td>\n",
       "      <td>LatAm</td>\n",
       "    </tr>\n",
       "    <tr>\n",
       "      <th>2</th>\n",
       "      <td>0.735</td>\n",
       "      <td>LCA</td>\n",
       "      <td>10</td>\n",
       "      <td>11095.8000</td>\n",
       "      <td>0.167</td>\n",
       "      <td>NaN</td>\n",
       "      <td>9.97</td>\n",
       "      <td>NaN</td>\n",
       "      <td>6.719041</td>\n",
       "      <td>Caribbean</td>\n",
       "    </tr>\n",
       "    <tr>\n",
       "      <th>3</th>\n",
       "      <td>0.781</td>\n",
       "      <td>SYC</td>\n",
       "      <td>4</td>\n",
       "      <td>9583.3203</td>\n",
       "      <td>0.090</td>\n",
       "      <td>11.200000</td>\n",
       "      <td>9.72</td>\n",
       "      <td>26.700001</td>\n",
       "      <td>3.369817</td>\n",
       "      <td>SubSaharian</td>\n",
       "    </tr>\n",
       "    <tr>\n",
       "      <th>4</th>\n",
       "      <td>0.438</td>\n",
       "      <td>MLI</td>\n",
       "      <td>4</td>\n",
       "      <td>1063.2600</td>\n",
       "      <td>14.854</td>\n",
       "      <td>79.599998</td>\n",
       "      <td>0.61</td>\n",
       "      <td>18.600000</td>\n",
       "      <td>6.862166</td>\n",
       "      <td>SubSaharian</td>\n",
       "    </tr>\n",
       "  </tbody>\n",
       "</table>\n",
       "</div>"
      ],
      "text/plain": [
       "   undp_hdi ccodealp  ht_region   gle_cgdpc  imf_pop  wef_imort  who_alc2000  \\\n",
       "0     0.896      LUX          5  61404.4800    0.550   1.700000        11.12   \n",
       "1     0.739      ECU          2   7259.5200   15.775  19.100000         3.82   \n",
       "2     0.735      LCA         10  11095.8000    0.167        NaN         9.97   \n",
       "3     0.781      SYC          4   9583.3203    0.090  11.200000         9.72   \n",
       "4     0.438      MLI          4   1063.2600   14.854  79.599998         0.61   \n",
       "\n",
       "    who_tobt  wdi_exph region_recod  \n",
       "0  24.400000  6.937873   WesternDem  \n",
       "1   9.000000  9.161088        LatAm  \n",
       "2        NaN  6.719041    Caribbean  \n",
       "3  26.700001  3.369817  SubSaharian  \n",
       "4  18.600000  6.862166  SubSaharian  "
      ]
     },
     "execution_count": 8,
     "metadata": {},
     "output_type": "execute_result"
    }
   ],
   "source": [
    "df_comp.head()"
   ]
  },
  {
   "cell_type": "markdown",
   "metadata": {},
   "source": [
    "## 2. Importe su conjunto de funciones\n",
    "\n",
    "Genere un archivo _ancilliary_funcs.py_ para guardar las funciones creadas en la sesión pasada e impórtelo.\n",
    "\n",
    "Utilice las funciones creadas para inspeccionar la cantidad de casos perdidos de la muestra de su compañero."
   ]
  },
  {
   "cell_type": "code",
   "execution_count": 11,
   "metadata": {
    "ExecuteTime": {
     "end_time": "2019-10-29T00:20:52.298235Z",
     "start_time": "2019-10-29T00:20:52.252348Z"
    }
   },
   "outputs": [
    {
     "name": "stdout",
     "output_type": "stream",
     "text": [
      "undp_hdi\n",
      "____________________\n",
      "Cantidad de perdidos 3\n",
      "Porcentaje de perdidos: 0.03\n",
      "\n",
      "\n",
      "ccodealp\n",
      "____________________\n",
      "Cantidad de perdidos 0\n",
      "Porcentaje de perdidos: 0.0\n",
      "\n",
      "\n",
      "ht_region\n",
      "____________________\n",
      "Cantidad de perdidos 0\n",
      "Porcentaje de perdidos: 0.0\n",
      "\n",
      "\n",
      "gle_cgdpc\n",
      "____________________\n",
      "Cantidad de perdidos 1\n",
      "Porcentaje de perdidos: 0.01\n",
      "\n",
      "\n",
      "imf_pop\n",
      "____________________\n",
      "Cantidad de perdidos 24\n",
      "Porcentaje de perdidos: 0.25\n",
      "\n",
      "\n",
      "wef_imort\n",
      "____________________\n",
      "Cantidad de perdidos 26\n",
      "Porcentaje de perdidos: 0.27\n",
      "\n",
      "\n",
      "who_alc2000\n",
      "____________________\n",
      "Cantidad de perdidos 8\n",
      "Porcentaje de perdidos: 0.08\n",
      "\n",
      "\n",
      "who_tobt\n",
      "____________________\n",
      "Cantidad de perdidos 30\n",
      "Porcentaje de perdidos: 0.31\n",
      "\n",
      "\n",
      "wdi_exph\n",
      "____________________\n",
      "Cantidad de perdidos 1\n",
      "Porcentaje de perdidos: 0.01\n",
      "\n",
      "\n",
      "region_recod\n",
      "____________________\n",
      "Cantidad de perdidos 0\n",
      "Porcentaje de perdidos: 0.0\n",
      "\n",
      "\n"
     ]
    }
   ],
   "source": [
    "from ancilliary_funcs_jrc import *\n",
    "\n",
    "\n",
    "lista = []\n",
    "# Registrando los nombres de columnas en una lista\n",
    "for value in df_comp:\n",
    "    lista.append(value)\n",
    "\n",
    "# Analizando todas las variables con sus casos perdidos    \n",
    "for value in range(len(lista)):\n",
    "    codigo_columna = lista[value]\n",
    "    c_perdidos, p_perdidods = getna(df_comp,codigo_columna)\n",
    "    print(lista[value])\n",
    "    print('____________________')\n",
    "    print('Cantidad de perdidos {}'.format(c_perdidos))\n",
    "    print('Porcentaje de perdidos: {}'.format(round(p_perdidods,2)))   \n",
    "    print('\\n')    \n",
    "    \n"
   ]
  },
  {
   "cell_type": "markdown",
   "metadata": {},
   "source": [
    "## 3. Estime el puntaje Z\n",
    "\n",
    "Estime el puntaje Z para las 10 primeras y últimas observaciones de las variables con una menor cantidad de datos perdidos\n",
    "\n",
    "* Genere una nueva columna en la tabla de datos mediante funciones vectorizadas. Recuerde que para calcular el puntaje z de una observación se utiliza la fórmula:  $z_{i} = (x_{i} - \\overline{x})/\\sigma(x)$\n",
    "* Para ordenar los valores pueden utilzar la función **sort_values** del **DataFrame** analizado.\n",
    "* Lean la documentación asociada al argumento **by** . Para evitar conflictos en la sobreescritura\n",
    "* Asegúrense de eliminar las observaciones que tengan valores perdidos con **dropna** . Lean la documentación asociada al método **subset** .\n",
    "* Seleccionen las primeras y últimas 10 observaciones de la base reordenada. ¿Qué características en común se encuentran?"
   ]
  },
  {
   "cell_type": "code",
   "execution_count": 17,
   "metadata": {
    "ExecuteTime": {
     "end_time": "2019-10-29T00:27:50.882814Z",
     "start_time": "2019-10-29T00:27:50.766032Z"
    }
   },
   "outputs": [
    {
     "name": "stdout",
     "output_type": "stream",
     "text": [
      "gle_cgdpc\n",
      "____________-\n",
      "head\n",
      "22   -0.721161\n",
      "69   -0.713742\n",
      "62   -0.711581\n",
      "49   -0.705286\n",
      "21   -0.701576\n",
      "42   -0.698177\n",
      "52   -0.695142\n",
      "4    -0.693861\n",
      "75   -0.692308\n",
      "95   -0.680557\n",
      "Name: gle_cgdpc_zscore, dtype: float64\n",
      "tail\n",
      "31    1.101127\n",
      "29    1.107436\n",
      "55    1.262101\n",
      "71    1.651253\n",
      "0     2.171168\n",
      "25    2.310676\n",
      "46    4.110224\n",
      "68    4.195969\n",
      "34    4.406388\n",
      "84         NaN\n",
      "Name: gle_cgdpc_zscore, dtype: float64\n",
      "\n",
      "\n",
      "undp_hdi\n",
      "____________-\n",
      "head\n",
      "31    1.226225\n",
      "29    1.335153\n",
      "55    1.424858\n",
      "71    1.520971\n",
      "0     1.251855\n",
      "25    0.630324\n",
      "46    1.347968\n",
      "68    0.989146\n",
      "34         NaN\n",
      "84   -1.791724\n",
      "Name: undp_hdi_zscore, dtype: float64\n",
      "tail\n",
      "22   -1.753278\n",
      "69   -2.240251\n",
      "62   -2.265881\n",
      "49   -1.215046\n",
      "21   -1.663573\n",
      "42   -1.298344\n",
      "52   -1.388049\n",
      "4    -1.682796\n",
      "75   -1.932689\n",
      "95   -1.362419\n",
      "Name: undp_hdi_zscore, dtype: float64\n",
      "\n",
      "\n",
      "wdi_exph\n",
      "____________-\n",
      "head\n",
      "31    1.686111\n",
      "29    1.949295\n",
      "55    1.574139\n",
      "71    1.850988\n",
      "0     0.135561\n",
      "25   -1.279796\n",
      "46         NaN\n",
      "68   -1.590555\n",
      "34   -0.809168\n",
      "84   -1.390229\n",
      "Name: wdi_exph_zscore, dtype: float64\n",
      "tail\n",
      "22    1.261326\n",
      "69   -0.270125\n",
      "62   -0.859112\n",
      "49   -1.280164\n",
      "21   -0.610561\n",
      "42    0.066444\n",
      "52   -0.478830\n",
      "4     0.108054\n",
      "75   -0.582966\n",
      "95    0.238842\n",
      "Name: wdi_exph_zscore, dtype: float64\n",
      "\n",
      "\n"
     ]
    }
   ],
   "source": [
    "def zvalue (df, col):\n",
    "    df = df.sort_values(by=[col])\n",
    "    df = df[col].dropna()\n",
    "    return (df - df.mean()) / df.std()\n",
    "\n",
    "\n",
    "df_comp['gle_cgdpc_zscore'] = zvalue(df_comp, 'gle_cgdpc')\n",
    "\n",
    "df_comp['undp_hdi_zscore'] = zvalue(df_comp, 'undp_hdi')\n",
    "\n",
    "df_comp['wdi_exph_zscore'] = zvalue(df_comp, 'wdi_exph')\n",
    "\n",
    "\n",
    "print('gle_cgdpc')\n",
    "print('____________-')\n",
    "print('head')\n",
    "print (df_comp.sort_values(by='gle_cgdpc_zscore')[:10]['gle_cgdpc_zscore'])\n",
    "print('tail')\n",
    "print (df_comp.sort_values(by='gle_cgdpc_zscore')[-10:]['gle_cgdpc_zscore'])\n",
    "print('\\n')\n",
    "\n",
    "print('undp_hdi')\n",
    "print('____________-')\n",
    "print('head')\n",
    "print (df_comp.sort_values(by='gle_cgdpc_zscore')[-10:]['undp_hdi_zscore'])\n",
    "print('tail')\n",
    "print (df_comp.sort_values(by='gle_cgdpc_zscore')[:10]['undp_hdi_zscore'])\n",
    "print('\\n')\n",
    "\n",
    "print('wdi_exph')\n",
    "print('____________-')\n",
    "print('head')\n",
    "print (df_comp.sort_values(by='gle_cgdpc_zscore')[-10:]['wdi_exph_zscore'])\n",
    "print('tail')\n",
    "print (df_comp.sort_values(by='gle_cgdpc_zscore')[:10]['wdi_exph_zscore'])\n",
    "print('\\n')\n"
   ]
  },
  {
   "cell_type": "markdown",
   "metadata": {
    "ExecuteTime": {
     "end_time": "2019-10-25T00:49:25.680574Z",
     "start_time": "2019-10-25T00:49:25.675870Z"
    }
   },
   "source": [
    "## 4. Estime el puntaje z de las regiones\n",
    "\n",
    "Para ello, modifique la función para generar dotplots de la semana pasada, donde deberá agregar \n",
    "una opción al argumento **statistic** para calcular el puntaje z.\n"
   ]
  },
  {
   "cell_type": "code",
   "execution_count": 24,
   "metadata": {
    "ExecuteTime": {
     "end_time": "2019-10-29T00:30:39.807912Z",
     "start_time": "2019-10-29T00:30:39.792398Z"
    }
   },
   "outputs": [],
   "source": [
    "def getdotplot(dataframe,plot_var,plot_by,global_stat = False, statistic = 'mean'):\n",
    "    \"\"\"\n",
    "    Función que liste las observaciones perdidas de una variable\n",
    "\n",
    "    Parameters:\n",
    "    dataframe (Dataframe): La base de datos donde se encuentran los datos específicos.\n",
    "    plot_var (str): La variable a analizar y extraer las medias\n",
    "    plot_by (str): La variable agrupadora\n",
    "    global_stat: Booleano. Si es True debe graficar la media global de la variable. Por defecto debe ser False     \n",
    "    statistic: Debe presentar dos opciones. mean para la media y median para la mediana. Por defecto debe ser mean\n",
    "\n",
    "    Returns:  Graficacion de Dotplot\n",
    "\n",
    "\n",
    "   \"\"\"      \n",
    "    df_dropna = dataframe.dropna(subset=[plot_var]) \n",
    "    plt.title(\"Dotplot caso: {}\".format(statistic))\n",
    "    if (statistic == 'mean'):\n",
    "        group_stat = round(df_dropna.groupby(plot_by)[plot_var].mean(),2)\n",
    "        if (global_stat):\n",
    "            plt.axvline(df_dropna[plot_var].mean(), color = 'tomato', linestyle = '--', )\n",
    "        plt.plot(group_stat.values, group_stat.index, 'o', color = 'blue')\n",
    "    if (statistic == 'median'):\n",
    "        group_stat = round(df_dropna.groupby(plot_by)[plot_var].median(),2)\n",
    "        if (global_stat):\n",
    "            plt.axvline(df_dropna[plot_var].median(), color = 'green', linestyle = '--')\n",
    "        plt.plot(group_stat.values, group_stat.index, 'o', color = 'blue')         \n",
    "    if (statistic == 'z-score'):\n",
    "        tmp_df = dataframe[plot_var].dropna()\n",
    "        group_stat = dataframe.groupby(plot_by)[plot_var].mean()\n",
    "        plt.plot(group_stat.values, group_stat.index, 'o', color = 'blue')      \n",
    "        \n"
   ]
  },
  {
   "cell_type": "code",
   "execution_count": 25,
   "metadata": {
    "ExecuteTime": {
     "end_time": "2019-10-29T00:30:42.079430Z",
     "start_time": "2019-10-29T00:30:41.866235Z"
    }
   },
   "outputs": [
    {
     "data": {
      "image/png": "[encoded data removed]",
      "text/plain": [
       "<Figure size 432x288 with 1 Axes>"
      ]
     },
     "metadata": {
      "needs_background": "light"
     },
     "output_type": "display_data"
    }
   ],
   "source": [
    "getdotplot(df_comp,'gle_cgdpc_zscore','region_recod',True,'z-score')  "
   ]
  },
  {
   "cell_type": "markdown",
   "metadata": {},
   "source": [
    "## 5. Genere un método que devuelva un gráfico comparando dos curvas de densidad\n",
    "\n",
    "* El método debe contener los siguientes argumentos:\n",
    "    * *df1* : Tabla de datos 1.\n",
    "    * *df2* : Tabla de datos 2.\n",
    "    * *variable* : Variable a contrastar.\n",
    "    * *log* : Booleano. Si es True transformar la variable al logaritmo. Por defecto debe ser False .\n",
    "\n",
    "* Grafique las curvas para **imf_pop** , **gle_cgdpc** y **undp_hdi** . ¿En qué casos es necesario utilizar logaritmos? ¿Por qué?"
   ]
  },
  {
   "cell_type": "code",
   "execution_count": 58,
   "metadata": {
    "ExecuteTime": {
     "end_time": "2019-10-29T01:00:23.116529Z",
     "start_time": "2019-10-29T01:00:23.098001Z"
    }
   },
   "outputs": [],
   "source": [
    "def curva_densidad(df1, df2, var, log=False):\n",
    "    df = pd.DataFrame({\n",
    "     'df_1': df1[var].dropna(),\n",
    "     'df_2': df2[var].dropna(),\n",
    "    })    \n",
    "    if log is True:\n",
    "        df = pd.DataFrame({\n",
    "         'df_1': np.log(df1[var].dropna()),\n",
    "         'df_2': np.log(df2[var].dropna()),\n",
    "        })       \n",
    "    df.plot.kde()      \n",
    "    \n",
    "    "
   ]
  },
  {
   "cell_type": "code",
   "execution_count": 59,
   "metadata": {
    "ExecuteTime": {
     "end_time": "2019-10-29T01:00:25.686645Z",
     "start_time": "2019-10-29T01:00:25.472802Z"
    }
   },
   "outputs": [
    {
     "data": {
      "image/png": "[encoded data removed]",
      "text/plain": [
       "<Figure size 432x288 with 1 Axes>"
      ]
     },
     "metadata": {
      "needs_background": "light"
     },
     "output_type": "display_data"
    }
   ],
   "source": [
    "curva_densidad(df, df_comp, 'imf_pop', False)\n"
   ]
  },
  {
   "cell_type": "code",
   "execution_count": 60,
   "metadata": {
    "ExecuteTime": {
     "end_time": "2019-10-29T01:01:06.470436Z",
     "start_time": "2019-10-29T01:01:06.289732Z"
    }
   },
   "outputs": [
    {
     "data": {
      "image/png": "[encoded data removed]",
      "text/plain": [
       "<Figure size 432x288 with 1 Axes>"
      ]
     },
     "metadata": {
      "needs_background": "light"
     },
     "output_type": "display_data"
    }
   ],
   "source": [
    "curva_densidad(df, df_comp, 'gle_cgdpc', False)\n"
   ]
  },
  {
   "cell_type": "code",
   "execution_count": 61,
   "metadata": {
    "ExecuteTime": {
     "end_time": "2019-10-29T01:01:26.864873Z",
     "start_time": "2019-10-29T01:01:26.686763Z"
    },
    "scrolled": true
   },
   "outputs": [
    {
     "data": {
      "image/png": "[encoded data removed]",
      "text/plain": [
       "<Figure size 432x288 with 1 Axes>"
      ]
     },
     "metadata": {
      "needs_background": "light"
     },
     "output_type": "display_data"
    }
   ],
   "source": [
    "curva_densidad(df, df_comp, 'undp_hdi', False)\n"
   ]
  },
  {
   "cell_type": "markdown",
   "metadata": {},
   "source": [
    "* En este caso no se presenta un comportamiento similar a una normal (0,1), por tanto debe aplicarse el logaritmo\n"
   ]
  },
  {
   "cell_type": "code",
   "execution_count": 62,
   "metadata": {
    "ExecuteTime": {
     "end_time": "2019-10-29T01:04:23.228157Z",
     "start_time": "2019-10-29T01:04:23.018007Z"
    }
   },
   "outputs": [
    {
     "data": {
      "image/png": "[encoded data removed]",
      "text/plain": [
       "<Figure size 432x288 with 1 Axes>"
      ]
     },
     "metadata": {
      "needs_background": "light"
     },
     "output_type": "display_data"
    }
   ],
   "source": [
    "curva_densidad(df, df_comp, 'undp_hdi', True)\n"
   ]
  }
 ],
 "metadata": {
  "kernelspec": {
   "display_name": "Python 3",
   "language": "python",
   "name": "python3"
  },
  "language_info": {
   "codemirror_mode": {
    "name": "ipython",
    "version": 3
   },
   "file_extension": ".py",
   "mimetype": "text/x-python",
   "name": "python",
   "nbconvert_exporter": "python",
   "pygments_lexer": "ipython3",
   "version": "3.7.3"
  },
  "varInspector": {
   "cols": {
    "lenName": 16,
    "lenType": 16,
    "lenVar": 40
   },
   "kernels_config": {
    "python": {
     "delete_cmd_postfix": "",
     "delete_cmd_prefix": "del ",
     "library": "var_list.py",
     "varRefreshCmd": "print(var_dic_list())"
    },
    "r": {
     "delete_cmd_postfix": ") ",
     "delete_cmd_prefix": "rm(",
     "library": "var_list.r",
     "varRefreshCmd": "cat(var_dic_list()) "
    }
   },
   "types_to_exclude": [
    "module",
    "function",
    "builtin_function_or_method",
    "instance",
    "_Feature"
   ],
   "window_display": false
  }
 },
 "nbformat": 4,
 "nbformat_minor": 2
}
