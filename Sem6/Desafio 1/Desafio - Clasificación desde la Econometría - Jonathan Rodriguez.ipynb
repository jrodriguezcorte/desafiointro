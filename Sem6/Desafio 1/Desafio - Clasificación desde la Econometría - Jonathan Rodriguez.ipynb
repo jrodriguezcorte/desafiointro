{
 "cells": [
  {
   "cell_type": "markdown",
   "metadata": {},
   "source": [
    "**NOMBRE ALUMNO:** Jonathan Rodriguez\n",
    "\n",
    "**FECHA:** 26-11-19"
   ]
  },
  {
   "cell_type": "markdown",
   "metadata": {},
   "source": [
    "En esta sesión trabajaremos con:\n",
    "\n",
    "* `sbp` : Presión Sanguínea Sistólica.\n",
    "* `tobacco` : Promedio tabaco consumido por día.\n",
    "* `ldl` : Lipoproteína de baja densidad.\n",
    "* `adiposity` : Adiposidad.\n",
    "* `famhist` : Antecedentes familiares de enfermedades cardiácas. (Binaria)\n",
    "* `types` : Personalidad tipo A\n",
    "* `obesity` : Obesidad.\n",
    "* `alcohol` : Consumo actual de alcohol.\n",
    "* `age` : edad.\n",
    "* `chd` : Enfermedad coronaria. (dummy)"
   ]
  },
  {
   "cell_type": "markdown",
   "metadata": {},
   "source": [
    "### Desafío 1: Preparar el ambiente de trabajo\n",
    "\n",
    "* Importe las librerías básicas para el análisis de datos.\n",
    "* Incluya los import base de `statsmodels`.\n",
    "* Importe la base de datos `southafricanheart.csv` y elimine la columna `Unnamed: 0`.\n",
    "* Utilice `value_counts()` para revisar la cantidad de casos en las variables categóricas, en caso contrario use `describe()`. Realice binarización si es necesario. \n",
    "* Realice graficos con histogramas para las contínuas y gráficos de barra las discretas y Analice comportamiento de las variables. Haga un mapa de calor de correlaciones."
   ]
  },
  {
   "cell_type": "code",
   "execution_count": 103,
   "metadata": {
    "ExecuteTime": {
     "end_time": "2019-12-01T12:50:09.652808Z",
     "start_time": "2019-12-01T12:50:09.646489Z"
    }
   },
   "outputs": [],
   "source": [
    "# Imporatamos la triada clásica\n",
    "import numpy as np\n",
    "import pandas as pd\n",
    "import matplotlib.pyplot as plt\n",
    "%matplotlib inline\n",
    "# seaborn\n",
    "import seaborn as sns\n",
    "# statsmodels para modelación\n",
    "import statsmodels.api as sm\n",
    "import statsmodels.formula.api as smf\n",
    "from sklearn.linear_model import LogisticRegression\n",
    "from sklearn.model_selection import train_test_split\n",
    "from sklearn.preprocessing import StandardScaler\n",
    "from sklearn.metrics import classification_report\n",
    "from sklearn.metrics import roc_curve"
   ]
  },
  {
   "cell_type": "code",
   "execution_count": 104,
   "metadata": {
    "ExecuteTime": {
     "end_time": "2019-12-01T12:50:12.078514Z",
     "start_time": "2019-12-01T12:50:12.061255Z"
    },
    "scrolled": true
   },
   "outputs": [
    {
     "data": {
      "text/html": [
       "<div>\n",
       "<style scoped>\n",
       "    .dataframe tbody tr th:only-of-type {\n",
       "        vertical-align: middle;\n",
       "    }\n",
       "\n",
       "    .dataframe tbody tr th {\n",
       "        vertical-align: top;\n",
       "    }\n",
       "\n",
       "    .dataframe thead th {\n",
       "        text-align: right;\n",
       "    }\n",
       "</style>\n",
       "<table border=\"1\" class=\"dataframe\">\n",
       "  <thead>\n",
       "    <tr style=\"text-align: right;\">\n",
       "      <th></th>\n",
       "      <th>sbp</th>\n",
       "      <th>tobacco</th>\n",
       "      <th>ldl</th>\n",
       "      <th>adiposity</th>\n",
       "      <th>famhist</th>\n",
       "      <th>typea</th>\n",
       "      <th>obesity</th>\n",
       "      <th>alcohol</th>\n",
       "      <th>age</th>\n",
       "      <th>chd</th>\n",
       "    </tr>\n",
       "  </thead>\n",
       "  <tbody>\n",
       "    <tr>\n",
       "      <th>0</th>\n",
       "      <td>160</td>\n",
       "      <td>12.00</td>\n",
       "      <td>5.73</td>\n",
       "      <td>23.11</td>\n",
       "      <td>Present</td>\n",
       "      <td>49</td>\n",
       "      <td>25.30</td>\n",
       "      <td>97.20</td>\n",
       "      <td>52</td>\n",
       "      <td>1</td>\n",
       "    </tr>\n",
       "    <tr>\n",
       "      <th>1</th>\n",
       "      <td>144</td>\n",
       "      <td>0.01</td>\n",
       "      <td>4.41</td>\n",
       "      <td>28.61</td>\n",
       "      <td>Absent</td>\n",
       "      <td>55</td>\n",
       "      <td>28.87</td>\n",
       "      <td>2.06</td>\n",
       "      <td>63</td>\n",
       "      <td>1</td>\n",
       "    </tr>\n",
       "    <tr>\n",
       "      <th>2</th>\n",
       "      <td>118</td>\n",
       "      <td>0.08</td>\n",
       "      <td>3.48</td>\n",
       "      <td>32.28</td>\n",
       "      <td>Present</td>\n",
       "      <td>52</td>\n",
       "      <td>29.14</td>\n",
       "      <td>3.81</td>\n",
       "      <td>46</td>\n",
       "      <td>0</td>\n",
       "    </tr>\n",
       "    <tr>\n",
       "      <th>3</th>\n",
       "      <td>170</td>\n",
       "      <td>7.50</td>\n",
       "      <td>6.41</td>\n",
       "      <td>38.03</td>\n",
       "      <td>Present</td>\n",
       "      <td>51</td>\n",
       "      <td>31.99</td>\n",
       "      <td>24.26</td>\n",
       "      <td>58</td>\n",
       "      <td>1</td>\n",
       "    </tr>\n",
       "    <tr>\n",
       "      <th>4</th>\n",
       "      <td>134</td>\n",
       "      <td>13.60</td>\n",
       "      <td>3.50</td>\n",
       "      <td>27.78</td>\n",
       "      <td>Present</td>\n",
       "      <td>60</td>\n",
       "      <td>25.99</td>\n",
       "      <td>57.34</td>\n",
       "      <td>49</td>\n",
       "      <td>1</td>\n",
       "    </tr>\n",
       "  </tbody>\n",
       "</table>\n",
       "</div>"
      ],
      "text/plain": [
       "   sbp  tobacco   ldl  adiposity  famhist  typea  obesity  alcohol  age  chd\n",
       "0  160    12.00  5.73      23.11  Present     49    25.30    97.20   52    1\n",
       "1  144     0.01  4.41      28.61   Absent     55    28.87     2.06   63    1\n",
       "2  118     0.08  3.48      32.28  Present     52    29.14     3.81   46    0\n",
       "3  170     7.50  6.41      38.03  Present     51    31.99    24.26   58    1\n",
       "4  134    13.60  3.50      27.78  Present     60    25.99    57.34   49    1"
      ]
     },
     "execution_count": 104,
     "metadata": {},
     "output_type": "execute_result"
    }
   ],
   "source": [
    "df_original = pd.read_csv('southafricanheart.csv').drop(columns='Unnamed: 0')\n",
    "\n",
    "df_original.head()"
   ]
  },
  {
   "cell_type": "code",
   "execution_count": 105,
   "metadata": {
    "ExecuteTime": {
     "end_time": "2019-12-01T12:50:14.312445Z",
     "start_time": "2019-12-01T12:50:14.296065Z"
    },
    "scrolled": true
   },
   "outputs": [
    {
     "name": "stdout",
     "output_type": "stream",
     "text": [
      "La base de datos tiene  462 observaciones y  10  columnas\n",
      "Las variables de la base de datos son  Index(['sbp', 'tobacco', 'ldl', 'adiposity', 'famhist', 'typea', 'obesity',\n",
      "       'alcohol', 'age', 'chd'],\n",
      "      dtype='object')\n"
     ]
    }
   ],
   "source": [
    "print(\"La base de datos tiene \", df_original.shape[0], \"observaciones y \", df_original.shape[1], \" columnas\")\n",
    "print(\"Las variables de la base de datos son \", df_original.columns)"
   ]
  },
  {
   "cell_type": "code",
   "execution_count": 106,
   "metadata": {
    "ExecuteTime": {
     "end_time": "2019-12-01T12:50:16.239807Z",
     "start_time": "2019-12-01T12:50:16.234319Z"
    }
   },
   "outputs": [],
   "source": [
    "def info_data():\n",
    "    for i in df_original:\n",
    "        if len(df_original[i].value_counts()) > 2:\n",
    "            print(df_original[i].describe(), \"\\n\")\n",
    "        else:\n",
    "            print(df_original[i].value_counts('%'), \"\\n\")"
   ]
  },
  {
   "cell_type": "code",
   "execution_count": 65,
   "metadata": {
    "ExecuteTime": {
     "end_time": "2019-11-29T22:58:14.243528Z",
     "start_time": "2019-11-29T22:58:14.167170Z"
    },
    "scrolled": false
   },
   "outputs": [
    {
     "name": "stdout",
     "output_type": "stream",
     "text": [
      "count    462.000000\n",
      "mean     138.326840\n",
      "std       20.496317\n",
      "min      101.000000\n",
      "25%      124.000000\n",
      "50%      134.000000\n",
      "75%      148.000000\n",
      "max      218.000000\n",
      "Name: sbp, dtype: float64 \n",
      "\n",
      "count    462.000000\n",
      "mean       3.635649\n",
      "std        4.593024\n",
      "min        0.000000\n",
      "25%        0.052500\n",
      "50%        2.000000\n",
      "75%        5.500000\n",
      "max       31.200000\n",
      "Name: tobacco, dtype: float64 \n",
      "\n",
      "count    462.000000\n",
      "mean       4.740325\n",
      "std        2.070909\n",
      "min        0.980000\n",
      "25%        3.282500\n",
      "50%        4.340000\n",
      "75%        5.790000\n",
      "max       15.330000\n",
      "Name: ldl, dtype: float64 \n",
      "\n",
      "count    462.000000\n",
      "mean      25.406732\n",
      "std        7.780699\n",
      "min        6.740000\n",
      "25%       19.775000\n",
      "50%       26.115000\n",
      "75%       31.227500\n",
      "max       42.490000\n",
      "Name: adiposity, dtype: float64 \n",
      "\n",
      "Absent     0.584416\n",
      "Present    0.415584\n",
      "Name: famhist, dtype: float64 \n",
      "\n",
      "count    462.000000\n",
      "mean      53.103896\n",
      "std        9.817534\n",
      "min       13.000000\n",
      "25%       47.000000\n",
      "50%       53.000000\n",
      "75%       60.000000\n",
      "max       78.000000\n",
      "Name: typea, dtype: float64 \n",
      "\n",
      "count    462.000000\n",
      "mean      26.044113\n",
      "std        4.213680\n",
      "min       14.700000\n",
      "25%       22.985000\n",
      "50%       25.805000\n",
      "75%       28.497500\n",
      "max       46.580000\n",
      "Name: obesity, dtype: float64 \n",
      "\n",
      "count    462.000000\n",
      "mean      17.044394\n",
      "std       24.481059\n",
      "min        0.000000\n",
      "25%        0.510000\n",
      "50%        7.510000\n",
      "75%       23.892500\n",
      "max      147.190000\n",
      "Name: alcohol, dtype: float64 \n",
      "\n",
      "count    462.000000\n",
      "mean      42.816017\n",
      "std       14.608956\n",
      "min       15.000000\n",
      "25%       31.000000\n",
      "50%       45.000000\n",
      "75%       55.000000\n",
      "max       64.000000\n",
      "Name: age, dtype: float64 \n",
      "\n",
      "0    0.65368\n",
      "1    0.34632\n",
      "Name: chd, dtype: float64 \n",
      "\n"
     ]
    }
   ],
   "source": [
    "info_data()"
   ]
  },
  {
   "cell_type": "code",
   "execution_count": 107,
   "metadata": {
    "ExecuteTime": {
     "end_time": "2019-12-01T12:50:19.329577Z",
     "start_time": "2019-12-01T12:50:19.307649Z"
    }
   },
   "outputs": [],
   "source": [
    "def graphic_data(df):\n",
    "    fig = plt.figure(figsize=(12,8))\n",
    "    for n, i in enumerate(df):\n",
    "        plt.subplot(2, 5, n+1)\n",
    "        if len(df[i].value_counts()) > 2:\n",
    "            sns.distplot(df[i])\n",
    "            plt.title(i)\n",
    "            plt.xlabel(\"\")\n",
    "        else:\n",
    "            sns.countplot(y=df[i])\n",
    "            plt.title(i)\n",
    "            plt.xlabel(\"\")\n",
    "            plt.tight_layout()"
   ]
  },
  {
   "cell_type": "code",
   "execution_count": 67,
   "metadata": {
    "ExecuteTime": {
     "end_time": "2019-11-29T22:58:20.985016Z",
     "start_time": "2019-11-29T22:58:19.210528Z"
    },
    "scrolled": true
   },
   "outputs": [
    {
     "data": {
      "image/png": "[encoded data removed]",
      "text/plain": [
       "<Figure size 864x576 with 10 Axes>"
      ]
     },
     "metadata": {
      "needs_background": "light"
     },
     "output_type": "display_data"
    }
   ],
   "source": [
    "graphic_data(df_original)"
   ]
  },
  {
   "cell_type": "markdown",
   "metadata": {},
   "source": [
    "Observamos que para sbp , tobacco, ldl, obesity y alcohol existe un cierto sesgo hacia los valores bajos, en el caso de age ocurre un efecto contrario, en el caso de adiposity y typea se sitúan más al centro del gráfico.\n",
    "Respecto a la variables discreta famhist, observamos que está relativamente bien equilibrada, lo cual facilita nuestra modelación."
   ]
  },
  {
   "cell_type": "code",
   "execution_count": 108,
   "metadata": {
    "ExecuteTime": {
     "end_time": "2019-12-01T12:50:22.269704Z",
     "start_time": "2019-12-01T12:50:21.845578Z"
    }
   },
   "outputs": [
    {
     "data": {
      "image/png": "[encoded data removed]",
      "text/plain": [
       "<Figure size 432x288 with 2 Axes>"
      ]
     },
     "metadata": {
      "needs_background": "light"
     },
     "output_type": "display_data"
    }
   ],
   "source": [
    "sns.heatmap(df_original.corr(), cmap='Blues', annot=True);"
   ]
  },
  {
   "cell_type": "markdown",
   "metadata": {},
   "source": [
    "Se observan una alto correlación entre obesity y adiposity, también entre adiposity y age\n",
    "Por su parte las correlaciones más bajas ocurren entre typea y sdp; typea y adiposity"
   ]
  },
  {
   "cell_type": "markdown",
   "metadata": {},
   "source": [
    "### Desafío 2\n",
    "\n",
    "A continuación se presenta el siguiente modelo a estimar: \n",
    "\n",
    "$$\\log\\left(\\frac{\\mathbb{P}(chd = 1)}{1-\\mathbb{P}(chd = 1)}\\right) = \\beta_0+\\beta_1*famhist$$\n",
    "\n",
    "Para ello ejecute los siguientes pasos:\n",
    "1. Recodifique `famhist` a dummy, asignando 1 a la categoría minoritaria.\n",
    "2. Utilice `smf.logit` para estimar el modelo.\n",
    "3. Implemente una función `inverse_logit` que realize el mapeo de log-odds a probabilidad.\n",
    "4. Con el modelo estimado, responda lo siguiente:\n",
    "    * ¿Cuál es la probabilidad de un individuo con antecedentes familiares de tener una enfermedad coronaria?\n",
    "    * ¿Cuál es la probabilidad de un individuo sin antecedentes familiares de tener una enfermedad coronaria?\n",
    "    * ¿Cuál es la diferencia en la probabilidad entre un individuo con antecedentes y otro sin antecedentes?\n",
    "    * Replique el modelo con smf.ols y comente las similitudes entre los coeficientes estimados.\n",
    "    \n",
    "      *tip: Utilice* $\\frac{\\beta}{4}$, note que puede calcular lo mismo filtrando info en el dataframe inicial.\n",
    "    * Estime el mismo modelo con LPM (Linear Probability Model)"
   ]
  },
  {
   "cell_type": "code",
   "execution_count": 109,
   "metadata": {
    "ExecuteTime": {
     "end_time": "2019-12-01T12:50:24.928340Z",
     "start_time": "2019-12-01T12:50:24.906471Z"
    },
    "scrolled": true
   },
   "outputs": [
    {
     "data": {
      "text/plain": [
       "sbp            int64\n",
       "tobacco      float64\n",
       "ldl          float64\n",
       "adiposity    float64\n",
       "famhist       object\n",
       "typea          int64\n",
       "obesity      float64\n",
       "alcohol      float64\n",
       "age            int64\n",
       "chd            int64\n",
       "dtype: object"
      ]
     },
     "execution_count": 109,
     "metadata": {},
     "output_type": "execute_result"
    }
   ],
   "source": [
    "df_original.dtypes"
   ]
  },
  {
   "cell_type": "code",
   "execution_count": 110,
   "metadata": {
    "ExecuteTime": {
     "end_time": "2019-12-01T12:50:27.148378Z",
     "start_time": "2019-12-01T12:50:27.130194Z"
    },
    "scrolled": true
   },
   "outputs": [
    {
     "name": "stdout",
     "output_type": "stream",
     "text": [
      "Absent     270\n",
      "Present    192\n",
      "Name: famhist, dtype: int64\n"
     ]
    }
   ],
   "source": [
    "print(df_original['famhist'].value_counts()) "
   ]
  },
  {
   "cell_type": "markdown",
   "metadata": {},
   "source": [
    "Se visualiza que 'Present' es la categoría minoritaria"
   ]
  },
  {
   "cell_type": "markdown",
   "metadata": {},
   "source": [
    "*Recodifique famhist a dummy, asignando 1 a la categoría minoritaria.*"
   ]
  },
  {
   "cell_type": "code",
   "execution_count": 111,
   "metadata": {
    "ExecuteTime": {
     "end_time": "2019-12-01T12:50:29.392248Z",
     "start_time": "2019-12-01T12:50:29.357572Z"
    }
   },
   "outputs": [
    {
     "data": {
      "text/html": [
       "<div>\n",
       "<style scoped>\n",
       "    .dataframe tbody tr th:only-of-type {\n",
       "        vertical-align: middle;\n",
       "    }\n",
       "\n",
       "    .dataframe tbody tr th {\n",
       "        vertical-align: top;\n",
       "    }\n",
       "\n",
       "    .dataframe thead th {\n",
       "        text-align: right;\n",
       "    }\n",
       "</style>\n",
       "<table border=\"1\" class=\"dataframe\">\n",
       "  <thead>\n",
       "    <tr style=\"text-align: right;\">\n",
       "      <th></th>\n",
       "      <th>sbp</th>\n",
       "      <th>tobacco</th>\n",
       "      <th>ldl</th>\n",
       "      <th>adiposity</th>\n",
       "      <th>typea</th>\n",
       "      <th>obesity</th>\n",
       "      <th>alcohol</th>\n",
       "      <th>age</th>\n",
       "      <th>chd</th>\n",
       "      <th>famhist_present</th>\n",
       "    </tr>\n",
       "  </thead>\n",
       "  <tbody>\n",
       "    <tr>\n",
       "      <th>0</th>\n",
       "      <td>160</td>\n",
       "      <td>12.00</td>\n",
       "      <td>5.73</td>\n",
       "      <td>23.11</td>\n",
       "      <td>49</td>\n",
       "      <td>25.30</td>\n",
       "      <td>97.20</td>\n",
       "      <td>52</td>\n",
       "      <td>1</td>\n",
       "      <td>1</td>\n",
       "    </tr>\n",
       "    <tr>\n",
       "      <th>1</th>\n",
       "      <td>144</td>\n",
       "      <td>0.01</td>\n",
       "      <td>4.41</td>\n",
       "      <td>28.61</td>\n",
       "      <td>55</td>\n",
       "      <td>28.87</td>\n",
       "      <td>2.06</td>\n",
       "      <td>63</td>\n",
       "      <td>1</td>\n",
       "      <td>0</td>\n",
       "    </tr>\n",
       "    <tr>\n",
       "      <th>2</th>\n",
       "      <td>118</td>\n",
       "      <td>0.08</td>\n",
       "      <td>3.48</td>\n",
       "      <td>32.28</td>\n",
       "      <td>52</td>\n",
       "      <td>29.14</td>\n",
       "      <td>3.81</td>\n",
       "      <td>46</td>\n",
       "      <td>0</td>\n",
       "      <td>1</td>\n",
       "    </tr>\n",
       "    <tr>\n",
       "      <th>3</th>\n",
       "      <td>170</td>\n",
       "      <td>7.50</td>\n",
       "      <td>6.41</td>\n",
       "      <td>38.03</td>\n",
       "      <td>51</td>\n",
       "      <td>31.99</td>\n",
       "      <td>24.26</td>\n",
       "      <td>58</td>\n",
       "      <td>1</td>\n",
       "      <td>1</td>\n",
       "    </tr>\n",
       "    <tr>\n",
       "      <th>4</th>\n",
       "      <td>134</td>\n",
       "      <td>13.60</td>\n",
       "      <td>3.50</td>\n",
       "      <td>27.78</td>\n",
       "      <td>60</td>\n",
       "      <td>25.99</td>\n",
       "      <td>57.34</td>\n",
       "      <td>49</td>\n",
       "      <td>1</td>\n",
       "      <td>1</td>\n",
       "    </tr>\n",
       "  </tbody>\n",
       "</table>\n",
       "</div>"
      ],
      "text/plain": [
       "   sbp  tobacco   ldl  adiposity  typea  obesity  alcohol  age  chd  \\\n",
       "0  160    12.00  5.73      23.11     49    25.30    97.20   52    1   \n",
       "1  144     0.01  4.41      28.61     55    28.87     2.06   63    1   \n",
       "2  118     0.08  3.48      32.28     52    29.14     3.81   46    0   \n",
       "3  170     7.50  6.41      38.03     51    31.99    24.26   58    1   \n",
       "4  134    13.60  3.50      27.78     60    25.99    57.34   49    1   \n",
       "\n",
       "   famhist_present  \n",
       "0                1  \n",
       "1                0  \n",
       "2                1  \n",
       "3                1  \n",
       "4                1  "
      ]
     },
     "execution_count": 111,
     "metadata": {},
     "output_type": "execute_result"
    }
   ],
   "source": [
    "df = df_original.copy()\n",
    "df['famhist_present'] = pd.get_dummies(df['famhist'], drop_first=True)\n",
    "df = df.drop(columns='famhist')\n",
    "df.head()"
   ]
  },
  {
   "cell_type": "code",
   "execution_count": 112,
   "metadata": {
    "ExecuteTime": {
     "end_time": "2019-12-01T12:50:32.543317Z",
     "start_time": "2019-12-01T12:50:32.105617Z"
    },
    "scrolled": true
   },
   "outputs": [
    {
     "data": {
      "image/png": "[encoded data removed]",
      "text/plain": [
       "<Figure size 432x288 with 2 Axes>"
      ]
     },
     "metadata": {
      "needs_background": "light"
     },
     "output_type": "display_data"
    }
   ],
   "source": [
    "sns.heatmap(df.corr(), cmap='Blues', annot=True);"
   ]
  },
  {
   "cell_type": "code",
   "execution_count": 113,
   "metadata": {
    "ExecuteTime": {
     "end_time": "2019-12-01T12:50:36.583125Z",
     "start_time": "2019-12-01T12:50:34.686252Z"
    }
   },
   "outputs": [
    {
     "data": {
      "image/png": "[encoded data removed]",
      "text/plain": [
       "<Figure size 864x576 with 10 Axes>"
      ]
     },
     "metadata": {
      "needs_background": "light"
     },
     "output_type": "display_data"
    }
   ],
   "source": [
    "graphic_data(df)"
   ]
  },
  {
   "cell_type": "markdown",
   "metadata": {},
   "source": [
    "*Utilice smf.logit para estimar el modelo.* \n",
    "#### El método requiere que nuestra variable dependiente sea binaria (chd) .  Los regresores independientes pueden ser contínuos y/o categóricos"
   ]
  },
  {
   "cell_type": "code",
   "execution_count": 114,
   "metadata": {
    "ExecuteTime": {
     "end_time": "2019-12-01T12:50:38.879129Z",
     "start_time": "2019-12-01T12:50:38.845406Z"
    },
    "scrolled": true
   },
   "outputs": [
    {
     "name": "stdout",
     "output_type": "stream",
     "text": [
      "Optimization terminated successfully.\n",
      "         Current function value: 0.608111\n",
      "         Iterations 5\n"
     ]
    }
   ],
   "source": [
    "m1_logit = smf.logit('chd ~ famhist_present', df).fit()"
   ]
  },
  {
   "cell_type": "code",
   "execution_count": 115,
   "metadata": {
    "ExecuteTime": {
     "end_time": "2019-12-01T12:50:41.274118Z",
     "start_time": "2019-12-01T12:50:41.201829Z"
    }
   },
   "outputs": [
    {
     "name": "stdout",
     "output_type": "stream",
     "text": [
      "                         Results: Logit\n",
      "=================================================================\n",
      "Model:              Logit            Pseudo R-squared: 0.057     \n",
      "Dependent Variable: chd              AIC:              565.8944  \n",
      "Date:               2019-12-01 09:50 BIC:              574.1655  \n",
      "No. Observations:   462              Log-Likelihood:   -280.95   \n",
      "Df Model:           1                LL-Null:          -298.05   \n",
      "Df Residuals:       460              LLR p-value:      4.9371e-09\n",
      "Converged:          1.0000           Scale:            1.0000    \n",
      "No. Iterations:     5.0000                                       \n",
      "-----------------------------------------------------------------\n",
      "                   Coef.  Std.Err.    z    P>|z|   [0.025  0.975]\n",
      "-----------------------------------------------------------------\n",
      "Intercept         -1.1690   0.1431 -8.1687 0.0000 -1.4495 -0.8885\n",
      "famhist_present    1.1690   0.2033  5.7514 0.0000  0.7706  1.5674\n",
      "=================================================================\n",
      "\n"
     ]
    }
   ],
   "source": [
    "#  los parámetros estimados mediante la regresión logística se conocen log-odds, \n",
    "#  que representan el logaritmo de la chance de ocurrencia de un evento en específico\n",
    "print(m1_logit.summary2())"
   ]
  },
  {
   "cell_type": "markdown",
   "metadata": {},
   "source": [
    "*Implemente una función inverse_logit que realize el mapeo de log-odds a probabilidad.*"
   ]
  },
  {
   "cell_type": "code",
   "execution_count": 116,
   "metadata": {
    "ExecuteTime": {
     "end_time": "2019-12-01T12:50:43.665197Z",
     "start_time": "2019-12-01T12:50:43.661507Z"
    }
   },
   "outputs": [],
   "source": [
    "def inverse_logit(x):\n",
    "    return 1 / (1+np.exp(-x))"
   ]
  },
  {
   "cell_type": "markdown",
   "metadata": {},
   "source": [
    " * ¿Cuál es la probabilidad de un individuo con antecedentes familiares de tener una enfermedad coronaria?"
   ]
  },
  {
   "cell_type": "code",
   "execution_count": 117,
   "metadata": {
    "ExecuteTime": {
     "end_time": "2019-12-01T12:50:45.730482Z",
     "start_time": "2019-12-01T12:50:45.722229Z"
    }
   },
   "outputs": [
    {
     "name": "stdout",
     "output_type": "stream",
     "text": [
      "La probabilidad de un individuo con antecedentes familiares de tener una enfermedad coronaria es: 0.5\n"
     ]
    }
   ],
   "source": [
    "estimate_con_enfermedad_coronaria = m1_logit.params['Intercept'] + (m1_logit.params['famhist_present'])\n",
    "estimate_con_enfermedad_coronaria = round(inverse_logit(estimate_con_enfermedad_coronaria), 2)\n",
    "print(\"La probabilidad de un individuo con antecedentes familiares de tener una enfermedad coronaria es:\",\n",
    "      estimate_con_enfermedad_coronaria)"
   ]
  },
  {
   "cell_type": "markdown",
   "metadata": {},
   "source": [
    "* ¿Cuál es la probabilidad de un individuo sin antecedentes familiares de tener una enfermedad coronaria?"
   ]
  },
  {
   "cell_type": "code",
   "execution_count": 118,
   "metadata": {
    "ExecuteTime": {
     "end_time": "2019-12-01T12:50:47.775732Z",
     "start_time": "2019-12-01T12:50:47.762210Z"
    }
   },
   "outputs": [
    {
     "name": "stdout",
     "output_type": "stream",
     "text": [
      "La probabilidad de un individuo sin antecedentes familiares de tener una enfermedad coronaria es: 0.237\n"
     ]
    }
   ],
   "source": [
    "estimate_sin_enfermedad_coronaria = m1_logit.params['Intercept']\n",
    "estimate_sin_enfermedad_coronaria = round(inverse_logit(estimate_sin_enfermedad_coronaria), 3)\n",
    "print(\"La probabilidad de un individuo sin antecedentes familiares de tener una enfermedad coronaria es:\",\n",
    "      estimate_sin_enfermedad_coronaria)"
   ]
  },
  {
   "cell_type": "markdown",
   "metadata": {},
   "source": [
    "* ¿Cuál es la diferencia en la probabilidad entre un individuo con antecedentes y otro sin antecedentes?"
   ]
  },
  {
   "cell_type": "code",
   "execution_count": 119,
   "metadata": {
    "ExecuteTime": {
     "end_time": "2019-12-01T12:50:49.937538Z",
     "start_time": "2019-12-01T12:50:49.922474Z"
    }
   },
   "outputs": [
    {
     "name": "stdout",
     "output_type": "stream",
     "text": [
      "La diferencia en la probabilidad entre un individuo con antecedentes y otro sin antecedentes es de: \n"
     ]
    },
    {
     "data": {
      "text/plain": [
       "0.263"
      ]
     },
     "execution_count": 119,
     "metadata": {},
     "output_type": "execute_result"
    }
   ],
   "source": [
    "print(\"La diferencia en la probabilidad entre un individuo con antecedentes y otro sin antecedentes es de: \")\n",
    "round(abs(estimate_con_enfermedad_coronaria - estimate_sin_enfermedad_coronaria), 3)"
   ]
  },
  {
   "cell_type": "markdown",
   "metadata": {},
   "source": [
    "#### Realizando la verificación de las operaciones"
   ]
  },
  {
   "cell_type": "code",
   "execution_count": 120,
   "metadata": {
    "ExecuteTime": {
     "end_time": "2019-12-01T12:50:52.164879Z",
     "start_time": "2019-12-01T12:50:52.139034Z"
    }
   },
   "outputs": [
    {
     "data": {
      "text/plain": [
       "0    0.762963\n",
       "1    0.237037\n",
       "Name: chd, dtype: float64"
      ]
     },
     "execution_count": 120,
     "metadata": {},
     "output_type": "execute_result"
    }
   ],
   "source": [
    "df_sin_famhist = df[df['famhist_present'] == 0]\n",
    "df_sin_famhist['chd'].value_counts('%')"
   ]
  },
  {
   "cell_type": "code",
   "execution_count": 121,
   "metadata": {
    "ExecuteTime": {
     "end_time": "2019-12-01T12:50:54.446911Z",
     "start_time": "2019-12-01T12:50:54.421984Z"
    }
   },
   "outputs": [
    {
     "data": {
      "text/plain": [
       "1    0.5\n",
       "0    0.5\n",
       "Name: chd, dtype: float64"
      ]
     },
     "execution_count": 121,
     "metadata": {},
     "output_type": "execute_result"
    }
   ],
   "source": [
    "df_con_famhist = df[df['famhist_present'] == 1]\n",
    "df_con_famhist['chd'].value_counts('%')"
   ]
  },
  {
   "cell_type": "markdown",
   "metadata": {},
   "source": [
    "    * Replique el modelo con smf.ols y comente las similitudes entre los coeficientes estimados."
   ]
  },
  {
   "cell_type": "code",
   "execution_count": 122,
   "metadata": {
    "ExecuteTime": {
     "end_time": "2019-12-01T12:50:56.633242Z",
     "start_time": "2019-12-01T12:50:56.592819Z"
    }
   },
   "outputs": [
    {
     "data": {
      "text/plain": [
       "0.263"
      ]
     },
     "execution_count": 122,
     "metadata": {},
     "output_type": "execute_result"
    }
   ],
   "source": [
    "# modelo de probabilidad lineal\n",
    "m1_ols = smf.ols(\"chd ~ famhist_present\", df).fit()\n",
    "m1_ols.params['famhist_present'].round(3)"
   ]
  },
  {
   "cell_type": "code",
   "execution_count": 123,
   "metadata": {
    "ExecuteTime": {
     "end_time": "2019-12-01T12:50:58.841334Z",
     "start_time": "2019-12-01T12:50:58.797104Z"
    }
   },
   "outputs": [
    {
     "name": "stdout",
     "output_type": "stream",
     "text": [
      "                 Results: Ordinary least squares\n",
      "=================================================================\n",
      "Model:              OLS              Adj. R-squared:     0.072   \n",
      "Dependent Variable: chd              AIC:                593.1725\n",
      "Date:               2019-12-01 09:50 BIC:                601.4437\n",
      "No. Observations:   462              Log-Likelihood:     -294.59 \n",
      "Df Model:           1                F-statistic:        36.86   \n",
      "Df Residuals:       460              Prob (F-statistic): 2.66e-09\n",
      "R-squared:          0.074            Scale:              0.21050 \n",
      "------------------------------------------------------------------\n",
      "                  Coef.   Std.Err.    t     P>|t|   [0.025  0.975]\n",
      "------------------------------------------------------------------\n",
      "Intercept         0.2370    0.0279  8.4893  0.0000  0.1822  0.2919\n",
      "famhist_present   0.2630    0.0433  6.0713  0.0000  0.1778  0.3481\n",
      "-----------------------------------------------------------------\n",
      "Omnibus:             768.898       Durbin-Watson:          1.961 \n",
      "Prob(Omnibus):       0.000         Jarque-Bera (JB):       58.778\n",
      "Skew:                0.579         Prob(JB):               0.000 \n",
      "Kurtosis:            1.692         Condition No.:          2     \n",
      "=================================================================\n",
      "\n"
     ]
    }
   ],
   "source": [
    "print(m1_ols.summary2())"
   ]
  },
  {
   "cell_type": "code",
   "execution_count": 124,
   "metadata": {
    "ExecuteTime": {
     "end_time": "2019-12-01T12:51:01.064500Z",
     "start_time": "2019-12-01T12:51:01.043684Z"
    }
   },
   "outputs": [
    {
     "data": {
      "text/plain": [
       "1.169"
      ]
     },
     "execution_count": 124,
     "metadata": {},
     "output_type": "execute_result"
    }
   ],
   "source": [
    "# Comparación con Logit\n",
    "m1_logit.params['famhist_present'].round(3)"
   ]
  },
  {
   "cell_type": "code",
   "execution_count": 125,
   "metadata": {
    "ExecuteTime": {
     "end_time": "2019-12-01T12:51:03.590842Z",
     "start_time": "2019-12-01T12:51:03.534554Z"
    }
   },
   "outputs": [
    {
     "name": "stdout",
     "output_type": "stream",
     "text": [
      "                         Results: Logit\n",
      "=================================================================\n",
      "Model:              Logit            Pseudo R-squared: 0.057     \n",
      "Dependent Variable: chd              AIC:              565.8944  \n",
      "Date:               2019-12-01 09:51 BIC:              574.1655  \n",
      "No. Observations:   462              Log-Likelihood:   -280.95   \n",
      "Df Model:           1                LL-Null:          -298.05   \n",
      "Df Residuals:       460              LLR p-value:      4.9371e-09\n",
      "Converged:          1.0000           Scale:            1.0000    \n",
      "No. Iterations:     5.0000                                       \n",
      "-----------------------------------------------------------------\n",
      "                   Coef.  Std.Err.    z    P>|z|   [0.025  0.975]\n",
      "-----------------------------------------------------------------\n",
      "Intercept         -1.1690   0.1431 -8.1687 0.0000 -1.4495 -0.8885\n",
      "famhist_present    1.1690   0.2033  5.7514 0.0000  0.7706  1.5674\n",
      "=================================================================\n",
      "\n"
     ]
    }
   ],
   "source": [
    "print(m1_logit.summary2())"
   ]
  },
  {
   "cell_type": "markdown",
   "metadata": {},
   "source": [
    "*tip: Utilice* $\\frac{\\beta}{4}$, note que puede calcular lo mismo filtrando info en el dataframe inicial.\n"
   ]
  },
  {
   "cell_type": "code",
   "execution_count": 126,
   "metadata": {
    "ExecuteTime": {
     "end_time": "2019-12-01T12:51:09.847895Z",
     "start_time": "2019-12-01T12:51:09.841217Z"
    }
   },
   "outputs": [
    {
     "data": {
      "text/plain": [
       "0.29225"
      ]
     },
     "execution_count": 126,
     "metadata": {},
     "output_type": "execute_result"
    }
   ],
   "source": [
    "# para m1_logit\n",
    "- (- 1.1690) / 4 "
   ]
  },
  {
   "cell_type": "code",
   "execution_count": 127,
   "metadata": {
    "ExecuteTime": {
     "end_time": "2019-12-01T12:51:11.706068Z",
     "start_time": "2019-12-01T12:51:11.698888Z"
    }
   },
   "outputs": [
    {
     "name": "stdout",
     "output_type": "stream",
     "text": [
      "0.263\n"
     ]
    }
   ],
   "source": [
    "# para m1_ols\n",
    "print(0.2630)"
   ]
  },
  {
   "cell_type": "code",
   "execution_count": 128,
   "metadata": {
    "ExecuteTime": {
     "end_time": "2019-12-01T12:51:13.537957Z",
     "start_time": "2019-12-01T12:51:13.525550Z"
    }
   },
   "outputs": [
    {
     "name": "stdout",
     "output_type": "stream",
     "text": [
      "Se observa que es una aproximación cercana y razonable del coeficiente estimado en nuestro modelo LPM\n"
     ]
    }
   ],
   "source": [
    "print('Se observa que es una aproximación cercana y razonable del coeficiente estimado en nuestro modelo LPM')"
   ]
  },
  {
   "cell_type": "markdown",
   "metadata": {},
   "source": [
    "### Desafío 3: Estimación completa\n",
    "\n",
    "Implemente un modelo con la siguiente forma\n",
    "\n",
    "$$\\log\\left(\\frac{\\mathbb{P}(chd = 1)}{1-\\mathbb{P}(chd = 1)}\\right) = \\beta_0+\\sum_{j=1}^{N}\\beta_j*X$$\n",
    "\n",
    "* Depure el modelo manteniendo las variables con significancia estadística al 95%.\n",
    "* Compare los estadísticos de bondad de ajuste entre ambos (Utilice el BIC para comparar modelos).\n",
    "* Reporte de forma sucinta el efecto de las variables en el log-odds de tener una enfermedad coronaria."
   ]
  },
  {
   "cell_type": "code",
   "execution_count": 129,
   "metadata": {
    "ExecuteTime": {
     "end_time": "2019-12-01T12:51:15.719329Z",
     "start_time": "2019-12-01T12:51:15.626171Z"
    }
   },
   "outputs": [
    {
     "name": "stdout",
     "output_type": "stream",
     "text": [
      "Optimization terminated successfully.\n",
      "         Current function value: 0.510974\n",
      "         Iterations 6\n"
     ]
    }
   ],
   "source": [
    "columnas = filter(lambda column: column != 'chd', [x for x in df.columns])\n",
    "y = 'chd'\n",
    "logit_completo = smf.logit('{} ~ {}'.format(y, ' + '.join(columnas)), df).fit()"
   ]
  },
  {
   "cell_type": "code",
   "execution_count": 130,
   "metadata": {
    "ExecuteTime": {
     "end_time": "2019-12-01T12:51:18.162258Z",
     "start_time": "2019-12-01T12:51:18.095667Z"
    },
    "scrolled": true
   },
   "outputs": [
    {
     "name": "stdout",
     "output_type": "stream",
     "text": [
      "                         Results: Logit\n",
      "=================================================================\n",
      "Model:              Logit            Pseudo R-squared: 0.208     \n",
      "Dependent Variable: chd              AIC:              492.1400  \n",
      "Date:               2019-12-01 09:51 BIC:              533.4957  \n",
      "No. Observations:   462              Log-Likelihood:   -236.07   \n",
      "Df Model:           9                LL-Null:          -298.05   \n",
      "Df Residuals:       452              LLR p-value:      2.0548e-22\n",
      "Converged:          1.0000           Scale:            1.0000    \n",
      "No. Iterations:     6.0000                                       \n",
      "-----------------------------------------------------------------\n",
      "                   Coef.  Std.Err.    z    P>|z|   [0.025  0.975]\n",
      "-----------------------------------------------------------------\n",
      "Intercept         -6.1507   1.3083 -4.7015 0.0000 -8.7149 -3.5866\n",
      "sbp                0.0065   0.0057  1.1350 0.2564 -0.0047  0.0177\n",
      "tobacco            0.0794   0.0266  2.9838 0.0028  0.0272  0.1315\n",
      "ldl                0.1739   0.0597  2.9152 0.0036  0.0570  0.2909\n",
      "adiposity          0.0186   0.0293  0.6346 0.5257 -0.0388  0.0760\n",
      "typea              0.0396   0.0123  3.2138 0.0013  0.0154  0.0637\n",
      "obesity           -0.0629   0.0442 -1.4218 0.1551 -0.1496  0.0238\n",
      "alcohol            0.0001   0.0045  0.0271 0.9784 -0.0087  0.0089\n",
      "age                0.0452   0.0121  3.7285 0.0002  0.0215  0.0690\n",
      "famhist_present    0.9254   0.2279  4.0605 0.0000  0.4787  1.3720\n",
      "=================================================================\n",
      "\n"
     ]
    }
   ],
   "source": [
    "print(logit_completo.summary2()) "
   ]
  },
  {
   "cell_type": "code",
   "execution_count": 131,
   "metadata": {
    "ExecuteTime": {
     "end_time": "2019-12-01T12:51:22.177896Z",
     "start_time": "2019-12-01T12:51:22.156817Z"
    }
   },
   "outputs": [
    {
     "data": {
      "text/plain": [
       "Intercept          False\n",
       "sbp                 True\n",
       "tobacco            False\n",
       "ldl                False\n",
       "adiposity           True\n",
       "typea              False\n",
       "obesity             True\n",
       "alcohol             True\n",
       "age                False\n",
       "famhist_present    False\n",
       "dtype: bool"
      ]
     },
     "execution_count": 131,
     "metadata": {},
     "output_type": "execute_result"
    }
   ],
   "source": [
    "# Valores que NO cumplen con el p-value en 95%\n",
    "logit_completo.pvalues > 0.05"
   ]
  },
  {
   "cell_type": "code",
   "execution_count": 93,
   "metadata": {
    "ExecuteTime": {
     "end_time": "2019-11-29T23:00:14.593901Z",
     "start_time": "2019-11-29T23:00:14.542354Z"
    }
   },
   "outputs": [
    {
     "name": "stdout",
     "output_type": "stream",
     "text": [
      "Optimization terminated successfully.\n",
      "         Current function value: 0.514811\n",
      "         Iterations 6\n"
     ]
    }
   ],
   "source": [
    "logit_reducido = smf.logit(\"chd ~ tobacco + ldl + typea + age + famhist_present\", df).fit()"
   ]
  },
  {
   "cell_type": "code",
   "execution_count": 132,
   "metadata": {
    "ExecuteTime": {
     "end_time": "2019-12-01T12:51:39.525463Z",
     "start_time": "2019-12-01T12:51:39.491209Z"
    }
   },
   "outputs": [
    {
     "name": "stdout",
     "output_type": "stream",
     "text": [
      "                         Results: Logit\n",
      "=================================================================\n",
      "Model:              Logit            Pseudo R-squared: 0.202     \n",
      "Dependent Variable: chd              AIC:              487.6856  \n",
      "Date:               2019-12-01 09:51 BIC:              512.4990  \n",
      "No. Observations:   462              Log-Likelihood:   -237.84   \n",
      "Df Model:           5                LL-Null:          -298.05   \n",
      "Df Residuals:       456              LLR p-value:      2.5537e-24\n",
      "Converged:          1.0000           Scale:            1.0000    \n",
      "No. Iterations:     6.0000                                       \n",
      "-----------------------------------------------------------------\n",
      "                   Coef.  Std.Err.    z    P>|z|   [0.025  0.975]\n",
      "-----------------------------------------------------------------\n",
      "Intercept         -6.4464   0.9209 -7.0004 0.0000 -8.2513 -4.6416\n",
      "tobacco            0.0804   0.0259  3.1057 0.0019  0.0297  0.1311\n",
      "ldl                0.1620   0.0550  2.9470 0.0032  0.0543  0.2697\n",
      "typea              0.0371   0.0122  3.0505 0.0023  0.0133  0.0610\n",
      "age                0.0505   0.0102  4.9442 0.0000  0.0305  0.0705\n",
      "famhist_present    0.9082   0.2258  4.0228 0.0001  0.4657  1.3507\n",
      "=================================================================\n",
      "\n"
     ]
    }
   ],
   "source": [
    "print(logit_reducido.summary2()) "
   ]
  },
  {
   "cell_type": "markdown",
   "metadata": {},
   "source": [
    "* Compare los estadísticos de bondad de ajuste entre ambos."
   ]
  },
  {
   "cell_type": "markdown",
   "metadata": {
    "ExecuteTime": {
     "end_time": "2019-11-26T23:40:21.888236Z",
     "start_time": "2019-11-26T23:40:21.876670Z"
    }
   },
   "source": [
    "Nota personal:\n",
    "\n",
    "BIC nos permite comparar ambos modelos  bayesian_information_criterion (wiki)\n",
    "Se realiza la comparación entre todas las variables y el reducido\n",
    "Ejemplo\n",
    "Modelo 1: BIC - 307\n",
    "Modelo 2: BIC - 298\n",
    "debo elegir el de menor BIC, en este caso 298\n",
    "la diferencia de que ese modelo es mejor que el otro es de 7 por tanto la evidencia es fuerte \n",
    "\n",
    "  ![alt text](bic.png)\n",
    "\n"
   ]
  },
  {
   "cell_type": "code",
   "execution_count": 133,
   "metadata": {
    "ExecuteTime": {
     "end_time": "2019-12-01T12:51:42.017552Z",
     "start_time": "2019-12-01T12:51:42.011559Z"
    }
   },
   "outputs": [
    {
     "name": "stdout",
     "output_type": "stream",
     "text": [
      "533.4957\n"
     ]
    }
   ],
   "source": [
    "# BIC en logit general\n",
    "BIC_completo = logit_completo.summary2().tables[0][3][2].replace(\"'\", \"\")\n",
    "print(BIC_completo)"
   ]
  },
  {
   "cell_type": "code",
   "execution_count": 134,
   "metadata": {
    "ExecuteTime": {
     "end_time": "2019-12-01T12:51:43.747704Z",
     "start_time": "2019-12-01T12:51:43.729600Z"
    }
   },
   "outputs": [
    {
     "name": "stdout",
     "output_type": "stream",
     "text": [
      "512.4990\n"
     ]
    }
   ],
   "source": [
    "# BIC en logit reducido\n",
    "BIC_reducido = logit_reducido.summary2().tables[0][3][2]\n",
    "print(BIC_reducido)"
   ]
  },
  {
   "cell_type": "code",
   "execution_count": 135,
   "metadata": {
    "ExecuteTime": {
     "end_time": "2019-12-01T12:51:45.972497Z",
     "start_time": "2019-12-01T12:51:45.962080Z"
    }
   },
   "outputs": [
    {
     "name": "stdout",
     "output_type": "stream",
     "text": [
      "A simple vista se observa que la diferencia entre ambos BIC supera el valor de 10, por tanto podemos asegurar que el BIC proveniente del modelo depurado es muy fuerte\n"
     ]
    }
   ],
   "source": [
    "print('A simple vista se observa que la diferencia entre ambos BIC supera el valor de 10, por tanto podemos asegurar que el BIC proveniente del modelo depurado es muy fuerte')"
   ]
  },
  {
   "cell_type": "markdown",
   "metadata": {
    "ExecuteTime": {
     "end_time": "2019-11-26T03:51:35.092992Z",
     "start_time": "2019-11-26T03:51:35.079871Z"
    }
   },
   "source": [
    "* Reporte de forma sucinta el efecto de las variables en el log-odds de tener una enfermedad coronaria."
   ]
  },
  {
   "cell_type": "markdown",
   "metadata": {},
   "source": [
    "Dentro de los coeficientes del modelo reducido podemos establecer que cada uno de ellos influyen positivamente sobre la variable dependiente. Se convierten en factores que de una u otra manera influenciarán en el desarrollo de una enfermedad coronaria."
   ]
  },
  {
   "cell_type": "markdown",
   "metadata": {},
   "source": [
    "### Desafío 4: Estimación de perfiles\n",
    "A partir del modelo depurado, genere las estimaciones en log-odds y posteriormente transfórmelas\n",
    "a probabilidades con `inverse_logit`. Los perfiles a estimar son los siguientes:\n",
    "* La probabilidad de tener una enfermedad coronaria para un individuo con características similares a la muestra.\n",
    "* La probabilidad de tener una enfemerdad coronaria para un individuo con altos niveles de lipoproteína de baja densidad, **manteniendo todas las demás características constantes**.\n",
    "* La probabilidad de tener una enfemerdad coronaria para un individuo con bajos niveles de lipoproteína de baja densidad, **manteniendo todas las demás características constantes**.\n",
    "\n",
    "**tip:** Utilice el promedio, el máximo y el mínimo de las variables para las probabilidades."
   ]
  },
  {
   "cell_type": "code",
   "execution_count": 136,
   "metadata": {
    "ExecuteTime": {
     "end_time": "2019-12-01T12:51:48.505364Z",
     "start_time": "2019-12-01T12:51:48.488035Z"
    }
   },
   "outputs": [
    {
     "data": {
      "text/plain": [
       "Intercept         -6.446445\n",
       "tobacco            0.080375\n",
       "ldl                0.161992\n",
       "typea              0.037115\n",
       "age                0.050460\n",
       "famhist_present    0.908175\n",
       "dtype: float64"
      ]
     },
     "execution_count": 136,
     "metadata": {},
     "output_type": "execute_result"
    }
   ],
   "source": [
    "logit_reducido.params"
   ]
  },
  {
   "cell_type": "code",
   "execution_count": 137,
   "metadata": {
    "ExecuteTime": {
     "end_time": "2019-12-01T12:51:50.576733Z",
     "start_time": "2019-12-01T12:51:50.554013Z"
    }
   },
   "outputs": [
    {
     "name": "stdout",
     "output_type": "stream",
     "text": [
      "Probabilidad de Individuo con características similares caso Log-odds: 29.371\n"
     ]
    }
   ],
   "source": [
    "# Caracteristicas similares a la muestra\n",
    "coef = logit_reducido.params['Intercept']\n",
    "for col in ['tobacco','ldl','typea','age','famhist_present']:\n",
    "    coef += logit_reducido.params[col] * df[col].mean()\n",
    "    \n",
    "print (\"Probabilidad de Individuo con características similares caso Log-odds: {0:.3f}\".format(inverse_logit(coef)  * 100))"
   ]
  },
  {
   "cell_type": "code",
   "execution_count": 138,
   "metadata": {
    "ExecuteTime": {
     "end_time": "2019-12-01T12:51:52.605021Z",
     "start_time": "2019-12-01T12:51:52.595258Z"
    }
   },
   "outputs": [
    {
     "name": "stdout",
     "output_type": "stream",
     "text": [
      "Probabilidad para individuo con bajos niveles de lipoproteína caso Log-odds: 18.444\n"
     ]
    }
   ],
   "source": [
    "# Lipoproteina con bajos niveles\n",
    "coef = logit_reducido.params['Intercept']\n",
    "for col in ['tobacco','ldl','typea','age','famhist_present']:\n",
    "    if col == 'ldl':\n",
    "        coef += logit_reducido.params[col] * df[col].min()\n",
    "    else:\n",
    "        coef += logit_reducido.params[col] * df[col].mean()\n",
    "    \n",
    "print (\"Probabilidad para individuo con bajos niveles de lipoproteína caso Log-odds: {0:.3f}\".format(inverse_logit(coef)  * 100))"
   ]
  },
  {
   "cell_type": "code",
   "execution_count": 139,
   "metadata": {
    "ExecuteTime": {
     "end_time": "2019-12-01T12:51:54.173954Z",
     "start_time": "2019-12-01T12:51:54.164536Z"
    }
   },
   "outputs": [
    {
     "name": "stdout",
     "output_type": "stream",
     "text": [
      "Probabilidad para individuo con altos niveles de lipoproteína caso Log-odds: 69.804\n"
     ]
    }
   ],
   "source": [
    "# Lipoproteina con altos niveles\n",
    "coef = logit_reducido.params['Intercept']\n",
    "for col in ['tobacco','ldl','typea','age','famhist_present']:\n",
    "    if col == 'ldl':\n",
    "        coef += logit_reducido.params[col] * df[col].max()\n",
    "    else:\n",
    "        coef += logit_reducido.params[col] * df[col].mean()\n",
    "    \n",
    "print (\"Probabilidad para individuo con altos niveles de lipoproteína caso Log-odds: {0:.3f}\".format(inverse_logit(coef)  * 100))"
   ]
  }
 ],
 "metadata": {
  "kernelspec": {
   "display_name": "Python 3",
   "language": "python",
   "name": "python3"
  },
  "language_info": {
   "codemirror_mode": {
    "name": "ipython",
    "version": 3
   },
   "file_extension": ".py",
   "mimetype": "text/x-python",
   "name": "python",
   "nbconvert_exporter": "python",
   "pygments_lexer": "ipython3",
   "version": "3.7.3"
  },
  "varInspector": {
   "cols": {
    "lenName": 16,
    "lenType": 16,
    "lenVar": 40
   },
   "kernels_config": {
    "python": {
     "delete_cmd_postfix": "",
     "delete_cmd_prefix": "del ",
     "library": "var_list.py",
     "varRefreshCmd": "print(var_dic_list())"
    },
    "r": {
     "delete_cmd_postfix": ") ",
     "delete_cmd_prefix": "rm(",
     "library": "var_list.r",
     "varRefreshCmd": "cat(var_dic_list()) "
    }
   },
   "types_to_exclude": [
    "module",
    "function",
    "builtin_function_or_method",
    "instance",
    "_Feature"
   ],
   "window_display": false
  }
 },
 "nbformat": 4,
 "nbformat_minor": 2
}
