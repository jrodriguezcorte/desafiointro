{
 "cells": [
  {
   "cell_type": "markdown",
   "metadata": {},
   "source": [
    "_Elaborado por: Jonathan Rodriguez_\n",
    "\n",
    "\n",
    "# Desafío 1\n",
    "\n",
    "**Generar un par de arrays ficticios con numpy**\n",
    "\n",
    "_tip: utilice la función linspace para generar un array entre 1 y 50, y un array entre 50 y 150._"
   ]
  },
  {
   "cell_type": "code",
   "execution_count": 15,
   "metadata": {
    "ExecuteTime": {
     "end_time": "2019-10-10T03:58:46.930210Z",
     "start_time": "2019-10-10T03:58:46.921109Z"
    }
   },
   "outputs": [
    {
     "name": "stdout",
     "output_type": "stream",
     "text": [
      "Arreglo uno:\n",
      "[ 1.  2.  3.  4.  5.  6.  7.  8.  9. 10. 11. 12. 13. 14. 15. 16. 17. 18.\n",
      " 19. 20. 21. 22. 23. 24. 25. 26. 27. 28. 29. 30. 31. 32. 33. 34. 35. 36.\n",
      " 37. 38. 39. 40. 41. 42. 43. 44. 45. 46. 47. 48. 49. 50.]\n",
      "Arreglo dos:\n",
      "[ 50.          52.04081633  54.08163265  56.12244898  58.16326531\n",
      "  60.20408163  62.24489796  64.28571429  66.32653061  68.36734694\n",
      "  70.40816327  72.44897959  74.48979592  76.53061224  78.57142857\n",
      "  80.6122449   82.65306122  84.69387755  86.73469388  88.7755102\n",
      "  90.81632653  92.85714286  94.89795918  96.93877551  98.97959184\n",
      " 101.02040816 103.06122449 105.10204082 107.14285714 109.18367347\n",
      " 111.2244898  113.26530612 115.30612245 117.34693878 119.3877551\n",
      " 121.42857143 123.46938776 125.51020408 127.55102041 129.59183673\n",
      " 131.63265306 133.67346939 135.71428571 137.75510204 139.79591837\n",
      " 141.83673469 143.87755102 145.91836735 147.95918367 150.        ]\n"
     ]
    }
   ],
   "source": [
    "import pandas as pd\n",
    "import numpy as np\n",
    "\n",
    "arreglo_uno = np.linspace(1, 50)\n",
    "arreglo_dos = np.linspace(50, 150)\n",
    "print('Arreglo uno:')\n",
    "print(arreglo_uno)\n",
    "print('Arreglo dos:')\n",
    "print(arreglo_dos)"
   ]
  },
  {
   "cell_type": "markdown",
   "metadata": {},
   "source": [
    "# Desafío 2\n",
    "\n",
    "**Ejecute un loop que devuelva si el número en el primer array es par o impar**\n",
    "\n",
    "_tip: utilice la función módulo para encontrar si el número es divisible por 2._"
   ]
  },
  {
   "cell_type": "code",
   "execution_count": 17,
   "metadata": {
    "ExecuteTime": {
     "end_time": "2019-10-10T04:00:04.784962Z",
     "start_time": "2019-10-10T04:00:04.739068Z"
    }
   },
   "outputs": [
    {
     "name": "stdout",
     "output_type": "stream",
     "text": [
      "El número 1 es IMPAR\n",
      "El número 2 es PAR\n",
      "El número 3 es IMPAR\n",
      "El número 4 es PAR\n",
      "El número 5 es IMPAR\n",
      "El número 6 es PAR\n",
      "El número 7 es IMPAR\n",
      "El número 8 es PAR\n",
      "El número 9 es IMPAR\n",
      "El número 10 es PAR\n",
      "El número 11 es IMPAR\n",
      "El número 12 es PAR\n",
      "El número 13 es IMPAR\n",
      "El número 14 es PAR\n",
      "El número 15 es IMPAR\n",
      "El número 16 es PAR\n",
      "El número 17 es IMPAR\n",
      "El número 18 es PAR\n",
      "El número 19 es IMPAR\n",
      "El número 20 es PAR\n",
      "El número 21 es IMPAR\n",
      "El número 22 es PAR\n",
      "El número 23 es IMPAR\n",
      "El número 24 es PAR\n",
      "El número 25 es IMPAR\n",
      "El número 26 es PAR\n",
      "El número 27 es IMPAR\n",
      "El número 28 es PAR\n",
      "El número 29 es IMPAR\n",
      "El número 30 es PAR\n",
      "El número 31 es IMPAR\n",
      "El número 32 es PAR\n",
      "El número 33 es IMPAR\n",
      "El número 34 es PAR\n",
      "El número 35 es IMPAR\n",
      "El número 36 es PAR\n",
      "El número 37 es IMPAR\n",
      "El número 38 es PAR\n",
      "El número 39 es IMPAR\n",
      "El número 40 es PAR\n",
      "El número 41 es IMPAR\n",
      "El número 42 es PAR\n",
      "El número 43 es IMPAR\n",
      "El número 44 es PAR\n",
      "El número 45 es IMPAR\n",
      "El número 46 es PAR\n",
      "El número 47 es IMPAR\n",
      "El número 48 es PAR\n",
      "El número 49 es IMPAR\n",
      "El número 50 es PAR\n"
     ]
    }
   ],
   "source": [
    "len_arreglo_uno = len(arreglo_uno)\n",
    "\n",
    "for i in range(len_arreglo_uno):\n",
    "    elemento = arreglo_uno[i]\n",
    "    if  elemento%2 == 0:\n",
    "        print('El número {} es PAR'.format(int(elemento)))\n",
    "    else: \n",
    "        print('El número {} es IMPAR'.format(int(elemento)))"
   ]
  },
  {
   "cell_type": "markdown",
   "metadata": {},
   "source": [
    "# Desafío 3\n",
    "\n",
    "**Genere un loop con el segundo array que cuente las siguientes condiciones**\n",
    "\n",
    "    * Si el número es divisible por 2 o 3\n",
    "    * Si el número es divisible por 2 y 3\n",
    "    * Si el número es divisible por 3 pero no por 2\n",
    "    * Si el número no es divisible por 2 ni 3"
   ]
  },
  {
   "cell_type": "code",
   "execution_count": 18,
   "metadata": {
    "ExecuteTime": {
     "end_time": "2019-10-10T04:00:11.265360Z",
     "start_time": "2019-10-10T04:00:11.222661Z"
    }
   },
   "outputs": [
    {
     "name": "stdout",
     "output_type": "stream",
     "text": [
      "Numero divisible por dos O tres 50.0\n",
      "Numero NO divisible por dos y tres 52.04081632653061\n",
      "Numero NO divisible por dos y tres 54.08163265306123\n",
      "Numero NO divisible por dos y tres 56.12244897959184\n",
      "Numero NO divisible por dos y tres 58.16326530612245\n",
      "Numero NO divisible por dos y tres 60.20408163265306\n",
      "Numero NO divisible por dos y tres 62.244897959183675\n",
      "Numero NO divisible por dos y tres 64.28571428571429\n",
      "Numero NO divisible por dos y tres 66.3265306122449\n",
      "Numero NO divisible por dos y tres 68.36734693877551\n",
      "Numero NO divisible por dos y tres 70.40816326530611\n",
      "Numero NO divisible por dos y tres 72.44897959183673\n",
      "Numero NO divisible por dos y tres 74.48979591836735\n",
      "Numero NO divisible por dos y tres 76.53061224489795\n",
      "Numero NO divisible por dos y tres 78.57142857142857\n",
      "Numero NO divisible por dos y tres 80.61224489795919\n",
      "Numero NO divisible por dos y tres 82.65306122448979\n",
      "Numero NO divisible por dos y tres 84.6938775510204\n",
      "Numero NO divisible por dos y tres 86.73469387755102\n",
      "Numero NO divisible por dos y tres 88.77551020408163\n",
      "Numero NO divisible por dos y tres 90.81632653061224\n",
      "Numero NO divisible por dos y tres 92.85714285714286\n",
      "Numero NO divisible por dos y tres 94.89795918367346\n",
      "Numero NO divisible por dos y tres 96.93877551020408\n",
      "Numero NO divisible por dos y tres 98.9795918367347\n",
      "Numero NO divisible por dos y tres 101.0204081632653\n",
      "Numero NO divisible por dos y tres 103.06122448979592\n",
      "Numero NO divisible por dos y tres 105.10204081632654\n",
      "Numero NO divisible por dos y tres 107.14285714285714\n",
      "Numero NO divisible por dos y tres 109.18367346938776\n",
      "Numero NO divisible por dos y tres 111.22448979591837\n",
      "Numero NO divisible por dos y tres 113.26530612244898\n",
      "Numero NO divisible por dos y tres 115.3061224489796\n",
      "Numero NO divisible por dos y tres 117.34693877551021\n",
      "Numero NO divisible por dos y tres 119.38775510204081\n",
      "Numero NO divisible por dos y tres 121.42857142857143\n",
      "Numero NO divisible por dos y tres 123.46938775510205\n",
      "Numero NO divisible por dos y tres 125.51020408163265\n",
      "Numero NO divisible por dos y tres 127.55102040816327\n",
      "Numero NO divisible por dos y tres 129.59183673469389\n",
      "Numero NO divisible por dos y tres 131.6326530612245\n",
      "Numero NO divisible por dos y tres 133.67346938775512\n",
      "Numero NO divisible por dos y tres 135.71428571428572\n",
      "Numero NO divisible por dos y tres 137.75510204081633\n",
      "Numero NO divisible por dos y tres 139.79591836734693\n",
      "Numero NO divisible por dos y tres 141.83673469387756\n",
      "Numero NO divisible por dos y tres 143.87755102040816\n",
      "Numero NO divisible por dos y tres 145.9183673469388\n",
      "Numero NO divisible por dos y tres 147.9591836734694\n",
      "Numero divisible por dos O tres 150.0\n",
      "Numero divisible por dos Y tres 150.0\n"
     ]
    }
   ],
   "source": [
    "len_arreglo_dos = len(arreglo_dos)\n",
    "divisible_dos_o_tres = 0\n",
    "divisible_dos_y_tres = 0\n",
    "divisible_tres_no_por_dos = 0\n",
    "no_divisible_dos_tres = 0\n",
    "\n",
    "for i in range(len_arreglo_dos):\n",
    "    elemento = arreglo_dos[i]\n",
    "    if  elemento%2 != 0 and elemento%3 != 0:\n",
    "        print('Numero NO divisible por dos y tres {}'.format(elemento))\n",
    "        no_divisible_dos_tres += 1        \n",
    "    if elemento%2 == 0 or elemento%3 == 0:\n",
    "        print('Numero divisible por dos O tres {}'.format(elemento))\n",
    "        divisible_dos_o_tres += 1      \n",
    "    if  elemento%2 == 0 and elemento%3 == 0:\n",
    "        print('Numero divisible por dos Y tres {}'.format(elemento))\n",
    "        divisible_dos_y_tres += 1\n",
    "    if  elemento%3 == 0 and elemento%2 != 0:\n",
    "        print('Numero divisible por tres pero NO por dos {}'.format(elemento))\n",
    "        divisible_tres_no_por_dos += 1 "
   ]
  },
  {
   "cell_type": "markdown",
   "metadata": {},
   "source": [
    "# Desafío 4\n",
    "\n",
    "**Corrección de errores**\n",
    "\n",
    "for i in range(100):\n",
    "   print(I**2)\n",
    "   \n",
    "## Solución: Error en variable        \n",
    "for i in range(100):\n",
    "   print(i**2)   "
   ]
  },
  {
   "cell_type": "code",
   "execution_count": 19,
   "metadata": {
    "ExecuteTime": {
     "end_time": "2019-10-10T04:03:00.464532Z",
     "start_time": "2019-10-10T04:03:00.428990Z"
    }
   },
   "outputs": [
    {
     "name": "stdout",
     "output_type": "stream",
     "text": [
      "0\n",
      "1\n",
      "4\n",
      "9\n",
      "16\n",
      "25\n",
      "36\n",
      "49\n",
      "64\n",
      "81\n",
      "100\n",
      "121\n",
      "144\n",
      "169\n",
      "196\n",
      "225\n",
      "256\n",
      "289\n",
      "324\n",
      "361\n",
      "400\n",
      "441\n",
      "484\n",
      "529\n",
      "576\n",
      "625\n",
      "676\n",
      "729\n",
      "784\n",
      "841\n",
      "900\n",
      "961\n",
      "1024\n",
      "1089\n",
      "1156\n",
      "1225\n",
      "1296\n",
      "1369\n",
      "1444\n",
      "1521\n",
      "1600\n",
      "1681\n",
      "1764\n",
      "1849\n",
      "1936\n",
      "2025\n",
      "2116\n",
      "2209\n",
      "2304\n",
      "2401\n",
      "2500\n",
      "2601\n",
      "2704\n",
      "2809\n",
      "2916\n",
      "3025\n",
      "3136\n",
      "3249\n",
      "3364\n",
      "3481\n",
      "3600\n",
      "3721\n",
      "3844\n",
      "3969\n",
      "4096\n",
      "4225\n",
      "4356\n",
      "4489\n",
      "4624\n",
      "4761\n",
      "4900\n",
      "5041\n",
      "5184\n",
      "5329\n",
      "5476\n",
      "5625\n",
      "5776\n",
      "5929\n",
      "6084\n",
      "6241\n",
      "6400\n",
      "6561\n",
      "6724\n",
      "6889\n",
      "7056\n",
      "7225\n",
      "7396\n",
      "7569\n",
      "7744\n",
      "7921\n",
      "8100\n",
      "8281\n",
      "8464\n",
      "8649\n",
      "8836\n",
      "9025\n",
      "9216\n",
      "9409\n",
      "9604\n",
      "9801\n"
     ]
    }
   ],
   "source": [
    "for i in range(100):\n",
    "   print(i**2)"
   ]
  },
  {
   "cell_type": "markdown",
   "metadata": {},
   "source": [
    "# Desafío 5\n",
    "\n",
    "Utilizando la misma base flights.csv hacer un loop y clasificar los meses con una cantidad de pasajeros menor a la media\n",
    "\n",
    "\n",
    "* Para ello, generen un nuevo objeto que represente la media de passengers .\n"
   ]
  },
  {
   "cell_type": "code",
   "execution_count": 23,
   "metadata": {
    "ExecuteTime": {
     "end_time": "2019-10-10T04:27:31.507982Z",
     "start_time": "2019-10-10T04:27:31.499426Z"
    }
   },
   "outputs": [
    {
     "name": "stdout",
     "output_type": "stream",
     "text": [
      "La media de los pasajeros es 280.2986111111111\n"
     ]
    }
   ],
   "source": [
    "df = pd.read_csv('flights.csv')\n",
    "pasajeros = df['passengers']\n",
    "media_pasajeros = np.mean(pasajeros)\n",
    "print('La media de los pasajeros es {}'.format(media_pasajeros))"
   ]
  },
  {
   "cell_type": "markdown",
   "metadata": {},
   "source": [
    "* Generen una columna en la base de datos que se llame underperforming y asígnele 0."
   ]
  },
  {
   "cell_type": "code",
   "execution_count": 24,
   "metadata": {
    "ExecuteTime": {
     "end_time": "2019-10-10T04:29:00.856396Z",
     "start_time": "2019-10-10T04:29:00.851335Z"
    }
   },
   "outputs": [],
   "source": [
    "df['underperforming'] = 0\n"
   ]
  },
  {
   "cell_type": "markdown",
   "metadata": {},
   "source": [
    "* Ejecuten un loop que recorra cada observación de passengers , donde si la observación es menor a la media de passengers se le asigne a underperforming un 1.\n",
    "\n",
    "**Para asignar unos en la columna underperforming ya creada, utilice la función set_value**"
   ]
  },
  {
   "cell_type": "code",
   "execution_count": 32,
   "metadata": {
    "ExecuteTime": {
     "end_time": "2019-10-10T04:45:09.693543Z",
     "start_time": "2019-10-10T04:45:09.652566Z"
    }
   },
   "outputs": [
    {
     "name": "stderr",
     "output_type": "stream",
     "text": [
      "/home/jonathan/anaconda3/lib/python3.7/site-packages/ipykernel_launcher.py:3: FutureWarning: set_value is deprecated and will be removed in a future release. Please use .at[] or .iat[] accessors instead\n",
      "  This is separate from the ipykernel package so we can avoid doing imports until\n"
     ]
    }
   ],
   "source": [
    "for index, rowseries in df.iterrows():\n",
    "    if  rowseries['passengers'] < media_pasajeros:\n",
    "        df.set_value(index,'underperforming', 1)\n",
    "        # df.at[index, 'underperforming'] = 1"
   ]
  },
  {
   "cell_type": "markdown",
   "metadata": {},
   "source": [
    "## Desafío 6\n",
    "\n",
    "Hacer un loop que clasifique los meses donde la cantidad de pasajeros se escapa de la tendencia.\n",
    "\n",
    "* Para ello, genere dos objetos que guarden la media general y la desviación estandar general de\n",
    "passengers ."
   ]
  },
  {
   "cell_type": "code",
   "execution_count": null,
   "metadata": {},
   "outputs": [],
   "source": [
    "media_pasajeros = np.mean(pasajeros)\n",
    "std_pasajeros = np.std(pasajeros)\n",
    "print('Media de pasajeres')"
   ]
  },
  {
   "cell_type": "markdown",
   "metadata": {},
   "source": [
    "* Genere una nueva columna en la tabla de datos que se llame outlier y asignele 0."
   ]
  },
  {
   "cell_type": "code",
   "execution_count": null,
   "metadata": {},
   "outputs": [],
   "source": []
  },
  {
   "cell_type": "markdown",
   "metadata": {
    "ExecuteTime": {
     "end_time": "2019-10-10T04:47:07.784259Z",
     "start_time": "2019-10-10T04:47:07.774373Z"
    }
   },
   "source": [
    "* Ejecuten un loop que recorra cada observación de passengers , donde si la observación se\n",
    "escapa de la tendencia sea 1, de lo contrario 0.\n",
    "\n",
    "Para clasificar los casos que se escapen la tendencia, la observación debe satisfacer una de las\n",
    "siguientes condiciones:\n",
    "    \n",
    "* La observación debe ser menor a la media menos la desviación estándar, o\n",
    "* La observación debe ser mayor a la media más la desviación estándar.\n",
    "* ¿Cuántas observaciones se pueden clasificar como casos extremos?"
   ]
  },
  {
   "cell_type": "code",
   "execution_count": null,
   "metadata": {},
   "outputs": [],
   "source": []
  },
  {
   "cell_type": "code",
   "execution_count": null,
   "metadata": {},
   "outputs": [],
   "source": []
  },
  {
   "cell_type": "code",
   "execution_count": null,
   "metadata": {},
   "outputs": [],
   "source": []
  }
 ],
 "metadata": {
  "kernelspec": {
   "display_name": "Python 3",
   "language": "python",
   "name": "python3"
  },
  "language_info": {
   "codemirror_mode": {
    "name": "ipython",
    "version": 3
   },
   "file_extension": ".py",
   "mimetype": "text/x-python",
   "name": "python",
   "nbconvert_exporter": "python",
   "pygments_lexer": "ipython3",
   "version": "3.7.3"
  },
  "varInspector": {
   "cols": {
    "lenName": 16,
    "lenType": 16,
    "lenVar": 40
   },
   "kernels_config": {
    "python": {
     "delete_cmd_postfix": "",
     "delete_cmd_prefix": "del ",
     "library": "var_list.py",
     "varRefreshCmd": "print(var_dic_list())"
    },
    "r": {
     "delete_cmd_postfix": ") ",
     "delete_cmd_prefix": "rm(",
     "library": "var_list.r",
     "varRefreshCmd": "cat(var_dic_list()) "
    }
   },
   "types_to_exclude": [
    "module",
    "function",
    "builtin_function_or_method",
    "instance",
    "_Feature"
   ],
   "window_display": false
  }
 },
 "nbformat": 4,
 "nbformat_minor": 2
}
